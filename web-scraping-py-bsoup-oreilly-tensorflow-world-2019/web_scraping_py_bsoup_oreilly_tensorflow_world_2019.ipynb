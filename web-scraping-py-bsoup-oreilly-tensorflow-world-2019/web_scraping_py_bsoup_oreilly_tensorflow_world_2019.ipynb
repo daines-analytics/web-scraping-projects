{
  "nbformat": 4,
  "nbformat_minor": 0,
  "metadata": {
    "colab": {
      "name": "web-scraping-py-bsoup-oreilly-tensorflow-world-2019.ipynb",
      "provenance": [],
      "collapsed_sections": [],
      "toc_visible": true
    },
    "language_info": {
      "codemirror_mode": {
        "name": "ipython",
        "version": 3
      },
      "file_extension": ".py",
      "mimetype": "text/x-python",
      "name": "python",
      "nbconvert_exporter": "python",
      "pygments_lexer": "ipython3",
      "version": "3.7.1"
    },
    "kernelspec": {
      "display_name": "Python 3",
      "language": "python",
      "name": "python3"
    }
  },
  "cells": [
    {
      "cell_type": "markdown",
      "metadata": {
        "id": "l4mr2mbWYoOa",
        "colab_type": "text"
      },
      "source": [
        "# Web Scraping of O'Reilly TensorFlow World 2019\n",
        "### David Lowe\n",
        "### December 13, 2019\n",
        "\n",
        "SUMMARY: The purpose of this project is to practice web scraping by extracting specific pieces of information from a website. The web scraping Python code leverages the BeautifulSoup module.\n",
        "\n",
        "INTRODUCTION: The O’Reilly TensorFlow World conference covers the full range of topics in leveraging TensorFlow and its ecosystem for today’s powerful neural networks. This web scraping script will automatically traverse through the entire web page and collect all links to the PDF and PPTX documents. The script will also download the documents as part of the scraping process. The Python script ran in the Google Colaboratory environment and can be adapted to run in any Python environment without the Colab-specific configuration.\n",
        "\n",
        "Starting URLs: https://conferences.oreilly.com/tensorflow/tf-ca/public/schedule/proceedings"
      ]
    },
    {
      "cell_type": "markdown",
      "metadata": {
        "id": "kyLL5BLJYoOc",
        "colab_type": "text"
      },
      "source": [
        "## Loading Libraries and Packages"
      ]
    },
    {
      "cell_type": "code",
      "metadata": {
        "id": "wELc-r0BaiDC",
        "colab_type": "code",
        "outputId": "7cb8e22c-c2f7-46cc-f71e-6adef469da99",
        "colab": {
          "base_uri": "https://localhost:8080/",
          "height": 1000
        }
      },
      "source": [
        "# Refresh package repositories and set up additional Linux and Python packages\n",
        "!apt-get update\n",
        "!apt install chromium-chromedriver\n",
        "!pip install -q pymysql selenium"
      ],
      "execution_count": 1,
      "outputs": [
        {
          "output_type": "stream",
          "text": [
            "Ign:1 https://developer.download.nvidia.com/compute/cuda/repos/ubuntu1804/x86_64  InRelease\n",
            "Get:2 https://cloud.r-project.org/bin/linux/ubuntu bionic-cran35/ InRelease [3,626 B]\n",
            "Hit:3 http://archive.ubuntu.com/ubuntu bionic InRelease\n",
            "Get:4 http://security.ubuntu.com/ubuntu bionic-security InRelease [88.7 kB]\n",
            "Get:5 http://ppa.launchpad.net/graphics-drivers/ppa/ubuntu bionic InRelease [21.3 kB]\n",
            "Ign:6 https://developer.download.nvidia.com/compute/machine-learning/repos/ubuntu1804/x86_64  InRelease\n",
            "Hit:7 https://developer.download.nvidia.com/compute/cuda/repos/ubuntu1804/x86_64  Release\n",
            "Hit:8 https://developer.download.nvidia.com/compute/machine-learning/repos/ubuntu1804/x86_64  Release\n",
            "Get:9 http://archive.ubuntu.com/ubuntu bionic-updates InRelease [88.7 kB]\n",
            "Get:10 http://ppa.launchpad.net/marutter/c2d4u3.5/ubuntu bionic InRelease [15.4 kB]\n",
            "Get:11 http://archive.ubuntu.com/ubuntu bionic-backports InRelease [74.6 kB]\n",
            "Get:14 http://ppa.launchpad.net/graphics-drivers/ppa/ubuntu bionic/main amd64 Packages [34.2 kB]\n",
            "Get:15 http://security.ubuntu.com/ubuntu bionic-security/restricted amd64 Packages [18.6 kB]\n",
            "Get:16 http://security.ubuntu.com/ubuntu bionic-security/universe amd64 Packages [794 kB]\n",
            "Get:17 http://ppa.launchpad.net/marutter/c2d4u3.5/ubuntu bionic/main Sources [1,741 kB]\n",
            "Get:18 http://archive.ubuntu.com/ubuntu bionic-updates/multiverse amd64 Packages [9,833 B]\n",
            "Get:19 http://security.ubuntu.com/ubuntu bionic-security/main amd64 Packages [757 kB]\n",
            "Get:20 http://archive.ubuntu.com/ubuntu bionic-updates/restricted amd64 Packages [31.6 kB]\n",
            "Get:21 http://security.ubuntu.com/ubuntu bionic-security/multiverse amd64 Packages [6,783 B]\n",
            "Get:22 http://archive.ubuntu.com/ubuntu bionic-updates/main amd64 Packages [1,053 kB]\n",
            "Get:23 http://archive.ubuntu.com/ubuntu bionic-updates/universe amd64 Packages [1,321 kB]\n",
            "Get:24 http://ppa.launchpad.net/marutter/c2d4u3.5/ubuntu bionic/main amd64 Packages [840 kB]\n",
            "Fetched 6,900 kB in 3s (2,007 kB/s)\n",
            "Reading package lists... Done\n",
            "Reading package lists... Done\n",
            "Building dependency tree       \n",
            "Reading state information... Done\n",
            "The following package was automatically installed and is no longer required:\n",
            "  libnvidia-common-430\n",
            "Use 'apt autoremove' to remove it.\n",
            "The following additional packages will be installed:\n",
            "  chromium-browser chromium-browser-l10n chromium-codecs-ffmpeg-extra\n",
            "Suggested packages:\n",
            "  webaccounts-chromium-extension unity-chromium-extension adobe-flashplugin\n",
            "The following NEW packages will be installed:\n",
            "  chromium-browser chromium-browser-l10n chromium-chromedriver\n",
            "  chromium-codecs-ffmpeg-extra\n",
            "0 upgraded, 4 newly installed, 0 to remove and 88 not upgraded.\n",
            "Need to get 71.9 MB of archives.\n",
            "After this operation, 257 MB of additional disk space will be used.\n",
            "Get:1 http://archive.ubuntu.com/ubuntu bionic-updates/universe amd64 chromium-codecs-ffmpeg-extra amd64 78.0.3904.108-0ubuntu0.18.04.1 [1,078 kB]\n",
            "Get:2 http://archive.ubuntu.com/ubuntu bionic-updates/universe amd64 chromium-browser amd64 78.0.3904.108-0ubuntu0.18.04.1 [63.3 MB]\n",
            "Get:3 http://archive.ubuntu.com/ubuntu bionic-updates/universe amd64 chromium-browser-l10n all 78.0.3904.108-0ubuntu0.18.04.1 [3,076 kB]\n",
            "Get:4 http://archive.ubuntu.com/ubuntu bionic-updates/universe amd64 chromium-chromedriver amd64 78.0.3904.108-0ubuntu0.18.04.1 [4,466 kB]\n",
            "Fetched 71.9 MB in 3s (23.3 MB/s)\n",
            "Selecting previously unselected package chromium-codecs-ffmpeg-extra.\n",
            "(Reading database ... 145605 files and directories currently installed.)\n",
            "Preparing to unpack .../chromium-codecs-ffmpeg-extra_78.0.3904.108-0ubuntu0.18.04.1_amd64.deb ...\n",
            "Unpacking chromium-codecs-ffmpeg-extra (78.0.3904.108-0ubuntu0.18.04.1) ...\n",
            "Selecting previously unselected package chromium-browser.\n",
            "Preparing to unpack .../chromium-browser_78.0.3904.108-0ubuntu0.18.04.1_amd64.deb ...\n",
            "Unpacking chromium-browser (78.0.3904.108-0ubuntu0.18.04.1) ...\n",
            "Selecting previously unselected package chromium-browser-l10n.\n",
            "Preparing to unpack .../chromium-browser-l10n_78.0.3904.108-0ubuntu0.18.04.1_all.deb ...\n",
            "Unpacking chromium-browser-l10n (78.0.3904.108-0ubuntu0.18.04.1) ...\n",
            "Selecting previously unselected package chromium-chromedriver.\n",
            "Preparing to unpack .../chromium-chromedriver_78.0.3904.108-0ubuntu0.18.04.1_amd64.deb ...\n",
            "Unpacking chromium-chromedriver (78.0.3904.108-0ubuntu0.18.04.1) ...\n",
            "Processing triggers for mime-support (3.60ubuntu1) ...\n",
            "Setting up chromium-codecs-ffmpeg-extra (78.0.3904.108-0ubuntu0.18.04.1) ...\n",
            "Processing triggers for man-db (2.8.3-2ubuntu0.1) ...\n",
            "Processing triggers for hicolor-icon-theme (0.17-2) ...\n",
            "Setting up chromium-browser (78.0.3904.108-0ubuntu0.18.04.1) ...\n",
            "update-alternatives: using /usr/bin/chromium-browser to provide /usr/bin/x-www-browser (x-www-browser) in auto mode\n",
            "update-alternatives: using /usr/bin/chromium-browser to provide /usr/bin/gnome-www-browser (gnome-www-browser) in auto mode\n",
            "Setting up chromium-chromedriver (78.0.3904.108-0ubuntu0.18.04.1) ...\n",
            "Setting up chromium-browser-l10n (78.0.3904.108-0ubuntu0.18.04.1) ...\n",
            "\u001b[K     |████████████████████████████████| 51kB 1.6MB/s \n",
            "\u001b[K     |████████████████████████████████| 911kB 8.0MB/s \n",
            "\u001b[?25h"
          ],
          "name": "stdout"
        }
      ]
    },
    {
      "cell_type": "code",
      "metadata": {
        "id": "9tGlgDPeYoOd",
        "colab_type": "code",
        "colab": {}
      },
      "source": [
        "import numpy as np\n",
        "import pandas as pd\n",
        "import os\n",
        "import shutil\n",
        "import smtplib\n",
        "import sys\n",
        "from email.message import EmailMessage\n",
        "from datetime import datetime\n",
        "import requests\n",
        "from requests.exceptions import HTTPError\n",
        "from requests.exceptions import ConnectionError\n",
        "from bs4 import BeautifulSoup\n",
        "from random import randint\n",
        "from time import sleep\n",
        "from selenium import webdriver\n",
        "import pymysql\n",
        "\n",
        "startTimeScript = datetime.now()"
      ],
      "execution_count": 0,
      "outputs": []
    },
    {
      "cell_type": "markdown",
      "metadata": {
        "id": "PxJqydfiYoOg",
        "colab_type": "text"
      },
      "source": [
        "## Setting up the basic functions"
      ]
    },
    {
      "cell_type": "code",
      "metadata": {
        "id": "Fnlwzz-PYoOh",
        "colab_type": "code",
        "colab": {}
      },
      "source": [
        "def email_notify(msg_text):\n",
        "    sender = os.environ.get('MAIL_SENDER')\n",
        "    receiver = os.environ.get('MAIL_RECEIVER')\n",
        "    gateway = os.environ.get('SMTP_GATEWAY')\n",
        "    smtpuser = os.environ.get('SMTP_USERNAME')\n",
        "    password = os.environ.get('SMTP_PASSWORD')\n",
        "    if sender==None or receiver==None or gateway==None or smtpuser==None or password==None:\n",
        "        sys.exit(\"Incomplete email setup info. Script Processing Aborted!!!\")\n",
        "    msg = EmailMessage()\n",
        "    msg.set_content(msg_text)\n",
        "    msg['Subject'] = 'Notification from Python Web Scraping Script'\n",
        "    msg['From'] = sender\n",
        "    msg['To'] = receiver\n",
        "    server = smtplib.SMTP(gateway, 587)\n",
        "    server.starttls()\n",
        "    server.login(smtpuser, password)\n",
        "    server.send_message(msg)\n",
        "    server.quit()"
      ],
      "execution_count": 0,
      "outputs": []
    },
    {
      "cell_type": "code",
      "metadata": {
        "id": "Kk6cDbhzqgsK",
        "colab_type": "code",
        "colab": {}
      },
      "source": [
        "def download_file(doc_path):\n",
        "#    local_file = os.path.basename(doc_path)\n",
        "    local_file = doc_path.split('/')[-1]\n",
        "    gdrivePrefix = '/content/gdrive/My Drive/Colab_Downloads/'\n",
        "    dest_file = gdrivePrefix + local_file\n",
        "    with requests.get(doc_path, stream=True) as r:\n",
        "        with open(dest_file, 'wb') as f:\n",
        "            shutil.copyfileobj(r.raw, f)\n",
        "    print('Downladed file: ' + dest_file)"
      ],
      "execution_count": 0,
      "outputs": []
    },
    {
      "cell_type": "markdown",
      "metadata": {
        "id": "zF4hTJ_jYoOn",
        "colab_type": "text"
      },
      "source": [
        "## Setting up the necessary parameters"
      ]
    },
    {
      "cell_type": "code",
      "metadata": {
        "id": "Xy-XtBEiZwdV",
        "colab_type": "code",
        "colab": {}
      },
      "source": [
        "# Set up the verbose flag to print detailed messages for debugging (setting True will activate!)\n",
        "verbose = False\n",
        "\n",
        "# Set up the sendNotification flag to send progress emails (setting True will send emails!)\n",
        "sendNotification = False\n",
        "\n",
        "# Set up the mountStorage flag to mount G Drive for storing files (setting True will mount the drive!)\n",
        "mountStorage = True\n",
        "\n",
        "# Set up the executeDownload flag to download files (setting True will download!)\n",
        "executeDownload = True"
      ],
      "execution_count": 0,
      "outputs": []
    },
    {
      "cell_type": "code",
      "metadata": {
        "id": "K2LZP6EpiqRL",
        "colab_type": "code",
        "outputId": "0914135a-13e6-4058-ac2c-421bf566567e",
        "colab": {
          "base_uri": "https://localhost:8080/",
          "height": 122
        }
      },
      "source": [
        "# Mount Google Drive locally for storing files\n",
        "\n",
        "if (mountStorage):\n",
        "  from google.colab import drive\n",
        "  drive.mount('/content/gdrive')"
      ],
      "execution_count": 6,
      "outputs": [
        {
          "output_type": "stream",
          "text": [
            "Go to this URL in a browser: https://accounts.google.com/o/oauth2/auth?client_id=947318989803-6bn6qk8qdgf4n4g3pfee6491hc0brc4i.apps.googleusercontent.com&redirect_uri=urn%3aietf%3awg%3aoauth%3a2.0%3aoob&response_type=code&scope=email%20https%3a%2f%2fwww.googleapis.com%2fauth%2fdocs.test%20https%3a%2f%2fwww.googleapis.com%2fauth%2fdrive%20https%3a%2f%2fwww.googleapis.com%2fauth%2fdrive.photos.readonly%20https%3a%2f%2fwww.googleapis.com%2fauth%2fpeopleapi.readonly\n",
            "\n",
            "Enter your authorization code:\n",
            "··········\n",
            "Mounted at /content/gdrive\n"
          ],
          "name": "stdout"
        }
      ]
    },
    {
      "cell_type": "code",
      "metadata": {
        "id": "Ak_tp8PIabC8",
        "colab_type": "code",
        "colab": {}
      },
      "source": [
        "if (sendNotification): email_notify(\"The web scraping process has begun! \"+datetime.now().strftime('%a %B %d, %Y %I:%M:%S %p'))"
      ],
      "execution_count": 0,
      "outputs": []
    },
    {
      "cell_type": "code",
      "metadata": {
        "id": "ntjQrml7YoOo",
        "colab_type": "code",
        "colab": {}
      },
      "source": [
        "# Specifying the URL of desired web page to be scrapped\n",
        "startingURL = \"https://conferences.oreilly.com/tensorflow/tf-ca/public/schedule/proceedings\"\n",
        "websiteURL = \"\"\n",
        "\n",
        "# Creating an html document from the URL\n",
        "uastring = \"Mozilla/5.0 (Windows NT 10.0; Win64; x64; rv:71.0) Gecko/20100101 Firefox/71.0\"\n",
        "headers={'User-Agent': uastring}"
      ],
      "execution_count": 0,
      "outputs": []
    },
    {
      "cell_type": "markdown",
      "metadata": {
        "id": "LWf3Y7c3YoOs",
        "colab_type": "text"
      },
      "source": [
        "## Performing the Scraping and Processing"
      ]
    },
    {
      "cell_type": "code",
      "metadata": {
        "id": "l0TO1zBrYoOt",
        "colab_type": "code",
        "colab": {}
      },
      "source": [
        "if (sendNotification): email_notify(\"The web page loading and item extraction process has begun! \"+datetime.now().strftime('%a %B %d, %Y %I:%M:%S %p'))"
      ],
      "execution_count": 0,
      "outputs": []
    },
    {
      "cell_type": "code",
      "metadata": {
        "id": "xX6dpqjie69M",
        "colab_type": "code",
        "outputId": "ffb50a2a-ef4b-4a57-ce64-e3789f178f5b",
        "colab": {
          "base_uri": "https://localhost:8080/",
          "height": 34
        }
      },
      "source": [
        "try:\n",
        "    s = requests.Session()\n",
        "    resp = s.get(startingURL, headers=headers)\n",
        "    if (verbose): print(resp.text)\n",
        "except HTTPError as e:\n",
        "    print('The server could not serve up the web page!')\n",
        "    sys.exit(\"Script processing cannot continue!!!\")\n",
        "except ConnectionError as e:\n",
        "    print('The server could not be reached due to connection issues!')\n",
        "    sys.exit(\"Script processing cannot continue!!!\")\n",
        "\n",
        "if (resp.status_code==requests.codes.ok):\n",
        "    print('Successfully accessed the web page: ' + startingURL)\n",
        "    webPage = BeautifulSoup(resp.text, 'lxml')"
      ],
      "execution_count": 10,
      "outputs": [
        {
          "output_type": "stream",
          "text": [
            "Successfully accessed the web page: https://conferences.oreilly.com/tensorflow/tf-ca/public/schedule/proceedings\n"
          ],
          "name": "stdout"
        }
      ]
    },
    {
      "cell_type": "code",
      "metadata": {
        "id": "yk9gY0vwYoOv",
        "colab_type": "code",
        "outputId": "5f1f0ae7-3ece-4efe-fd5d-93b0f79979e3",
        "colab": {
          "base_uri": "https://localhost:8080/",
          "height": 802
        }
      },
      "source": [
        "# Gather all links to the document\n",
        "collection = webPage.find_all(\"a\")\n",
        "i = 0\n",
        "\n",
        "for item in collection:\n",
        "    if (verbose): print(item)\n",
        "    docPath = item['href']\n",
        "    if docPath.lower().endswith(\".pdf\") | docPath.lower().endswith(\".pptx\") | docPath.lower().endswith(\".zip\"):\n",
        "        i = i + 1\n",
        "        docPath = websiteURL + docPath\n",
        "        # Adding random wait time so we do not hammer the website needlessly\n",
        "        waitTime = randint(2,5)\n",
        "        print(\"Waiting \" + str(waitTime) + \" seconds to retrieve \" + docPath)\n",
        "        sleep(waitTime)\n",
        "        if (executeDownload): download_file(docPath)\n",
        "\n",
        "print('Finished finding all available documents on the web page!')"
      ],
      "execution_count": 11,
      "outputs": [
        {
          "output_type": "stream",
          "text": [
            "Waiting 5 seconds to retrieve http://cdn.oreillystatic.com/tf-ca/KC_Tung_Novel_Solution_Data_Augmentation_in_NLP_using_Tensorflow.pdf\n",
            "Downladed file: /content/gdrive/My Drive/Colab_Downloads/KC_Tung_Novel_Solution_Data_Augmentation_in_NLP_using_Tensorflow.pdf\n",
            "Waiting 3 seconds to retrieve https://cdn.oreillystatic.com/en/assets/1/event/308/Accelerating%20training%2C%20inference%2C%20and%20ML%20applications%20on%20NVIDIA%20GPUs%20Presentation.pdf\n",
            "Downladed file: /content/gdrive/My Drive/Colab_Downloads/Accelerating%20training%2C%20inference%2C%20and%20ML%20applications%20on%20NVIDIA%20GPUs%20Presentation.pdf\n",
            "Waiting 3 seconds to retrieve https://cdn.oreillystatic.com/en/assets/1/event/308/Advanced%20model%20deployments%20with%20TensorFlow%20Serving%20Presentation.pdf\n",
            "Downladed file: /content/gdrive/My Drive/Colab_Downloads/Advanced%20model%20deployments%20with%20TensorFlow%20Serving%20Presentation.pdf\n",
            "Waiting 5 seconds to retrieve https://cdn.oreillystatic.com/en/assets/1/event/308/Deep%20Learning%20Toolkit%20for%20Splunk%20%20Presentation.pdf\n",
            "Downladed file: /content/gdrive/My Drive/Colab_Downloads/Deep%20Learning%20Toolkit%20for%20Splunk%20%20Presentation.pdf\n",
            "Waiting 5 seconds to retrieve https://cdn.oreillystatic.com/en/assets/1/event/308/Don%E2%80%99t%20beat%20the%20market_%20beat%20the%20bots_%20Adversarial%20networks%20in%20finance%20Presentation.pdf\n",
            "Downladed file: /content/gdrive/My Drive/Colab_Downloads/Don%E2%80%99t%20beat%20the%20market_%20beat%20the%20bots_%20Adversarial%20networks%20in%20finance%20Presentation.pdf\n",
            "Waiting 2 seconds to retrieve https://cdn.oreillystatic.com/en/assets/1/event/308/EasyAgents_%20Reinforcement%20Learning%20for%20people%20who%20want%20to%20solve%20real-world%20problems%20Presentation.pdf\n",
            "Downladed file: /content/gdrive/My Drive/Colab_Downloads/EasyAgents_%20Reinforcement%20Learning%20for%20people%20who%20want%20to%20solve%20real-world%20problems%20Presentation.pdf\n",
            "Waiting 2 seconds to retrieve https://cdn.oreillystatic.com/en/assets/1/event/308/Effective%20sampling%20methods%20within%20TensorFlow%20input%20functions%20Presentation.pdf\n",
            "Downladed file: /content/gdrive/My Drive/Colab_Downloads/Effective%20sampling%20methods%20within%20TensorFlow%20input%20functions%20Presentation.pdf\n",
            "Waiting 4 seconds to retrieve http://cdn.oreillystatic.com/tf-ca/generative-malware-outbreak-detection-lite.pptx\n",
            "Downladed file: /content/gdrive/My Drive/Colab_Downloads/generative-malware-outbreak-detection-lite.pptx\n",
            "Waiting 4 seconds to retrieve https://cdn.oreillystatic.com/en/assets/1/event/308/HARP_%20An%20efficient%20and%20elastic%20GPU-sharing%20system%20Presentation.pdf\n",
            "Downladed file: /content/gdrive/My Drive/Colab_Downloads/HARP_%20An%20efficient%20and%20elastic%20GPU-sharing%20system%20Presentation.pdf\n",
            "Waiting 4 seconds to retrieve https://cdn.oreillystatic.com/en/assets/1/event/308/How%20Criteo%20optimized%20and%20sped%20up%20its%20TensorFlow%20models%20by%2010x%20and%20served%20them%20under%205%20ms%20Presentation.pptx\n",
            "Downladed file: /content/gdrive/My Drive/Colab_Downloads/How%20Criteo%20optimized%20and%20sped%20up%20its%20TensorFlow%20models%20by%2010x%20and%20served%20them%20under%205%20ms%20Presentation.pptx\n",
            "Waiting 4 seconds to retrieve https://cdn.oreillystatic.com/en/assets/1/event/308/Introduction%20to%20Hilbert%20AutoML%20with%20TensorFlow%20Extended%20_TFX_%20at%20Yahoo_%20JAPAN%20Presentation.pdf\n",
            "Downladed file: /content/gdrive/My Drive/Colab_Downloads/Introduction%20to%20Hilbert%20AutoML%20with%20TensorFlow%20Extended%20_TFX_%20at%20Yahoo_%20JAPAN%20Presentation.pdf\n",
            "Waiting 3 seconds to retrieve https://cdn.oreillystatic.com/en/assets/1/event/308/Machine%20learning%20over%20real-time%20streaming%20data%20with%20TensorFlow%20Presentation.pdf\n",
            "Downladed file: /content/gdrive/My Drive/Colab_Downloads/Machine%20learning%20over%20real-time%20streaming%20data%20with%20TensorFlow%20Presentation.pdf\n",
            "Waiting 5 seconds to retrieve https://cdn.oreillystatic.com/en/assets/1/event/308/MLIR_%20Accelerating%20AI%20Presentation.pdf\n",
            "Downladed file: /content/gdrive/My Drive/Colab_Downloads/MLIR_%20Accelerating%20AI%20Presentation.pdf\n",
            "Waiting 4 seconds to retrieve https://cdn.oreillystatic.com/en/assets/1/event/308/Modular%20convolution%20considered%20beneficial%20Presentation.pdf\n",
            "Downladed file: /content/gdrive/My Drive/Colab_Downloads/Modular%20convolution%20considered%20beneficial%20Presentation.pdf\n",
            "Waiting 3 seconds to retrieve https://cdn.oreillystatic.com/en/assets/1/event/308/Natural%20language%20processing%20using%20transformer%20architectures%20Presentation.pdf\n",
            "Downladed file: /content/gdrive/My Drive/Colab_Downloads/Natural%20language%20processing%20using%20transformer%20architectures%20Presentation.pdf\n",
            "Waiting 2 seconds to retrieve https://cdn.oreillystatic.com/en/assets/1/event/308/Node-RED%20and%20TensorFlow_js_%20Developing%20deep%20learning%20IoT%20apps%20in%20the%20browser%20Presentation.pdf\n",
            "Downladed file: /content/gdrive/My Drive/Colab_Downloads/Node-RED%20and%20TensorFlow_js_%20Developing%20deep%20learning%20IoT%20apps%20in%20the%20browser%20Presentation.pdf\n",
            "Waiting 3 seconds to retrieve https://cdn.oreillystatic.com/en/assets/1/event/308/Production%20ML%20pipelines%20with%20TensorFlow%20Extended%20_TFX_%20Presentation.pdf\n",
            "Downladed file: /content/gdrive/My Drive/Colab_Downloads/Production%20ML%20pipelines%20with%20TensorFlow%20Extended%20_TFX_%20Presentation.pdf\n",
            "Waiting 3 seconds to retrieve http://cdn.oreillystatic.com/tf-ca/tensorflow-community-announcements-kemal-el-moujahid.pptx\n",
            "Downladed file: /content/gdrive/My Drive/Colab_Downloads/tensorflow-community-announcements-kemal-el-moujahid.pptx\n",
            "Waiting 2 seconds to retrieve http://cdn.oreillystatic.com/tf-ca/Mike_Liang_Tensorflow_Hub_The_platform_to_share_and_discover_pretrained_models_for_TensorFlow.pptx\n",
            "Downladed file: /content/gdrive/My Drive/Colab_Downloads/Mike_Liang_Tensorflow_Hub_The_platform_to_share_and_discover_pretrained_models_for_TensorFlow.pptx\n",
            "Waiting 4 seconds to retrieve http://cdn.oreillystatic.com/tf-ca/tensorflow-open-source-and-ibm-fred_reiss.pptx\n",
            "Downladed file: /content/gdrive/My Drive/Colab_Downloads/tensorflow-open-source-and-ibm-fred_reiss.pptx\n",
            "Waiting 2 seconds to retrieve http://cdn.oreillystatic.com/tf-ca/TensorFlow.js_Machine_learning_for_JavaScript.pptx\n",
            "Downladed file: /content/gdrive/My Drive/Colab_Downloads/TensorFlow.js_Machine_learning_for_JavaScript.pptx\n",
            "Waiting 5 seconds to retrieve https://storage.cloud.google.com/laurencemoroney-blog.appspot.com/tfw-training.zip\n",
            "Downladed file: /content/gdrive/My Drive/Colab_Downloads/tfw-training.zip\n",
            "Finished finding all available documents on the web page!\n"
          ],
          "name": "stdout"
        }
      ]
    },
    {
      "cell_type": "code",
      "metadata": {
        "id": "9_t7A3eOYoOy",
        "colab_type": "code",
        "outputId": "20a35a5f-cddd-4a7e-8e48-adfa767a856f",
        "colab": {
          "base_uri": "https://localhost:8080/",
          "height": 34
        }
      },
      "source": [
        "print('Number of documents processed:', i)"
      ],
      "execution_count": 12,
      "outputs": [
        {
          "output_type": "stream",
          "text": [
            "Number of documents processed: 22\n"
          ],
          "name": "stdout"
        }
      ]
    },
    {
      "cell_type": "code",
      "metadata": {
        "id": "aptSJkHZbc_h",
        "colab_type": "code",
        "colab": {}
      },
      "source": [
        "if (sendNotification): email_notify(\"The web scraping process has completed! \"+datetime.now().strftime('%a %B %d, %Y %I:%M:%S %p'))"
      ],
      "execution_count": 0,
      "outputs": []
    },
    {
      "cell_type": "code",
      "metadata": {
        "id": "nN6rWf7qYoO1",
        "colab_type": "code",
        "outputId": "8b8b9135-59ce-47e4-fff2-bcc924a191fc",
        "colab": {
          "base_uri": "https://localhost:8080/",
          "height": 34
        }
      },
      "source": [
        "print ('Total time for the script:',(datetime.now() - startTimeScript))"
      ],
      "execution_count": 14,
      "outputs": [
        {
          "output_type": "stream",
          "text": [
            "Total time for the script: 0:04:24.957254\n"
          ],
          "name": "stdout"
        }
      ]
    }
  ]
}