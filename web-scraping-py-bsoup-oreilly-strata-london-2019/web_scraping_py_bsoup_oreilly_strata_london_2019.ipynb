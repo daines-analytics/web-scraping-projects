{
  "nbformat": 4,
  "nbformat_minor": 0,
  "metadata": {
    "colab": {
      "name": "web-scraping-py-bsoup-oreilly-strata-london-2019.ipynb",
      "version": "0.3.2",
      "provenance": [],
      "collapsed_sections": []
    },
    "language_info": {
      "codemirror_mode": {
        "name": "ipython",
        "version": 3
      },
      "file_extension": ".py",
      "mimetype": "text/x-python",
      "name": "python",
      "nbconvert_exporter": "python",
      "pygments_lexer": "ipython3",
      "version": "3.7.1"
    },
    "kernelspec": {
      "display_name": "Python 3",
      "language": "python",
      "name": "python3"
    }
  },
  "cells": [
    {
      "cell_type": "markdown",
      "metadata": {
        "id": "l4mr2mbWYoOa",
        "colab_type": "text"
      },
      "source": [
        "# Web Scraping of O'Reilly Strata Data Conference London 2019\n",
        "### David Lowe\n",
        "### July 21, 2019\n",
        "\n",
        "SUMMARY: The purpose of this project is to practice web scraping by extracting specific pieces of information from a website. The web scraping Python code leverages the BeautifulSoup module.\n",
        "\n",
        "INTRODUCTION: On occasions we have a need to download a batch of documents off a single web page without clicking on the download link one at a time. This web scraping script will automatically traverse through the entire web page and collect all links to the PDF and PPTX documents. The script will also download the documents as part of the scraping process. The Python script ran in the Google Colaboratory environment and can be adapted to run in any Python environment without the Colab-specific configuration.\n",
        "\n",
        "Starting URLs: https://conferences.oreilly.com/strata/strata-eu-2019/public/schedule/proceedings"
      ]
    },
    {
      "cell_type": "markdown",
      "metadata": {
        "id": "kyLL5BLJYoOc",
        "colab_type": "text"
      },
      "source": [
        "## Loading Libraries and Packages"
      ]
    },
    {
      "cell_type": "code",
      "metadata": {
        "id": "wELc-r0BaiDC",
        "colab_type": "code",
        "outputId": "c98a8d71-1aa5-4c4d-e486-0e0eed9919df",
        "colab": {
          "base_uri": "https://localhost:8080/",
          "height": 408
        }
      },
      "source": [
        "# Refresh package repositories and set up additional Linux and Python packages\n",
        "!apt-get update\n",
        "!apt install chromium-chromedriver\n",
        "!pip install -q pymysql selenium"
      ],
      "execution_count": 1,
      "outputs": [
        {
          "output_type": "stream",
          "text": [
            "\r0% [Working]\r            \rHit:1 https://cloud.r-project.org/bin/linux/ubuntu bionic-cran35/ InRelease\n",
            "\r0% [Connecting to archive.ubuntu.com (91.189.88.31)] [Connecting to security.ub\r0% [1 InRelease gpgv 3,626 B] [Connecting to archive.ubuntu.com (91.189.88.31)]\r                                                                               \rIgn:2 https://developer.download.nvidia.com/compute/cuda/repos/ubuntu1804/x86_64  InRelease\n",
            "\r0% [1 InRelease gpgv 3,626 B] [Connecting to archive.ubuntu.com (91.189.88.31)]\r                                                                               \rIgn:3 https://developer.download.nvidia.com/compute/machine-learning/repos/ubuntu1804/x86_64  InRelease\n",
            "\r0% [1 InRelease gpgv 3,626 B] [Connecting to archive.ubuntu.com (91.189.88.31)]\r                                                                               \rHit:4 https://developer.download.nvidia.com/compute/cuda/repos/ubuntu1804/x86_64  Release\n",
            "Hit:5 https://developer.download.nvidia.com/compute/machine-learning/repos/ubuntu1804/x86_64  Release\n",
            "Hit:6 http://archive.ubuntu.com/ubuntu bionic InRelease\n",
            "Hit:7 http://ppa.launchpad.net/graphics-drivers/ppa/ubuntu bionic InRelease\n",
            "Hit:8 http://security.ubuntu.com/ubuntu bionic-security InRelease\n",
            "Hit:9 http://archive.ubuntu.com/ubuntu bionic-updates InRelease\n",
            "Hit:11 http://archive.ubuntu.com/ubuntu bionic-backports InRelease\n",
            "Get:12 http://ppa.launchpad.net/marutter/c2d4u3.5/ubuntu bionic InRelease [15.4 kB]\n",
            "Get:14 http://ppa.launchpad.net/marutter/c2d4u3.5/ubuntu bionic/main Sources [1,663 kB]\n",
            "Get:15 http://ppa.launchpad.net/marutter/c2d4u3.5/ubuntu bionic/main amd64 Packages [798 kB]\n",
            "Fetched 2,477 kB in 4s (581 kB/s)\n",
            "Reading package lists... Done\n",
            "Reading package lists... Done\n",
            "Building dependency tree       \n",
            "Reading state information... Done\n",
            "chromium-chromedriver is already the newest version (75.0.3770.90-0ubuntu0.18.04.1).\n",
            "The following package was automatically installed and is no longer required:\n",
            "  libnvidia-common-410\n",
            "Use 'apt autoremove' to remove it.\n",
            "0 upgraded, 0 newly installed, 0 to remove and 41 not upgraded.\n"
          ],
          "name": "stdout"
        }
      ]
    },
    {
      "cell_type": "code",
      "metadata": {
        "id": "9tGlgDPeYoOd",
        "colab_type": "code",
        "colab": {}
      },
      "source": [
        "import numpy as np\n",
        "import pandas as pd\n",
        "import os\n",
        "import shutil\n",
        "import smtplib\n",
        "import sys\n",
        "from email.message import EmailMessage\n",
        "from datetime import datetime\n",
        "import requests\n",
        "from requests.exceptions import HTTPError\n",
        "from requests.exceptions import ConnectionError\n",
        "from bs4 import BeautifulSoup\n",
        "from random import randint\n",
        "from time import sleep\n",
        "from selenium import webdriver\n",
        "import pymysql\n",
        "\n",
        "startTimeScript = datetime.now()"
      ],
      "execution_count": 0,
      "outputs": []
    },
    {
      "cell_type": "markdown",
      "metadata": {
        "id": "PxJqydfiYoOg",
        "colab_type": "text"
      },
      "source": [
        "## Setting up the basic functions"
      ]
    },
    {
      "cell_type": "code",
      "metadata": {
        "id": "Fnlwzz-PYoOh",
        "colab_type": "code",
        "colab": {}
      },
      "source": [
        "def email_notify(msg_text):\n",
        "    sender = os.environ.get('MAIL_SENDER')\n",
        "    receiver = os.environ.get('MAIL_RECEIVER')\n",
        "    gateway = os.environ.get('SMTP_GATEWAY')\n",
        "    smtpuser = os.environ.get('SMTP_USERNAME')\n",
        "    password = os.environ.get('SMTP_PASSWORD')\n",
        "    if sender==None or receiver==None or gateway==None or smtpuser==None or password==None:\n",
        "        sys.exit(\"Incomplete email setup info. Script Processing Aborted!!!\")\n",
        "    msg = EmailMessage()\n",
        "    msg.set_content(msg_text)\n",
        "    msg['Subject'] = 'Notification from Python Web Scraping Script'\n",
        "    msg['From'] = sender\n",
        "    msg['To'] = receiver\n",
        "    server = smtplib.SMTP(gateway, 587)\n",
        "    server.starttls()\n",
        "    server.login(smtpuser, password)\n",
        "    server.send_message(msg)\n",
        "    server.quit()"
      ],
      "execution_count": 0,
      "outputs": []
    },
    {
      "cell_type": "code",
      "metadata": {
        "id": "Kk6cDbhzqgsK",
        "colab_type": "code",
        "colab": {}
      },
      "source": [
        "def download_file(doc_path):\n",
        "#    local_file = os.path.basename(doc_path)\n",
        "    local_file = doc_path.split('/')[-1]\n",
        "    gdrivePrefix = '/content/gdrive/My Drive/Colab_Downloads/'\n",
        "    dest_file = gdrivePrefix + local_file\n",
        "    with requests.get(doc_path, stream=True) as r:\n",
        "        with open(dest_file, 'wb') as f:\n",
        "            shutil.copyfileobj(r.raw, f)\n",
        "    print('Downladed file: ' + dest_file)"
      ],
      "execution_count": 0,
      "outputs": []
    },
    {
      "cell_type": "markdown",
      "metadata": {
        "id": "zF4hTJ_jYoOn",
        "colab_type": "text"
      },
      "source": [
        "## Setting up the necessary parameters"
      ]
    },
    {
      "cell_type": "code",
      "metadata": {
        "id": "Xy-XtBEiZwdV",
        "colab_type": "code",
        "colab": {}
      },
      "source": [
        "# Set up the verbose flag to print detailed messages for debugging (setting True will activate!)\n",
        "verbose = False\n",
        "\n",
        "# Set up the sendNotification flag to send progress emails (setting True will send emails!)\n",
        "sendNotification = False\n",
        "\n",
        "# Set up the mountStorage flag to mount G Drive for storing files (setting True will mount the drive!)\n",
        "mountStorage = True\n",
        "\n",
        "# Set up the executeDownload flag to download files (setting True will download!)\n",
        "executeDownload = True"
      ],
      "execution_count": 0,
      "outputs": []
    },
    {
      "cell_type": "code",
      "metadata": {
        "id": "K2LZP6EpiqRL",
        "colab_type": "code",
        "outputId": "ab736099-8df8-4ce9-8606-1e72e4474f7f",
        "colab": {
          "base_uri": "https://localhost:8080/",
          "height": 34
        }
      },
      "source": [
        "# Mount Google Drive locally for storing files\n",
        "\n",
        "if (mountStorage):\n",
        "  from google.colab import drive\n",
        "  drive.mount('/content/gdrive')"
      ],
      "execution_count": 6,
      "outputs": [
        {
          "output_type": "stream",
          "text": [
            "Drive already mounted at /content/gdrive; to attempt to forcibly remount, call drive.mount(\"/content/gdrive\", force_remount=True).\n"
          ],
          "name": "stdout"
        }
      ]
    },
    {
      "cell_type": "code",
      "metadata": {
        "id": "Ak_tp8PIabC8",
        "colab_type": "code",
        "colab": {}
      },
      "source": [
        "if (sendNotification): email_notify(\"The web scraping process has begun! \"+datetime.now().strftime('%a %B %d, %Y %I:%M:%S %p'))"
      ],
      "execution_count": 0,
      "outputs": []
    },
    {
      "cell_type": "code",
      "metadata": {
        "id": "ntjQrml7YoOo",
        "colab_type": "code",
        "colab": {}
      },
      "source": [
        "# Specifying the URL of desired web page to be scrapped\n",
        "startingURL = \"https://conferences.oreilly.com/strata/strata-eu-2019/public/schedule/proceedings\"\n",
        "websiteURL = \"\"\n",
        "\n",
        "# Creating an html document from the URL\n",
        "uastring = \"Mozilla/5.0 (Windows NT 10.0; Win64; x64; rv:67.0) Gecko/20100101 Firefox/67.0\"\n",
        "headers={'User-Agent': uastring}"
      ],
      "execution_count": 0,
      "outputs": []
    },
    {
      "cell_type": "markdown",
      "metadata": {
        "id": "LWf3Y7c3YoOs",
        "colab_type": "text"
      },
      "source": [
        "## Performing the Scraping and Processing"
      ]
    },
    {
      "cell_type": "code",
      "metadata": {
        "id": "l0TO1zBrYoOt",
        "colab_type": "code",
        "colab": {}
      },
      "source": [
        "if (sendNotification): email_notify(\"The web page loading and item extraction process has begun! \"+datetime.now().strftime('%a %B %d, %Y %I:%M:%S %p'))"
      ],
      "execution_count": 0,
      "outputs": []
    },
    {
      "cell_type": "code",
      "metadata": {
        "id": "xX6dpqjie69M",
        "colab_type": "code",
        "outputId": "18c0a693-b7ac-4cb4-9dd2-5a4e76c42451",
        "colab": {
          "base_uri": "https://localhost:8080/",
          "height": 34
        }
      },
      "source": [
        "try:\n",
        "    s = requests.Session()\n",
        "    resp = s.get(startingURL, headers=headers)\n",
        "    if (verbose): print(resp.text)\n",
        "except HTTPError as e:\n",
        "    print('The server could not serve up the web page!')\n",
        "    sys.exit(\"Script processing cannot continue!!!\")\n",
        "except ConnectionError as e:\n",
        "    print('The server could not be reached due to connection issues!')\n",
        "    sys.exit(\"Script processing cannot continue!!!\")\n",
        "\n",
        "if (resp.status_code==requests.codes.ok):\n",
        "    print('Successfully accessed the web page: ' + startingURL)\n",
        "    webPage = BeautifulSoup(resp.text, 'lxml')"
      ],
      "execution_count": 10,
      "outputs": [
        {
          "output_type": "stream",
          "text": [
            "Successfully accessed the web page: https://conferences.oreilly.com/strata/strata-eu-2019/public/schedule/proceedings\n"
          ],
          "name": "stdout"
        }
      ]
    },
    {
      "cell_type": "code",
      "metadata": {
        "id": "yk9gY0vwYoOv",
        "colab_type": "code",
        "outputId": "d6b90050-80b5-40d4-a50f-b944b153a39d",
        "colab": {
          "base_uri": "https://localhost:8080/",
          "height": 1000
        }
      },
      "source": [
        "# Gather all links to the document\n",
        "collection = webPage.find_all(\"a\")\n",
        "i = 0\n",
        "\n",
        "for item in collection:\n",
        "    if (verbose): print(item)\n",
        "    docPath = item['href']\n",
        "    if docPath.lower().endswith(\".pdf\") | docPath.lower().endswith(\".pptx\") | docPath.lower().endswith(\".zip\"):\n",
        "        i = i + 1\n",
        "        docPath = websiteURL + docPath\n",
        "        # Adding random wait time so we do not hammer the website needlessly\n",
        "        waitTime = randint(2,5)\n",
        "        print(\"Waiting \" + str(waitTime) + \" seconds to retrieve \" + docPath)\n",
        "        sleep(waitTime)\n",
        "        if (executeDownload): download_file(docPath)\n",
        "\n",
        "print('Finished finding all available documents on the web page!')"
      ],
      "execution_count": 11,
      "outputs": [
        {
          "output_type": "stream",
          "text": [
            "Waiting 5 seconds to retrieve https://cdn.oreillystatic.com/en/assets/1/event/292/8%20prerequisites%20of%20a%20graph%20query%20language%20Presentation.pdf\n",
            "Downladed file: /content/gdrive/My Drive/Colab_Downloads/8%20prerequisites%20of%20a%20graph%20query%20language%20Presentation.pdf\n",
            "Waiting 5 seconds to retrieve https://cdn.oreillystatic.com/en/assets/1/event/292/Architecting%20a%20data%20platform%20for%20enterprise%20use%20Presentation%201.pdf\n",
            "Downladed file: /content/gdrive/My Drive/Colab_Downloads/Architecting%20a%20data%20platform%20for%20enterprise%20use%20Presentation%201.pdf\n",
            "Waiting 2 seconds to retrieve https://cdn.oreillystatic.com/en/assets/1/event/292/Architecting%20a%20data%20platform%20to%20support%20analytic%20workflows%20for%20scientific%20data%20Presentation.pdf\n",
            "Downladed file: /content/gdrive/My Drive/Colab_Downloads/Architecting%20a%20data%20platform%20to%20support%20analytic%20workflows%20for%20scientific%20data%20Presentation.pdf\n",
            "Waiting 3 seconds to retrieve https://cdn.oreillystatic.com/en/assets/1/event/292/Big%20data%20analytics%20in%20the%20public%20cloud_%20Challenges%20and%20opportunities%20%20Presentation.pptx\n",
            "Downladed file: /content/gdrive/My Drive/Colab_Downloads/Big%20data%20analytics%20in%20the%20public%20cloud_%20Challenges%20and%20opportunities%20%20Presentation.pptx\n",
            "Waiting 5 seconds to retrieve https://cdn.oreillystatic.com/en/assets/1/event/292/Build%20your%20own%20data%20lake%20with%20AWS%20Glue%20and%20Amazon%20Athena%20_sponsored%20by%20Amazon%20Web%20Services_%20Presentation.pdf\n",
            "Downladed file: /content/gdrive/My Drive/Colab_Downloads/Build%20your%20own%20data%20lake%20with%20AWS%20Glue%20and%20Amazon%20Athena%20_sponsored%20by%20Amazon%20Web%20Services_%20Presentation.pdf\n",
            "Waiting 2 seconds to retrieve https://cdn.oreillystatic.com/en/assets/1/event/292/Building%20a%20sales%20AI%20platform_%20Key%20principles%20and%20lessons%20learned%20Presentation.pdf\n",
            "Downladed file: /content/gdrive/My Drive/Colab_Downloads/Building%20a%20sales%20AI%20platform_%20Key%20principles%20and%20lessons%20learned%20Presentation.pdf\n",
            "Waiting 5 seconds to retrieve https://cdn.oreillystatic.com/en/assets/1/event/292/Building%20a%20serverless%20big%20data%20application%20on%20AWS%20Presentation.pdf\n",
            "Downladed file: /content/gdrive/My Drive/Colab_Downloads/Building%20a%20serverless%20big%20data%20application%20on%20AWS%20Presentation.pdf\n",
            "Waiting 5 seconds to retrieve https://cdn.oreillystatic.com/en/assets/1/event/292/Building%20a%20serverless%20big%20data%20application%20on%20AWS%20Presentation%201.pdf\n",
            "Downladed file: /content/gdrive/My Drive/Colab_Downloads/Building%20a%20serverless%20big%20data%20application%20on%20AWS%20Presentation%201.pdf\n",
            "Waiting 3 seconds to retrieve https://cdn.oreillystatic.com/en/assets/1/event/292/Building%20a%20serverless%20big%20data%20application%20on%20AWS%20Presentation%202.pdf\n",
            "Downladed file: /content/gdrive/My Drive/Colab_Downloads/Building%20a%20serverless%20big%20data%20application%20on%20AWS%20Presentation%202.pdf\n",
            "Waiting 5 seconds to retrieve https://cdn.oreillystatic.com/en/assets/1/event/292/Building%20a%20serverless%20big%20data%20application%20on%20AWS%20Presentation%203.pdf\n",
            "Downladed file: /content/gdrive/My Drive/Colab_Downloads/Building%20a%20serverless%20big%20data%20application%20on%20AWS%20Presentation%203.pdf\n",
            "Waiting 5 seconds to retrieve https://cdn.oreillystatic.com/en/assets/1/event/292/Building%20a%20serverless%20big%20data%20application%20on%20AWS%20Presentation%204.pdf\n",
            "Downladed file: /content/gdrive/My Drive/Colab_Downloads/Building%20a%20serverless%20big%20data%20application%20on%20AWS%20Presentation%204.pdf\n",
            "Waiting 4 seconds to retrieve https://cdn.oreillystatic.com/en/assets/1/event/292/Building%20a%20serverless%20big%20data%20application%20on%20AWS%20Presentation%205.pdf\n",
            "Downladed file: /content/gdrive/My Drive/Colab_Downloads/Building%20a%20serverless%20big%20data%20application%20on%20AWS%20Presentation%205.pdf\n",
            "Waiting 5 seconds to retrieve https://cdn.oreillystatic.com/en/assets/1/event/292/Building%20data%20science%20capacity%20in%20your%20organization%20Presentation.pptx\n",
            "Downladed file: /content/gdrive/My Drive/Colab_Downloads/Building%20data%20science%20capacity%20in%20your%20organization%20Presentation.pptx\n",
            "Waiting 3 seconds to retrieve https://cdn.oreillystatic.com/en/assets/1/event/292/Continuous%20intelligence_%20Keeping%20your%20AI%20application%20in%20production%20Presentation.pdf\n",
            "Downladed file: /content/gdrive/My Drive/Colab_Downloads/Continuous%20intelligence_%20Keeping%20your%20AI%20application%20in%20production%20Presentation.pdf\n",
            "Waiting 3 seconds to retrieve https://cdn.oreillystatic.com/en/assets/1/event/292/Continuous%20intelligence_%20Moving%20machine%20learning%20into%20production%20reliably%20Presentation.pdf\n",
            "Downladed file: /content/gdrive/My Drive/Colab_Downloads/Continuous%20intelligence_%20Moving%20machine%20learning%20into%20production%20reliably%20Presentation.pdf\n",
            "Waiting 5 seconds to retrieve https://cdn.oreillystatic.com/en/assets/1/event/292/Data%20catalogs%20are%20changing%20the%20nature%20of%20working%20with%20data%20_sponsored%20by%20Alation_%20Presentation.pdf\n",
            "Downladed file: /content/gdrive/My Drive/Colab_Downloads/Data%20catalogs%20are%20changing%20the%20nature%20of%20working%20with%20data%20_sponsored%20by%20Alation_%20Presentation.pdf\n",
            "Waiting 5 seconds to retrieve https://cdn.oreillystatic.com/en/assets/1/event/292/Data%20science%20at%20Deutsche%20Telekom_%20Predicting%20global%20travel%20patterns%20and%20network%20demand%20Presentation.pdf\n",
            "Downladed file: /content/gdrive/My Drive/Colab_Downloads/Data%20science%20at%20Deutsche%20Telekom_%20Predicting%20global%20travel%20patterns%20and%20network%20demand%20Presentation.pdf\n",
            "Waiting 4 seconds to retrieve https://cdn.oreillystatic.com/en/assets/1/event/292/Data%20science%20transformation_%20Transforming%20a%20traditional%20wealth%20manager%20to%20a%20cutting-edge%20data-driven%20company%20Presentation.pdf\n",
            "Downladed file: /content/gdrive/My Drive/Colab_Downloads/Data%20science%20transformation_%20Transforming%20a%20traditional%20wealth%20manager%20to%20a%20cutting-edge%20data-driven%20company%20Presentation.pdf\n",
            "Waiting 5 seconds to retrieve https://cdn.oreillystatic.com/en/assets/1/event/292/Data%20science%20transformation_%20Transforming%20a%20traditional%20wealth%20manager%20to%20a%20cutting-edge%20data-driven%20company%20Presentation%201.pdf\n",
            "Downladed file: /content/gdrive/My Drive/Colab_Downloads/Data%20science%20transformation_%20Transforming%20a%20traditional%20wealth%20manager%20to%20a%20cutting-edge%20data-driven%20company%20Presentation%201.pdf\n",
            "Waiting 4 seconds to retrieve https://cdn.oreillystatic.com/en/assets/1/event/292/Deep%20learning%20for%20recommender%20systems%20Presentation%202.pdf\n",
            "Downladed file: /content/gdrive/My Drive/Colab_Downloads/Deep%20learning%20for%20recommender%20systems%20Presentation%202.pdf\n",
            "Waiting 3 seconds to retrieve https://cdn.oreillystatic.com/en/assets/1/event/292/Deep%20learning%20for%20speech%20synthesis_%20The%20good%20news%2C%20the%20bad%20news%2C%20and%20the%20fake%20news%20Presentation.pdf\n",
            "Downladed file: /content/gdrive/My Drive/Colab_Downloads/Deep%20learning%20for%20speech%20synthesis_%20The%20good%20news%2C%20the%20bad%20news%2C%20and%20the%20fake%20news%20Presentation.pdf\n",
            "Waiting 5 seconds to retrieve https://cdn.oreillystatic.com/en/assets/1/event/292/Evaluating%20cybersecurity%20defenses%20with%20a%20data%20science%20approach%20Presentation.zip\n",
            "Downladed file: /content/gdrive/My Drive/Colab_Downloads/Evaluating%20cybersecurity%20defenses%20with%20a%20data%20science%20approach%20Presentation.zip\n",
            "Waiting 4 seconds to retrieve https://cdn.oreillystatic.com/en/assets/1/event/292/Executive%20Briefing_%20AWS%20technology%20trends%E2%80%94Data%20lakes%20and%20analytics%20Presentation.pdf\n",
            "Downladed file: /content/gdrive/My Drive/Colab_Downloads/Executive%20Briefing_%20AWS%20technology%20trends%E2%80%94Data%20lakes%20and%20analytics%20Presentation.pdf\n",
            "Waiting 4 seconds to retrieve https://cdn.oreillystatic.com/en/assets/1/event/292/Executive%20Briefing_%20Big%20data%20in%20the%20era%20of%20heavy%20worldwide%20privacy%20regulations%20Presentation%202.pdf\n",
            "Downladed file: /content/gdrive/My Drive/Colab_Downloads/Executive%20Briefing_%20Big%20data%20in%20the%20era%20of%20heavy%20worldwide%20privacy%20regulations%20Presentation%202.pdf\n",
            "Waiting 3 seconds to retrieve https://cdn.oreillystatic.com/en/assets/1/event/292/Executive%20Briefing_%20The%20hidden%20data%20scientists%20lurking%20in%20your%20company%20Presentation.pdf\n",
            "Downladed file: /content/gdrive/My Drive/Colab_Downloads/Executive%20Briefing_%20The%20hidden%20data%20scientists%20lurking%20in%20your%20company%20Presentation.pdf\n",
            "Waiting 2 seconds to retrieve https://deanwampler.github.io/polyglotprogramming/papers/ExecutiveBriefing-WhatItTakesToUseMLinFastDataPipelines.pdf\n",
            "Downladed file: /content/gdrive/My Drive/Colab_Downloads/ExecutiveBriefing-WhatItTakesToUseMLinFastDataPipelines.pdf\n",
            "Waiting 4 seconds to retrieve https://cdn.oreillystatic.com/en/assets/1/event/292/Executive%20Briefing_%20Why%20managing%20machines%20is%20harder%20than%20you%20think%20%20Presentation.pdf\n",
            "Downladed file: /content/gdrive/My Drive/Colab_Downloads/Executive%20Briefing_%20Why%20managing%20machines%20is%20harder%20than%20you%20think%20%20Presentation.pdf\n",
            "Waiting 2 seconds to retrieve https://cdn.oreillystatic.com/en/assets/1/event/292/Explainable%20machine%20learning%20in%20fintech%20Presentation.pptx\n",
            "Downladed file: /content/gdrive/My Drive/Colab_Downloads/Explainable%20machine%20learning%20in%20fintech%20Presentation.pptx\n",
            "Waiting 2 seconds to retrieve https://cdn.oreillystatic.com/en/assets/1/event/292/Fair%2C%20privacy-preserving%2C%20and%20secure%20ML%20Presentation.pptx\n",
            "Downladed file: /content/gdrive/My Drive/Colab_Downloads/Fair%2C%20privacy-preserving%2C%20and%20secure%20ML%20Presentation.pptx\n",
            "Waiting 2 seconds to retrieve https://cdn.oreillystatic.com/en/assets/1/event/292/From%20BI%20to%20big%20data_%20Or%2C%20There%20and%20back%20again%20Presentation.pdf\n",
            "Downladed file: /content/gdrive/My Drive/Colab_Downloads/From%20BI%20to%20big%20data_%20Or%2C%20There%20and%20back%20again%20Presentation.pdf\n",
            "Waiting 4 seconds to retrieve https://cdn.oreillystatic.com/en/assets/1/event/292/From%20legacy%20to%20cloud_%20An%20end-to-end%20data%20integration%20journey%20Presentation.pdf\n",
            "Downladed file: /content/gdrive/My Drive/Colab_Downloads/From%20legacy%20to%20cloud_%20An%20end-to-end%20data%20integration%20journey%20Presentation.pdf\n",
            "Waiting 5 seconds to retrieve https://cdn.oreillystatic.com/en/assets/1/event/292/Getting%20ready%20for%20GDPR%20and%20CCPA_%20Securing%20and%20governing%20hybrid%2C%20cloud%2C%20and%20on-premises%20big%20data%20deployments%20Presentation.pdf\n",
            "Downladed file: /content/gdrive/My Drive/Colab_Downloads/Getting%20ready%20for%20GDPR%20and%20CCPA_%20Securing%20and%20governing%20hybrid%2C%20cloud%2C%20and%20on-premises%20big%20data%20deployments%20Presentation.pdf\n",
            "Waiting 3 seconds to retrieve https://cdn.oreillystatic.com/en/assets/1/event/292/Herding%20elephants_%20Seamless%20data%20access%20in%20a%20multicluster%20clouds%20Presentation.pdf\n",
            "Downladed file: /content/gdrive/My Drive/Colab_Downloads/Herding%20elephants_%20Seamless%20data%20access%20in%20a%20multicluster%20clouds%20Presentation.pdf\n",
            "Waiting 2 seconds to retrieve https://cdn.oreillystatic.com/en/assets/1/event/292/How%20do%20you%20evolve%20your%20data%20infrastructure_%20Presentation.pdf\n",
            "Downladed file: /content/gdrive/My Drive/Colab_Downloads/How%20do%20you%20evolve%20your%20data%20infrastructure_%20Presentation.pdf\n",
            "Waiting 4 seconds to retrieve https://cdn.oreillystatic.com/en/assets/1/event/292/How%20retailers%20can%20leverage%20data%20to%20stay%20competitive%20in%20an%20ever-changing%20digital%20landscape%20_sponsored%20by%20Data%20Reply_%20Presentation.pdf\n",
            "Downladed file: /content/gdrive/My Drive/Colab_Downloads/How%20retailers%20can%20leverage%20data%20to%20stay%20competitive%20in%20an%20ever-changing%20digital%20landscape%20_sponsored%20by%20Data%20Reply_%20Presentation.pdf\n",
            "Waiting 5 seconds to retrieve https://cdn.oreillystatic.com/en/assets/1/event/292/How%20to%20mitigate%20mobile%20fraud%20risk%20by%20data%20analytics%20Presentation.pdf\n",
            "Downladed file: /content/gdrive/My Drive/Colab_Downloads/How%20to%20mitigate%20mobile%20fraud%20risk%20by%20data%20analytics%20Presentation.pdf\n",
            "Waiting 2 seconds to retrieve https://cdn.oreillystatic.com/en/assets/1/event/292/Implementing%20enterprise%20data%20management%20in%20industrial%20and%20scientific%20organizations%20Presentation.pdf\n",
            "Downladed file: /content/gdrive/My Drive/Colab_Downloads/Implementing%20enterprise%20data%20management%20in%20industrial%20and%20scientific%20organizations%20Presentation.pdf\n",
            "Waiting 4 seconds to retrieve https://cdn.oreillystatic.com/en/assets/1/event/292/India_s%20data%20dilemma%20with%20India%20Stack%20Presentation.pdf\n",
            "Downladed file: /content/gdrive/My Drive/Colab_Downloads/India_s%20data%20dilemma%20with%20India%20Stack%20Presentation.pdf\n",
            "Waiting 5 seconds to retrieve https://cdn.oreillystatic.com/en/assets/1/event/292/Insightful%20health_%20Amplifying%20intelligence%20in%20healthcare%20patient%20flow%20execution%20Presentation.pdf\n",
            "Downladed file: /content/gdrive/My Drive/Colab_Downloads/Insightful%20health_%20Amplifying%20intelligence%20in%20healthcare%20patient%20flow%20execution%20Presentation.pdf\n",
            "Waiting 2 seconds to retrieve https://cdn.oreillystatic.com/en/assets/1/event/292/Learning%20_learning%20to%20rank_%20Presentation.pdf\n",
            "Downladed file: /content/gdrive/My Drive/Colab_Downloads/Learning%20_learning%20to%20rank_%20Presentation.pdf\n",
            "Waiting 4 seconds to retrieve https://cdn.oreillystatic.com/en/assets/1/event/292/Learning%20how%20to%20perform%20ETL%20data%20migrations%20with%20open%20source%20tool%20Embulk%20Presentation.pptx\n",
            "Downladed file: /content/gdrive/My Drive/Colab_Downloads/Learning%20how%20to%20perform%20ETL%20data%20migrations%20with%20open%20source%20tool%20Embulk%20Presentation.pptx\n",
            "Waiting 3 seconds to retrieve https://cdn.oreillystatic.com/en/assets/1/event/292/Leveraging%20metadata%20for%20automating%20delivery%20and%20operations%20of%20advanced%20data%20platforms%20Presentation.pdf\n",
            "Downladed file: /content/gdrive/My Drive/Colab_Downloads/Leveraging%20metadata%20for%20automating%20delivery%20and%20operations%20of%20advanced%20data%20platforms%20Presentation.pdf\n",
            "Waiting 4 seconds to retrieve https://cdn.oreillystatic.com/en/assets/1/event/292/LSTM-based%20time%20series%20anomaly%20detection%20using%20Analytics%20Zoo%20for%20Spark%20and%20BigDL%20Presentation.pptx\n",
            "Downladed file: /content/gdrive/My Drive/Colab_Downloads/LSTM-based%20time%20series%20anomaly%20detection%20using%20Analytics%20Zoo%20for%20Spark%20and%20BigDL%20Presentation.pptx\n",
            "Waiting 5 seconds to retrieve https://cdn.oreillystatic.com/en/assets/1/event/292/Mass%20production%20of%20AI%20solutions%20Presentation.pdf\n",
            "Downladed file: /content/gdrive/My Drive/Colab_Downloads/Mass%20production%20of%20AI%20solutions%20Presentation.pdf\n",
            "Waiting 3 seconds to retrieve https://cdn.oreillystatic.com/en/assets/1/event/292/Mastering%20data%20with%20Spark%20and%20machine%20learning%20Presentation.pdf\n",
            "Downladed file: /content/gdrive/My Drive/Colab_Downloads/Mastering%20data%20with%20Spark%20and%20machine%20learning%20Presentation.pdf\n",
            "Waiting 3 seconds to retrieve https://cdn.oreillystatic.com/en/assets/1/event/292/Migrating%20Apache%20Oozie%20workflows%20to%20Apache%20Airflow%20Presentation.pdf\n",
            "Downladed file: /content/gdrive/My Drive/Colab_Downloads/Migrating%20Apache%20Oozie%20workflows%20to%20Apache%20Airflow%20Presentation.pdf\n",
            "Waiting 2 seconds to retrieve https://cdn.oreillystatic.com/en/assets/1/event/292/Mutant%20tests%20too_%20The%20SQL%20Presentation.pptx\n",
            "Downladed file: /content/gdrive/My Drive/Colab_Downloads/Mutant%20tests%20too_%20The%20SQL%20Presentation.pptx\n",
            "Waiting 2 seconds to retrieve https://cdn.oreillystatic.com/en/assets/1/event/292/On%20the%20accountability%20of%20black%20boxes_%20How%20we%20can%20control%20what%20we%20can%E2%80%99t%20exactly%20measure%20Presentation.pdf\n",
            "Downladed file: /content/gdrive/My Drive/Colab_Downloads/On%20the%20accountability%20of%20black%20boxes_%20How%20we%20can%20control%20what%20we%20can%E2%80%99t%20exactly%20measure%20Presentation.pdf\n",
            "Waiting 2 seconds to retrieve https://cdn.oreillystatic.com/en/assets/1/event/292/Practicing%20data%20science_%20A%20collection%20of%20case%20studies%20Presentation.pdf\n",
            "Downladed file: /content/gdrive/My Drive/Colab_Downloads/Practicing%20data%20science_%20A%20collection%20of%20case%20studies%20Presentation.pdf\n",
            "Waiting 5 seconds to retrieve https://cdn.oreillystatic.com/en/assets/1/event/292/Predicting%20real-time%20transaction%20fraud%20using%20supervised%20learning%20Presentation.pdf\n",
            "Downladed file: /content/gdrive/My Drive/Colab_Downloads/Predicting%20real-time%20transaction%20fraud%20using%20supervised%20learning%20Presentation.pdf\n",
            "Waiting 2 seconds to retrieve https://cdn.oreillystatic.com/en/assets/1/event/292/Processing%2010M%20samples%20a%20second%20to%20drive%20smart%20maintenance%20in%20complex%20IIoT%20systems%20Presentation.pdf\n",
            "Downladed file: /content/gdrive/My Drive/Colab_Downloads/Processing%2010M%20samples%20a%20second%20to%20drive%20smart%20maintenance%20in%20complex%20IIoT%20systems%20Presentation.pdf\n",
            "Waiting 5 seconds to retrieve https://cdn.oreillystatic.com/en/assets/1/event/292/Reinforcement%20learning_%20A%20gentle%20introduction%20and%20an%20industrial%20application%20Presentation.pdf\n",
            "Downladed file: /content/gdrive/My Drive/Colab_Downloads/Reinforcement%20learning_%20A%20gentle%20introduction%20and%20an%20industrial%20application%20Presentation.pdf\n",
            "Waiting 2 seconds to retrieve https://cdn.oreillystatic.com/en/assets/1/event/292/Scaling%20Impala_%20Common%20mistakes%20and%20best%20practices%20Presentation.pdf\n",
            "Downladed file: /content/gdrive/My Drive/Colab_Downloads/Scaling%20Impala_%20Common%20mistakes%20and%20best%20practices%20Presentation.pdf\n",
            "Waiting 2 seconds to retrieve https://cdn.oreillystatic.com/en/assets/1/event/292/Serverless%20for%20data%20and%20AI%20Presentation.pdf\n",
            "Downladed file: /content/gdrive/My Drive/Colab_Downloads/Serverless%20for%20data%20and%20AI%20Presentation.pdf\n",
            "Waiting 5 seconds to retrieve https://cdn.oreillystatic.com/en/assets/1/event/292/Synthetic%20video%20generation_%20Why%20seeing%20should%20not%20always%20be%20believing%20Presentation.pdf\n",
            "Downladed file: /content/gdrive/My Drive/Colab_Downloads/Synthetic%20video%20generation_%20Why%20seeing%20should%20not%20always%20be%20believing%20Presentation.pdf\n",
            "Waiting 2 seconds to retrieve https://cdn.oreillystatic.com/en/assets/1/event/292/The%20digital%20truth%20and%20the%20physical%20twin%20Presentation.pdf\n",
            "Downladed file: /content/gdrive/My Drive/Colab_Downloads/The%20digital%20truth%20and%20the%20physical%20twin%20Presentation.pdf\n",
            "Waiting 3 seconds to retrieve https://cdn.oreillystatic.com/en/assets/1/event/292/The%20Presto%20Cost-Based%20Optimizer%20for%20interactive%20SQL%20on%20anything%20Presentation.pdf\n",
            "Downladed file: /content/gdrive/My Drive/Colab_Downloads/The%20Presto%20Cost-Based%20Optimizer%20for%20interactive%20SQL%20on%20anything%20Presentation.pdf\n",
            "Waiting 2 seconds to retrieve https://cdn.oreillystatic.com/en/assets/1/event/292/The%20unreasonable%20effectiveness%20of%20transfer%20learning%20on%20NLP%20Presentation.pdf\n",
            "Downladed file: /content/gdrive/My Drive/Colab_Downloads/The%20unreasonable%20effectiveness%20of%20transfer%20learning%20on%20NLP%20Presentation.pdf\n",
            "Waiting 5 seconds to retrieve https://cdn.oreillystatic.com/en/assets/1/event/292/The%20unstoppable%20rise%20of%20white%20box%20data%20Presentation.pdf\n",
            "Downladed file: /content/gdrive/My Drive/Colab_Downloads/The%20unstoppable%20rise%20of%20white%20box%20data%20Presentation.pdf\n",
            "Waiting 3 seconds to retrieve https://cdn.oreillystatic.com/en/assets/1/event/292/The%20vegan%20data%20diet_%20How%20Wikipedia%20cuts%20down%20privacy%20issues%20while%20keeping%20data%20fit%20Presentation.pdf\n",
            "Downladed file: /content/gdrive/My Drive/Colab_Downloads/The%20vegan%20data%20diet_%20How%20Wikipedia%20cuts%20down%20privacy%20issues%20while%20keeping%20data%20fit%20Presentation.pdf\n",
            "Waiting 5 seconds to retrieve https://cdn.oreillystatic.com/en/assets/1/event/292/There_s%20something%20about%20data%E2%80%A6%20Presentation.zip\n",
            "Downladed file: /content/gdrive/My Drive/Colab_Downloads/There_s%20something%20about%20data%E2%80%A6%20Presentation.zip\n",
            "Waiting 3 seconds to retrieve https://cdn.oreillystatic.com/en/assets/1/event/292/Transforming%20a%20financial%20services%20data%20infrastructure%20for%20the%20modern%20era%20by%20building%20a%20PCI%20DSS-compliant%20data%20platform%20from%20the%20ground%20up%20on%20AWS%20Presentation.pdf\n",
            "Downladed file: /content/gdrive/My Drive/Colab_Downloads/Transforming%20a%20financial%20services%20data%20infrastructure%20for%20the%20modern%20era%20by%20building%20a%20PCI%20DSS-compliant%20data%20platform%20from%20the%20ground%20up%20on%20AWS%20Presentation.pdf\n",
            "Waiting 3 seconds to retrieve https://cdn.oreillystatic.com/en/assets/1/event/292/Unleashing%20Apache%20Kafka%20and%20TensorFlow%20in%20hybrid%20architectures%20Presentation.pdf\n",
            "Downladed file: /content/gdrive/My Drive/Colab_Downloads/Unleashing%20Apache%20Kafka%20and%20TensorFlow%20in%20hybrid%20architectures%20Presentation.pdf\n",
            "Waiting 2 seconds to retrieve https://cdn.oreillystatic.com/en/assets/1/event/292/Using%20electronic%20health%20records%20to%20predict%20health%20risks%20associated%20with%20obesity%20Presentation.pdf\n",
            "Downladed file: /content/gdrive/My Drive/Colab_Downloads/Using%20electronic%20health%20records%20to%20predict%20health%20risks%20associated%20with%20obesity%20Presentation.pdf\n",
            "Waiting 4 seconds to retrieve https://cdn.oreillystatic.com/en/assets/1/event/292/Your%20data%20strategy_%20It%20should%20be%20concise%2C%20actionable%2C%20and%20understandable%20by%20business%20and%20IT%20Presentation.pdf\n",
            "Downladed file: /content/gdrive/My Drive/Colab_Downloads/Your%20data%20strategy_%20It%20should%20be%20concise%2C%20actionable%2C%20and%20understandable%20by%20business%20and%20IT%20Presentation.pdf\n",
            "Finished finding all available documents on the web page!\n"
          ],
          "name": "stdout"
        }
      ]
    },
    {
      "cell_type": "code",
      "metadata": {
        "id": "9_t7A3eOYoOy",
        "colab_type": "code",
        "outputId": "f844edd9-80bb-4dec-ece5-f0bf8230eaee",
        "colab": {
          "base_uri": "https://localhost:8080/",
          "height": 34
        }
      },
      "source": [
        "print('Number of documents processed:', i)"
      ],
      "execution_count": 12,
      "outputs": [
        {
          "output_type": "stream",
          "text": [
            "Number of documents processed: 65\n"
          ],
          "name": "stdout"
        }
      ]
    },
    {
      "cell_type": "code",
      "metadata": {
        "id": "aptSJkHZbc_h",
        "colab_type": "code",
        "colab": {}
      },
      "source": [
        "if (sendNotification): email_notify(\"The web scraping process has completed! \"+datetime.now().strftime('%a %B %d, %Y %I:%M:%S %p'))"
      ],
      "execution_count": 0,
      "outputs": []
    },
    {
      "cell_type": "code",
      "metadata": {
        "id": "nN6rWf7qYoO1",
        "colab_type": "code",
        "outputId": "ac396c41-3aee-42cb-8b6a-5d5fb0031f46",
        "colab": {
          "base_uri": "https://localhost:8080/",
          "height": 34
        }
      },
      "source": [
        "print ('Total time for the script:',(datetime.now() - startTimeScript))"
      ],
      "execution_count": 14,
      "outputs": [
        {
          "output_type": "stream",
          "text": [
            "Total time for the script: 0:04:41.843238\n"
          ],
          "name": "stdout"
        }
      ]
    }
  ]
}