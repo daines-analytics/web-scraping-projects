{
  "nbformat": 4,
  "nbformat_minor": 0,
  "metadata": {
    "colab": {
      "name": "web-scraping-py-bsoup-oreilly-software-architecture-2020-newyork.ipynb",
      "provenance": [],
      "collapsed_sections": [],
      "toc_visible": true
    },
    "language_info": {
      "codemirror_mode": {
        "name": "ipython",
        "version": 3
      },
      "file_extension": ".py",
      "mimetype": "text/x-python",
      "name": "python",
      "nbconvert_exporter": "python",
      "pygments_lexer": "ipython3",
      "version": "3.7.1"
    },
    "kernelspec": {
      "display_name": "Python 3",
      "language": "python",
      "name": "python3"
    }
  },
  "cells": [
    {
      "cell_type": "markdown",
      "metadata": {
        "id": "l4mr2mbWYoOa",
        "colab_type": "text"
      },
      "source": [
        "# Web Scraping of O'Reilly Software Architecture Conference 2020 New York\n",
        "### David Lowe\n",
        "### March 6, 2020\n",
        "\n",
        "SUMMARY: The purpose of this project is to practice web scraping by extracting specific pieces of information from a website. The web scraping Python code leverages the BeautifulSoup module.\n",
        "\n",
        "INTRODUCTION: The Software Architecture Conference covers the full range of topics in the software architecture discipline. Those topics include leadership and business skills, product management, and domain-driven design. This web scraping script will automatically traverse through the entire web page and collect all links to the PDF and PPTX documents. The script will also download the documents as part of the scraping process. The Python script ran in the Google Colaboratory environment and can be adapted to run in any Python environment without the Colab-specific configuration.\n",
        "\n",
        "Starting URLs: https://conferences.oreilly.com/software-architecture/sa-ny/public/schedule/proceedings"
      ]
    },
    {
      "cell_type": "markdown",
      "metadata": {
        "id": "kyLL5BLJYoOc",
        "colab_type": "text"
      },
      "source": [
        "## Loading Libraries and Packages"
      ]
    },
    {
      "cell_type": "code",
      "metadata": {
        "id": "wELc-r0BaiDC",
        "colab_type": "code",
        "outputId": "1cfa3b46-e141-44ed-b403-a5beb6b4f3f9",
        "colab": {
          "base_uri": "https://localhost:8080/",
          "height": 1000
        }
      },
      "source": [
        "# Refresh package repositories and set up additional Linux and Python packages\n",
        "!apt-get update\n",
        "!apt install chromium-chromedriver\n",
        "!pip install -q pymysql selenium"
      ],
      "execution_count": 1,
      "outputs": [
        {
          "output_type": "stream",
          "text": [
            "Get:1 https://cloud.r-project.org/bin/linux/ubuntu bionic-cran35/ InRelease [3,626 B]\n",
            "Ign:2 https://developer.download.nvidia.com/compute/cuda/repos/ubuntu1804/x86_64  InRelease\n",
            "Get:3 http://ppa.launchpad.net/graphics-drivers/ppa/ubuntu bionic InRelease [21.3 kB]\n",
            "Get:4 http://security.ubuntu.com/ubuntu bionic-security InRelease [88.7 kB]\n",
            "Hit:5 http://archive.ubuntu.com/ubuntu bionic InRelease\n",
            "Get:6 https://cloud.r-project.org/bin/linux/ubuntu bionic-cran35/ Packages [86.5 kB]\n",
            "Ign:7 https://developer.download.nvidia.com/compute/machine-learning/repos/ubuntu1804/x86_64  InRelease\n",
            "Hit:8 https://developer.download.nvidia.com/compute/cuda/repos/ubuntu1804/x86_64  Release\n",
            "Hit:9 https://developer.download.nvidia.com/compute/machine-learning/repos/ubuntu1804/x86_64  Release\n",
            "Get:10 http://archive.ubuntu.com/ubuntu bionic-updates InRelease [88.7 kB]\n",
            "Get:11 http://ppa.launchpad.net/marutter/c2d4u3.5/ubuntu bionic InRelease [15.4 kB]\n",
            "Get:14 http://ppa.launchpad.net/graphics-drivers/ppa/ubuntu bionic/main amd64 Packages [36.9 kB]\n",
            "Get:15 http://archive.ubuntu.com/ubuntu bionic-backports InRelease [74.6 kB]\n",
            "Get:16 http://security.ubuntu.com/ubuntu bionic-security/main amd64 Packages [836 kB]\n",
            "Get:17 http://archive.ubuntu.com/ubuntu bionic-updates/main amd64 Packages [1,128 kB]\n",
            "Get:18 http://ppa.launchpad.net/marutter/c2d4u3.5/ubuntu bionic/main Sources [1,777 kB]\n",
            "Get:19 http://security.ubuntu.com/ubuntu bionic-security/universe amd64 Packages [824 kB]\n",
            "Get:20 http://security.ubuntu.com/ubuntu bionic-security/multiverse amd64 Packages [7,641 B]\n",
            "Get:21 http://security.ubuntu.com/ubuntu bionic-security/restricted amd64 Packages [31.0 kB]\n",
            "Get:22 http://archive.ubuntu.com/ubuntu bionic-updates/universe amd64 Packages [1,352 kB]\n",
            "Get:23 http://archive.ubuntu.com/ubuntu bionic-updates/restricted amd64 Packages [44.7 kB]\n",
            "Get:24 http://archive.ubuntu.com/ubuntu bionic-updates/multiverse amd64 Packages [11.7 kB]\n",
            "Get:25 http://archive.ubuntu.com/ubuntu bionic-backports/universe amd64 Packages [4,247 B]\n",
            "Get:26 http://ppa.launchpad.net/marutter/c2d4u3.5/ubuntu bionic/main amd64 Packages [858 kB]\n",
            "Fetched 7,290 kB in 7s (1,069 kB/s)\n",
            "Reading package lists... Done\n",
            "Reading package lists... Done\n",
            "Building dependency tree       \n",
            "Reading state information... Done\n",
            "The following package was automatically installed and is no longer required:\n",
            "  libnvidia-common-430\n",
            "Use 'apt autoremove' to remove it.\n",
            "The following additional packages will be installed:\n",
            "  chromium-browser chromium-browser-l10n chromium-codecs-ffmpeg-extra\n",
            "Suggested packages:\n",
            "  webaccounts-chromium-extension unity-chromium-extension adobe-flashplugin\n",
            "The following NEW packages will be installed:\n",
            "  chromium-browser chromium-browser-l10n chromium-chromedriver\n",
            "  chromium-codecs-ffmpeg-extra\n",
            "0 upgraded, 4 newly installed, 0 to remove and 118 not upgraded.\n",
            "Need to get 74.4 MB of archives.\n",
            "After this operation, 264 MB of additional disk space will be used.\n",
            "Get:1 http://archive.ubuntu.com/ubuntu bionic-updates/universe amd64 chromium-codecs-ffmpeg-extra amd64 80.0.3987.87-0ubuntu0.18.04.1 [1,095 kB]\n",
            "Get:2 http://archive.ubuntu.com/ubuntu bionic-updates/universe amd64 chromium-browser amd64 80.0.3987.87-0ubuntu0.18.04.1 [66.1 MB]\n",
            "Get:3 http://archive.ubuntu.com/ubuntu bionic-updates/universe amd64 chromium-browser-l10n all 80.0.3987.87-0ubuntu0.18.04.1 [3,155 kB]\n",
            "Get:4 http://archive.ubuntu.com/ubuntu bionic-updates/universe amd64 chromium-chromedriver amd64 80.0.3987.87-0ubuntu0.18.04.1 [4,044 kB]\n",
            "Fetched 74.4 MB in 9s (7,950 kB/s)\n",
            "Selecting previously unselected package chromium-codecs-ffmpeg-extra.\n",
            "(Reading database ... 134443 files and directories currently installed.)\n",
            "Preparing to unpack .../chromium-codecs-ffmpeg-extra_80.0.3987.87-0ubuntu0.18.04.1_amd64.deb ...\n",
            "Unpacking chromium-codecs-ffmpeg-extra (80.0.3987.87-0ubuntu0.18.04.1) ...\n",
            "Selecting previously unselected package chromium-browser.\n",
            "Preparing to unpack .../chromium-browser_80.0.3987.87-0ubuntu0.18.04.1_amd64.deb ...\n",
            "Unpacking chromium-browser (80.0.3987.87-0ubuntu0.18.04.1) ...\n",
            "Selecting previously unselected package chromium-browser-l10n.\n",
            "Preparing to unpack .../chromium-browser-l10n_80.0.3987.87-0ubuntu0.18.04.1_all.deb ...\n",
            "Unpacking chromium-browser-l10n (80.0.3987.87-0ubuntu0.18.04.1) ...\n",
            "Selecting previously unselected package chromium-chromedriver.\n",
            "Preparing to unpack .../chromium-chromedriver_80.0.3987.87-0ubuntu0.18.04.1_amd64.deb ...\n",
            "Unpacking chromium-chromedriver (80.0.3987.87-0ubuntu0.18.04.1) ...\n",
            "Setting up chromium-codecs-ffmpeg-extra (80.0.3987.87-0ubuntu0.18.04.1) ...\n",
            "Setting up chromium-browser (80.0.3987.87-0ubuntu0.18.04.1) ...\n",
            "update-alternatives: using /usr/bin/chromium-browser to provide /usr/bin/x-www-browser (x-www-browser) in auto mode\n",
            "update-alternatives: using /usr/bin/chromium-browser to provide /usr/bin/gnome-www-browser (gnome-www-browser) in auto mode\n",
            "Setting up chromium-chromedriver (80.0.3987.87-0ubuntu0.18.04.1) ...\n",
            "Setting up chromium-browser-l10n (80.0.3987.87-0ubuntu0.18.04.1) ...\n",
            "Processing triggers for hicolor-icon-theme (0.17-2) ...\n",
            "Processing triggers for mime-support (3.60ubuntu1) ...\n",
            "Processing triggers for man-db (2.8.3-2ubuntu0.1) ...\n",
            "\u001b[K     |████████████████████████████████| 51kB 1.6MB/s \n",
            "\u001b[K     |████████████████████████████████| 911kB 10.0MB/s \n",
            "\u001b[?25h"
          ],
          "name": "stdout"
        }
      ]
    },
    {
      "cell_type": "code",
      "metadata": {
        "id": "9tGlgDPeYoOd",
        "colab_type": "code",
        "colab": {}
      },
      "source": [
        "import numpy as np\n",
        "import pandas as pd\n",
        "import os\n",
        "import shutil\n",
        "import smtplib\n",
        "import sys\n",
        "from email.message import EmailMessage\n",
        "from datetime import datetime\n",
        "import requests\n",
        "from requests.exceptions import HTTPError\n",
        "from requests.exceptions import ConnectionError\n",
        "from bs4 import BeautifulSoup\n",
        "from random import randint\n",
        "from time import sleep\n",
        "from selenium import webdriver\n",
        "import pymysql\n",
        "\n",
        "startTimeScript = datetime.now()"
      ],
      "execution_count": 0,
      "outputs": []
    },
    {
      "cell_type": "markdown",
      "metadata": {
        "id": "PxJqydfiYoOg",
        "colab_type": "text"
      },
      "source": [
        "## Setting up the basic functions"
      ]
    },
    {
      "cell_type": "code",
      "metadata": {
        "id": "Fnlwzz-PYoOh",
        "colab_type": "code",
        "colab": {}
      },
      "source": [
        "def email_notify(msg_text):\n",
        "    sender = os.environ.get('MAIL_SENDER')\n",
        "    receiver = os.environ.get('MAIL_RECEIVER')\n",
        "    gateway = os.environ.get('SMTP_GATEWAY')\n",
        "    smtpuser = os.environ.get('SMTP_USERNAME')\n",
        "    password = os.environ.get('SMTP_PASSWORD')\n",
        "    if sender==None or receiver==None or gateway==None or smtpuser==None or password==None:\n",
        "        sys.exit(\"Incomplete email setup info. Script Processing Aborted!!!\")\n",
        "    msg = EmailMessage()\n",
        "    msg.set_content(msg_text)\n",
        "    msg['Subject'] = 'Notification from Python BeautifulSoup Web Scraping Script'\n",
        "    msg['From'] = sender\n",
        "    msg['To'] = receiver\n",
        "    server = smtplib.SMTP(gateway, 587)\n",
        "    server.starttls()\n",
        "    server.login(smtpuser, password)\n",
        "    server.send_message(msg)\n",
        "    server.quit()"
      ],
      "execution_count": 0,
      "outputs": []
    },
    {
      "cell_type": "code",
      "metadata": {
        "id": "Kk6cDbhzqgsK",
        "colab_type": "code",
        "colab": {}
      },
      "source": [
        "def download_file(doc_path):\n",
        "#    local_file = os.path.basename(doc_path)\n",
        "    local_file = doc_path.split('/')[-1]\n",
        "    gdrivePrefix = '/content/gdrive/My Drive/Colab_Downloads/'\n",
        "    dest_file = gdrivePrefix + local_file\n",
        "    with requests.get(doc_path, stream=True) as r:\n",
        "        with open(dest_file, 'wb') as f:\n",
        "            shutil.copyfileobj(r.raw, f)\n",
        "    print('Downladed file: ' + dest_file)"
      ],
      "execution_count": 0,
      "outputs": []
    },
    {
      "cell_type": "markdown",
      "metadata": {
        "id": "zF4hTJ_jYoOn",
        "colab_type": "text"
      },
      "source": [
        "## Setting up the necessary parameters"
      ]
    },
    {
      "cell_type": "code",
      "metadata": {
        "id": "Xy-XtBEiZwdV",
        "colab_type": "code",
        "colab": {}
      },
      "source": [
        "# Set up the verbose flag to print detailed messages for debugging (setting True will activate!)\n",
        "verbose = False\n",
        "\n",
        "# Set up the sendNotification flag to send progress emails (setting True will send emails!)\n",
        "sendNotification = False\n",
        "\n",
        "# Set up the mountStorage flag to mount G Drive for storing files (setting True will mount the drive!)\n",
        "mountStorage = True\n",
        "\n",
        "# Set up the pauseDownload flag to wait before downloading files\n",
        "pauseDownload = True\n",
        "\n",
        "# Set up the executeDownload flag to download files (setting True will download!)\n",
        "executeDownload = True"
      ],
      "execution_count": 0,
      "outputs": []
    },
    {
      "cell_type": "code",
      "metadata": {
        "id": "K2LZP6EpiqRL",
        "colab_type": "code",
        "outputId": "0dbcf8c5-109b-4656-cf5e-fd471aaa7d56",
        "colab": {
          "base_uri": "https://localhost:8080/",
          "height": 129
        }
      },
      "source": [
        "# Mount Google Drive locally for storing files\n",
        "\n",
        "if (mountStorage):\n",
        "  from google.colab import drive\n",
        "  drive.mount('/content/gdrive')"
      ],
      "execution_count": 6,
      "outputs": [
        {
          "output_type": "stream",
          "text": [
            "Go to this URL in a browser: https://accounts.google.com/o/oauth2/auth?client_id=947318989803-6bn6qk8qdgf4n4g3pfee6491hc0brc4i.apps.googleusercontent.com&redirect_uri=urn%3aietf%3awg%3aoauth%3a2.0%3aoob&response_type=code&scope=email%20https%3a%2f%2fwww.googleapis.com%2fauth%2fdocs.test%20https%3a%2f%2fwww.googleapis.com%2fauth%2fdrive%20https%3a%2f%2fwww.googleapis.com%2fauth%2fdrive.photos.readonly%20https%3a%2f%2fwww.googleapis.com%2fauth%2fpeopleapi.readonly\n",
            "\n",
            "Enter your authorization code:\n",
            "··········\n",
            "Mounted at /content/gdrive\n"
          ],
          "name": "stdout"
        }
      ]
    },
    {
      "cell_type": "code",
      "metadata": {
        "id": "Ak_tp8PIabC8",
        "colab_type": "code",
        "colab": {}
      },
      "source": [
        "if (sendNotification): email_notify(\"The web scraping process has begun! \"+datetime.now().strftime('%a %B %d, %Y %I:%M:%S %p'))"
      ],
      "execution_count": 0,
      "outputs": []
    },
    {
      "cell_type": "code",
      "metadata": {
        "id": "ntjQrml7YoOo",
        "colab_type": "code",
        "colab": {}
      },
      "source": [
        "# Specifying the URL of desired web page to be scrapped\n",
        "startingURL = \"https://conferences.oreilly.com/software-architecture/sa-ny/public/schedule/proceedings\"\n",
        "websiteURL = \"\"\n",
        "\n",
        "# Creating an html document from the URL\n",
        "uastring = \"Mozilla/5.0 (Windows NT 10.0; Win64; x64; rv:73.0) Gecko/20100101 Firefox/73.0\"\n",
        "headers={'User-Agent': uastring}"
      ],
      "execution_count": 0,
      "outputs": []
    },
    {
      "cell_type": "markdown",
      "metadata": {
        "id": "LWf3Y7c3YoOs",
        "colab_type": "text"
      },
      "source": [
        "## Performing the Scraping and Processing"
      ]
    },
    {
      "cell_type": "code",
      "metadata": {
        "id": "l0TO1zBrYoOt",
        "colab_type": "code",
        "colab": {}
      },
      "source": [
        "if (sendNotification): email_notify(\"The web page loading and item extraction process has begun! \"+datetime.now().strftime('%a %B %d, %Y %I:%M:%S %p'))"
      ],
      "execution_count": 0,
      "outputs": []
    },
    {
      "cell_type": "code",
      "metadata": {
        "id": "xX6dpqjie69M",
        "colab_type": "code",
        "outputId": "3e2c3489-f737-448a-e8a5-c251253cba76",
        "colab": {
          "base_uri": "https://localhost:8080/",
          "height": 35
        }
      },
      "source": [
        "try:\n",
        "    s = requests.Session()\n",
        "    resp = s.get(startingURL, headers=headers)\n",
        "    if (verbose): print(resp.text)\n",
        "except HTTPError as e:\n",
        "    print('The server could not serve up the web page!')\n",
        "    sys.exit(\"Script processing cannot continue!!!\")\n",
        "except ConnectionError as e:\n",
        "    print('The server could not be reached due to connection issues!')\n",
        "    sys.exit(\"Script processing cannot continue!!!\")\n",
        "\n",
        "if (resp.status_code==requests.codes.ok):\n",
        "    print('Successfully accessed the web page: ' + startingURL)\n",
        "    webPage = BeautifulSoup(resp.text, 'lxml')"
      ],
      "execution_count": 10,
      "outputs": [
        {
          "output_type": "stream",
          "text": [
            "Successfully accessed the web page: https://conferences.oreilly.com/software-architecture/sa-ny/public/schedule/proceedings\n"
          ],
          "name": "stdout"
        }
      ]
    },
    {
      "cell_type": "code",
      "metadata": {
        "id": "yk9gY0vwYoOv",
        "colab_type": "code",
        "outputId": "9c3cc184-390f-46a7-f793-c7e6f3848e21",
        "colab": {
          "base_uri": "https://localhost:8080/",
          "height": 937
        }
      },
      "source": [
        "# Gather all links to the document\n",
        "collection = webPage.find_all(\"a\")\n",
        "i = 0\n",
        "\n",
        "for item in collection:\n",
        "    if (verbose): print(item)\n",
        "    docPath = item['href']\n",
        "    if docPath.lower().endswith(\".pdf\") | docPath.lower().endswith(\".pptx\") | docPath.lower().endswith(\".zip\"):\n",
        "        i = i + 1\n",
        "        docPath = websiteURL + docPath\n",
        "        # Adding random wait time so we do not hammer the website needlessly\n",
        "        waitTime = randint(2,5)\n",
        "        print(\"Waiting \" + str(waitTime) + \" seconds to retrieve \" + docPath)\n",
        "        if (pauseDownload): sleep(waitTime)\n",
        "        if (executeDownload): download_file(docPath)\n",
        "\n",
        "print('Finished finding all available documents on the web page!')"
      ],
      "execution_count": 11,
      "outputs": [
        {
          "output_type": "stream",
          "text": [
            "Waiting 4 seconds to retrieve https://cdn.oreillystatic.com/en/assets/1/event/307/A%20modern%20dilemma_%20When%20to%20use%20a%20rules%20engine%20versus%20machine%20learning%20Presentation%201.pptx\n",
            "Downladed file: /content/gdrive/My Drive/Colab_Downloads/A%20modern%20dilemma_%20When%20to%20use%20a%20rules%20engine%20versus%20machine%20learning%20Presentation%201.pptx\n",
            "Waiting 3 seconds to retrieve https://cdn.oreillystatic.com/en/assets/1/event/307/Architecture_Next_%20Invalidating%20old%20axioms%20Presentation.pdf\n",
            "Downladed file: /content/gdrive/My Drive/Colab_Downloads/Architecture_Next_%20Invalidating%20old%20axioms%20Presentation.pdf\n",
            "Waiting 5 seconds to retrieve https://cdn.oreillystatic.com/en/assets/1/event/307/Automating%20the%20New%20York%20Times%20crossword%20Presentation.pdf\n",
            "Downladed file: /content/gdrive/My Drive/Colab_Downloads/Automating%20the%20New%20York%20Times%20crossword%20Presentation.pdf\n",
            "Waiting 5 seconds to retrieve https://cdn.oreillystatic.com/en/assets/1/event/307/Beyond%20the%20technical_%20Small%20steps%20to%20playing%20bigger%20_aligning%20teams%20focus%20with%20stakeholders%20targets_%20Presentation.pptx\n",
            "Downladed file: /content/gdrive/My Drive/Colab_Downloads/Beyond%20the%20technical_%20Small%20steps%20to%20playing%20bigger%20_aligning%20teams%20focus%20with%20stakeholders%20targets_%20Presentation.pptx\n",
            "Waiting 2 seconds to retrieve https://cdn.oreillystatic.com/en/assets/1/event/307/Building%20a%20real-time%20metrics%20database%20for%20trillions%20of%20points%20per%20day%20Presentation.pdf\n",
            "Downladed file: /content/gdrive/My Drive/Colab_Downloads/Building%20a%20real-time%20metrics%20database%20for%20trillions%20of%20points%20per%20day%20Presentation.pdf\n",
            "Waiting 5 seconds to retrieve https://cdn.oreillystatic.com/en/assets/1/event/307/Building%20a%20security%20layer%20around%20your%20RESTful%20APIs%20Presentation.pdf\n",
            "Downladed file: /content/gdrive/My Drive/Colab_Downloads/Building%20a%20security%20layer%20around%20your%20RESTful%20APIs%20Presentation.pdf\n",
            "Waiting 2 seconds to retrieve https://cdn.oreillystatic.com/en/assets/1/event/307/Building%20for%20rapid%20scale_%20A%20deep%20dive%20into%20the%20New%20York%20Times_%20messaging%20platform%20Presentation.pdf\n",
            "Downladed file: /content/gdrive/My Drive/Colab_Downloads/Building%20for%20rapid%20scale_%20A%20deep%20dive%20into%20the%20New%20York%20Times_%20messaging%20platform%20Presentation.pdf\n",
            "Waiting 3 seconds to retrieve https://raw.githubusercontent.com/symphoniacloud/resilient-serverless-systems/master/Building%20Resilient%20Serverless%20Systems.pdf\n",
            "Downladed file: /content/gdrive/My Drive/Colab_Downloads/Building%20Resilient%20Serverless%20Systems.pdf\n",
            "Waiting 4 seconds to retrieve https://cdn.oreillystatic.com/en/assets/1/event/307/Challenges%20to%20internationalize%20the%20largest%20digital%20bank%20in%20the%20world%20Presentation.pdf\n",
            "Downladed file: /content/gdrive/My Drive/Colab_Downloads/Challenges%20to%20internationalize%20the%20largest%20digital%20bank%20in%20the%20world%20Presentation.pdf\n",
            "Waiting 4 seconds to retrieve https://cdn.oreillystatic.com/en/assets/1/event/307/Data%20lakes%20and%20distributed%20systems_%20The%20truths%20and%20myths%20Presentation.pptx\n",
            "Downladed file: /content/gdrive/My Drive/Colab_Downloads/Data%20lakes%20and%20distributed%20systems_%20The%20truths%20and%20myths%20Presentation.pptx\n",
            "Waiting 3 seconds to retrieve https://cdn.oreillystatic.com/en/assets/1/event/307/From%20the%20trenches_%20Rachel%20Laycock%20Presentation.pptx\n",
            "Downladed file: /content/gdrive/My Drive/Colab_Downloads/From%20the%20trenches_%20Rachel%20Laycock%20Presentation.pptx\n",
            "Waiting 3 seconds to retrieve https://cdn.oreillystatic.com/en/assets/1/event/307/I%20don_t%20understand%20micro-frontends%20Presentation.pdf\n",
            "Downladed file: /content/gdrive/My Drive/Colab_Downloads/I%20don_t%20understand%20micro-frontends%20Presentation.pdf\n",
            "Waiting 2 seconds to retrieve https://cdn.oreillystatic.com/en/assets/1/event/307/Intellectual%20control%20Presentation.pptx\n",
            "Downladed file: /content/gdrive/My Drive/Colab_Downloads/Intellectual%20control%20Presentation.pptx\n",
            "Waiting 4 seconds to retrieve https://cdn.oreillystatic.com/en/assets/1/event/307/Keeping%20kids%20happy_%20How%20Roblox%20uses%20containers%20to%20deliver%20smiles%20to%20over%2090%20million%20gamers%20Presentation%201.pdf\n",
            "Downladed file: /content/gdrive/My Drive/Colab_Downloads/Keeping%20kids%20happy_%20How%20Roblox%20uses%20containers%20to%20deliver%20smiles%20to%20over%2090%20million%20gamers%20Presentation%201.pdf\n",
            "Waiting 5 seconds to retrieve https://cdn.oreillystatic.com/en/assets/1/event/307/Leveraging%20the%20power%20of%20the%20unbundled%20database%20Presentation.pdf\n",
            "Downladed file: /content/gdrive/My Drive/Colab_Downloads/Leveraging%20the%20power%20of%20the%20unbundled%20database%20Presentation.pdf\n",
            "Waiting 3 seconds to retrieve https://cdn.oreillystatic.com/en/assets/1/event/307/Microservices%20migration%20patterns%20Presentation%201.pdf\n",
            "Downladed file: /content/gdrive/My Drive/Colab_Downloads/Microservices%20migration%20patterns%20Presentation%201.pdf\n",
            "Waiting 4 seconds to retrieve https://cdn.oreillystatic.com/en/assets/1/event/307/Migrating%20AI-infused%20chat%20to%20Kubernetes%20Presentation.pdf\n",
            "Downladed file: /content/gdrive/My Drive/Colab_Downloads/Migrating%20AI-infused%20chat%20to%20Kubernetes%20Presentation.pdf\n",
            "Waiting 3 seconds to retrieve https://cdn.oreillystatic.com/en/assets/1/event/307/On%20microservices%2C%20bounded%20contexts%2C%20and%20everything%20in%20between%20Presentation%201.pdf\n",
            "Downladed file: /content/gdrive/My Drive/Colab_Downloads/On%20microservices%2C%20bounded%20contexts%2C%20and%20everything%20in%20between%20Presentation%201.pdf\n",
            "Waiting 4 seconds to retrieve https://cdn.oreillystatic.com/en/assets/1/event/307/Serverless%20architecture%20patterns_%20The%20awkward%20early%20years%20Presentation.pdf\n",
            "Downladed file: /content/gdrive/My Drive/Colab_Downloads/Serverless%20architecture%20patterns_%20The%20awkward%20early%20years%20Presentation.pdf\n",
            "Waiting 3 seconds to retrieve https://cdn.oreillystatic.com/en/assets/1/event/307/Service%20mesh%20from%20the%20ground%20up_%20How%20Istio%20can%20transform%20your%20organization%20Presentation.pdf\n",
            "Downladed file: /content/gdrive/My Drive/Colab_Downloads/Service%20mesh%20from%20the%20ground%20up_%20How%20Istio%20can%20transform%20your%20organization%20Presentation.pdf\n",
            "Waiting 3 seconds to retrieve https://cdn.oreillystatic.com/en/assets/1/event/307/Software%20development%20in%20the%20mission-critical%20cloud%20era%20_sponsored%20by%20IBM_%20Presentation.pdf\n",
            "Downladed file: /content/gdrive/My Drive/Colab_Downloads/Software%20development%20in%20the%20mission-critical%20cloud%20era%20_sponsored%20by%20IBM_%20Presentation.pdf\n",
            "Waiting 5 seconds to retrieve https://cdn.oreillystatic.com/en/assets/1/event/307/Sometimes%20I%20draw%20Presentation.pdf\n",
            "Downladed file: /content/gdrive/My Drive/Colab_Downloads/Sometimes%20I%20draw%20Presentation.pdf\n",
            "Waiting 5 seconds to retrieve https://cdn.oreillystatic.com/en/assets/1/event/307/Where%20do%20great%20architectures%20come%20from_%20Presentation.pdf\n",
            "Downladed file: /content/gdrive/My Drive/Colab_Downloads/Where%20do%20great%20architectures%20come%20from_%20Presentation.pdf\n",
            "Waiting 5 seconds to retrieve https://cdn.oreillystatic.com/en/assets/1/event/307/Your%20system%20is%20deeper%20than%20you%20think%20_sponsored%20by%20LightStep_%20Presentation.pdf\n",
            "Downladed file: /content/gdrive/My Drive/Colab_Downloads/Your%20system%20is%20deeper%20than%20you%20think%20_sponsored%20by%20LightStep_%20Presentation.pdf\n",
            "Finished finding all available documents on the web page!\n"
          ],
          "name": "stdout"
        }
      ]
    },
    {
      "cell_type": "code",
      "metadata": {
        "id": "9_t7A3eOYoOy",
        "colab_type": "code",
        "outputId": "42bf3598-6820-4806-bbc2-1b07c7c1aa59",
        "colab": {
          "base_uri": "https://localhost:8080/",
          "height": 35
        }
      },
      "source": [
        "print('Number of documents processed:', i)"
      ],
      "execution_count": 12,
      "outputs": [
        {
          "output_type": "stream",
          "text": [
            "Number of documents processed: 24\n"
          ],
          "name": "stdout"
        }
      ]
    },
    {
      "cell_type": "code",
      "metadata": {
        "id": "aptSJkHZbc_h",
        "colab_type": "code",
        "colab": {}
      },
      "source": [
        "if (sendNotification): email_notify(\"The web scraping process has completed! \"+datetime.now().strftime('%a %B %d, %Y %I:%M:%S %p'))"
      ],
      "execution_count": 0,
      "outputs": []
    },
    {
      "cell_type": "code",
      "metadata": {
        "id": "nN6rWf7qYoO1",
        "colab_type": "code",
        "outputId": "e5123974-f572-45b8-fc98-5283f37b5518",
        "colab": {
          "base_uri": "https://localhost:8080/",
          "height": 35
        }
      },
      "source": [
        "print ('Total time for the script:',(datetime.now() - startTimeScript))"
      ],
      "execution_count": 14,
      "outputs": [
        {
          "output_type": "stream",
          "text": [
            "Total time for the script: 0:03:18.830216\n"
          ],
          "name": "stdout"
        }
      ]
    }
  ]
}