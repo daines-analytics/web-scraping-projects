{
  "nbformat": 4,
  "nbformat_minor": 0,
  "metadata": {
    "kernelspec": {
      "display_name": "Python 3",
      "language": "python",
      "name": "python3"
    },
    "language_info": {
      "codemirror_mode": {
        "name": "ipython",
        "version": 3
      },
      "file_extension": ".py",
      "mimetype": "text/x-python",
      "name": "python",
      "nbconvert_exporter": "python",
      "pygments_lexer": "ipython3",
      "version": "3.7.6"
    },
    "colab": {
      "name": "py_webscraping_mybidmatch_bsoup_test.ipynb",
      "provenance": [],
      "collapsed_sections": []
    }
  },
  "cells": [
    {
      "cell_type": "markdown",
      "metadata": {
        "id": "rcTgQJDB0AZy"
      },
      "source": [
        "# Web Scraping of MyBidMatch Entries Using BeautifulSoup\n",
        "### David Lowe\n",
        "### December 1, 2021\n",
        "\n",
        "Main URL: http://www.mybidmatch.com/go?sub=55AB9731-0E3E-4BC0-B0E3-56EF81DA7FD4"
      ]
    },
    {
      "cell_type": "markdown",
      "metadata": {
        "id": "9JAZ2V9J0AZ0"
      },
      "source": [
        "## Task 1. Prepare Environment"
      ]
    },
    {
      "cell_type": "code",
      "metadata": {
        "pycharm": {
          "name": "#%%\n"
        },
        "id": "se0rLUDa0AZ2",
        "colab": {
          "base_uri": "https://localhost:8080/"
        },
        "outputId": "2c27349c-76e2-439f-f4d4-fb6c0c36d11d"
      },
      "source": [
        "!pip install python-dotenv PyMySQL"
      ],
      "execution_count": null,
      "outputs": [
        {
          "output_type": "stream",
          "name": "stdout",
          "text": [
            "Collecting python-dotenv\n",
            "  Downloading python_dotenv-0.19.2-py2.py3-none-any.whl (17 kB)\n",
            "Collecting PyMySQL\n",
            "  Downloading PyMySQL-1.0.2-py3-none-any.whl (43 kB)\n",
            "\u001b[?25l\r\u001b[K     |███████▌                        | 10 kB 24.8 MB/s eta 0:00:01\r\u001b[K     |███████████████                 | 20 kB 31.7 MB/s eta 0:00:01\r\u001b[K     |██████████████████████▍         | 30 kB 35.6 MB/s eta 0:00:01\r\u001b[K     |██████████████████████████████  | 40 kB 37.8 MB/s eta 0:00:01\r\u001b[K     |████████████████████████████████| 43 kB 1.2 MB/s \n",
            "\u001b[?25hInstalling collected packages: python-dotenv, PyMySQL\n",
            "Successfully installed PyMySQL-1.0.2 python-dotenv-0.19.2\n"
          ]
        }
      ]
    },
    {
      "cell_type": "code",
      "metadata": {
        "pycharm": {
          "name": "#%%\n"
        },
        "id": "2FJ1R8qG0AaA"
      },
      "source": [
        "import pandas as pd\n",
        "import os\n",
        "import smtplib\n",
        "import sys\n",
        "import pymysql\n",
        "import requests\n",
        "from requests.exceptions import HTTPError\n",
        "from requests.exceptions import ConnectionError\n",
        "from email.message import EmailMessage\n",
        "from datetime import date, datetime, timedelta\n",
        "from random import randint\n",
        "from time import sleep\n",
        "from bs4 import BeautifulSoup\n",
        "from dotenv import load_dotenv"
      ],
      "execution_count": null,
      "outputs": []
    },
    {
      "cell_type": "code",
      "metadata": {
        "pycharm": {
          "name": "#%%\n"
        },
        "id": "ef60hBSh0AaK"
      },
      "source": [
        "startTimeScript = datetime.now()"
      ],
      "execution_count": null,
      "outputs": []
    },
    {
      "cell_type": "markdown",
      "metadata": {
        "id": "3NsVIGIC0Aad"
      },
      "source": [
        "## Task 2. Setting up the Basic Parameters and Funtions"
      ]
    },
    {
      "cell_type": "code",
      "metadata": {
        "id": "ypBU-u-o0Aae",
        "colab": {
          "base_uri": "https://localhost:8080/"
        },
        "outputId": "580f1728-f293-4542-e6f8-b3a2fe6b0690"
      },
      "source": [
        "# Set up the verbose flag to print detailed messages for debugging (setting True will activate!)\n",
        "verbose = False\n",
        "\n",
        "# Set up the writeToDB flag to write records into the database (setting True will record!)\n",
        "writeToDB = True\n",
        "\n",
        "# Set up the writeJSON flag to write records into a JSON document (setting True will record!)\n",
        "writeJSON = False\n",
        "\n",
        "# The addDelay setting controls whether to add delays to slow down the scrapping\n",
        "addDelay = True\n",
        "\n",
        "# Set up the parent directory location for loading the dotenv files\n",
        "from google.colab import drive\n",
        "drive.mount('/content/gdrive')\n",
        "gdrivePrefix = '/content/gdrive/My Drive/Colab_Downloads/'\n",
        "env_path = '/content/gdrive/My Drive/Colab Notebooks/'\n",
        "dotenv_path = env_path + \"python_script.env\"\n",
        "load_dotenv(dotenv_path=dotenv_path)"
      ],
      "execution_count": null,
      "outputs": [
        {
          "output_type": "stream",
          "name": "stdout",
          "text": [
            "Mounted at /content/gdrive\n"
          ]
        },
        {
          "output_type": "execute_result",
          "data": {
            "text/plain": [
              "True"
            ]
          },
          "metadata": {},
          "execution_count": 4
        }
      ]
    },
    {
      "cell_type": "code",
      "metadata": {
        "id": "atdvGNSad30I"
      },
      "source": [
        "# Set up target date to collect the article from that date only\n",
        "targetDate = datetime.now().date()\n",
        "# targetDate = date(2021, 11, 27)\n",
        "if targetDate is None:\n",
        "    processAll = True\n",
        "else: processAll = False"
      ],
      "execution_count": null,
      "outputs": []
    },
    {
      "cell_type": "code",
      "metadata": {
        "id": "cEApCQkd0Aao"
      },
      "source": [
        "# Specifying the URL of desired web page to be scrapped\n",
        "websiteURL = \"http://www.mybidmatch.com\"\n",
        "startingURL = websiteURL + \"/go?sub=55AB9731-0E3E-4BC0-B0E3-56EF81DA7FD4\"\n",
        "\n",
        "# Creating an html document from the URL\n",
        "uastring = \"Mozilla/5.0 (X11; Ubuntu; Linux x86_64; rv:94.0) Gecko/20100101 Firefox/94.0\"\n",
        "headers={'User-Agent': uastring}"
      ],
      "execution_count": null,
      "outputs": []
    },
    {
      "cell_type": "code",
      "metadata": {
        "id": "ImzUkTux0AaY"
      },
      "source": [
        "# Define the function for storing the scraped records\n",
        "def storeDB(posting_date, source_tag, agency_name, fsg_tag, article_title, search_keywords, notice_heading, department_url, notice_url, notice_text):\n",
        "    print(\"Inserting record:\", posting_date, '|', source_tag, '|', agency_name, '|', fsg_tag, '|', article_title, '|', search_keywords, '|', notice_heading, '|', department_url, '|', notice_url)\n",
        "    try:\n",
        "        cur.execute(\"INSERT INTO bsoup_mybidmatch_notices (posting_date, source_tag, agency_name, fsg_tag, article_title, search_keywords, notice_heading, department_url, notice_url, notice_text) VALUES (%s, %s, %s, %s, %s, %s, %s, %s, %s, %s)\", (posting_date, source_tag, agency_name, fsg_tag, article_title, search_keywords, notice_heading, department_url, notice_url, notice_text))\n",
        "        cur.connection.commit()\n",
        "        print(\"Successfully inserted the record into the database.\")\n",
        "    except:\n",
        "        print(\"Failed to insert the record into the database.\")"
      ],
      "execution_count": null,
      "outputs": []
    },
    {
      "cell_type": "code",
      "metadata": {
        "id": "bzdm0Zn20Aas",
        "colab": {
          "base_uri": "https://localhost:8080/"
        },
        "outputId": "d046ddd6-2550-48ea-d88a-9703c75878b3"
      },
      "source": [
        "if writeToDB:\n",
        "    # Set up the database connection strings and environment\n",
        "    db_host = os.environ.get('DB_HOST')\n",
        "    db_user = os.environ.get('DB_USER')\n",
        "    db_pass = os.environ.get('DB_PASS')\n",
        "    db_name = os.environ.get('DB_NAME1')\n",
        "    print(\"Trying to open a connection to host\", db_host, \"as user\", db_user, \"for database\", db_name)\n",
        "\n",
        "    # Connect to the database\n",
        "    try:\n",
        "        conn = pymysql.connect(host=db_host, user=db_user, password=db_pass, db=db_name, charset='utf8')\n",
        "        cur = conn.cursor()\n",
        "        cur.execute(\"USE %s\" % (db_name))\n",
        "        print(\"Successfully opened a connection to host\", db_host, \"as user\", db_user, \"for database\", db_name)\n",
        "    except:\n",
        "        print(\"Unable to open a connection to host\", db_host, \"as user\", db_user, \"for database\", db_name)\n",
        "        writeToDB = False"
      ],
      "execution_count": null,
      "outputs": [
        {
          "output_type": "stream",
          "name": "stdout",
          "text": [
            "Trying to open a connection to host ec2-44-232-76-68.us-west-2.compute.amazonaws.com as user scrapinguser for database webscraping\n",
            "Successfully opened a connection to host ec2-44-232-76-68.us-west-2.compute.amazonaws.com as user scrapinguser for database webscraping\n"
          ]
        }
      ]
    },
    {
      "cell_type": "markdown",
      "metadata": {
        "id": "B247BZyf0Aa1"
      },
      "source": [
        "## Task 3. Performing the Scraping and Processing"
      ]
    },
    {
      "cell_type": "code",
      "metadata": {
        "id": "nEosGDVT0Aa8",
        "colab": {
          "base_uri": "https://localhost:8080/"
        },
        "outputId": "85f5e975-a603-4af8-bb48-cbee94a15c53"
      },
      "source": [
        "try:\n",
        "    s = requests.Session()\n",
        "    resp = s.get(startingURL, headers=headers)\n",
        "    if (verbose): print(resp.text)\n",
        "except HTTPError as e:\n",
        "    print('The server could not serve up the web page!')\n",
        "    sys.exit(\"Script processing cannot continue!!!\")\n",
        "except ConnectionError as e:\n",
        "    print('The server could not be reached due to connection issues!')\n",
        "    sys.exit(\"Script processing cannot continue!!!\")\n",
        "\n",
        "if (resp.status_code==requests.codes.ok):\n",
        "    print('Successfully accessed the company web page: ' + startingURL)\n",
        "    searchPage = BeautifulSoup(resp.text, 'lxml')\n",
        "    if verbose: print(searchPage)"
      ],
      "execution_count": null,
      "outputs": [
        {
          "output_type": "stream",
          "name": "stdout",
          "text": [
            "Successfully accessed the company web page: http://www.mybidmatch.com/go?sub=55AB9731-0E3E-4BC0-B0E3-56EF81DA7FD4\n"
          ]
        }
      ]
    },
    {
      "cell_type": "code",
      "metadata": {
        "id": "_cYdY_S60Aa_"
      },
      "source": [
        "# Setting up a dataframe to capture the records\n",
        "df = pd.DataFrame(columns=['Posting_Date', 'Source_Tag', 'Agency_Name', 'FSG_Tag', 'Article_Title', 'Search_Keywords', 'Notice_Heading', 'Department_URL', 'Notice_URL', '''Notice_Text'''])\n",
        "i = 0"
      ],
      "execution_count": null,
      "outputs": []
    },
    {
      "cell_type": "code",
      "metadata": {
        "id": "a2ZVgxSw0AbC"
      },
      "source": [
        "done = False\n",
        "\n",
        "search_listing = searchPage.find(\"table\", class_=\"data\").find_all(\"tr\")\n",
        "if verbose: print(search_listing)"
      ],
      "execution_count": null,
      "outputs": []
    },
    {
      "cell_type": "code",
      "metadata": {
        "id": "EmmpyqVI0AbE",
        "colab": {
          "base_uri": "https://localhost:8080/"
        },
        "outputId": "539d9d1c-51ea-4b86-a1cd-bf89c3b1f77f"
      },
      "source": [
        "for search_item in search_listing :\n",
        "    search_element = search_item.find_all(\"td\")\n",
        "    posting_date_text = search_element[0].string\n",
        "    posting_date = datetime.strptime(posting_date_text, '%A, %b %d, %Y').date()\n",
        "    number_articles = int(search_element[1].string)\n",
        "    group_url = websiteURL + search_item.find('a').get('href')\n",
        "\n",
        "    if (number_articles > 0) and ((posting_date == targetDate) or processAll):\n",
        "        # Adding random wait time so we do not hammer the website needlessly\n",
        "        if addDelay:\n",
        "            waitTime = randint(2,5)\n",
        "            print(\"Waiting \" + str(waitTime) + \" seconds before processing the next article grouping page...\")\n",
        "            sleep(waitTime)\n",
        "        else:\n",
        "            print(\"Processing the next article grouping page...\")\n",
        "        \n",
        "        try:\n",
        "            s = requests.Session()\n",
        "            resp = s.get(group_url, headers=headers)\n",
        "            if (verbose): print(resp.text)\n",
        "        except HTTPError as e:\n",
        "            print('The server could not serve up the web page!')\n",
        "            sys.exit(\"Script processing cannot continue!!!\")\n",
        "        except ConnectionError as e:\n",
        "            print('The server could not be reached due to connection issues!')\n",
        "            sys.exit(\"Script processing cannot continue!!!\")\n",
        "        if (resp.status_code==requests.codes.ok):\n",
        "            print('Successfully accessed the article grouping web page: ' + group_url)\n",
        "            noticePage = BeautifulSoup(resp.text, 'lxml')\n",
        "                \n",
        "        notice_listing = noticePage.find(\"table\", class_=\"data\").find_all(\"tr\")\n",
        "        if verbose: print(notice_listing)\n",
        "\n",
        "        for notice_item in notice_listing :\n",
        "            notice_element = notice_item.find_all(\"td\")\n",
        "            source_tag = notice_element[1].string.strip()\n",
        "            agency_name = notice_element[2].string.strip()\n",
        "            if (notice_element[3].string is None):\n",
        "                fsg_tag = \"N/A\"\n",
        "            else:\n",
        "                fsg_tag = notice_element[3].string.strip()\n",
        "            article_title = notice_element[4].string.strip()\n",
        "            search_keywords = notice_element[5].string.strip()\n",
        "            notice_url = websiteURL + notice_item.find('a').get('href')\n",
        "\n",
        "            # Adding random wait time so we do not hammer the website needlessly\n",
        "            if addDelay:\n",
        "                waitTime = randint(1,3)\n",
        "                print(\"Waiting \" + str(waitTime) + \" seconds before processing the next notice page...\")\n",
        "                sleep(waitTime)\n",
        "            else:\n",
        "                print(\"Processing the next notice page...\")\n",
        "\n",
        "            try:\n",
        "                s = requests.Session()\n",
        "                resp = s.get(notice_url, headers=headers)\n",
        "                if (verbose): print(resp.text)\n",
        "            except HTTPError as e:\n",
        "                print('The server could not serve up the web page!')\n",
        "                sys.exit(\"Script processing cannot continue!!!\")\n",
        "            except ConnectionError as e:\n",
        "                print('The server could not be reached due to connection issues!')\n",
        "                sys.exit(\"Script processing cannot continue!!!\")\n",
        "\n",
        "            if (resp.status_code==requests.codes.ok):\n",
        "                print('Successfully accessed the notice web page: ' + notice_url)\n",
        "                detailPage = BeautifulSoup(resp.text, 'lxml')\n",
        "                notice_heading = detailPage.find(\"h4\").string\n",
        "                if (notice_heading is None): notice_heading = detailPage.find(\"h4\").contents[0]\n",
        "                notice_text = detailPage.find(\"div\", class_=\"art-box\").prettify()\n",
        "                links_in_detail = detailPage.find(\"div\", class_=\"art-box\").find_all('a')\n",
        "                if len(links_in_detail) > 0 : department_url = links_in_detail[-1].get('href')\n",
        "                else: department_url = None\n",
        "\n",
        "            if verbose: print(posting_date, source_tag, agency_name, fsg_tag, article_title, search_keywords, notice_heading, department_url, notice_url, notice_text)\n",
        "            df.loc[i] = [posting_date, source_tag, agency_name, fsg_tag, article_title, search_keywords, notice_heading, department_url, notice_url, notice_text]\n",
        "            if writeToDB: storeDB(posting_date, source_tag, agency_name, fsg_tag, article_title, search_keywords, notice_heading, department_url, notice_url, notice_text)\n",
        "            else: print(\"Found record:\", posting_date, '|', source_tag, '|', agency_name, '|', fsg_tag, '|', article_title, '|', search_keywords, '|', notice_heading, '|', department_url, '|', notice_url)\n",
        "            i = i + 1"
      ],
      "execution_count": null,
      "outputs": [
        {
          "output_type": "stream",
          "name": "stdout",
          "text": [
            "Waiting 4 seconds before processing the next article grouping page...\n",
            "Successfully accessed the article grouping web page: http://www.mybidmatch.com/go?doc=1CF3851A-8C7F-442B-BA07-9B13B5142EF1\n",
            "Waiting 3 seconds before processing the next notice page...\n",
            "Successfully accessed the notice web page: http://www.mybidmatch.com/article?doc=1CF3851A-8C7F-442B-BA07-9B13B5142EF1&seq=1\n",
            "Inserting record: 2021-11-30 | procure | DEPT OF DEFENSE | D | ProModel Simulation Consultation | computer?; develop*; naics!541519; service?; software; | DEPT OF DEFENSE, DEPT OF THE ARMY, W6QM MICC-WEST POINT, KO DIRECTORATE OF CONTRACTIN,  WEST POINT NY 10996-1514  | https://beta.sam.gov/opp/0d2d18a94b49464487ed4a092ba8fe3a/view? | http://www.mybidmatch.com/article?doc=1CF3851A-8C7F-442B-BA07-9B13B5142EF1&seq=1\n",
            "Successfully inserted the record into the database.\n",
            "Waiting 2 seconds before processing the next notice page...\n",
            "Successfully accessed the notice web page: http://www.mybidmatch.com/article?doc=1CF3851A-8C7F-442B-BA07-9B13B5142EF1&seq=2\n",
            "Inserting record: 2021-11-30 | procure | TRANSPORTATION | D | IBM WebSphere Accelerated Value Program | naics!541519; | TRANSPORTATION, DEPARTMENT OF, FEDERAL MOTOR CARRIER SAFETY ADMINISTRATION, 693JJ4 OFFICE OF ACQUISITION MGT, OFFICE OF ACQUISTION MANAGEMENT,  WASHINGTON DC 20590  | https://beta.sam.gov/opp/17b2b3d1c7bc42cab4f3bbe79fb852d0/view? | http://www.mybidmatch.com/article?doc=1CF3851A-8C7F-442B-BA07-9B13B5142EF1&seq=2\n",
            "Successfully inserted the record into the database.\n",
            "Waiting 1 seconds before processing the next notice page...\n",
            "Successfully accessed the notice web page: http://www.mybidmatch.com/article?doc=1CF3851A-8C7F-442B-BA07-9B13B5142EF1&seq=3\n",
            "Inserting record: 2021-11-30 | procure | TREASURY | D | Private Equity and Venture Capital | naics!518210; data; process*; host*; | TREASURY, DEPARTMENT OF THE, OFFICE OF THE COMPTROLLER OF THE CURRENCY, COMPTROLLER OF CURRENCY ACQS, 250 E STREET SW 4TH FLOOR,  WASHINGTON DC 20219  | https://beta.sam.gov/opp/24371960452b4e62bc0de672db08c210/view? | http://www.mybidmatch.com/article?doc=1CF3851A-8C7F-442B-BA07-9B13B5142EF1&seq=3\n",
            "Successfully inserted the record into the database.\n",
            "Waiting 1 seconds before processing the next notice page...\n",
            "Successfully accessed the notice web page: http://www.mybidmatch.com/article?doc=1CF3851A-8C7F-442B-BA07-9B13B5142EF1&seq=4\n",
            "Inserting record: 2021-11-30 | procure | DEPT OF DEFENSE | D | SQL ToolBelt new licenses and renew maintenance for existing  li... | naics!511210; software?; software; | DEPT OF DEFENSE, DEPT OF THE NAVY, NAVAL AIR WARFARE CENTER AIR DIV, BUILDING 439 SUITE F,  PATUXENT RIVER MD 20670-1545  | https://beta.sam.gov/opp/2b354300d4d744b4acfaede24e9dbe45/view? | http://www.mybidmatch.com/article?doc=1CF3851A-8C7F-442B-BA07-9B13B5142EF1&seq=4\n",
            "Successfully inserted the record into the database.\n",
            "Waiting 3 seconds before processing the next notice page...\n",
            "Successfully accessed the notice web page: http://www.mybidmatch.com/article?doc=1CF3851A-8C7F-442B-BA07-9B13B5142EF1&seq=5\n",
            "Inserting record: 2021-11-30 | procure | DEPT OF DEFENSE | D | Altair HyperWorks | naics!511210; software?; software; | DEPT OF DEFENSE, DEPT OF THE NAVY, NAVAL AIR WARFARE CENTER AIR DIV, BUILDING 439 SUITE F,  PATUXENT RIVER MD 20670-1545  | https://beta.sam.gov/opp/2e822ec5f6cd4e678761cd42eceff7b7/view? | http://www.mybidmatch.com/article?doc=1CF3851A-8C7F-442B-BA07-9B13B5142EF1&seq=5\n",
            "Successfully inserted the record into the database.\n",
            "Waiting 1 seconds before processing the next notice page...\n",
            "Successfully accessed the notice web page: http://www.mybidmatch.com/article?doc=1CF3851A-8C7F-442B-BA07-9B13B5142EF1&seq=6\n",
            "Inserting record: 2021-11-30 | procure | NATIONAL AERONAUTICS AND SPACE ADMINISTRATION | D | NetIQ Maintenance Agreement | naics!511210; | NATIONAL AERONAUTICS AND SPACE ADMINISTRATION, NATIONAL AERONAUTICS AND SPACE ADMINISTRATION, NASA SHARED SERVICES CENTER, JERRY HLASS ROAD, BLDG. 1111,  STENNIS SPACE CENTER MS 39529  | https://beta.sam.gov/opp/43bd61e41a474aedac419159687930fc/view? | http://www.mybidmatch.com/article?doc=1CF3851A-8C7F-442B-BA07-9B13B5142EF1&seq=6\n",
            "Successfully inserted the record into the database.\n",
            "Waiting 2 seconds before processing the next notice page...\n",
            "Successfully accessed the notice web page: http://www.mybidmatch.com/article?doc=1CF3851A-8C7F-442B-BA07-9B13B5142EF1&seq=7\n",
            "Inserting record: 2021-11-30 | procure | NATIONAL AERONAUTICS AND SPACE ADMINISTRATION | D | Bentley SELECT Software Subscription Renewal – FY22 | naics!511210; software?; software; | NATIONAL AERONAUTICS AND SPACE ADMINISTRATION, NATIONAL AERONAUTICS AND SPACE ADMINISTRATION, NASA SHARED SERVICES CENTER, JERRY HLASS ROAD, BLDG. 1111,  STENNIS SPACE CENTER MS 39529  | https://beta.sam.gov/opp/4745f6dd7e2a4a9ba45d1eed1415814e/view? | http://www.mybidmatch.com/article?doc=1CF3851A-8C7F-442B-BA07-9B13B5142EF1&seq=7\n",
            "Successfully inserted the record into the database.\n",
            "Waiting 2 seconds before processing the next notice page...\n",
            "Successfully accessed the notice web page: http://www.mybidmatch.com/article?doc=1CF3851A-8C7F-442B-BA07-9B13B5142EF1&seq=8\n",
            "Inserting record: 2021-11-30 | procure | GENERAL SERVICES ADMINISTRATION | D | PM MC Blue Force Tracking Support Services | software; | GENERAL SERVICES ADMINISTRATION, FEDERAL ACQUISITION SERVICE, GSA FAS AAS REGION 3, 100 INDEPENDENCE MALL WEST,  PHILADELPHIA PA 19106  | https://beta.sam.gov/opp/5795fe4887764a6796268cc44e7b6f81/view? | http://www.mybidmatch.com/article?doc=1CF3851A-8C7F-442B-BA07-9B13B5142EF1&seq=8\n",
            "Successfully inserted the record into the database.\n",
            "Waiting 3 seconds before processing the next notice page...\n",
            "Successfully accessed the notice web page: http://www.mybidmatch.com/article?doc=1CF3851A-8C7F-442B-BA07-9B13B5142EF1&seq=9\n",
            "Inserting record: 2021-11-30 | procure | DEPT OF DEFENSE | D | Aurea QuickSilver Software for NAS North Island | naics!511210; software?; software; | DEPT OF DEFENSE, DEPT OF THE NAVY, NAVAL AIR SYSTEMS COMMAND, NAVAL AIR SYSTEMS CMD HEADQUARTERS,  PATUXENT RIVER MD 20670-5000  | https://beta.sam.gov/opp/6203944ef5044c91b88d8545bd0146f6/view? | http://www.mybidmatch.com/article?doc=1CF3851A-8C7F-442B-BA07-9B13B5142EF1&seq=9\n",
            "Successfully inserted the record into the database.\n",
            "Waiting 2 seconds before processing the next notice page...\n",
            "Successfully accessed the notice web page: http://www.mybidmatch.com/article?doc=1CF3851A-8C7F-442B-BA07-9B13B5142EF1&seq=10\n",
            "Inserting record: 2021-11-30 | procure | COMMERCE | D | Maintenance of Asgard Emulator/SFTP and Open/A Web Software | naics!541519; service?; software; | COMMERCE, DEPARTMENT OF, US PATENT AND TRADEMARK OFFICE, DEPT OF COMMERCE PTO, OFFICE OF PROCUREMENT,  ALEXANDRIA VA 22314  | https://beta.sam.gov/opp/6309d5bd3b184f769ccb766c35ef4945/view? | http://www.mybidmatch.com/article?doc=1CF3851A-8C7F-442B-BA07-9B13B5142EF1&seq=10\n",
            "Successfully inserted the record into the database.\n",
            "Waiting 2 seconds before processing the next notice page...\n",
            "Successfully accessed the notice web page: http://www.mybidmatch.com/article?doc=1CF3851A-8C7F-442B-BA07-9B13B5142EF1&seq=11\n",
            "Inserting record: 2021-11-30 | procure | DEPT OF DEFENSE | D | Industrial Internet of Things (IIoT) Enterprise Platform | naics!511210; | DEPT OF DEFENSE, DEPT OF THE AIR FORCE, FA8100  AFSC PZIEC, CP 405 739 4517,  TINKER AFB OK 73145-9125  | https://beta.sam.gov/opp/785f2266792943a1a51b93c138c6f83d/view? | http://www.mybidmatch.com/article?doc=1CF3851A-8C7F-442B-BA07-9B13B5142EF1&seq=11\n",
            "Successfully inserted the record into the database.\n",
            "Waiting 3 seconds before processing the next notice page...\n",
            "Successfully accessed the notice web page: http://www.mybidmatch.com/article?doc=1CF3851A-8C7F-442B-BA07-9B13B5142EF1&seq=12\n",
            "Inserting record: 2021-11-30 | procure | COMMODITY FUTURES TRADING COMMISSION | D | FedRAMP Certified Electronic Document Management Systems (EDMS) | naics!541511; software; | COMMODITY FUTURES TRADING COMMISSION, COMMODITY FUTURES TRADING COMMISSION, COMMODITY FUTURES TRADING COMM, Business Operations Branch,  Washington DC 20581  | https://beta.sam.gov/opp/8a2b9b72f6f642799064cadb2127ff03/view? | http://www.mybidmatch.com/article?doc=1CF3851A-8C7F-442B-BA07-9B13B5142EF1&seq=12\n",
            "Successfully inserted the record into the database.\n",
            "Waiting 2 seconds before processing the next notice page...\n",
            "Successfully accessed the notice web page: http://www.mybidmatch.com/article?doc=1CF3851A-8C7F-442B-BA07-9B13B5142EF1&seq=13\n",
            "Inserting record: 2021-11-30 | procure | DEPT OF DEFENSE | D | Defender | naics!541512; | DEPT OF DEFENSE, NATIONAL GEOSPATIAL-INTELLIGENCE AGENCY (NGA), ATTN: MS S84 - OCS, NGA SPRINGFIELD,  SPRINGFIELD VA 22150-7500  | https://beta.sam.gov/opp/b325d83ab7d841f0b93cf91f5aca6a20/view? | http://www.mybidmatch.com/article?doc=1CF3851A-8C7F-442B-BA07-9B13B5142EF1&seq=13\n",
            "Successfully inserted the record into the database.\n",
            "Waiting 1 seconds before processing the next notice page...\n",
            "Successfully accessed the notice web page: http://www.mybidmatch.com/article?doc=1CF3851A-8C7F-442B-BA07-9B13B5142EF1&seq=14\n",
            "Inserting record: 2021-11-30 | procure | DEPT OF DEFENSE | D | Geographic Information System (GIS) Support | naics!541511; | DEPT OF DEFENSE, DEPT OF THE ARMY, W0LX ANNISTON DEPOT PROP DIV, KO TACOM ANNISTON DOC BL 221,  ANNISTON AL 36201-4199  | https://beta.sam.gov/opp/ba82dca7c9074d7c82f16623d7d50d8b/view? | http://www.mybidmatch.com/article?doc=1CF3851A-8C7F-442B-BA07-9B13B5142EF1&seq=14\n",
            "Successfully inserted the record into the database.\n",
            "Waiting 1 seconds before processing the next notice page...\n",
            "Successfully accessed the notice web page: http://www.mybidmatch.com/article?doc=1CF3851A-8C7F-442B-BA07-9B13B5142EF1&seq=15\n",
            "Inserting record: 2021-11-30 | procure | DEPT OF DEFENSE | D | Customer Services Support | naics!541519; service?; | DEPT OF DEFENSE, DEPT OF THE ARMY, W6QK ACC-APG, 6515 INTEGRITY COURT,  ABERDEEN PROVING GROU MD 21005-5001  | https://beta.sam.gov/opp/ceab6a614e944a1a98974c6f0de16dde/view? | http://www.mybidmatch.com/article?doc=1CF3851A-8C7F-442B-BA07-9B13B5142EF1&seq=15\n",
            "Successfully inserted the record into the database.\n",
            "Waiting 3 seconds before processing the next notice page...\n",
            "Successfully accessed the notice web page: http://www.mybidmatch.com/article?doc=1CF3851A-8C7F-442B-BA07-9B13B5142EF1&seq=16\n",
            "Inserting record: 2021-11-30 | procure | ADMINISTRATIVE OFFICE OF THE US COURTS | D | Software License | software; | ADMINISTRATIVE OFFICE OF THE US COURTS, ADMINISTRATIVE OFFICE OF THE US COURTS, US PROBATION OFFICE TXW, 727 East Cesar E. Chavez Boulevard,  San Antonio TX 78206  | https://beta.sam.gov/opp/d629b828b94b45beb1972459a71a28f7/view? | http://www.mybidmatch.com/article?doc=1CF3851A-8C7F-442B-BA07-9B13B5142EF1&seq=16\n",
            "Successfully inserted the record into the database.\n",
            "Waiting 1 seconds before processing the next notice page...\n",
            "Successfully accessed the notice web page: http://www.mybidmatch.com/article?doc=1CF3851A-8C7F-442B-BA07-9B13B5142EF1&seq=17\n",
            "Inserting record: 2021-11-30 | procure | DEPT OF DEFENSE | D | A2B Tracking Solutions Inc's Hosted UC! Web Software | naics!518210; data; host*; software; | DEPT OF DEFENSE, DEPT OF THE NAVY, NAVAL AIR SYSTEMS COMMAND, NAVAL AIR SYSTEMS CMD HEADQUARTERS,  PATUXENT RIVER MD 20670-5000  | https://beta.sam.gov/opp/ea1fb540285a41b688eae416d79ddcf4/view? | http://www.mybidmatch.com/article?doc=1CF3851A-8C7F-442B-BA07-9B13B5142EF1&seq=17\n",
            "Successfully inserted the record into the database.\n",
            "Waiting 2 seconds before processing the next notice page...\n",
            "Successfully accessed the notice web page: http://www.mybidmatch.com/article?doc=1CF3851A-8C7F-442B-BA07-9B13B5142EF1&seq=18\n",
            "Inserting record: 2021-11-30 | procure | DEPT OF DEFENSE | D | Aurea QuickSilver Software for Fleet Readiness Center, Jacksonvi... | naics!511210; software?; software; | DEPT OF DEFENSE, DEPT OF THE NAVY, NAVAL AIR SYSTEMS COMMAND, NAVAL AIR SYSTEMS CMD HEADQUARTERS,  PATUXENT RIVER MD 20670-5000  | https://beta.sam.gov/opp/fd68389338884238b1452e4263ae1024/view? | http://www.mybidmatch.com/article?doc=1CF3851A-8C7F-442B-BA07-9B13B5142EF1&seq=18\n",
            "Successfully inserted the record into the database.\n",
            "Waiting 1 seconds before processing the next notice page...\n",
            "Successfully accessed the notice web page: http://www.mybidmatch.com/article?doc=1CF3851A-8C7F-442B-BA07-9B13B5142EF1&seq=19\n",
            "Inserting record: 2021-11-30 | procure | DEPT OF DEFENSE | 7A | 99 MDG CX50 Software WIN10 Upgrade | naics!541519; service?; software; | DEPT OF DEFENSE, DEPT OF THE AIR FORCE, FA4861  99 CONS LGCC, ADMINISTRATIVE ONLY NO REQUISITIONS,  NELLIS AFB NV 89191-7001  | https://beta.sam.gov/opp/26784d83977e4b9e9359a817f5119e1e/view? | http://www.mybidmatch.com/article?doc=1CF3851A-8C7F-442B-BA07-9B13B5142EF1&seq=19\n",
            "Successfully inserted the record into the database.\n",
            "Waiting 1 seconds before processing the next notice page...\n",
            "Successfully accessed the notice web page: http://www.mybidmatch.com/article?doc=1CF3851A-8C7F-442B-BA07-9B13B5142EF1&seq=20\n",
            "Inserting record: 2021-11-30 | procure | TRANSPORTATION | 7A | Support of CORENA Suite Software | naics!511210; software?; publisher?; software; | TRANSPORTATION, DEPARTMENT OF, FEDERAL AVIATION ADMINISTRATION, 692M15 ACQUISITION & GRANTS, AAQ600, ACQUISITION  GRANTS, AAQ-600,  ATLANTIC CITY NJ 08405  | https://beta.sam.gov/opp/9f46f6b7555f4a119bda820edeeee5f9/view? | http://www.mybidmatch.com/article?doc=1CF3851A-8C7F-442B-BA07-9B13B5142EF1&seq=20\n",
            "Successfully inserted the record into the database.\n",
            "Waiting 1 seconds before processing the next notice page...\n",
            "Successfully accessed the notice web page: http://www.mybidmatch.com/article?doc=1CF3851A-8C7F-442B-BA07-9B13B5142EF1&seq=21\n",
            "Inserting record: 2021-11-30 | procure | DEPT OF DEFENSE | 7C | Barracuda Web Filtering | naics!511210; | DEPT OF DEFENSE, DEPT OF THE NAVY, NAVAL UNDERSEA WARFARE CENTER, DIVISION KEYPORT NWCF,  KEYPORT WA 98345-7610  | https://beta.sam.gov/opp/5005a24f08db462d89e25aadb6b4fa86/view? | http://www.mybidmatch.com/article?doc=1CF3851A-8C7F-442B-BA07-9B13B5142EF1&seq=21\n",
            "Successfully inserted the record into the database.\n",
            "Waiting 1 seconds before processing the next notice page...\n",
            "Successfully accessed the notice web page: http://www.mybidmatch.com/article?doc=1CF3851A-8C7F-442B-BA07-9B13B5142EF1&seq=22\n",
            "Inserting record: 2021-11-30 | procure | NATIONAL AERONAUTICS AND SPACE ADMINISTRATION | 7G | PC Workstation for Antenna Electromagnetic Analysis. | naics!541519; service?; | NATIONAL AERONAUTICS AND SPACE ADMINISTRATION, NATIONAL AERONAUTICS AND SPACE ADMINISTRATION, NASA SHARED SERVICES CENTER, JERRY HLASS ROAD, BLDG. 1111,  STENNIS SPACE CENTER MS 39529  | https://beta.sam.gov/opp/2700bc0804ec4c99b4805344e6de5fd0/view? | http://www.mybidmatch.com/article?doc=1CF3851A-8C7F-442B-BA07-9B13B5142EF1&seq=22\n",
            "Successfully inserted the record into the database.\n",
            "Waiting 1 seconds before processing the next notice page...\n",
            "Successfully accessed the notice web page: http://www.mybidmatch.com/article?doc=1CF3851A-8C7F-442B-BA07-9B13B5142EF1&seq=23\n",
            "Inserting record: 2021-11-30 | procure | SENATE | 99 | RedHat Maintenance Renewal | software; | SENATE, THE, THE UNITED STATES SENATE SERGEANT AT ARMS, SENATE SERGEANT AT ARMS, THE CAPITOL,  Washington DC 20510  | https://beta.sam.gov/opp/0a22f36d89264bd98dc60a5cf4aa2e45/view? | http://www.mybidmatch.com/article?doc=1CF3851A-8C7F-442B-BA07-9B13B5142EF1&seq=23\n",
            "Successfully inserted the record into the database.\n",
            "Waiting 1 seconds before processing the next notice page...\n",
            "Successfully accessed the notice web page: http://www.mybidmatch.com/article?doc=1CF3851A-8C7F-442B-BA07-9B13B5142EF1&seq=24\n",
            "Inserting record: 2021-11-30 | procure | DEPT OF DEFENSE | 99 | Common Fire Control System (CFCS) Multi-SPORT (Soldier’s Portabl... | software; | DEPT OF DEFENSE, DEPT OF THE ARMY, W6QK ACC-RSA, AMCOM CONTRACTING CENTER MISSLE,  REDSTONE ARSENAL AL 35898-5090  | https://beta.sam.gov/opp/4e85a560c2c14c59981a001009a5831f/view? | http://www.mybidmatch.com/article?doc=1CF3851A-8C7F-442B-BA07-9B13B5142EF1&seq=24\n",
            "Successfully inserted the record into the database.\n",
            "Waiting 1 seconds before processing the next notice page...\n",
            "Successfully accessed the notice web page: http://www.mybidmatch.com/article?doc=1CF3851A-8C7F-442B-BA07-9B13B5142EF1&seq=25\n",
            "Inserting record: 2021-11-30 | procure | DEPT OF DEFENSE | 99 | IBM Analyst Software Notebook | naics!511210; software?; software; | DEPT OF DEFENSE, DEPT OF THE AIR FORCE, FA2517  21 CONS, BLDG 350            CP 719-556-7597,  PETERSON AFB CO 80914-1192  | https://beta.sam.gov/opp/5e4eaabf251c49a0bd76b6529cc92925/view? | http://www.mybidmatch.com/article?doc=1CF3851A-8C7F-442B-BA07-9B13B5142EF1&seq=25\n",
            "Successfully inserted the record into the database.\n",
            "Waiting 2 seconds before processing the next notice page...\n",
            "Successfully accessed the notice web page: http://www.mybidmatch.com/article?doc=1CF3851A-8C7F-442B-BA07-9B13B5142EF1&seq=26\n",
            "Inserting record: 2021-11-30 | procure | DEPT OF DEFENSE | 99 | AF Enterprise Emergency Mass Notification System | software; | DEPT OF DEFENSE, DEPT OF THE AIR FORCE, FA8726  AFLCMC HNK C3IN, CP 781 225 4641,  HANSCOM AFB MA 01731-2100  | https://beta.sam.gov/opp/945af11e92bb4cc3b6721a6b3542b252/view? | http://www.mybidmatch.com/article?doc=1CF3851A-8C7F-442B-BA07-9B13B5142EF1&seq=26\n",
            "Successfully inserted the record into the database.\n",
            "Waiting 2 seconds before processing the next notice page...\n",
            "Successfully accessed the notice web page: http://www.mybidmatch.com/article?doc=1CF3851A-8C7F-442B-BA07-9B13B5142EF1&seq=27\n",
            "Inserting record: 2021-11-30 | procure | DEPT OF DEFENSE | 99 | Global Procedure Designer Software and Desktop Workstations | naics!541519; computer?; service?; software; | DEPT OF DEFENSE, DEPT OF THE AIR FORCE, FA8630  AFLCMC WFK, CP 937 656 5831,  WRIGHT PATTERSON AFB OH 45433-5337  | https://beta.sam.gov/opp/f8600fafd40a4ba58299b08c70523296/view? | http://www.mybidmatch.com/article?doc=1CF3851A-8C7F-442B-BA07-9B13B5142EF1&seq=27\n",
            "Successfully inserted the record into the database.\n",
            "Waiting 3 seconds before processing the next notice page...\n",
            "Successfully accessed the notice web page: http://www.mybidmatch.com/article?doc=1CF3851A-8C7F-442B-BA07-9B13B5142EF1&seq=28\n",
            "Inserting record: 2021-11-30 | awards | VETERANS AFFAIRS | D | Micro Focus Static Code Analysis Maintenance and Support | naics!541519; | VETERANS AFFAIRS, DEPARTMENT OF, VETERANS AFFAIRS, DEPARTMENT OF, TECHNOLOGY ACQUISITION CENTER NJ (36C10B), 23 CHRISTOPHER WAY,  EATONTOWN NJ 07724  | https://beta.sam.gov/opp/db3153fd83ba4ccb881e5146c145a6dc/view? | http://www.mybidmatch.com/article?doc=1CF3851A-8C7F-442B-BA07-9B13B5142EF1&seq=28\n",
            "Successfully inserted the record into the database.\n",
            "Waiting 3 seconds before processing the next notice page...\n",
            "Successfully accessed the notice web page: http://www.mybidmatch.com/article?doc=1CF3851A-8C7F-442B-BA07-9B13B5142EF1&seq=29\n",
            "Inserting record: 2021-11-30 | awards | GENERAL SERVICES ADMINISTRATION | 99 | Multiple Award Schedule | naics!541511; | GENERAL SERVICES ADMINISTRATION, FEDERAL ACQUISITION SERVICE, GSA/FAS FURNITURE SYSTEMS MGT DIV, 100 INDEPENDENCE MALL WEST,  PHILADELPHIA PA 19107  | https://beta.sam.gov/opp/4d7e91a6303044fda47305537ce151e5/view? | http://www.mybidmatch.com/article?doc=1CF3851A-8C7F-442B-BA07-9B13B5142EF1&seq=29\n",
            "Successfully inserted the record into the database.\n",
            "Waiting 1 seconds before processing the next notice page...\n",
            "Successfully accessed the notice web page: http://www.mybidmatch.com/article?doc=1CF3851A-8C7F-442B-BA07-9B13B5142EF1&seq=30\n",
            "Inserting record: 2021-11-30 | awards | GENERAL SERVICES ADMINISTRATION | 99 | Multiple Award Schedule | analytic*; naics!541511; | GENERAL SERVICES ADMINISTRATION, FEDERAL ACQUISITION SERVICE, GSA/FAS FURNITURE SYSTEMS MGT DIV, 100 INDEPENDENCE MALL WEST,  PHILADELPHIA PA 19107  | https://beta.sam.gov/opp/d0e05916a09d411fbbb51fca0657c7df/view? | http://www.mybidmatch.com/article?doc=1CF3851A-8C7F-442B-BA07-9B13B5142EF1&seq=30\n",
            "Successfully inserted the record into the database.\n",
            "Waiting 2 seconds before processing the next notice page...\n",
            "Successfully accessed the notice web page: http://www.mybidmatch.com/article?doc=1CF3851A-8C7F-442B-BA07-9B13B5142EF1&seq=31\n",
            "Inserting record: 2021-11-30 | special | SMALL BUSINESS ADMINISTRATION | D | SBA COVID EIDL SaaS Real Estate Closing Platform | naics!518210; | SMALL BUSINESS ADMINISTRATION, SMALL BUSINESS ADMINISTRATION, OFC OF PERF MGMT AND CFO, SMALL BUSINESS ADMINISTRATION,  WASHINGTON DC 20416  | https://beta.sam.gov/opp/1de5801809434da9a26bea55b159684d/view? | http://www.mybidmatch.com/article?doc=1CF3851A-8C7F-442B-BA07-9B13B5142EF1&seq=31\n",
            "Successfully inserted the record into the database.\n",
            "Waiting 2 seconds before processing the next notice page...\n",
            "Successfully accessed the notice web page: http://www.mybidmatch.com/article?doc=1CF3851A-8C7F-442B-BA07-9B13B5142EF1&seq=32\n",
            "Inserting record: 2021-11-30 | special | COMMERCE | 7A | Justification for Sole Source award to Tevron, LLC | naics!511210; software?; software; | COMMERCE, DEPARTMENT OF, US PATENT AND TRADEMARK OFFICE, DEPT OF COMMERCE PTO, OFFICE OF PROCUREMENT,  ALEXANDRIA VA 22314  | https://beta.sam.gov/opp/f4de06cbb8924300bae01d3f2a89464a/view? | http://www.mybidmatch.com/article?doc=1CF3851A-8C7F-442B-BA07-9B13B5142EF1&seq=32\n",
            "Successfully inserted the record into the database.\n",
            "Waiting 3 seconds before processing the next notice page...\n",
            "Successfully accessed the notice web page: http://www.mybidmatch.com/article?doc=1CF3851A-8C7F-442B-BA07-9B13B5142EF1&seq=33\n",
            "Inserting record: 2021-11-30 | bt | Pentagon News Briefs | 99 | BLUETOP AWARD ANNOUNCEMENT | software; | Pentagon News Briefs, The Department of Defense  | None | http://www.mybidmatch.com/article?doc=1CF3851A-8C7F-442B-BA07-9B13B5142EF1&seq=33\n",
            "Successfully inserted the record into the database.\n",
            "Waiting 2 seconds before processing the next notice page...\n",
            "Successfully accessed the notice web page: http://www.mybidmatch.com/article?doc=1CF3851A-8C7F-442B-BA07-9B13B5142EF1&seq=34\n",
            "Inserting record: 2021-11-30 | bid | South Carolina - Procurement Services | 70 | SCDMH Vehicle Management Software | software; | South Carolina - Procurement Services  | http://webprod.cio.sc.gov/SCSolicitationWeb/solicitationSearch.do | http://www.mybidmatch.com/article?doc=1CF3851A-8C7F-442B-BA07-9B13B5142EF1&seq=34\n",
            "Successfully inserted the record into the database.\n",
            "Waiting 3 seconds before processing the next notice page...\n",
            "Successfully accessed the notice web page: http://www.mybidmatch.com/article?doc=1CF3851A-8C7F-442B-BA07-9B13B5142EF1&seq=35\n",
            "Inserting record: 2021-11-30 | bid | Georgia - City of Atlanta | D | ENTERPRISE INFORMATION TECHNOLOGY HARDWARE AND SOFTWARE | software; | Georgia - City of Atlanta  | https://www.atlantaga.gov/government/departments/procurement/home2/supplier-registration | http://www.mybidmatch.com/article?doc=1CF3851A-8C7F-442B-BA07-9B13B5142EF1&seq=35\n",
            "Successfully inserted the record into the database.\n",
            "Waiting 1 seconds before processing the next notice page...\n",
            "Successfully accessed the notice web page: http://www.mybidmatch.com/article?doc=1CF3851A-8C7F-442B-BA07-9B13B5142EF1&seq=36\n",
            "Inserting record: 2021-11-30 | bid | Pennsylvania - Housing Authority of the City of Pittsburgh | 70 | Rent Reasonableness Software | software; | Pennsylvania - Housing Authority of the City of Pittsburgh  | https://hacp.org/doing-business/procurement-search/?procurement-open%5B%5D=open&procurement-start-date=&procurement-end-date=&procurement_search=true&s= | http://www.mybidmatch.com/article?doc=1CF3851A-8C7F-442B-BA07-9B13B5142EF1&seq=36\n",
            "Successfully inserted the record into the database.\n",
            "Waiting 2 seconds before processing the next notice page...\n",
            "Successfully accessed the notice web page: http://www.mybidmatch.com/article?doc=1CF3851A-8C7F-442B-BA07-9B13B5142EF1&seq=37\n",
            "Inserting record: 2021-11-30 | bid | Virginia - VBO/eVA-Virginia Business Opportunities | R | Risk Management Software | software; | Virginia - VBO/eVA-Virginia Business Opportunities  | https://mvendor.cgieva.com/Vendor/public/AllOpportunities | http://www.mybidmatch.com/article?doc=1CF3851A-8C7F-442B-BA07-9B13B5142EF1&seq=37\n",
            "Successfully inserted the record into the database.\n",
            "Waiting 2 seconds before processing the next notice page...\n",
            "Successfully accessed the notice web page: http://www.mybidmatch.com/article?doc=1CF3851A-8C7F-442B-BA07-9B13B5142EF1&seq=38\n",
            "Inserting record: 2021-11-30 | bid | Washington - SoundTransit | 70 | HR Career Mobility Software | software; | Washington - SoundTransit  | http://www.biddingo.com/soundtransit | http://www.mybidmatch.com/article?doc=1CF3851A-8C7F-442B-BA07-9B13B5142EF1&seq=38\n",
            "Successfully inserted the record into the database.\n"
          ]
        }
      ]
    },
    {
      "cell_type": "code",
      "metadata": {
        "id": "_l6c7S3q0AbI",
        "colab": {
          "base_uri": "https://localhost:8080/"
        },
        "outputId": "cc2d5d09-3e99-4216-885c-95f20c077fcb"
      },
      "source": [
        "print('Finished finding all available articles on the web pages!')\n",
        "print('Number of article processed:', i)"
      ],
      "execution_count": null,
      "outputs": [
        {
          "output_type": "stream",
          "name": "stdout",
          "text": [
            "Finished finding all available articles on the web pages!\n",
            "Number of article processed: 38\n"
          ]
        }
      ]
    },
    {
      "cell_type": "code",
      "metadata": {
        "id": "DeT5nBJf0AbM",
        "colab": {
          "base_uri": "https://localhost:8080/"
        },
        "outputId": "deb4151f-f272-4b4c-9f75-8bee5da45a5c"
      },
      "source": [
        "if writeToDB:\n",
        "    try:\n",
        "        cur.close()\n",
        "        conn.close()\n",
        "        print(\"Successfully closed the connection to host\", db_host, \"as user\", db_user, \"for database\", db_name)\n",
        "    except:\n",
        "        print(\"Unable to close the connection to host\", db_host, \"as user\", db_user, \"for database\", db_name)"
      ],
      "execution_count": null,
      "outputs": [
        {
          "output_type": "stream",
          "name": "stdout",
          "text": [
            "Successfully closed the connection to host ec2-44-232-76-68.us-west-2.compute.amazonaws.com as user scrapinguser for database webscraping\n"
          ]
        }
      ]
    },
    {
      "cell_type": "markdown",
      "metadata": {
        "id": "fLaGgsja0AbO"
      },
      "source": [
        "## Task 4. Organizing Data and Producing Outputs"
      ]
    },
    {
      "cell_type": "code",
      "metadata": {
        "id": "o0deOC8c0AbP"
      },
      "source": [
        "if writeJSON:\n",
        "    out_file = df.to_json(orient='records')\n",
        "    with open('web-scraping-py-bsoup-mybidmatch.json', 'w') as f:\n",
        "        f.write(out_file)\n",
        "    print('Total number of records written to file:', len(df))"
      ],
      "execution_count": null,
      "outputs": []
    },
    {
      "cell_type": "code",
      "metadata": {
        "id": "fRZBiv_10AbT",
        "colab": {
          "base_uri": "https://localhost:8080/"
        },
        "outputId": "8721ffb1-4847-4bc2-8ba9-6e25ef1a042d"
      },
      "source": [
        "print ('Total time for the script:', (datetime.now() - startTimeScript))"
      ],
      "execution_count": null,
      "outputs": [
        {
          "output_type": "stream",
          "name": "stdout",
          "text": [
            "Total time for the script: 0:02:00.340148\n"
          ]
        }
      ]
    }
  ]
}