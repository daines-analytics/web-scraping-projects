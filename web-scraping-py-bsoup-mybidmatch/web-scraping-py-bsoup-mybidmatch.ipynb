{
 "cells": [
  {
   "cell_type": "markdown",
   "metadata": {},
   "source": [
    "# Web Scraping of MyBidMatch Entries Using BeautifulSoup\n",
    "### David Lowe\n",
    "### May 15, 2020"
   ]
  },
  {
   "cell_type": "markdown",
   "metadata": {},
   "source": [
    "## Loading Libraries and Packages"
   ]
  },
  {
   "cell_type": "code",
   "execution_count": 1,
   "outputs": [],
   "source": [
    "# !pip install python-dotenv"
   ],
   "metadata": {
    "collapsed": false,
    "pycharm": {
     "name": "#%%\n"
    }
   }
  },
  {
   "cell_type": "code",
   "execution_count": 2,
   "outputs": [],
   "source": [
    "# Retrieve CPU information from the system\n",
    "# ncpu = !nproc\n",
    "# print(\"The number of available CPUs is:\", ncpu[0])"
   ],
   "metadata": {
    "collapsed": false,
    "pycharm": {
     "name": "#%%\n"
    }
   }
  },
  {
   "cell_type": "code",
   "execution_count": 1,
   "outputs": [],
   "source": [
    "import pandas as pd\n",
    "import os\n",
    "import smtplib\n",
    "import sys\n",
    "import pymysql\n",
    "import requests\n",
    "from requests.exceptions import HTTPError\n",
    "from requests.exceptions import ConnectionError\n",
    "from email.message import EmailMessage\n",
    "from datetime import datetime\n",
    "from datetime import date\n",
    "from random import randint\n",
    "from time import sleep\n",
    "from bs4 import BeautifulSoup"
   ],
   "metadata": {
    "collapsed": false,
    "pycharm": {
     "name": "#%%\n"
    }
   }
  },
  {
   "cell_type": "code",
   "execution_count": 2,
   "outputs": [],
   "source": [
    "# Mount Google Drive locally for accessing files\n",
    "# from google.colab import drive\n",
    "# drive.mount('/content/gdrive')\n",
    "# env_path = '/content/gdrive/My Drive/Colab Notebooks/'\n",
    "\n",
    "env_path = \"./\""
   ],
   "metadata": {
    "collapsed": false,
    "pycharm": {
     "name": "#%%\n"
    }
   }
  },
  {
   "cell_type": "code",
   "execution_count": 3,
   "outputs": [],
   "source": [
    "startTimeScript = datetime.now()"
   ],
   "metadata": {
    "collapsed": false,
    "pycharm": {
     "name": "#%%\n"
    }
   }
  },
  {
   "cell_type": "markdown",
   "metadata": {},
   "source": [
    "## Setting up the basic functions"
   ]
  },
  {
   "cell_type": "code",
   "execution_count": 4,
   "metadata": {},
   "outputs": [],
   "source": [
    "# Define the function for sending the status notification emails\n",
    "def email_notify(msg_text):\n",
    "    sender = os.environ.get('MAIL_SENDER')\n",
    "    receiver = os.environ.get('MAIL_RECEIVER')\n",
    "    gateway = os.environ.get('SMTP_GATEWAY')\n",
    "    smtpuser = os.environ.get('SMTP_USERNAME')\n",
    "    password = os.environ.get('SMTP_PASSWORD')\n",
    "    if (sender is None) or (receiver is None) or (gateway is None) or (smtpuser is None) or (password is None):\n",
    "        sys.exit(\"Incomplete email setup info. Script Processing Aborted!!!\")\n",
    "    msg = EmailMessage()\n",
    "    msg.set_content(msg_text)\n",
    "    msg['Subject'] = 'Notification from myBidMatch Python Web Scraping Script'\n",
    "    msg['From'] = sender\n",
    "    msg['To'] = receiver\n",
    "    server = smtplib.SMTP(gateway, 587)\n",
    "    server.starttls()\n",
    "    server.login(smtpuser, password)\n",
    "    server.send_message(msg)\n",
    "    server.quit()"
   ]
  },
  {
   "cell_type": "code",
   "execution_count": 5,
   "metadata": {},
   "outputs": [],
   "source": [
    "# Define the function for storing the scraped records\n",
    "def storeDB(posting_date, source_tag, agency_name, fsg_tag, article_title, search_keywords, notice_heading, department_url, notice_url, notice_text):\n",
    "    print(\"Inserting record:\", posting_date, '|', source_tag, '|', agency_name, '|', fsg_tag, '|', article_title, '|', search_keywords, '|', notice_heading, '|', department_url, '|', notice_url)\n",
    "    try:\n",
    "        cur.execute(\"INSERT INTO bsoup_mybidmatch_notices (posting_date, source_tag, agency_name, fsg_tag, article_title, search_keywords, notice_heading, department_url, notice_url, notice_text) VALUES (%s, %s, %s, %s, %s, %s, %s, %s, %s, %s)\", (posting_date, source_tag, agency_name, fsg_tag, article_title, search_keywords, notice_heading, department_url, notice_url, notice_text))\n",
    "        cur.connection.commit()\n",
    "        print(\"Successfully inserted the record into the database.\")\n",
    "    except:\n",
    "        print(\"Failed to insert the record into the database.\")"
   ]
  },
  {
   "cell_type": "markdown",
   "metadata": {},
   "source": [
    "## Setting up the necessary parameters"
   ]
  },
  {
   "cell_type": "code",
   "execution_count": 6,
   "metadata": {},
   "outputs": [],
   "source": [
    "# Set up the verbose flag to print detailed messages for debugging (setting True will activate!)\n",
    "verbose = False\n",
    "\n",
    "# Set up the sendNotification flag to send progress emails (setting True will send emails!)\n",
    "notifyStatus = False\n",
    "\n",
    "# Set up the writeToDB flag to write records into the database (setting True will record!)\n",
    "writeToDB = True\n",
    "\n",
    "# Set up the writeJSON flag to write records into a JSON document (setting True will record!)\n",
    "writeJSON = False\n",
    "\n",
    "# Set up target date to collect the article from that date only\n",
    "targetDate = date(2020, 5, 15)\n",
    "if targetDate is None:\n",
    "    processAll = True\n",
    "else: processAll = False"
   ]
  },
  {
   "cell_type": "code",
   "execution_count": 7,
   "metadata": {},
   "outputs": [],
   "source": [
    "if notifyStatus: email_notify(\"The web scraping process for myBidMatch has begun! \"+datetime.now().strftime('%a %B %d, %Y %I:%M:%S %p'))"
   ]
  },
  {
   "cell_type": "code",
   "execution_count": 8,
   "metadata": {},
   "outputs": [],
   "source": [
    "# Specifying the URL of desired web page to be scrapped\n",
    "websiteURL = \"http://www.mybidmatch.com\"\n",
    "startingURL = websiteURL + \"/go?sub=55AB9731-0E3E-4BC0-B0E3-56EF81DA7FD4\"\n",
    "\n",
    "# Creating an html document from the URL\n",
    "uastring = \"Mozilla/5.0 (Windows NT 10.0; Win64; x64; rv:76.0) Gecko/20100101 Firefox/76.0\"\n",
    "headers={'User-Agent': uastring}"
   ]
  },
  {
   "cell_type": "code",
   "execution_count": 9,
   "metadata": {},
   "outputs": [
    {
     "name": "stdout",
     "output_type": "stream",
     "text": [
      "Trying to open a connection to host ec2-35-170-217-54.compute-1.amazonaws.com as user scrapinguser for database webscraping\n",
      "Successfully opened a connection to host ec2-35-170-217-54.compute-1.amazonaws.com as user scrapinguser for database webscraping\n"
     ]
    }
   ],
   "source": [
    "if writeToDB:\n",
    "    # Set up the database connection strings and environment\n",
    "    from dotenv import load_dotenv\n",
    "    env_path = env_path + \"database.env\"\n",
    "    load_dotenv(dotenv_path=env_path)\n",
    "    db_host = os.environ.get('DB_HOST')\n",
    "    db_user = os.environ.get('DB_USER')\n",
    "    db_pass = os.environ.get('DB_PASS')\n",
    "    db_name = os.environ.get('DB_NAME1')\n",
    "    print(\"Trying to open a connection to host\", db_host, \"as user\", db_user, \"for database\", db_name)\n",
    "\n",
    "    # Connect to the database\n",
    "    try:\n",
    "        conn = pymysql.connect(host=db_host, user=db_user, password=db_pass, db=db_name, charset='utf8')\n",
    "        cur = conn.cursor()\n",
    "        cur.execute(\"USE %s\" % (db_name))\n",
    "        print(\"Successfully opened a connection to host\", db_host, \"as user\", db_user, \"for database\", db_name)\n",
    "    except:\n",
    "        print(\"Unable to open a connection to host\", db_host, \"as user\", db_user, \"for database\", db_name)\n",
    "        writeToDB = False"
   ]
  },
  {
   "cell_type": "markdown",
   "metadata": {},
   "source": [
    "## Performing the Scraping and Processing"
   ]
  },
  {
   "cell_type": "code",
   "execution_count": 10,
   "metadata": {},
   "outputs": [],
   "source": [
    "if notifyStatus: email_notify(\"The page loading and item extraction process has begun! \"+datetime.now().strftime('%a %B %d, %Y %I:%M:%S %p'))"
   ]
  },
  {
   "cell_type": "code",
   "execution_count": 11,
   "metadata": {},
   "outputs": [
    {
     "name": "stdout",
     "output_type": "stream",
     "text": [
      "Successfully accessed the company web page: http://www.mybidmatch.com/go?sub=55AB9731-0E3E-4BC0-B0E3-56EF81DA7FD4\n"
     ]
    }
   ],
   "source": [
    "try:\n",
    "    s = requests.Session()\n",
    "    resp = s.get(startingURL, headers=headers)\n",
    "    if (verbose): print(resp.text)\n",
    "except HTTPError as e:\n",
    "    print('The server could not serve up the web page!')\n",
    "    sys.exit(\"Script processing cannot continue!!!\")\n",
    "except ConnectionError as e:\n",
    "    print('The server could not be reached due to connection issues!')\n",
    "    sys.exit(\"Script processing cannot continue!!!\")\n",
    "\n",
    "if (resp.status_code==requests.codes.ok):\n",
    "    print('Successfully accessed the company web page: ' + startingURL)\n",
    "    searchPage = BeautifulSoup(resp.text, 'lxml')\n",
    "    if verbose: print(searchPage)"
   ]
  },
  {
   "cell_type": "code",
   "execution_count": 12,
   "metadata": {},
   "outputs": [],
   "source": [
    "# Setting up a dataframe to capture the records\n",
    "df = pd.DataFrame(columns=['Posting_Date', 'Source_Tag', 'Agency_Name', 'FSG_Tag', 'Article_Title', 'Search_Keywords', 'Notice_Heading', 'Department_URL', 'Notice_URL', '''Notice_Text'''])\n",
    "i = 0"
   ]
  },
  {
   "cell_type": "code",
   "execution_count": 13,
   "metadata": {},
   "outputs": [],
   "source": [
    "done = False\n",
    "\n",
    "search_listing = searchPage.find(\"table\", class_=\"data\").find_all(\"tr\")\n",
    "if verbose: print(search_listing)"
   ]
  },
  {
   "cell_type": "code",
   "execution_count": 14,
   "metadata": {},
   "outputs": [
    {
     "name": "stdout",
     "output_type": "stream",
     "text": [
      "Waiting 4 seconds to process next article grouping page...\n",
      "Successfully accessed the article grouping web page: http://www.mybidmatch.com/go?doc=DF84EE4E-A77C-496C-82F1-38EF4330B2ED\n",
      "Waiting 5 seconds to process next notice page...\n",
      "Successfully accessed the notice web page: http://www.mybidmatch.com/article?doc=DF84EE4E-A77C-496C-82F1-38EF4330B2ED&seq=1\n",
      "Inserting record: 2020-05-15 | procure | HOMELAND SECURITY | D | Appointment Scheduling Software | naics!541511; software; | HOMELAND SECURITY, DEPARTMENT OF, US COAST GUARD, HQ CONTRACT OPERATIONS (CG-912)(000, WASHINGTON            DC 20593,  WASHINGTON DC 20593  | https://beta.sam.gov/opp/12b010d71bda461897e8a5c5432ec159/view? | http://www.mybidmatch.com/article?doc=DF84EE4E-A77C-496C-82F1-38EF4330B2ED&seq=1\n",
      "Successfully inserted the record into the database.\n",
      "Waiting 2 seconds to process next notice page...\n",
      "Successfully accessed the notice web page: http://www.mybidmatch.com/article?doc=DF84EE4E-A77C-496C-82F1-38EF4330B2ED&seq=2\n",
      "Inserting record: 2020-05-15 | procure | VETERANS AFFAIRS | D | Automated Electronic Discharge System | naics!541512; computer?; system?; design*; software; | VETERANS AFFAIRS, DEPARTMENT OF, VETERANS AFFAIRS, DEPARTMENT OF, 241-NETWORK CONTRACT OFFICE 01 (36C241), ONE VA CENTER,  TOGUS ME 04330  | https://beta.sam.gov/opp/5b8174c1d1f942fd948fb66a80089b3e/view? | http://www.mybidmatch.com/article?doc=DF84EE4E-A77C-496C-82F1-38EF4330B2ED&seq=2\n",
      "Successfully inserted the record into the database.\n",
      "Waiting 2 seconds to process next notice page...\n",
      "Successfully accessed the notice web page: http://www.mybidmatch.com/article?doc=DF84EE4E-A77C-496C-82F1-38EF4330B2ED&seq=3\n",
      "Inserting record: 2020-05-15 | procure | NATIONAL AERONAUTICS AND SPACE ADMINISTRATION | D | Alfresco Content Services Enterprise | naics!541519; service?; | NATIONAL AERONAUTICS AND SPACE ADMINISTRATION, NATIONAL AERONAUTICS AND SPACE ADMINISTRATION, NASA SHARED SERVICES CENTER, JERRY HLASS ROAD, BLDG. 1111,  STENNIS SPACE CENTER MS 39529  | https://beta.sam.gov/opp/5c1430247af74a72aa005fad360c4f1a/view? | http://www.mybidmatch.com/article?doc=DF84EE4E-A77C-496C-82F1-38EF4330B2ED&seq=3\n",
      "Successfully inserted the record into the database.\n",
      "Waiting 3 seconds to process next notice page...\n",
      "Successfully accessed the notice web page: http://www.mybidmatch.com/article?doc=DF84EE4E-A77C-496C-82F1-38EF4330B2ED&seq=4\n",
      "Inserting record: 2020-05-15 | procure | TRANSPORTATION | D | Final Solicitation - Integrated Inspection Management System (II... | naics!541512; system?; software; | TRANSPORTATION, DEPARTMENT OF, FEDERAL MOTOR CARRIER SAFETY ADMINISTRATION, 693JJ4 OFFICE OF ACQUISITION MGT, OFFICE OF ACQUISTION MANAGEMENT,  WASHINGTON DC 20590  | https://beta.sam.gov/opp/650b8b7ce79b4bfb972a6e10c795dadc/view? | http://www.mybidmatch.com/article?doc=DF84EE4E-A77C-496C-82F1-38EF4330B2ED&seq=4\n",
      "Successfully inserted the record into the database.\n",
      "Waiting 3 seconds to process next notice page...\n",
      "Successfully accessed the notice web page: http://www.mybidmatch.com/article?doc=DF84EE4E-A77C-496C-82F1-38EF4330B2ED&seq=5\n",
      "Inserting record: 2020-05-15 | procure | DEPT OF DEFENSE | D | V-LOCITY 7 SOFTWARE | naics!511210; software?; software; | DEPT OF DEFENSE, DEPT OF THE NAVY, NAVSUP FLT LOG CTR JACKSONVILLE, JACKSONVILLE          FL 32212-0097,  JACKSONVILLE FL 32212-0097  | https://beta.sam.gov/opp/6d4901737a8d443fab997110abe95d5a/view? | http://www.mybidmatch.com/article?doc=DF84EE4E-A77C-496C-82F1-38EF4330B2ED&seq=5\n",
      "Successfully inserted the record into the database.\n",
      "Waiting 3 seconds to process next notice page...\n",
      "Successfully accessed the notice web page: http://www.mybidmatch.com/article?doc=DF84EE4E-A77C-496C-82F1-38EF4330B2ED&seq=6\n",
      "Inserting record: 2020-05-15 | procure | DEPT OF DEFENSE | D | Aviation Training Support (ATS) | analytic*; naics!541512; | DEPT OF DEFENSE, DEPT OF THE NAVY, COMMANDER, MCINCR-MCBQ, ATTN: DIRECTOR REGIONAL CONTRACTING,  QUANTICO VA 22134-5028  | https://beta.sam.gov/opp/75f7b7d387ce44c892f9da29b1a3f940/view? | http://www.mybidmatch.com/article?doc=DF84EE4E-A77C-496C-82F1-38EF4330B2ED&seq=6\n",
      "Successfully inserted the record into the database.\n",
      "Waiting 4 seconds to process next notice page...\n",
      "Successfully accessed the notice web page: http://www.mybidmatch.com/article?doc=DF84EE4E-A77C-496C-82F1-38EF4330B2ED&seq=7\n",
      "Inserting record: 2020-05-15 | procure | ENERGY | D | Technical support to assist migrating the Energy Information Adm... | naics!541511; programm*; | ENERGY, DEPARTMENT OF, ENERGY, DEPARTMENT OF, HEADQUARTERS PROCUREMENT SERVICES, 1000 INDEPENDENCE AVE SW,  WASHINGTON DC 20585  | https://beta.sam.gov/opp/790406c8df394d06a62ef9775fd46fbb/view? | http://www.mybidmatch.com/article?doc=DF84EE4E-A77C-496C-82F1-38EF4330B2ED&seq=7\n",
      "Successfully inserted the record into the database.\n",
      "Waiting 4 seconds to process next notice page...\n",
      "Successfully accessed the notice web page: http://www.mybidmatch.com/article?doc=DF84EE4E-A77C-496C-82F1-38EF4330B2ED&seq=8\n",
      "Inserting record: 2020-05-15 | procure | HEALTH AND HUMAN SERVICES | D | NIH Clinical Center Pediatric Onboarding App | naics!511210; | HEALTH AND HUMAN SERVICES, DEPARTMENT OF, NATIONAL INSTITUTES OF HEALTH, NATIONAL INSTITUTES OF HEALTH - CC, 6707 DEMOCRACY BLVD, SUITE 106,  BETHESDA MD 20892  | https://beta.sam.gov/opp/7d50ab87803842fd90c9e8687bc39a12/view? | http://www.mybidmatch.com/article?doc=DF84EE4E-A77C-496C-82F1-38EF4330B2ED&seq=8\n",
      "Successfully inserted the record into the database.\n",
      "Waiting 2 seconds to process next notice page...\n",
      "Successfully accessed the notice web page: http://www.mybidmatch.com/article?doc=DF84EE4E-A77C-496C-82F1-38EF4330B2ED&seq=9\n",
      "Inserting record: 2020-05-15 | procure | DEPT OF DEFENSE | D | OSD (R&E) Communications & Networking Infrastructure (C&NI) Broa... | software; | DEPT OF DEFENSE, WASHINGTON HEADQUARTERS SERVICES (WHS), WASHINGTON HEADQUARTERS SERVICES, ACQUISITION DIRECTORATE,  WASHINGTON DC 203011000  | https://beta.sam.gov/opp/a9f2ecef284e4ac7bf4fa46dcc8a59ab/view? | http://www.mybidmatch.com/article?doc=DF84EE4E-A77C-496C-82F1-38EF4330B2ED&seq=9\n",
      "Successfully inserted the record into the database.\n",
      "Waiting 4 seconds to process next notice page...\n",
      "Successfully accessed the notice web page: http://www.mybidmatch.com/article?doc=DF84EE4E-A77C-496C-82F1-38EF4330B2ED&seq=10\n",
      "Inserting record: 2020-05-15 | procure | LIBRARY OF CONGRESS | D | Legislative Branch Cloud Services - IDIQ | naics!518210; | LIBRARY OF CONGRESS, LIBRARY OF CONGRESS, CONTRACTS SERVICES, 101 Independence Ave SE LA 325,  Washington DC 20540  | https://beta.sam.gov/opp/b52dcfb228e54a1ab8d047d56caaf6a4/view? | http://www.mybidmatch.com/article?doc=DF84EE4E-A77C-496C-82F1-38EF4330B2ED&seq=10\n",
      "Successfully inserted the record into the database.\n",
      "Waiting 2 seconds to process next notice page...\n",
      "Successfully accessed the notice web page: http://www.mybidmatch.com/article?doc=DF84EE4E-A77C-496C-82F1-38EF4330B2ED&seq=11\n",
      "Inserting record: 2020-05-15 | procure | COMMERCE | D | 2 Year Cray ProAssist 9x5 NBD Maintenance | naics!541519; service?; | COMMERCE, DEPARTMENT OF, NATIONAL OCEANIC AND ATMOSPHERIC ADMINISTRATION, DEPT OF COMMERCE NOAA, WESTERN ACQUISITION DIVISION,  SEATTLE WA 98115  | https://beta.sam.gov/opp/d0e98d7f6188459a86e8eab42cc27960/view? | http://www.mybidmatch.com/article?doc=DF84EE4E-A77C-496C-82F1-38EF4330B2ED&seq=11\n",
      "Successfully inserted the record into the database.\n",
      "Waiting 5 seconds to process next notice page...\n",
      "Successfully accessed the notice web page: http://www.mybidmatch.com/article?doc=DF84EE4E-A77C-496C-82F1-38EF4330B2ED&seq=12\n",
      "Inserting record: 2020-05-15 | procure | HOMELAND SECURITY | D | Amendment 1 - Digital Communication Platform - 70FA3020Q00000039 | naics!518210; | HOMELAND SECURITY, DEPARTMENT OF, FEDERAL EMERGENCY MANAGEMENT AGENCY, INFORMATION TECHNOLOGY SECTION(IT30, 500 C STREET SW 3RD FLOOR,  WASHINGTON DC 20472  | https://beta.sam.gov/opp/d621ca7e737a43d48562f5329a59a71f/view? | http://www.mybidmatch.com/article?doc=DF84EE4E-A77C-496C-82F1-38EF4330B2ED&seq=12\n",
      "Successfully inserted the record into the database.\n",
      "Waiting 4 seconds to process next notice page...\n",
      "Successfully accessed the notice web page: http://www.mybidmatch.com/article?doc=DF84EE4E-A77C-496C-82F1-38EF4330B2ED&seq=13\n",
      "Inserting record: 2020-05-15 | procure | DEPT OF DEFENSE | D | Army Stationing & Installation Plan (ASIP) Technical Support Ser... | naics!541512; | DEPT OF DEFENSE, DEPT OF THE ARMY, W6QM MICC-FDO FT SAM HOUSTON, MICC FSH OFFICE OF THE DIRECTOR,  FORT SAM HOUSTON TX 78234-1361  | https://beta.sam.gov/opp/d96e28ec45f945c9bfb57029f76652ca/view? | http://www.mybidmatch.com/article?doc=DF84EE4E-A77C-496C-82F1-38EF4330B2ED&seq=13\n",
      "Successfully inserted the record into the database.\n",
      "Waiting 5 seconds to process next notice page...\n",
      "Successfully accessed the notice web page: http://www.mybidmatch.com/article?doc=DF84EE4E-A77C-496C-82F1-38EF4330B2ED&seq=14\n",
      "Inserting record: 2020-05-15 | procure | GENERAL SERVICES ADMINISTRATION | D | Notice of Intent to Sole Source Silent Eagle | naics!541519; | GENERAL SERVICES ADMINISTRATION, FEDERAL ACQUISITION SERVICE, GSA FAS AAS REGION 5, 230 S DEARBORN STREET,  CHICAGO IL 60604  | https://beta.sam.gov/opp/fa915e573d4b490aa403accac2561af6/view? | http://www.mybidmatch.com/article?doc=DF84EE4E-A77C-496C-82F1-38EF4330B2ED&seq=14\n",
      "Successfully inserted the record into the database.\n",
      "Waiting 2 seconds to process next notice page...\n",
      "Successfully accessed the notice web page: http://www.mybidmatch.com/article?doc=DF84EE4E-A77C-496C-82F1-38EF4330B2ED&seq=15\n",
      "Inserting record: 2020-05-15 | procure | VETERANS AFFAIRS | L | Resident Wandering Solution Pittsburgh VA Healthcare System Pitt... | software; | VETERANS AFFAIRS, DEPARTMENT OF, VETERANS AFFAIRS, DEPARTMENT OF, 244-NETWORK CONTRACT OFFICE 4 (36C244), 1010 DELAFIELD ROAD,  PITTSBURGH PA 15215  | https://beta.sam.gov/opp/bb22fe7b928f4a27b95135b2e708dd4b/view? | http://www.mybidmatch.com/article?doc=DF84EE4E-A77C-496C-82F1-38EF4330B2ED&seq=15\n",
      "Successfully inserted the record into the database.\n",
      "Waiting 4 seconds to process next notice page...\n",
      "Successfully accessed the notice web page: http://www.mybidmatch.com/article?doc=DF84EE4E-A77C-496C-82F1-38EF4330B2ED&seq=16\n",
      "Inserting record: 2020-05-15 | procure | STATE | R | OPTION - Studio Group-Share Maintenance & Support | naics!541519; service?; software; | STATE, DEPARTMENT OF, STATE, DEPARTMENT OF, ACQUISITIONS - AQM MOMENTUM, US DEPT OF STATE, 2201 C ST NW,  WASHINGTON DC 20520  | https://beta.sam.gov/opp/08387f385f954110beadfcef8e00e492/view? | http://www.mybidmatch.com/article?doc=DF84EE4E-A77C-496C-82F1-38EF4330B2ED&seq=16\n",
      "Successfully inserted the record into the database.\n",
      "Waiting 5 seconds to process next notice page...\n",
      "Successfully accessed the notice web page: http://www.mybidmatch.com/article?doc=DF84EE4E-A77C-496C-82F1-38EF4330B2ED&seq=17\n",
      "Inserting record: 2020-05-15 | procure | DEPT OF DEFENSE | R | Marine Corps Tactical Systems Support Activity (MCTSSA) Networks... | naics!541512; system?; | DEPT OF DEFENSE, DEPT OF THE NAVY, SUPPLY OFFICER, MCTSSA,  CAMP PENDLETON CA 92055-5171  | https://beta.sam.gov/opp/591cd00993324c0385f2394045bdbb06/view? | http://www.mybidmatch.com/article?doc=DF84EE4E-A77C-496C-82F1-38EF4330B2ED&seq=17\n",
      "Successfully inserted the record into the database.\n",
      "Waiting 2 seconds to process next notice page...\n",
      "Successfully accessed the notice web page: http://www.mybidmatch.com/article?doc=DF84EE4E-A77C-496C-82F1-38EF4330B2ED&seq=18\n",
      "Inserting record: 2020-05-15 | procure | DEPT OF DEFENSE | R | Continuous Process Improvement/Lean Six Sigma | software; | DEPT OF DEFENSE, DEFENSE LOGISTICS AGENCY (DLA), DCSO RICHMOND, 8000 JEFFERSON DAVIS HWY,  RICHMOND VA 23297-5441  | https://beta.sam.gov/opp/5d443fea0d514f9caa977dfe8ba85fdd/view? | http://www.mybidmatch.com/article?doc=DF84EE4E-A77C-496C-82F1-38EF4330B2ED&seq=18\n",
      "Successfully inserted the record into the database.\n",
      "Waiting 2 seconds to process next notice page...\n",
      "Successfully accessed the notice web page: http://www.mybidmatch.com/article?doc=DF84EE4E-A77C-496C-82F1-38EF4330B2ED&seq=19\n",
      "Inserting record: 2020-05-15 | procure | ENVIRONMENTAL PROTECTION AGENCY | R | Economic Analysis and Control Strategy Development for Air Polut... | computer?; program*; develop*; software; | ENVIRONMENTAL PROTECTION AGENCY, ENVIRONMENTAL PROTECTION AGENCY, INFORMATION TECHNOLOGY ACQ DIV (ITA, 109 T.W. ALEXANDER DRIVE,  RESEARCH TRIANGLE PAR NC 27709  | https://beta.sam.gov/opp/79b36d4c780b4217bc1bd97b9ae9e1ed/view? | http://www.mybidmatch.com/article?doc=DF84EE4E-A77C-496C-82F1-38EF4330B2ED&seq=19\n",
      "Successfully inserted the record into the database.\n",
      "Waiting 4 seconds to process next notice page...\n",
      "Successfully accessed the notice web page: http://www.mybidmatch.com/article?doc=DF84EE4E-A77C-496C-82F1-38EF4330B2ED&seq=20\n",
      "Inserting record: 2020-05-15 | procure | VETERANS AFFAIRS | R | TAC-20-57991 DaVINCI Services Recompete | analytic*; naics!541511; | VETERANS AFFAIRS, DEPARTMENT OF, VETERANS AFFAIRS, DEPARTMENT OF, TECHNOLOGY ACQUISITION CENTER NJ (36C10B), 23 CHRISTOPHER WAY,  EATONTOWN NJ 07724  | https://beta.sam.gov/opp/b72b9824dcb24771be6f587eccc33548/view? | http://www.mybidmatch.com/article?doc=DF84EE4E-A77C-496C-82F1-38EF4330B2ED&seq=20\n",
      "Successfully inserted the record into the database.\n",
      "Waiting 5 seconds to process next notice page...\n",
      "Successfully accessed the notice web page: http://www.mybidmatch.com/article?doc=DF84EE4E-A77C-496C-82F1-38EF4330B2ED&seq=21\n",
      "Inserting record: 2020-05-15 | procure | VETERANS AFFAIRS | R | TeleCare Companion IDIQ | naics!541512; | VETERANS AFFAIRS, DEPARTMENT OF, VETERANS AFFAIRS, DEPARTMENT OF, PCAC HEALTH INFORMATION (36C776), 6150 OAK TREE BLVD,  INDEPENDENCE OH 44131  | https://beta.sam.gov/opp/bd40749c7105483b9a5cb69f8f08f599/view? | http://www.mybidmatch.com/article?doc=DF84EE4E-A77C-496C-82F1-38EF4330B2ED&seq=21\n",
      "Successfully inserted the record into the database.\n",
      "Waiting 2 seconds to process next notice page...\n",
      "Successfully accessed the notice web page: http://www.mybidmatch.com/article?doc=DF84EE4E-A77C-496C-82F1-38EF4330B2ED&seq=22\n",
      "Inserting record: 2020-05-15 | procure | DEPT OF DEFENSE | U | United States Naval Community College Partnerships | analytic*; | DEPT OF DEFENSE, DEPT OF THE NAVY, NAVSUP FLT LOG CTR PHILADELPHIA, BLDG 2B,  PHILADELPHIA PA 19111-5083  | https://beta.sam.gov/opp/65ed843df9424ef694bdef846a09db65/view? | http://www.mybidmatch.com/article?doc=DF84EE4E-A77C-496C-82F1-38EF4330B2ED&seq=22\n",
      "Successfully inserted the record into the database.\n",
      "Waiting 3 seconds to process next notice page...\n",
      "Successfully accessed the notice web page: http://www.mybidmatch.com/article?doc=DF84EE4E-A77C-496C-82F1-38EF4330B2ED&seq=23\n",
      "Inserting record: 2020-05-15 | procure | DEPT OF DEFENSE | U | InGuardians Training | software; | DEPT OF DEFENSE, DEPT OF THE AIR FORCE, FA8773 ACC 38 CONS, BLDG 4004 CP 405 734 7645,  TINKER AFB OK 73145-2713  | https://beta.sam.gov/opp/ad6d321eacda4457953f8fd49eb40daa/view? | http://www.mybidmatch.com/article?doc=DF84EE4E-A77C-496C-82F1-38EF4330B2ED&seq=23\n",
      "Successfully inserted the record into the database.\n",
      "Waiting 2 seconds to process next notice page...\n",
      "Successfully accessed the notice web page: http://www.mybidmatch.com/article?doc=DF84EE4E-A77C-496C-82F1-38EF4330B2ED&seq=24\n",
      "Inserting record: 2020-05-15 | procure | DEPT OF DEFENSE | 70 | FLAT PANEL MONITOR,- AND SIMILAR REPLACEMENT PARTS, IN REPAIR/MO... | software; | DEPT OF DEFENSE, DEPT OF THE NAVY, NAVSUP WEAPON SYSTEMS SUPPORT, PHILADELPHIA,  PHILADELPHIA PA 19111-5098  | https://beta.sam.gov/opp/0da87ba22c5a4743bb708b24952c6ce8/view? | http://www.mybidmatch.com/article?doc=DF84EE4E-A77C-496C-82F1-38EF4330B2ED&seq=24\n",
      "Successfully inserted the record into the database.\n",
      "Waiting 4 seconds to process next notice page...\n",
      "Successfully accessed the notice web page: http://www.mybidmatch.com/article?doc=DF84EE4E-A77C-496C-82F1-38EF4330B2ED&seq=25\n",
      "Inserting record: 2020-05-15 | procure | DEPT OF DEFENSE | 70 | Pointwise - Annual License Renewal and Maintenance | naics!511210; | DEPT OF DEFENSE, DEPT OF THE NAVY, NAVAL AIR WARFARE CENTER AIR DIV, BUILDING 439 SUITE F,  PATUXENT RIVER MD 20670-1545  | https://beta.sam.gov/opp/187f257e685744bb9661b68483aae1d3/view? | http://www.mybidmatch.com/article?doc=DF84EE4E-A77C-496C-82F1-38EF4330B2ED&seq=25\n",
      "Successfully inserted the record into the database.\n",
      "Waiting 3 seconds to process next notice page...\n",
      "Successfully accessed the notice web page: http://www.mybidmatch.com/article?doc=DF84EE4E-A77C-496C-82F1-38EF4330B2ED&seq=26\n",
      "Inserting record: 2020-05-15 | procure | HEALTH AND HUMAN SERVICES | 70 | Quality Management Information System (QMiS) Admin Support | naics!518210; process*; software; | HEALTH AND HUMAN SERVICES, DEPARTMENT OF, FOOD AND DRUG ADMINISTRATION, FDA OFFICE OF ACQ  GRANT SVCS, 5630 FISHERS LANE,  ROCKVILLE MD 20857  | https://beta.sam.gov/opp/1c41116b8f664e829e38f1b16f6415e2/view? | http://www.mybidmatch.com/article?doc=DF84EE4E-A77C-496C-82F1-38EF4330B2ED&seq=26\n",
      "Successfully inserted the record into the database.\n",
      "Waiting 3 seconds to process next notice page...\n",
      "Successfully accessed the notice web page: http://www.mybidmatch.com/article?doc=DF84EE4E-A77C-496C-82F1-38EF4330B2ED&seq=27\n",
      "Inserting record: 2020-05-15 | procure | DEPT OF DEFENSE | 70 | Gartner Licenses | naics!511210; | DEPT OF DEFENSE, DEPT OF THE AIR FORCE, FA8604 AFLCMC PZI, CP 937 656 7394,  WRIGHT PATTERSON AFB OH 45433-7228  | https://beta.sam.gov/opp/32651c0175cf47e9b0367892a457f734/view? | http://www.mybidmatch.com/article?doc=DF84EE4E-A77C-496C-82F1-38EF4330B2ED&seq=27\n",
      "Successfully inserted the record into the database.\n",
      "Waiting 4 seconds to process next notice page...\n",
      "Successfully accessed the notice web page: http://www.mybidmatch.com/article?doc=DF84EE4E-A77C-496C-82F1-38EF4330B2ED&seq=28\n",
      "Inserting record: 2020-05-15 | procure | DEPT OF DEFENSE | 70 | Notice of Sole Source | naics!511210; | DEPT OF DEFENSE, DEPT OF THE NAVY, NAVSUP FLT LOG CTR NORFOLK, ATTENTION  CODE 301,  NORFOLK VA 23511-3392  | https://beta.sam.gov/opp/35eccc3cbaa74be2907b4f06221e8e5e/view? | http://www.mybidmatch.com/article?doc=DF84EE4E-A77C-496C-82F1-38EF4330B2ED&seq=28\n",
      "Successfully inserted the record into the database.\n",
      "Waiting 4 seconds to process next notice page...\n",
      "Successfully accessed the notice web page: http://www.mybidmatch.com/article?doc=DF84EE4E-A77C-496C-82F1-38EF4330B2ED&seq=29\n",
      "Inserting record: 2020-05-15 | procure | JUSTICE | 70 | CJIS | naics!511210; software?; software; | JUSTICE, DEPARTMENT OF, OFFICES, BOARDS AND DIVISIONS, JMD-PROCUREMENT SERVICES STAFF, U.S. DEPT OF JUSTICE,  WASHINGTON DC 20530  | https://beta.sam.gov/opp/37feac76247746e697a055cb5b4b19ef/view? | http://www.mybidmatch.com/article?doc=DF84EE4E-A77C-496C-82F1-38EF4330B2ED&seq=29\n",
      "Successfully inserted the record into the database.\n",
      "Waiting 3 seconds to process next notice page...\n",
      "Successfully accessed the notice web page: http://www.mybidmatch.com/article?doc=DF84EE4E-A77C-496C-82F1-38EF4330B2ED&seq=30\n",
      "Inserting record: 2020-05-15 | procure | DEPT OF DEFENSE | 70 | PTC Integrity Software Maintenance and Support | naics!541519; software; | DEPT OF DEFENSE, DEPT OF THE ARMY, W6QK ACC-APG, DIV E   HQ CECOM CONTRACTING CTR,  ABERDEEN PROVING GROU MD 21005-1846  | https://beta.sam.gov/opp/50d548224f6948ce98c788b0db7310a6/view? | http://www.mybidmatch.com/article?doc=DF84EE4E-A77C-496C-82F1-38EF4330B2ED&seq=30\n",
      "Successfully inserted the record into the database.\n",
      "Waiting 5 seconds to process next notice page...\n",
      "Successfully accessed the notice web page: http://www.mybidmatch.com/article?doc=DF84EE4E-A77C-496C-82F1-38EF4330B2ED&seq=31\n",
      "Inserting record: 2020-05-15 | procure | VETERANS AFFAIRS | 70 | CDI Pro Licensing (VA-20-00052546) Augusta VA Medical Center | naics!541519; service?; software; | VETERANS AFFAIRS, DEPARTMENT OF, VETERANS AFFAIRS, DEPARTMENT OF, 247-NETWORK CONTRACT OFFICE 7 (36C247), ONE FREEDOM WAY,  AUGUSTA GA 30904  | https://beta.sam.gov/opp/5b3fb01f93eb4044a8590eaff7ef45c3/view? | http://www.mybidmatch.com/article?doc=DF84EE4E-A77C-496C-82F1-38EF4330B2ED&seq=31\n",
      "Successfully inserted the record into the database.\n",
      "Waiting 3 seconds to process next notice page...\n",
      "Successfully accessed the notice web page: http://www.mybidmatch.com/article?doc=DF84EE4E-A77C-496C-82F1-38EF4330B2ED&seq=32\n",
      "Inserting record: 2020-05-15 | procure | DEPT OF DEFENSE | 70 | 09458 Display Unit | software; | DEPT OF DEFENSE, DEPT OF THE NAVY, COMMANDING OFFICER, NAVAL SURFACE WARFARE CENTER PHD,  PORT HUENEME CA 93043-5007  | https://beta.sam.gov/opp/61da58378c364274bc997db55bf54f85/view? | http://www.mybidmatch.com/article?doc=DF84EE4E-A77C-496C-82F1-38EF4330B2ED&seq=32\n",
      "Successfully inserted the record into the database.\n",
      "Waiting 3 seconds to process next notice page...\n",
      "Successfully accessed the notice web page: http://www.mybidmatch.com/article?doc=DF84EE4E-A77C-496C-82F1-38EF4330B2ED&seq=33\n",
      "Inserting record: 2020-05-15 | procure | DEPT OF DEFENSE | 70 | CREO Engineering IV \"Trusted Product\" Support | naics!511210; | DEPT OF DEFENSE, DEPT OF THE AIR FORCE, FA8307  AFLCMC HNCK C3IN, CP 210 977 2497,  SAN ANTONIO TX 78243-7007  | https://beta.sam.gov/opp/6591f5a94d984787a9edf8ced41bc9f1/view? | http://www.mybidmatch.com/article?doc=DF84EE4E-A77C-496C-82F1-38EF4330B2ED&seq=33\n",
      "Successfully inserted the record into the database.\n",
      "Waiting 5 seconds to process next notice page...\n",
      "Successfully accessed the notice web page: http://www.mybidmatch.com/article?doc=DF84EE4E-A77C-496C-82F1-38EF4330B2ED&seq=34\n",
      "Inserting record: 2020-05-15 | procure | DEPT OF DEFENSE | 70 | Gateway Software Upgrade | software; | DEPT OF DEFENSE, DEPT OF THE NAVY, NAVSUP FLT LOG CTR NORFOLK, ATTENTION  CODE 301,  NORFOLK VA 23511-3392  | https://beta.sam.gov/opp/664a2631dee54515b983062d1e36ee01/view? | http://www.mybidmatch.com/article?doc=DF84EE4E-A77C-496C-82F1-38EF4330B2ED&seq=34\n",
      "Successfully inserted the record into the database.\n",
      "Waiting 4 seconds to process next notice page...\n",
      "Successfully accessed the notice web page: http://www.mybidmatch.com/article?doc=DF84EE4E-A77C-496C-82F1-38EF4330B2ED&seq=35\n",
      "Inserting record: 2020-05-15 | procure | VETERANS AFFAIRS | 70 | Supply: HI-IQ Interventional Radiology Software | naics!511210; software?; publisher?; software; | VETERANS AFFAIRS, DEPARTMENT OF, VETERANS AFFAIRS, DEPARTMENT OF, 248-NETWORK CONTRACT OFFICE 8 (36C248), 8875 HIDDEN RIVER PARKWAY,  TAMPA FL 33637  | https://beta.sam.gov/opp/772dadd51d084b7b922aa50199a9da01/view? | http://www.mybidmatch.com/article?doc=DF84EE4E-A77C-496C-82F1-38EF4330B2ED&seq=35\n",
      "Successfully inserted the record into the database.\n",
      "Waiting 5 seconds to process next notice page...\n",
      "Successfully accessed the notice web page: http://www.mybidmatch.com/article?doc=DF84EE4E-A77C-496C-82F1-38EF4330B2ED&seq=36\n",
      "Inserting record: 2020-05-15 | procure | DEPT OF DEFENSE | 70 | DISPLAY UNIT | software; | DEPT OF DEFENSE, DEPT OF THE NAVY, NAVSUP WEAPON SYSTEMS SUPPORT, PHILADELPHIA,  PHILADELPHIA PA 19111-5098  | https://beta.sam.gov/opp/81b371a973934c66a9464061330c5069/view? | http://www.mybidmatch.com/article?doc=DF84EE4E-A77C-496C-82F1-38EF4330B2ED&seq=36\n",
      "Successfully inserted the record into the database.\n",
      "Waiting 4 seconds to process next notice page...\n",
      "Successfully accessed the notice web page: http://www.mybidmatch.com/article?doc=DF84EE4E-A77C-496C-82F1-38EF4330B2ED&seq=37\n",
      "Inserting record: 2020-05-15 | procure | DEPT OF DEFENSE | 70 | Wind River VxWorks Software Licensing and Maintenance Purchase | naics!511210; software?; software; | DEPT OF DEFENSE, DEPT OF THE NAVY, NAVAL AIR WARFARE CENTER AIR DIV, BUILDING 439 SUITE F,  PATUXENT RIVER MD 20670-1545  | https://beta.sam.gov/opp/85b40d428bef44a89d47d1cf904cc411/view? | http://www.mybidmatch.com/article?doc=DF84EE4E-A77C-496C-82F1-38EF4330B2ED&seq=37\n",
      "Successfully inserted the record into the database.\n",
      "Waiting 2 seconds to process next notice page...\n",
      "Successfully accessed the notice web page: http://www.mybidmatch.com/article?doc=DF84EE4E-A77C-496C-82F1-38EF4330B2ED&seq=38\n",
      "Inserting record: 2020-05-15 | procure | DEPT OF DEFENSE | 70 | Notice of Intent to Award Sole Source - Pointwise Software | naics!511210; software?; software; | DEPT OF DEFENSE, DEPT OF THE AIR FORCE, FA8650  USAF AFMC AFRL PZL RAK RXK, RQK RYK     CP 937 713 9794,  WRIGHT PATTERSON AFB OH 45433-7541  | https://beta.sam.gov/opp/915449350f7c4a1785a9f8b1567a6b4d/view? | http://www.mybidmatch.com/article?doc=DF84EE4E-A77C-496C-82F1-38EF4330B2ED&seq=38\n",
      "Successfully inserted the record into the database.\n",
      "Waiting 4 seconds to process next notice page...\n",
      "Successfully accessed the notice web page: http://www.mybidmatch.com/article?doc=DF84EE4E-A77C-496C-82F1-38EF4330B2ED&seq=39\n",
      "Inserting record: 2020-05-15 | procure | DEPT OF DEFENSE | 70 | Notice of Intent to Award Sole Source - MTS Software | naics!511210; software?; software; | DEPT OF DEFENSE, DEPT OF THE AIR FORCE, FA8650  USAF AFMC AFRL PZL RAK RXK, RQK RYK     CP 937 713 9794,  WRIGHT PATTERSON AFB OH 45433-7541  | https://beta.sam.gov/opp/91a1bafba415440d82321c0fd31588fc/view? | http://www.mybidmatch.com/article?doc=DF84EE4E-A77C-496C-82F1-38EF4330B2ED&seq=39\n",
      "Successfully inserted the record into the database.\n",
      "Waiting 3 seconds to process next notice page...\n",
      "Successfully accessed the notice web page: http://www.mybidmatch.com/article?doc=DF84EE4E-A77C-496C-82F1-38EF4330B2ED&seq=40\n",
      "Inserting record: 2020-05-15 | procure | VETERANS AFFAIRS | 70 | VHA Patient Tablet Kiosk Replacement Solution (VA-20-00015966) | naics!541511; | VETERANS AFFAIRS, DEPARTMENT OF, VETERANS AFFAIRS, DEPARTMENT OF, TECHNOLOGY ACQUISITION CENTER NJ (36C10B), 23 CHRISTOPHER WAY,  EATONTOWN NJ 07724  | https://beta.sam.gov/opp/9355d3bda05c4149933dc6287f25fce1/view? | http://www.mybidmatch.com/article?doc=DF84EE4E-A77C-496C-82F1-38EF4330B2ED&seq=40\n",
      "Successfully inserted the record into the database.\n",
      "Waiting 2 seconds to process next notice page...\n",
      "Successfully accessed the notice web page: http://www.mybidmatch.com/article?doc=DF84EE4E-A77C-496C-82F1-38EF4330B2ED&seq=41\n",
      "Inserting record: 2020-05-15 | procure | VETERANS AFFAIRS | 70 | Intent to Sole Source Notice Huntington VAMC Acustaf | naics!541519; software; | VETERANS AFFAIRS, DEPARTMENT OF, VETERANS AFFAIRS, DEPARTMENT OF, 245-NETWORK CONTRACT OFFICE 5 (36C245), 1701 DIRECTORS BLVD,  LINTHICUM MD 21090  | https://beta.sam.gov/opp/aa914e238c144e83b800633e94c95f29/view? | http://www.mybidmatch.com/article?doc=DF84EE4E-A77C-496C-82F1-38EF4330B2ED&seq=41\n",
      "Successfully inserted the record into the database.\n",
      "Waiting 4 seconds to process next notice page...\n",
      "Successfully accessed the notice web page: http://www.mybidmatch.com/article?doc=DF84EE4E-A77C-496C-82F1-38EF4330B2ED&seq=42\n",
      "Inserting record: 2020-05-15 | procure | STATE | 70 | Toner Cartridges and Maintenance Kits | software; | STATE, DEPARTMENT OF, STATE, DEPARTMENT OF, ACQUISITIONS - AQM MOMENTUM, US DEPT OF STATE, 2201 C ST NW,  WASHINGTON DC 20520  | https://beta.sam.gov/opp/ad1a904c719b4bdfb1e195fd606cf740/view? | http://www.mybidmatch.com/article?doc=DF84EE4E-A77C-496C-82F1-38EF4330B2ED&seq=42\n",
      "Successfully inserted the record into the database.\n",
      "Waiting 2 seconds to process next notice page...\n",
      "Successfully accessed the notice web page: http://www.mybidmatch.com/article?doc=DF84EE4E-A77C-496C-82F1-38EF4330B2ED&seq=43\n",
      "Inserting record: 2020-05-15 | procure | DEPT OF DEFENSE | 70 | INCA and EHANDBOOK Software | naics!511210; software?; software; | DEPT OF DEFENSE, DEPT OF THE ARMY, W4GG HQ US ARMY TACOM, 6501 EAST 11 MILE ROAD,  WARREN MI 48397-5000  | https://beta.sam.gov/opp/c450b15ed9ac47359f6d82ccbb5d5770/view? | http://www.mybidmatch.com/article?doc=DF84EE4E-A77C-496C-82F1-38EF4330B2ED&seq=43\n",
      "Successfully inserted the record into the database.\n",
      "Waiting 5 seconds to process next notice page...\n",
      "Successfully accessed the notice web page: http://www.mybidmatch.com/article?doc=DF84EE4E-A77C-496C-82F1-38EF4330B2ED&seq=44\n",
      "Inserting record: 2020-05-15 | procure | TRANSPORTATION | 70 | Audit Maintenance Services for TeamMates | naics!511210; | TRANSPORTATION, DEPARTMENT OF, OFFICE OF THE SECRETARY, 693JK4 OST, ACQUISITION SERVICES DIVISION,  WASHINGTON DC 20590  | https://beta.sam.gov/opp/cf0f5db16c274ae29e378ab156ac9223/view? | http://www.mybidmatch.com/article?doc=DF84EE4E-A77C-496C-82F1-38EF4330B2ED&seq=44\n",
      "Successfully inserted the record into the database.\n",
      "Waiting 3 seconds to process next notice page...\n",
      "Successfully accessed the notice web page: http://www.mybidmatch.com/article?doc=DF84EE4E-A77C-496C-82F1-38EF4330B2ED&seq=45\n",
      "Inserting record: 2020-05-15 | procure | DEPT OF DEFENSE | 70 | DISPLAY UNIT NRP,AI, IN REPAIR/MODIFICATION OF | software; | DEPT OF DEFENSE, DEPT OF THE NAVY, NAVSUP WEAPON SYSTEMS SUPPORT, PHILADELPHIA,  PHILADELPHIA PA 19111-5098  | https://beta.sam.gov/opp/f690a8133f05401f9c84a63e97a0ac54/view? | http://www.mybidmatch.com/article?doc=DF84EE4E-A77C-496C-82F1-38EF4330B2ED&seq=45\n",
      "Successfully inserted the record into the database.\n",
      "Waiting 5 seconds to process next notice page...\n",
      "Successfully accessed the notice web page: http://www.mybidmatch.com/article?doc=DF84EE4E-A77C-496C-82F1-38EF4330B2ED&seq=46\n",
      "Inserting record: 2020-05-15 | procure | DEPT OF DEFENSE | 99 | LOGIC CONVERTER | software; | DEPT OF DEFENSE, DEPT OF THE NAVY, NAVSUP WEAPON SYSTEMS SUPPORT, PHILADELPHIA,  PHILADELPHIA PA 19111-5098  | https://beta.sam.gov/opp/c340a64186f94596bb7b72d524257eb1/view? | http://www.mybidmatch.com/article?doc=DF84EE4E-A77C-496C-82F1-38EF4330B2ED&seq=46\n",
      "Successfully inserted the record into the database.\n",
      "Waiting 4 seconds to process next notice page...\n",
      "Successfully accessed the notice web page: http://www.mybidmatch.com/article?doc=DF84EE4E-A77C-496C-82F1-38EF4330B2ED&seq=47\n",
      "Inserting record: 2020-05-15 | awards | DEPT OF DEFENSE | D | Computer Related Services | naics!541512; computer?; system?; design*; service?; software; | DEPT OF DEFENSE, DEPT OF THE NAVY, MFR COMPTROLLER, MARFORRES (SABRS MRI-ARI-SRI),  NEW ORLEANS LA 70114-1500  | https://beta.sam.gov/opp/14ea75df20104d938b19eeaa223da217/view? | http://www.mybidmatch.com/article?doc=DF84EE4E-A77C-496C-82F1-38EF4330B2ED&seq=47\n",
      "Successfully inserted the record into the database.\n",
      "Waiting 5 seconds to process next notice page...\n",
      "Successfully accessed the notice web page: http://www.mybidmatch.com/article?doc=DF84EE4E-A77C-496C-82F1-38EF4330B2ED&seq=48\n",
      "Inserting record: 2020-05-15 | awards | DEPT OF DEFENSE | D | NETSCALER MPX 140 FIPS ADV EDITION | naics!511210; | DEPT OF DEFENSE, DEPT OF THE NAVY, NIWC PACIFIC, 53560 HULL STREET,  SAN DIEGO CA 92152-5001  | https://beta.sam.gov/opp/3910521cf8a44280a61ad323bade6bcf/view? | http://www.mybidmatch.com/article?doc=DF84EE4E-A77C-496C-82F1-38EF4330B2ED&seq=48\n",
      "Successfully inserted the record into the database.\n",
      "Waiting 3 seconds to process next notice page...\n",
      "Successfully accessed the notice web page: http://www.mybidmatch.com/article?doc=DF84EE4E-A77C-496C-82F1-38EF4330B2ED&seq=49\n",
      "Inserting record: 2020-05-15 | awards | DEPT OF DEFENSE | 70 | McAfee SIEM Maintenance Award Notice | naics!541519; software; | DEPT OF DEFENSE, DEPT OF THE NAVY, MFR COMPTROLLER, MARFORRES (SABRS MRI-ARI-SRI),  NEW ORLEANS LA 70114-1500  | https://beta.sam.gov/opp/4cace7c15ce84439a33b69942c509971/view? | http://www.mybidmatch.com/article?doc=DF84EE4E-A77C-496C-82F1-38EF4330B2ED&seq=49\n",
      "Successfully inserted the record into the database.\n",
      "Waiting 4 seconds to process next notice page...\n",
      "Successfully accessed the notice web page: http://www.mybidmatch.com/article?doc=DF84EE4E-A77C-496C-82F1-38EF4330B2ED&seq=50\n",
      "Inserting record: 2020-05-15 | awards | DEPT OF DEFENSE | 70 | Telecommunication Management System (TMS) software | naics!541519; software; | DEPT OF DEFENSE, DEPT OF THE NAVY, COMMANDING GENERAL, MCB CAMP LEJEUNE,  CAMP LEJEUNE NC 28542-0004  | https://beta.sam.gov/opp/cc93943762db4db1b1d4b265b08ec7c5/view? | http://www.mybidmatch.com/article?doc=DF84EE4E-A77C-496C-82F1-38EF4330B2ED&seq=50\n",
      "Successfully inserted the record into the database.\n",
      "Waiting 3 seconds to process next notice page...\n",
      "Successfully accessed the notice web page: http://www.mybidmatch.com/article?doc=DF84EE4E-A77C-496C-82F1-38EF4330B2ED&seq=51\n",
      "Inserting record: 2020-05-15 | awards | GENERAL SERVICES ADMINISTRATION | 99 | Multiple Award Schedule | naics!541511; | GENERAL SERVICES ADMINISTRATION, FEDERAL ACQUISITION SERVICE, GSA/FAS FURNITURE SYSTEMS MGT DIV, 100 INDEPENDENCE MALL WEST,  PHILADELPHIA PA 19107  | https://beta.sam.gov/opp/3e5842d2896441cebceb0462a4ecaa72/view? | http://www.mybidmatch.com/article?doc=DF84EE4E-A77C-496C-82F1-38EF4330B2ED&seq=51\n",
      "Successfully inserted the record into the database.\n",
      "Waiting 5 seconds to process next notice page...\n",
      "Successfully accessed the notice web page: http://www.mybidmatch.com/article?doc=DF84EE4E-A77C-496C-82F1-38EF4330B2ED&seq=52\n",
      "Inserting record: 2020-05-15 | awards | GENERAL SERVICES ADMINISTRATION | 99 | Multiple Award Schedule | naics!541512; | GENERAL SERVICES ADMINISTRATION, FEDERAL ACQUISITION SERVICE, GSA/FAS FURNITURE SYSTEMS MGT DIV, 100 INDEPENDENCE MALL WEST,  PHILADELPHIA PA 19107  | https://beta.sam.gov/opp/4274717ef4d24823bcfce527cef46278/view? | http://www.mybidmatch.com/article?doc=DF84EE4E-A77C-496C-82F1-38EF4330B2ED&seq=52\n",
      "Successfully inserted the record into the database.\n",
      "Waiting 4 seconds to process next notice page...\n",
      "Successfully accessed the notice web page: http://www.mybidmatch.com/article?doc=DF84EE4E-A77C-496C-82F1-38EF4330B2ED&seq=53\n",
      "Inserting record: 2020-05-15 | awards | GENERAL SERVICES ADMINISTRATION | 99 | Multiple Award Schedule | naics!541511; | GENERAL SERVICES ADMINISTRATION, FEDERAL ACQUISITION SERVICE, GSA/FAS FURNITURE SYSTEMS MGT DIV, 100 INDEPENDENCE MALL WEST,  PHILADELPHIA PA 19107  | https://beta.sam.gov/opp/b53c74678cef4480a1eb10f69a8f9f21/view? | http://www.mybidmatch.com/article?doc=DF84EE4E-A77C-496C-82F1-38EF4330B2ED&seq=53\n",
      "Successfully inserted the record into the database.\n",
      "Waiting 5 seconds to process next notice page...\n",
      "Successfully accessed the notice web page: http://www.mybidmatch.com/article?doc=DF84EE4E-A77C-496C-82F1-38EF4330B2ED&seq=54\n",
      "Inserting record: 2020-05-15 | special | VETERANS AFFAIRS | D | * Internet-Based Access for Users of CAFM Database* | naics!511210; software?; software; | VETERANS AFFAIRS, DEPARTMENT OF, VETERANS AFFAIRS, DEPARTMENT OF, 244-NETWORK CONTRACT OFFICE 4 (36C244), 1010 DELAFIELD ROAD,  PITTSBURGH PA 15215  | https://beta.sam.gov/opp/a2dedf644d9b48559ebc84c04ee06eb1/view? | http://www.mybidmatch.com/article?doc=DF84EE4E-A77C-496C-82F1-38EF4330B2ED&seq=54\n",
      "Successfully inserted the record into the database.\n",
      "Waiting 2 seconds to process next notice page...\n",
      "Successfully accessed the notice web page: http://www.mybidmatch.com/article?doc=DF84EE4E-A77C-496C-82F1-38EF4330B2ED&seq=55\n",
      "Inserting record: 2020-05-15 | special | HOMELAND SECURITY | D | SharePoint Justification for an Exception to Fair Opportunity | naics!518210; | HOMELAND SECURITY, DEPARTMENT OF, US IMMIGRATION AND CUSTOMS ENFORCEMENT, INFORMATION TECHNOLOGY DIVISION  | https://beta.sam.gov/opp/cf9c09cda32d4e49bdd9b801e17e6002/view? | http://www.mybidmatch.com/article?doc=DF84EE4E-A77C-496C-82F1-38EF4330B2ED&seq=55\n",
      "Successfully inserted the record into the database.\n",
      "Waiting 2 seconds to process next notice page...\n",
      "Successfully accessed the notice web page: http://www.mybidmatch.com/article?doc=DF84EE4E-A77C-496C-82F1-38EF4330B2ED&seq=56\n",
      "Inserting record: 2020-05-15 | special | AGRICULTURE | R | USDA Technology Roadmap - Sole Source | naics!541512; | AGRICULTURE, DEPARTMENT OF, USDA, DEPARTMENTAL ADMINISTRATION, USDA, OCP-POD-ACQ-MGMT-BRANCH-FTC, PROC OPERATIONS DIV-AMD (3144),  FORT COLLINS CO 80521  | https://beta.sam.gov/opp/4bb71bd0700d4dfdbc7fb4ba494624ce/view? | http://www.mybidmatch.com/article?doc=DF84EE4E-A77C-496C-82F1-38EF4330B2ED&seq=56\n",
      "Successfully inserted the record into the database.\n",
      "Waiting 2 seconds to process next notice page...\n",
      "Successfully accessed the notice web page: http://www.mybidmatch.com/article?doc=DF84EE4E-A77C-496C-82F1-38EF4330B2ED&seq=57\n",
      "Inserting record: 2020-05-15 | special | DEPT OF DEFENSE | 70 | Dell Server Award | naics!541519; | DEPT OF DEFENSE, DEPT OF THE AIR FORCE, FA8219   AFNWC PZBG, CP 801 586 8478,  HILL AFB UT 84056-5837  | https://beta.sam.gov/opp/19bddbd58f42483e8c31d0b76f509d68/view? | http://www.mybidmatch.com/article?doc=DF84EE4E-A77C-496C-82F1-38EF4330B2ED&seq=57\n",
      "Successfully inserted the record into the database.\n",
      "Waiting 2 seconds to process next notice page...\n",
      "Successfully accessed the notice web page: http://www.mybidmatch.com/article?doc=DF84EE4E-A77C-496C-82F1-38EF4330B2ED&seq=58\n",
      "Inserting record: 2020-05-15 | special | DEPT OF DEFENSE | 70 | Blackboard License | naics!541519; service?; | DEPT OF DEFENSE, DEPT OF THE AIR FORCE, FA4890  ACC AMIC, CP 757 225 7678,  LANGLEY AFB VA 23665-2701  | https://beta.sam.gov/opp/22a727c1ff494784b4fb2cf61e56efe8/view? | http://www.mybidmatch.com/article?doc=DF84EE4E-A77C-496C-82F1-38EF4330B2ED&seq=58\n",
      "Successfully inserted the record into the database.\n",
      "Waiting 2 seconds to process next notice page...\n",
      "Successfully accessed the notice web page: http://www.mybidmatch.com/article?doc=DF84EE4E-A77C-496C-82F1-38EF4330B2ED&seq=59\n",
      "Inserting record: 2020-05-15 | special | NUCLEAR REGULATORY COMMISSION | 70 | Notice of Intent to Noncompetitively Procure PORFLOW Annual Prof... | naics!511210; software?; software; | NUCLEAR REGULATORY COMMISSION, NUCLEAR REGULATORY COMMISSION, CENTRAL OFFICE,  ROCKVILLE MD 20855  | https://beta.sam.gov/opp/82484aee2a75480b9625a9dcbc84e162/view? | http://www.mybidmatch.com/article?doc=DF84EE4E-A77C-496C-82F1-38EF4330B2ED&seq=59\n",
      "Successfully inserted the record into the database.\n",
      "Waiting 5 seconds to process next notice page...\n",
      "Successfully accessed the notice web page: http://www.mybidmatch.com/article?doc=DF84EE4E-A77C-496C-82F1-38EF4330B2ED&seq=60\n",
      "Inserting record: 2020-05-15 | bid | Missouri - Office of Administration MissouriBUYS | D | SFS300319120002454  Huber Services for MO Dept. of Public Safety | software; | Missouri - Office of Administration MissouriBUYS, Missouri - Office of Administration MissouriBUYS  | https://missouribuys.mo.gov/bidboard | http://www.mybidmatch.com/article?doc=DF84EE4E-A77C-496C-82F1-38EF4330B2ED&seq=60\n",
      "Successfully inserted the record into the database.\n",
      "Waiting 5 seconds to process next notice page...\n",
      "Successfully accessed the notice web page: http://www.mybidmatch.com/article?doc=DF84EE4E-A77C-496C-82F1-38EF4330B2ED&seq=61\n",
      "Inserting record: 2020-05-15 | bid | Colorado - Rocky Mountain E-Purchasing System | D | NetScout Hardware and Software Support | software; | Colorado - Rocky Mountain E-Purchasing System  | http://www.bidnetdirect.com/colorado/solicitations/open-bids | http://www.mybidmatch.com/article?doc=DF84EE4E-A77C-496C-82F1-38EF4330B2ED&seq=61\n",
      "Successfully inserted the record into the database.\n",
      "Waiting 5 seconds to process next notice page...\n",
      "Successfully accessed the notice web page: http://www.mybidmatch.com/article?doc=DF84EE4E-A77C-496C-82F1-38EF4330B2ED&seq=62\n",
      "Inserting record: 2020-05-15 | bid | State of Connecticut | U | Technical Assessment, Design, and Related Services | analytic*; | State of Connecticut  | http://www.biznet.ct.gov/SCP_Search/Default.aspx?AccLast=2 | http://www.mybidmatch.com/article?doc=DF84EE4E-A77C-496C-82F1-38EF4330B2ED&seq=62\n",
      "Successfully inserted the record into the database.\n",
      "Waiting 2 seconds to process next notice page...\n",
      "Successfully accessed the notice web page: http://www.mybidmatch.com/article?doc=DF84EE4E-A77C-496C-82F1-38EF4330B2ED&seq=63\n",
      "Inserting record: 2020-05-15 | bid | Connecticut - University of Connecticut | R | RFP  Request For Proposal Technical Assessment, Design, and Rel | analytic*; | Connecticut - University of Connecticut  | https://bids.sciquest.com/apps/Router/PublicEvent?CustomerOrg=UConnFullSuite | http://www.mybidmatch.com/article?doc=DF84EE4E-A77C-496C-82F1-38EF4330B2ED&seq=63\n",
      "Successfully inserted the record into the database.\n",
      "Waiting 2 seconds to process next notice page...\n",
      "Successfully accessed the notice web page: http://www.mybidmatch.com/article?doc=DF84EE4E-A77C-496C-82F1-38EF4330B2ED&seq=64\n",
      "Inserting record: 2020-05-15 | bid | Hawaii - State of Hawaii | 70 | Computer Services | computer?; service?; | Hawaii - State of Hawaii  | https://hands.ehawaii.gov/hands/opportunities | http://www.mybidmatch.com/article?doc=DF84EE4E-A77C-496C-82F1-38EF4330B2ED&seq=64\n",
      "Successfully inserted the record into the database.\n",
      "Waiting 2 seconds to process next notice page...\n",
      "Successfully accessed the notice web page: http://www.mybidmatch.com/article?doc=DF84EE4E-A77C-496C-82F1-38EF4330B2ED&seq=65\n",
      "Inserting record: 2020-05-15 | bid | Hawaii - State of Hawaii | R | Exempt Request for Proposals for a Human Capital Management, Tim... | software; | Hawaii - State of Hawaii  | https://hands.ehawaii.gov/hands/opportunities | http://www.mybidmatch.com/article?doc=DF84EE4E-A77C-496C-82F1-38EF4330B2ED&seq=65\n",
      "Successfully inserted the record into the database.\n",
      "Waiting 2 seconds to process next notice page...\n",
      "Successfully accessed the notice web page: http://www.mybidmatch.com/article?doc=DF84EE4E-A77C-496C-82F1-38EF4330B2ED&seq=66\n",
      "Inserting record: 2020-05-15 | bid | Louisiana - Louisiana Press Association | D | PUBLIC NOTICE - - - ZACHARY COMMUNITY SCHOOL BOARD MINUTES MAY | software; | Louisiana - Louisiana Press Association  | http://www.publicnoticeads.com/LA/search/view.asp?T=PN&id=328/5142020_25946518.htm | http://www.mybidmatch.com/article?doc=DF84EE4E-A77C-496C-82F1-38EF4330B2ED&seq=66\n",
      "Successfully inserted the record into the database.\n",
      "Waiting 3 seconds to process next notice page...\n",
      "Successfully accessed the notice web page: http://www.mybidmatch.com/article?doc=DF84EE4E-A77C-496C-82F1-38EF4330B2ED&seq=67\n",
      "Inserting record: 2020-05-15 | bid | Massachusetts - City of Newton | D | 83 RFP Municipal Information Management System Software & Im | software; | Massachusetts - City of Newton  | http://www.newtonma.gov/gov/purchasing/current.asp | http://www.mybidmatch.com/article?doc=DF84EE4E-A77C-496C-82F1-38EF4330B2ED&seq=67\n",
      "Successfully inserted the record into the database.\n",
      "Waiting 2 seconds to process next notice page...\n",
      "Successfully accessed the notice web page: http://www.mybidmatch.com/article?doc=DF84EE4E-A77C-496C-82F1-38EF4330B2ED&seq=68\n",
      "Inserting record: 2020-05-15 | bid | Missouri - Parkway Schools | 70 | VDI Monitoring & Supporting Software | software; | Missouri - Parkway Schools  | https://parkwayschools.bonfirehub.com/portal/?tab=openOpportunities | http://www.mybidmatch.com/article?doc=DF84EE4E-A77C-496C-82F1-38EF4330B2ED&seq=68\n",
      "Successfully inserted the record into the database.\n",
      "Waiting 3 seconds to process next notice page...\n",
      "Successfully accessed the notice web page: http://www.mybidmatch.com/article?doc=DF84EE4E-A77C-496C-82F1-38EF4330B2ED&seq=69\n",
      "Inserting record: 2020-05-15 | bid | North Dakota - State Procurement Office | 70 | CAFR Reporting Compilation | software; | North Dakota - State Procurement Office  | https://apps.nd.gov/csd/spo/services/bidder/listCurrentSolicitations.htm | http://www.mybidmatch.com/article?doc=DF84EE4E-A77C-496C-82F1-38EF4330B2ED&seq=69\n",
      "Successfully inserted the record into the database.\n",
      "Waiting 5 seconds to process next notice page...\n",
      "Successfully accessed the notice web page: http://www.mybidmatch.com/article?doc=DF84EE4E-A77C-496C-82F1-38EF4330B2ED&seq=70\n",
      "Inserting record: 2020-05-15 | bid | New York - The Empire Purchasing Group | 70 | INFOR SOFTWARE | software; | New York - The Empire Purchasing Group  | http://www.bidnetdirect.com/new-york/solicitations/open-bids | http://www.mybidmatch.com/article?doc=DF84EE4E-A77C-496C-82F1-38EF4330B2ED&seq=70\n",
      "Successfully inserted the record into the database.\n",
      "Waiting 3 seconds to process next notice page...\n",
      "Successfully accessed the notice web page: http://www.mybidmatch.com/article?doc=DF84EE4E-A77C-496C-82F1-38EF4330B2ED&seq=71\n",
      "Inserting record: 2020-05-15 | bid | New York - The Empire Purchasing Group | 70 | IT Supplies, Equipment & Software | software; | New York - The Empire Purchasing Group  | http://www.bidnetdirect.com/new-york/solicitations/open-bids | http://www.mybidmatch.com/article?doc=DF84EE4E-A77C-496C-82F1-38EF4330B2ED&seq=71\n",
      "Successfully inserted the record into the database.\n",
      "Waiting 4 seconds to process next notice page...\n",
      "Successfully accessed the notice web page: http://www.mybidmatch.com/article?doc=DF84EE4E-A77C-496C-82F1-38EF4330B2ED&seq=72\n",
      "Inserting record: 2020-05-15 | bid | New York - MTA New York City Transit | D | Qognify Software Maintenance | software; | New York - MTA New York City Transit  | http://mta.info/mta/procurement/procure-mta-current.htm | http://www.mybidmatch.com/article?doc=DF84EE4E-A77C-496C-82F1-38EF4330B2ED&seq=72\n",
      "Successfully inserted the record into the database.\n",
      "Waiting 2 seconds to process next notice page...\n",
      "Successfully accessed the notice web page: http://www.mybidmatch.com/article?doc=DF84EE4E-A77C-496C-82F1-38EF4330B2ED&seq=73\n",
      "Inserting record: 2020-05-15 | bid | Texas - Texas Bid System | D | McAfee Hardware & Software Maintenance | software; | Texas - Texas Bid System  | http://www.bidnetdirect.com/texas/solicitations/open-bids | http://www.mybidmatch.com/article?doc=DF84EE4E-A77C-496C-82F1-38EF4330B2ED&seq=73\n",
      "Successfully inserted the record into the database.\n",
      "Waiting 2 seconds to process next notice page...\n",
      "Successfully accessed the notice web page: http://www.mybidmatch.com/article?doc=DF84EE4E-A77C-496C-82F1-38EF4330B2ED&seq=74\n",
      "Inserting record: 2020-05-15 | bid | Utah - Utah Division of Purchasing | 70 | Office of Legislative Research & General Counsel - Redistricting... | software; | Utah - Utah Division of Purchasing  | http://bids.sciquest.com/apps/Router/PublicEvent?CustomerOrg=StateOfUtah | http://www.mybidmatch.com/article?doc=DF84EE4E-A77C-496C-82F1-38EF4330B2ED&seq=74\n",
      "Successfully inserted the record into the database.\n",
      "Waiting 4 seconds to process next notice page...\n",
      "Successfully accessed the notice web page: http://www.mybidmatch.com/article?doc=DF84EE4E-A77C-496C-82F1-38EF4330B2ED&seq=75\n",
      "Inserting record: 2020-05-15 | bid | Wisconsin - Public Notices | 70 | Centralized Statewide Registry of Direct Care Workers Data Syste | software; | Wisconsin - Public Notices  | http://publicnotices.wi.gov/Notices.asp?menu=1 | http://www.mybidmatch.com/article?doc=DF84EE4E-A77C-496C-82F1-38EF4330B2ED&seq=75\n",
      "Successfully inserted the record into the database.\n",
      "Waiting 3 seconds to process next notice page...\n",
      "Successfully accessed the notice web page: http://www.mybidmatch.com/article?doc=DF84EE4E-A77C-496C-82F1-38EF4330B2ED&seq=76\n",
      "Inserting record: 2020-05-15 | bid | Nebraska - City of Lincoln/Lancaster County | D | Criminal Justice Information System (CJIS) Software Programmer a | software; | Nebraska - City of Lincoln/Lancaster County  | https://col.ionwave.net/CurrentSourcingEvents.aspx | http://www.mybidmatch.com/article?doc=DF84EE4E-A77C-496C-82F1-38EF4330B2ED&seq=76\n",
      "Successfully inserted the record into the database.\n",
      "Waiting 2 seconds to process next notice page...\n",
      "Successfully accessed the notice web page: http://www.mybidmatch.com/article?doc=DF84EE4E-A77C-496C-82F1-38EF4330B2ED&seq=77\n",
      "Inserting record: 2020-05-15 | bid | Wisconsin - City of Milwaukee RFQs over $50 | 70 | Mobile Software Communication Licenses | software; | Wisconsin - City of Milwaukee RFQs over $50,000  | http://city.milwaukee.gov/Purchasing/ContractOpps/Bids.htm | http://www.mybidmatch.com/article?doc=DF84EE4E-A77C-496C-82F1-38EF4330B2ED&seq=77\n",
      "Successfully inserted the record into the database.\n",
      "Waiting 3 seconds to process next notice page...\n",
      "Successfully accessed the notice web page: http://www.mybidmatch.com/article?doc=DF84EE4E-A77C-496C-82F1-38EF4330B2ED&seq=78\n",
      "Inserting record: 2020-05-15 | small | FedConnect | L | NOVACS software development for VDAP | software; | FedConnect  | https://www.fedconnect.net/FedConnect/PublicPages/PublicSearch/Public_Opportunities.aspx | http://www.mybidmatch.com/article?doc=DF84EE4E-A77C-496C-82F1-38EF4330B2ED&seq=78\n",
      "Successfully inserted the record into the database.\n",
      "Waiting 3 seconds to process next notice page...\n",
      "Successfully accessed the notice web page: http://www.mybidmatch.com/article?doc=DF84EE4E-A77C-496C-82F1-38EF4330B2ED&seq=79\n",
      "Inserting record: 2020-05-15 | small | TransitTalent.com | R | Transit, Paratransit, and Non-Emergency Medical Transport Softwa... | software; | TransitTalent.com  | http://www.transittalent.com/search_solicitations_all.cfm | http://www.mybidmatch.com/article?doc=DF84EE4E-A77C-496C-82F1-38EF4330B2ED&seq=79\n",
      "Successfully inserted the record into the database.\n",
      "Waiting 4 seconds to process next notice page...\n",
      "Successfully accessed the notice web page: http://www.mybidmatch.com/article?doc=DF84EE4E-A77C-496C-82F1-38EF4330B2ED&seq=80\n",
      "Inserting record: 2020-05-15 | small | Unison Marketplace | 70 | LOCITY 7 SOFTWARE Open Market | software; | Unison Marketplace  | https://marketplace.unisonglobal.com | http://www.mybidmatch.com/article?doc=DF84EE4E-A77C-496C-82F1-38EF4330B2ED&seq=80\n",
      "Successfully inserted the record into the database.\n"
     ]
    }
   ],
   "source": [
    "for search_item in search_listing :\n",
    "    search_element = search_item.find_all(\"td\")\n",
    "    posting_date_text = search_element[0].string\n",
    "    posting_date = datetime.strptime(posting_date_text, '%A, %b %d, %Y').date()\n",
    "    number_articles = int(search_element[1].string)\n",
    "    group_url = websiteURL + search_item.find('a').get('href')\n",
    "\n",
    "    if (number_articles > 0) and ((posting_date == targetDate) or processAll):\n",
    "        # Adding random wait time so we do not hammer the website needlessly\n",
    "        waitTime = randint(3,6)\n",
    "        print(\"Waiting \" + str(waitTime) + \" seconds to process next article grouping page...\")\n",
    "        sleep(waitTime)\n",
    "        \n",
    "        try:\n",
    "            s = requests.Session()\n",
    "            resp = s.get(group_url, headers=headers)\n",
    "            if (verbose): print(resp.text)\n",
    "        except HTTPError as e:\n",
    "            print('The server could not serve up the web page!')\n",
    "            sys.exit(\"Script processing cannot continue!!!\")\n",
    "        except ConnectionError as e:\n",
    "            print('The server could not be reached due to connection issues!')\n",
    "            sys.exit(\"Script processing cannot continue!!!\")\n",
    "        if (resp.status_code==requests.codes.ok):\n",
    "            print('Successfully accessed the article grouping web page: ' + group_url)\n",
    "            noticePage = BeautifulSoup(resp.text, 'lxml')\n",
    "                \n",
    "        notice_listing = noticePage.find(\"table\", class_=\"data\").find_all(\"tr\")\n",
    "        if verbose: print(notice_listing)\n",
    "\n",
    "        for notice_item in notice_listing :\n",
    "            notice_element = notice_item.find_all(\"td\")\n",
    "            source_tag = notice_element[1].string.strip()\n",
    "            agency_name = notice_element[2].string.strip()\n",
    "            if (notice_element[3].string is None):\n",
    "                fsg_tag = \"N/A\"\n",
    "            else:\n",
    "                fsg_tag = notice_element[3].string.strip()\n",
    "            article_title = notice_element[4].string.strip()\n",
    "            search_keywords = notice_element[5].string.strip()\n",
    "            notice_url = websiteURL + notice_item.find('a').get('href')\n",
    "\n",
    "            # Adding random wait time so we do not hammer the website needlessly\n",
    "            waitTime = randint(2,5)\n",
    "            print(\"Waiting \" + str(waitTime) + \" seconds to process next notice page...\")\n",
    "            sleep(waitTime)\n",
    "\n",
    "            try:\n",
    "                s = requests.Session()\n",
    "                resp = s.get(notice_url, headers=headers)\n",
    "                if (verbose): print(resp.text)\n",
    "            except HTTPError as e:\n",
    "                print('The server could not serve up the web page!')\n",
    "                sys.exit(\"Script processing cannot continue!!!\")\n",
    "            except ConnectionError as e:\n",
    "                print('The server could not be reached due to connection issues!')\n",
    "                sys.exit(\"Script processing cannot continue!!!\")\n",
    "\n",
    "            if (resp.status_code==requests.codes.ok):\n",
    "                print('Successfully accessed the notice web page: ' + notice_url)\n",
    "                detailPage = BeautifulSoup(resp.text, 'lxml')\n",
    "                notice_heading = detailPage.find(\"h4\").string\n",
    "                if (notice_heading is None): notice_heading = detailPage.find(\"h4\").contents[0]\n",
    "                notice_text = detailPage.find(\"div\", class_=\"art-box\").prettify()\n",
    "                links_in_detail = detailPage.find(\"div\", class_=\"art-box\").find_all('a')\n",
    "                if len(links_in_detail) > 0 : department_url = links_in_detail[-1].get('href')\n",
    "                else: department_url = None\n",
    "\n",
    "            if verbose: print(posting_date, source_tag, agency_name, fsg_tag, article_title, search_keywords, notice_heading, department_url, notice_url, notice_text)\n",
    "            df.loc[i] = [posting_date, source_tag, agency_name, fsg_tag, article_title, search_keywords, notice_heading, department_url, notice_url, notice_text]\n",
    "            if writeToDB: storeDB(posting_date, source_tag, agency_name, fsg_tag, article_title, search_keywords, notice_heading, department_url, notice_url, notice_text)\n",
    "            else: print(\"Found record:\", posting_date, '|', source_tag, '|', agency_name, '|', fsg_tag, '|', article_title, '|', search_keywords, '|', notice_heading, '|', department_url, '|', notice_url)\n",
    "            i = i + 1"
   ]
  },
  {
   "cell_type": "code",
   "execution_count": 15,
   "metadata": {},
   "outputs": [
    {
     "name": "stdout",
     "output_type": "stream",
     "text": [
      "Finished finding all available articles on the web pages!\n",
      "Number of article processed: 80\n"
     ]
    }
   ],
   "source": [
    "print('Finished finding all available articles on the web pages!')\n",
    "print('Number of article processed:', i)"
   ]
  },
  {
   "cell_type": "code",
   "execution_count": 16,
   "metadata": {},
   "outputs": [
    {
     "name": "stdout",
     "output_type": "stream",
     "text": [
      "Successfully closed the connection to host ec2-35-170-217-54.compute-1.amazonaws.com as user scrapinguser for database webscraping\n"
     ]
    }
   ],
   "source": [
    "if writeToDB:\n",
    "    try:\n",
    "        cur.close()\n",
    "        conn.close()\n",
    "        print(\"Successfully closed the connection to host\", db_host, \"as user\", db_user, \"for database\", db_name)\n",
    "    except:\n",
    "        print(\"Unable to close the connection to host\", db_host, \"as user\", db_user, \"for database\", db_name)"
   ]
  },
  {
   "cell_type": "markdown",
   "metadata": {},
   "source": [
    "## Organizing Data and Producing Outputs"
   ]
  },
  {
   "cell_type": "code",
   "execution_count": 106,
   "metadata": {},
   "outputs": [],
   "source": [
    "if writeJSON:\n",
    "    out_file = df.to_json(orient='records')\n",
    "    with open('web-scraping-py-bsoup-mybidmatch.json', 'w') as f:\n",
    "        f.write(out_file)\n",
    "    print('Total number of records written to file:', len(df))"
   ]
  },
  {
   "cell_type": "code",
   "execution_count": 107,
   "metadata": {},
   "outputs": [],
   "source": [
    "if notifyStatus: email_notify(\"The web scraping process for myBidMatch has completed! \"+datetime.now().strftime('%a %B %d, %Y %I:%M:%S %p'))"
   ]
  },
  {
   "cell_type": "code",
   "execution_count": 108,
   "metadata": {},
   "outputs": [
    {
     "name": "stdout",
     "output_type": "stream",
     "text": [
      "Total time for the script: 0:04:14.616541\n"
     ]
    }
   ],
   "source": [
    "print ('Total time for the script:', (datetime.now() - startTimeScript))"
   ]
  }
 ],
 "metadata": {
  "kernelspec": {
   "display_name": "Python 3",
   "language": "python",
   "name": "python3"
  },
  "language_info": {
   "codemirror_mode": {
    "name": "ipython",
    "version": 3
   },
   "file_extension": ".py",
   "mimetype": "text/x-python",
   "name": "python",
   "nbconvert_exporter": "python",
   "pygments_lexer": "ipython3",
   "version": "3.7.6"
  }
 },
 "nbformat": 4,
 "nbformat_minor": 4
}