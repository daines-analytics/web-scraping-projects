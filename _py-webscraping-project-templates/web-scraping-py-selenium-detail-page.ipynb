{
 "cells": [
  {
   "cell_type": "markdown",
   "metadata": {},
   "source": [
    "# Web Scraping of Quotes from Famous People Using Selenium\n",
    "## Version 1 - Detail Page\n",
    "### David Lowe\n",
    "### November 22, 2019\n",
    "\n",
    "SUMMARY: The purpose of this project is to practice web scraping by gathering specific pieces of information from a website. The web scraping code was written in Python and leveraged the Selenium module.\n",
    "\n",
    "INTRODUCTION: A demo website, created by Scrapinghub, lists quotes from famous people. It has many endpoints showing the quotes in different ways, and each endpoint presents a different scraping challenge for practicing web scraping. For this iteration, the Python script attempts to follow the links to the author page and scrape the author information.\n",
    "\n",
    "Starting URLs: http://quotes.toscrape.com/"
   ]
  },
  {
   "cell_type": "markdown",
   "metadata": {},
   "source": [
    "## Section 0. Prepare Environment"
   ]
  },
  {
   "cell_type": "code",
   "execution_count": 1,
   "metadata": {},
   "outputs": [],
   "source": [
    "import numpy as np\n",
    "import pandas as pd\n",
    "import os\n",
    "import sys\n",
    "import shutil\n",
    "import smtplib\n",
    "import pymysql\n",
    "from email.message import EmailMessage\n",
    "from datetime import datetime\n",
    "from random import randint\n",
    "from time import sleep\n",
    "from selenium import webdriver"
   ]
  },
  {
   "cell_type": "code",
   "execution_count": 2,
   "metadata": {},
   "outputs": [],
   "source": [
    "# Begin the timer for the script processing\n",
    "startTimeScript = datetime.now()\n",
    "\n",
    "# Set up the verbose flag to print detailed messages for debugging (setting to True will activate)\n",
    "verbose = False\n",
    "\n",
    "# Set up the flag to stop sending progress emails (setting to True will send status emails!)\n",
    "notifyStatus = False\n",
    "\n",
    "# Set up the writeJSON flag to capture the output in JSON (setting True will write the JSON file!)\n",
    "writeJSON = False\n",
    "\n",
    "# Set up the executeDownload flag to download files (setting True will download!)\n",
    "executeDownload = False"
   ]
  },
  {
   "cell_type": "code",
   "execution_count": 3,
   "metadata": {},
   "outputs": [],
   "source": [
    "def email_notify(msg_text):\n",
    "    sender = os.environ.get('MAIL_SENDER')\n",
    "    receiver = os.environ.get('MAIL_RECEIVER')\n",
    "    gateway = os.environ.get('SMTP_GATEWAY')\n",
    "    smtpuser = os.environ.get('SMTP_USERNAME')\n",
    "    password = os.environ.get('SMTP_PASSWORD')\n",
    "    if sender==None or receiver==None or gateway==None or smtpuser==None or password==None:\n",
    "        sys.exit(\"Incomplete email setup info. Script Processing Aborted!!!\")\n",
    "    msg = EmailMessage()\n",
    "    msg.set_content(msg_text)\n",
    "    msg['Subject'] = 'Notification from Python/Selenium Web Scraping Script'\n",
    "    msg['From'] = sender\n",
    "    msg['To'] = receiver\n",
    "    server = smtplib.SMTP(gateway, 587)\n",
    "    server.starttls()\n",
    "    server.login(smtpuser, password)\n",
    "    server.send_message(msg)\n",
    "    server.quit()"
   ]
  },
  {
   "cell_type": "code",
   "execution_count": 4,
   "metadata": {},
   "outputs": [],
   "source": [
    "def download_file(doc_path):\n",
    "#    local_file = os.path.basename(doc_path)\n",
    "    local_file = doc_path.split('/')[-1]\n",
    "    gdrivePrefix = '/content/gdrive/My Drive/Colab_Downloads/'\n",
    "    dest_file = gdrivePrefix + local_file\n",
    "    with requests.get(doc_path, stream=True) as r:\n",
    "        with open(dest_file, 'wb') as f:\n",
    "            shutil.copyfileobj(r.raw, f)\n",
    "    print('Downladed file: ' + dest_file)"
   ]
  },
  {
   "cell_type": "code",
   "execution_count": 5,
   "metadata": {},
   "outputs": [],
   "source": [
    "if (notifyStatus): email_notify(\"The web scraping process has begun! \"+datetime.now().strftime('%a %B %d, %Y %I:%M:%S %p'))"
   ]
  },
  {
   "cell_type": "markdown",
   "metadata": {},
   "source": [
    "## Section 1. Perform the Scraping and Processing"
   ]
  },
  {
   "cell_type": "code",
   "execution_count": 6,
   "metadata": {},
   "outputs": [],
   "source": [
    "# Specifying the URL of desired web page to be scrapped\n",
    "websiteURL = \"http://quotes.toscrape.com\"\n",
    "startingURL = websiteURL + \"/\"\n",
    "\n",
    "# Creating an html document from the URL\n",
    "uastring = \"Mozilla/5.0 (Windows NT 10.0; Win64; x64; rv:70.0) Gecko/20100101 Firefox/70.0\"\n",
    "headers={'User-Agent': uastring}"
   ]
  },
  {
   "cell_type": "code",
   "execution_count": 7,
   "metadata": {},
   "outputs": [],
   "source": [
    "if (notifyStatus): email_notify(\"The page loading and item extraction process has begun! \"+datetime.now().strftime('%a %B %d, %Y %I:%M:%S %p'))"
   ]
  },
  {
   "cell_type": "code",
   "execution_count": 8,
   "metadata": {},
   "outputs": [
    {
     "name": "stdout",
     "output_type": "stream",
     "text": [
      "Successfully accessed the web page: Quotes to Scrape\n"
     ]
    }
   ],
   "source": [
    "browser = webdriver.Firefox()\n",
    "try:\n",
    "    browser.get(startingURL)\n",
    "    print('Successfully accessed the web page: ' + browser.title)\n",
    "except:\n",
    "    print('The web page could not be reached for some reasons!')\n",
    "    sys.exit(\"Script processing cannot continue!!!\")"
   ]
  },
  {
   "cell_type": "code",
   "execution_count": 9,
   "metadata": {},
   "outputs": [],
   "source": [
    "# Setting up a dataframe to capture the records\n",
    "df = pd.DataFrame(columns=['author_name','author_birthday','author_location','author_bio','author_link'])\n",
    "pageNum = 1\n",
    "i = 0"
   ]
  },
  {
   "cell_type": "code",
   "execution_count": 10,
   "metadata": {},
   "outputs": [
    {
     "name": "stdout",
     "output_type": "stream",
     "text": [
      "The URL for the next page is:  http://quotes.toscrape.com/page/2/\n",
      "Waiting 2 seconds to process next page...\n",
      "The URL for the next page is:  http://quotes.toscrape.com/page/3/\n",
      "Waiting 2 seconds to process next page...\n",
      "The URL for the next page is:  http://quotes.toscrape.com/page/4/\n",
      "Waiting 2 seconds to process next page...\n",
      "The URL for the next page is:  http://quotes.toscrape.com/page/5/\n",
      "Waiting 2 seconds to process next page...\n",
      "The URL for the next page is:  http://quotes.toscrape.com/page/6/\n",
      "Waiting 2 seconds to process next page...\n",
      "The URL for the next page is:  http://quotes.toscrape.com/page/7/\n",
      "Waiting 2 seconds to process next page...\n",
      "The URL for the next page is:  http://quotes.toscrape.com/page/8/\n",
      "Waiting 4 seconds to process next page...\n",
      "The URL for the next page is:  http://quotes.toscrape.com/page/9/\n",
      "Waiting 3 seconds to process next page...\n",
      "The URL for the next page is:  http://quotes.toscrape.com/page/10/\n",
      "Waiting 5 seconds to process next page...\n",
      "No more quote page to retrieve. The processing has completed!\n"
     ]
    }
   ],
   "source": [
    "# Iterate through the quote pages to gather author names and links\n",
    "done = False\n",
    "\n",
    "while not done :\n",
    "    quote_listing = browser.find_elements_by_class_name(\"quote\")\n",
    "    if (verbose): print(quote_listing)\n",
    "    \n",
    "    for quote_item in quote_listing :\n",
    "        if (verbose): print(quote_item.text)\n",
    "        author_name = \"[Not Found]\"\n",
    "        author_birthday = \"[Not Found]\"\n",
    "        author_location = \"[Not Found]\"\n",
    "        author_bio = \"[Not Found]\"\n",
    "        author_link = \"[Not Found]\"\n",
    "\n",
    "        author_name = quote_item.find_element_by_class_name(\"author\").text\n",
    "        author_link = quote_item.find_element_by_tag_name('a').get_attribute(\"href\")\n",
    "        if not df['author_name'].str.contains(author_name).any() :\n",
    "            if (verbose): print(author_name, '|', author_birthday, '|', author_location, '|', author_bio, '|', author_link)\n",
    "            df.loc[i] = [author_name, author_birthday, author_location, author_bio, author_link]\n",
    "            i = i + 1\n",
    "\n",
    "    if ((pageNum % 5)==0) :\n",
    "        if (notifyStatus): email_notify(\"Finished parsing page: \" + next_page_url + \" at \"+datetime.now().strftime('%a %B %d, %Y %I:%M:%S %p'))\n",
    "    pageNum = pageNum + 1\n",
    "\n",
    "    try:\n",
    "        next_page = browser.find_element_by_class_name('next')\n",
    "    except:\n",
    "        print(\"No more quote page to retrieve. The processing has completed!\")\n",
    "        done = True\n",
    "\n",
    "    if not done:\n",
    "        next_page_url = next_page.find_element_by_tag_name('a').get_attribute(\"href\")\n",
    "        print(\"The URL for the next page is: \", next_page_url)\n",
    "        # Adding random wait time so we do not hammer the website needlessly\n",
    "        waitTime = randint(2,5)\n",
    "        print(\"Waiting \" + str(waitTime) + \" seconds to process next page...\")\n",
    "        sleep(waitTime)\n",
    "        try:\n",
    "            browser.get(next_page_url)\n",
    "        except:\n",
    "            print(\"Received error whent trying to access an URL. The script will stop!\")\n",
    "            done = True"
   ]
  },
  {
   "cell_type": "code",
   "execution_count": 11,
   "metadata": {},
   "outputs": [
    {
     "name": "stdout",
     "output_type": "stream",
     "text": [
      "Waiting 3 seconds to process author page: http://quotes.toscrape.com/author/Albert-Einstein\n",
      "Successfully accessed the author page: http://quotes.toscrape.com/author/Albert-Einstein\n",
      "Waiting 4 seconds to process author page: http://quotes.toscrape.com/author/J-K-Rowling\n",
      "Successfully accessed the author page: http://quotes.toscrape.com/author/J-K-Rowling\n",
      "Waiting 5 seconds to process author page: http://quotes.toscrape.com/author/Jane-Austen\n",
      "Successfully accessed the author page: http://quotes.toscrape.com/author/Jane-Austen\n",
      "Waiting 2 seconds to process author page: http://quotes.toscrape.com/author/Marilyn-Monroe\n",
      "Successfully accessed the author page: http://quotes.toscrape.com/author/Marilyn-Monroe\n",
      "Waiting 5 seconds to process author page: http://quotes.toscrape.com/author/Andre-Gide\n",
      "Successfully accessed the author page: http://quotes.toscrape.com/author/Andre-Gide\n",
      "Waiting 5 seconds to process author page: http://quotes.toscrape.com/author/Thomas-A-Edison\n",
      "Successfully accessed the author page: http://quotes.toscrape.com/author/Thomas-A-Edison\n",
      "Waiting 2 seconds to process author page: http://quotes.toscrape.com/author/Eleanor-Roosevelt\n",
      "Successfully accessed the author page: http://quotes.toscrape.com/author/Eleanor-Roosevelt\n",
      "Waiting 4 seconds to process author page: http://quotes.toscrape.com/author/Steve-Martin\n",
      "Successfully accessed the author page: http://quotes.toscrape.com/author/Steve-Martin\n",
      "Waiting 3 seconds to process author page: http://quotes.toscrape.com/author/Bob-Marley\n",
      "Successfully accessed the author page: http://quotes.toscrape.com/author/Bob-Marley\n",
      "Waiting 4 seconds to process author page: http://quotes.toscrape.com/author/Dr-Seuss\n",
      "Successfully accessed the author page: http://quotes.toscrape.com/author/Dr-Seuss\n",
      "Waiting 3 seconds to process author page: http://quotes.toscrape.com/author/Douglas-Adams\n",
      "Successfully accessed the author page: http://quotes.toscrape.com/author/Douglas-Adams\n",
      "Waiting 4 seconds to process author page: http://quotes.toscrape.com/author/Elie-Wiesel\n",
      "Successfully accessed the author page: http://quotes.toscrape.com/author/Elie-Wiesel\n",
      "Waiting 3 seconds to process author page: http://quotes.toscrape.com/author/Friedrich-Nietzsche\n",
      "Successfully accessed the author page: http://quotes.toscrape.com/author/Friedrich-Nietzsche\n",
      "Waiting 3 seconds to process author page: http://quotes.toscrape.com/author/Mark-Twain\n",
      "Successfully accessed the author page: http://quotes.toscrape.com/author/Mark-Twain\n",
      "Waiting 4 seconds to process author page: http://quotes.toscrape.com/author/Allen-Saunders\n",
      "Successfully accessed the author page: http://quotes.toscrape.com/author/Allen-Saunders\n",
      "Waiting 2 seconds to process author page: http://quotes.toscrape.com/author/Pablo-Neruda\n",
      "Successfully accessed the author page: http://quotes.toscrape.com/author/Pablo-Neruda\n",
      "Waiting 5 seconds to process author page: http://quotes.toscrape.com/author/Ralph-Waldo-Emerson\n",
      "Successfully accessed the author page: http://quotes.toscrape.com/author/Ralph-Waldo-Emerson\n",
      "Waiting 5 seconds to process author page: http://quotes.toscrape.com/author/Mother-Teresa\n",
      "Successfully accessed the author page: http://quotes.toscrape.com/author/Mother-Teresa\n",
      "Waiting 5 seconds to process author page: http://quotes.toscrape.com/author/Garrison-Keillor\n",
      "Successfully accessed the author page: http://quotes.toscrape.com/author/Garrison-Keillor\n",
      "Waiting 3 seconds to process author page: http://quotes.toscrape.com/author/Jim-Henson\n",
      "Successfully accessed the author page: http://quotes.toscrape.com/author/Jim-Henson\n",
      "Waiting 3 seconds to process author page: http://quotes.toscrape.com/author/Charles-M-Schulz\n",
      "Successfully accessed the author page: http://quotes.toscrape.com/author/Charles-M-Schulz\n",
      "Waiting 5 seconds to process author page: http://quotes.toscrape.com/author/William-Nicholson\n",
      "Successfully accessed the author page: http://quotes.toscrape.com/author/William-Nicholson\n",
      "Waiting 2 seconds to process author page: http://quotes.toscrape.com/author/Jorge-Luis-Borges\n",
      "Successfully accessed the author page: http://quotes.toscrape.com/author/Jorge-Luis-Borges\n",
      "Waiting 3 seconds to process author page: http://quotes.toscrape.com/author/George-Eliot\n",
      "Successfully accessed the author page: http://quotes.toscrape.com/author/George-Eliot\n",
      "Waiting 5 seconds to process author page: http://quotes.toscrape.com/author/George-R-R-Martin\n",
      "Successfully accessed the author page: http://quotes.toscrape.com/author/George-R-R-Martin\n",
      "Waiting 4 seconds to process author page: http://quotes.toscrape.com/author/C-S-Lewis\n",
      "Successfully accessed the author page: http://quotes.toscrape.com/author/C-S-Lewis\n",
      "Waiting 5 seconds to process author page: http://quotes.toscrape.com/author/Martin-Luther-King-Jr\n",
      "Successfully accessed the author page: http://quotes.toscrape.com/author/Martin-Luther-King-Jr\n",
      "Waiting 3 seconds to process author page: http://quotes.toscrape.com/author/James-Baldwin\n",
      "Successfully accessed the author page: http://quotes.toscrape.com/author/James-Baldwin\n",
      "Waiting 5 seconds to process author page: http://quotes.toscrape.com/author/Haruki-Murakami\n",
      "Successfully accessed the author page: http://quotes.toscrape.com/author/Haruki-Murakami\n",
      "Waiting 4 seconds to process author page: http://quotes.toscrape.com/author/Alexandre-Dumas-fils\n",
      "Successfully accessed the author page: http://quotes.toscrape.com/author/Alexandre-Dumas-fils\n",
      "Waiting 3 seconds to process author page: http://quotes.toscrape.com/author/Stephenie-Meyer\n",
      "Successfully accessed the author page: http://quotes.toscrape.com/author/Stephenie-Meyer\n",
      "Waiting 3 seconds to process author page: http://quotes.toscrape.com/author/Ernest-Hemingway\n",
      "Successfully accessed the author page: http://quotes.toscrape.com/author/Ernest-Hemingway\n",
      "Waiting 4 seconds to process author page: http://quotes.toscrape.com/author/Helen-Keller\n",
      "Successfully accessed the author page: http://quotes.toscrape.com/author/Helen-Keller\n",
      "Waiting 2 seconds to process author page: http://quotes.toscrape.com/author/George-Bernard-Shaw\n",
      "Successfully accessed the author page: http://quotes.toscrape.com/author/George-Bernard-Shaw\n",
      "Waiting 2 seconds to process author page: http://quotes.toscrape.com/author/Charles-Bukowski\n",
      "Successfully accessed the author page: http://quotes.toscrape.com/author/Charles-Bukowski\n",
      "Waiting 5 seconds to process author page: http://quotes.toscrape.com/author/Suzanne-Collins\n",
      "Successfully accessed the author page: http://quotes.toscrape.com/author/Suzanne-Collins\n",
      "Waiting 5 seconds to process author page: http://quotes.toscrape.com/author/J-R-R-Tolkien\n",
      "Successfully accessed the author page: http://quotes.toscrape.com/author/J-R-R-Tolkien\n",
      "Waiting 4 seconds to process author page: http://quotes.toscrape.com/author/Alfred-Tennyson\n",
      "Successfully accessed the author page: http://quotes.toscrape.com/author/Alfred-Tennyson\n",
      "Waiting 3 seconds to process author page: http://quotes.toscrape.com/author/Terry-Pratchett\n",
      "Successfully accessed the author page: http://quotes.toscrape.com/author/Terry-Pratchett\n",
      "Waiting 2 seconds to process author page: http://quotes.toscrape.com/author/J-D-Salinger\n",
      "Successfully accessed the author page: http://quotes.toscrape.com/author/J-D-Salinger\n",
      "Waiting 2 seconds to process author page: http://quotes.toscrape.com/author/George-Carlin\n",
      "Successfully accessed the author page: http://quotes.toscrape.com/author/George-Carlin\n",
      "Waiting 4 seconds to process author page: http://quotes.toscrape.com/author/John-Lennon\n",
      "Successfully accessed the author page: http://quotes.toscrape.com/author/John-Lennon\n",
      "Waiting 4 seconds to process author page: http://quotes.toscrape.com/author/W-C-Fields\n",
      "Successfully accessed the author page: http://quotes.toscrape.com/author/W-C-Fields\n",
      "Waiting 5 seconds to process author page: http://quotes.toscrape.com/author/Ayn-Rand\n",
      "Successfully accessed the author page: http://quotes.toscrape.com/author/Ayn-Rand\n",
      "Waiting 3 seconds to process author page: http://quotes.toscrape.com/author/Jimi-Hendrix\n",
      "Successfully accessed the author page: http://quotes.toscrape.com/author/Jimi-Hendrix\n",
      "Waiting 5 seconds to process author page: http://quotes.toscrape.com/author/J-M-Barrie\n",
      "Successfully accessed the author page: http://quotes.toscrape.com/author/J-M-Barrie\n",
      "Waiting 2 seconds to process author page: http://quotes.toscrape.com/author/E-E-Cummings\n",
      "Successfully accessed the author page: http://quotes.toscrape.com/author/E-E-Cummings\n",
      "Waiting 3 seconds to process author page: http://quotes.toscrape.com/author/Khaled-Hosseini\n",
      "Successfully accessed the author page: http://quotes.toscrape.com/author/Khaled-Hosseini\n",
      "Waiting 4 seconds to process author page: http://quotes.toscrape.com/author/Harper-Lee\n",
      "Successfully accessed the author page: http://quotes.toscrape.com/author/Harper-Lee\n",
      "Waiting 5 seconds to process author page: http://quotes.toscrape.com/author/Madeleine-LEngle\n",
      "Successfully accessed the author page: http://quotes.toscrape.com/author/Madeleine-LEngle\n",
      "No more page to retrieve. The processing has completed!\n"
     ]
    }
   ],
   "source": [
    "# Iterate through the author pages to gather author biographical information\n",
    "for i, row in df.iterrows():\n",
    "    # Adding random wait time so we do not hammer the website needlessly\n",
    "    waitTime = randint(2,5)\n",
    "    print(\"Waiting \" + str(waitTime) + \" seconds to process author page: \" + row['author_link'])\n",
    "    sleep(waitTime)\n",
    "    try:\n",
    "        browser.get(row['author_link'])\n",
    "    except:\n",
    "        print(\"Unable to retrieve the author detail page. The script will skip this author!\")\n",
    "    else:\n",
    "        print('Successfully accessed the author page: ' + row['author_link'])\n",
    "        author_birthday = browser.find_element_by_class_name(\"author-born-date\").text\n",
    "        author_location = browser.find_element_by_class_name(\"author-born-location\").text\n",
    "        author_bio = browser.find_element_by_class_name(\"author-description\").text\n",
    "        df.at[i,'author_birthday'] = author_birthday\n",
    "        df.at[i,'author_location'] = author_location\n",
    "        df.at[i,'author_bio'] = author_bio\n",
    "\n",
    "print(\"No more page to retrieve. The processing has completed!\")"
   ]
  },
  {
   "cell_type": "code",
   "execution_count": 12,
   "metadata": {},
   "outputs": [],
   "source": [
    "# Close the browsing session\n",
    "browser.quit()"
   ]
  },
  {
   "cell_type": "code",
   "execution_count": 13,
   "metadata": {},
   "outputs": [],
   "source": [
    "if (notifyStatus): email_notify(\"The page loading and item extraction process completed! \"+datetime.now().strftime('%a %B %d, %Y %I:%M:%S %p'))"
   ]
  },
  {
   "cell_type": "markdown",
   "metadata": {},
   "source": [
    "## Section 2. Organizing Data and Producing Outputs"
   ]
  },
  {
   "cell_type": "code",
   "execution_count": 14,
   "metadata": {},
   "outputs": [
    {
     "name": "stdout",
     "output_type": "stream",
     "text": [
      "Some of the final set of records captured are:\n"
     ]
    },
    {
     "data": {
      "text/html": [
       "<div>\n",
       "<style scoped>\n",
       "    .dataframe tbody tr th:only-of-type {\n",
       "        vertical-align: middle;\n",
       "    }\n",
       "\n",
       "    .dataframe tbody tr th {\n",
       "        vertical-align: top;\n",
       "    }\n",
       "\n",
       "    .dataframe thead th {\n",
       "        text-align: right;\n",
       "    }\n",
       "</style>\n",
       "<table border=\"1\" class=\"dataframe\">\n",
       "  <thead>\n",
       "    <tr style=\"text-align: right;\">\n",
       "      <th></th>\n",
       "      <th>author_name</th>\n",
       "      <th>author_birthday</th>\n",
       "      <th>author_location</th>\n",
       "      <th>author_bio</th>\n",
       "      <th>author_link</th>\n",
       "    </tr>\n",
       "  </thead>\n",
       "  <tbody>\n",
       "    <tr>\n",
       "      <td>0</td>\n",
       "      <td>Albert Einstein</td>\n",
       "      <td>March 14, 1879</td>\n",
       "      <td>in Ulm, Germany</td>\n",
       "      <td>In 1879, Albert Einstein was born in Ulm, Germ...</td>\n",
       "      <td>http://quotes.toscrape.com/author/Albert-Einstein</td>\n",
       "    </tr>\n",
       "    <tr>\n",
       "      <td>1</td>\n",
       "      <td>J.K. Rowling</td>\n",
       "      <td>July 31, 1965</td>\n",
       "      <td>in Yate, South Gloucestershire, England, The U...</td>\n",
       "      <td>See also: Robert GalbraithAlthough she writes ...</td>\n",
       "      <td>http://quotes.toscrape.com/author/J-K-Rowling</td>\n",
       "    </tr>\n",
       "    <tr>\n",
       "      <td>2</td>\n",
       "      <td>Jane Austen</td>\n",
       "      <td>December 16, 1775</td>\n",
       "      <td>in Steventon Rectory, Hampshire, The United Ki...</td>\n",
       "      <td>Jane Austen was an English novelist whose work...</td>\n",
       "      <td>http://quotes.toscrape.com/author/Jane-Austen</td>\n",
       "    </tr>\n",
       "    <tr>\n",
       "      <td>3</td>\n",
       "      <td>Marilyn Monroe</td>\n",
       "      <td>June 01, 1926</td>\n",
       "      <td>in The United States</td>\n",
       "      <td>Marilyn Monroe (born Norma Jeane Mortenson; Ju...</td>\n",
       "      <td>http://quotes.toscrape.com/author/Marilyn-Monroe</td>\n",
       "    </tr>\n",
       "    <tr>\n",
       "      <td>4</td>\n",
       "      <td>André Gide</td>\n",
       "      <td>November 22, 1869</td>\n",
       "      <td>in Paris, France</td>\n",
       "      <td>André Paul Guillaume Gide was a French author ...</td>\n",
       "      <td>http://quotes.toscrape.com/author/Andre-Gide</td>\n",
       "    </tr>\n",
       "    <tr>\n",
       "      <td>5</td>\n",
       "      <td>Thomas A. Edison</td>\n",
       "      <td>February 11, 1847</td>\n",
       "      <td>in Milan, Ohio, The United States</td>\n",
       "      <td>Thomas Alva Edison was an American inventor, s...</td>\n",
       "      <td>http://quotes.toscrape.com/author/Thomas-A-Edison</td>\n",
       "    </tr>\n",
       "    <tr>\n",
       "      <td>6</td>\n",
       "      <td>Eleanor Roosevelt</td>\n",
       "      <td>October 11, 1884</td>\n",
       "      <td>in The United States</td>\n",
       "      <td>Anna Eleanor Roosevelt was an American politic...</td>\n",
       "      <td>http://quotes.toscrape.com/author/Eleanor-Roos...</td>\n",
       "    </tr>\n",
       "    <tr>\n",
       "      <td>7</td>\n",
       "      <td>Steve Martin</td>\n",
       "      <td>August 14, 1945</td>\n",
       "      <td>in Waco, Texas, The United States</td>\n",
       "      <td>Stephen Glenn \"Steve\" Martin is an American ac...</td>\n",
       "      <td>http://quotes.toscrape.com/author/Steve-Martin</td>\n",
       "    </tr>\n",
       "    <tr>\n",
       "      <td>8</td>\n",
       "      <td>Bob Marley</td>\n",
       "      <td>February 06, 1945</td>\n",
       "      <td>in Nine Mile, Saint Ann, Jamaica</td>\n",
       "      <td>Robert \"Bob\" Nesta Marley OM was a Jamaican si...</td>\n",
       "      <td>http://quotes.toscrape.com/author/Bob-Marley</td>\n",
       "    </tr>\n",
       "    <tr>\n",
       "      <td>9</td>\n",
       "      <td>Dr. Seuss</td>\n",
       "      <td>March 02, 1904</td>\n",
       "      <td>in Springfield, MA, The United States</td>\n",
       "      <td>Theodor Seuss Geisel was born 2 March 1904 in ...</td>\n",
       "      <td>http://quotes.toscrape.com/author/Dr-Seuss</td>\n",
       "    </tr>\n",
       "  </tbody>\n",
       "</table>\n",
       "</div>"
      ],
      "text/plain": [
       "         author_name    author_birthday  \\\n",
       "0    Albert Einstein     March 14, 1879   \n",
       "1       J.K. Rowling      July 31, 1965   \n",
       "2        Jane Austen  December 16, 1775   \n",
       "3     Marilyn Monroe      June 01, 1926   \n",
       "4         André Gide  November 22, 1869   \n",
       "5   Thomas A. Edison  February 11, 1847   \n",
       "6  Eleanor Roosevelt   October 11, 1884   \n",
       "7       Steve Martin    August 14, 1945   \n",
       "8         Bob Marley  February 06, 1945   \n",
       "9          Dr. Seuss     March 02, 1904   \n",
       "\n",
       "                                     author_location  \\\n",
       "0                                    in Ulm, Germany   \n",
       "1  in Yate, South Gloucestershire, England, The U...   \n",
       "2  in Steventon Rectory, Hampshire, The United Ki...   \n",
       "3                               in The United States   \n",
       "4                                   in Paris, France   \n",
       "5                  in Milan, Ohio, The United States   \n",
       "6                               in The United States   \n",
       "7                  in Waco, Texas, The United States   \n",
       "8                   in Nine Mile, Saint Ann, Jamaica   \n",
       "9              in Springfield, MA, The United States   \n",
       "\n",
       "                                          author_bio  \\\n",
       "0  In 1879, Albert Einstein was born in Ulm, Germ...   \n",
       "1  See also: Robert GalbraithAlthough she writes ...   \n",
       "2  Jane Austen was an English novelist whose work...   \n",
       "3  Marilyn Monroe (born Norma Jeane Mortenson; Ju...   \n",
       "4  André Paul Guillaume Gide was a French author ...   \n",
       "5  Thomas Alva Edison was an American inventor, s...   \n",
       "6  Anna Eleanor Roosevelt was an American politic...   \n",
       "7  Stephen Glenn \"Steve\" Martin is an American ac...   \n",
       "8  Robert \"Bob\" Nesta Marley OM was a Jamaican si...   \n",
       "9  Theodor Seuss Geisel was born 2 March 1904 in ...   \n",
       "\n",
       "                                         author_link  \n",
       "0  http://quotes.toscrape.com/author/Albert-Einstein  \n",
       "1      http://quotes.toscrape.com/author/J-K-Rowling  \n",
       "2      http://quotes.toscrape.com/author/Jane-Austen  \n",
       "3   http://quotes.toscrape.com/author/Marilyn-Monroe  \n",
       "4       http://quotes.toscrape.com/author/Andre-Gide  \n",
       "5  http://quotes.toscrape.com/author/Thomas-A-Edison  \n",
       "6  http://quotes.toscrape.com/author/Eleanor-Roos...  \n",
       "7     http://quotes.toscrape.com/author/Steve-Martin  \n",
       "8       http://quotes.toscrape.com/author/Bob-Marley  \n",
       "9         http://quotes.toscrape.com/author/Dr-Seuss  "
      ]
     },
     "execution_count": 14,
     "metadata": {},
     "output_type": "execute_result"
    }
   ],
   "source": [
    "print('Some of the final set of records captured are:')\n",
    "df.head(10)"
   ]
  },
  {
   "cell_type": "code",
   "execution_count": 15,
   "metadata": {},
   "outputs": [
    {
     "name": "stdout",
     "output_type": "stream",
     "text": [
      "Total number of records processed: 50\n"
     ]
    }
   ],
   "source": [
    "if (writeJSON):\n",
    "    out_file = df.to_json(orient='records')\n",
    "    with open('web-scraping-py-bsoup-simple-pagination.json', 'w') as f:\n",
    "        f.write(out_file)\n",
    "print('Total number of records processed:', len(df))"
   ]
  },
  {
   "cell_type": "code",
   "execution_count": 16,
   "metadata": {},
   "outputs": [],
   "source": [
    "if (notifyStatus): email_notify(\"The web scraping process has completed! \"+datetime.now().strftime('%a %B %d, %Y %I:%M:%S %p'))"
   ]
  },
  {
   "cell_type": "code",
   "execution_count": 17,
   "metadata": {},
   "outputs": [
    {
     "name": "stdout",
     "output_type": "stream",
     "text": [
      "Total time for the script: 0:04:23.720655\n"
     ]
    }
   ],
   "source": [
    "print ('Total time for the script:',(datetime.now() - startTimeScript))"
   ]
  }
 ],
 "metadata": {
  "kernelspec": {
   "display_name": "Python 3",
   "language": "python",
   "name": "python3"
  },
  "language_info": {
   "codemirror_mode": {
    "name": "ipython",
    "version": 3
   },
   "file_extension": ".py",
   "mimetype": "text/x-python",
   "name": "python",
   "nbconvert_exporter": "python",
   "pygments_lexer": "ipython3",
   "version": "3.7.4"
  }
 },
 "nbformat": 4,
 "nbformat_minor": 4
}
