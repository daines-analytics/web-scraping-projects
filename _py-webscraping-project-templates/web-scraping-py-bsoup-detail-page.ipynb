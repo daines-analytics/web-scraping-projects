{
 "cells": [
  {
   "cell_type": "markdown",
   "metadata": {},
   "source": [
    "# Web Scraping of Quotes from Famous People Using BeautifulSoup\n",
    "### David Lowe\n",
    "### May 19, 2019\n",
    "\n",
    "SUMMARY: The purpose of this project is to practice web scraping by gathering specific pieces of information from a website. The web scraping code was written in Python and leveraged the BeautifulSoup module.\n",
    "\n",
    "INTRODUCTION: A demo website, created by Scrapinghub, lists quotes from famous people. It has many endpoints showing the quotes in different ways, and each endpoint presents a different scraping challenge for practicing web scraping. For this Take2 iteration, the Python script attempts to follow the links to the author page and scrape the author information.\n",
    "\n",
    "Starting URLs: http://quotes.toscrape.com/"
   ]
  },
  {
   "cell_type": "markdown",
   "metadata": {},
   "source": [
    "## Loading Libraries and Packages"
   ]
  },
  {
   "cell_type": "code",
   "execution_count": 1,
   "metadata": {},
   "outputs": [],
   "source": [
    "import numpy as np\n",
    "import pandas as pd\n",
    "import os\n",
    "import shutil\n",
    "import smtplib\n",
    "import sys\n",
    "from email.message import EmailMessage\n",
    "from datetime import datetime\n",
    "import requests\n",
    "from bs4 import BeautifulSoup\n",
    "from random import randint\n",
    "from time import sleep\n",
    "\n",
    "startTimeScript = datetime.now()"
   ]
  },
  {
   "cell_type": "markdown",
   "metadata": {},
   "source": [
    "## Setting up the email notification function"
   ]
  },
  {
   "cell_type": "code",
   "execution_count": 2,
   "metadata": {},
   "outputs": [],
   "source": [
    "def email_notify(msg_text):\n",
    "    sender = os.environ.get('MAIL_SENDER')\n",
    "    receiver = os.environ.get('MAIL_RECEIVER')\n",
    "    gateway = os.environ.get('SMTP_GATEWAY')\n",
    "    smtpuser = os.environ.get('SMTP_USERNAME')\n",
    "    password = os.environ.get('SMTP_PASSWORD')\n",
    "    if sender==None or receiver==None or gateway==None or smtpuser==None or password==None:\n",
    "        sys.exit(\"Incomplete email setup info. Script Processing Aborted!!!\")\n",
    "    msg = EmailMessage()\n",
    "    msg.set_content(msg_text)\n",
    "    msg['Subject'] = 'Notification from Python Web Scraping Script'\n",
    "    msg['From'] = sender\n",
    "    msg['To'] = receiver\n",
    "    server = smtplib.SMTP(gateway, 587)\n",
    "    server.starttls()\n",
    "    server.login(smtpuser, password)\n",
    "    server.send_message(msg)\n",
    "    server.quit()"
   ]
  },
  {
   "cell_type": "code",
   "execution_count": 3,
   "metadata": {},
   "outputs": [],
   "source": [
    "email_notify(\"The web scraping process has begun! \"+datetime.now().strftime('%a %B %d, %Y %I:%M:%S %p'))"
   ]
  },
  {
   "cell_type": "markdown",
   "metadata": {},
   "source": [
    "## Setting up the necessary parameters"
   ]
  },
  {
   "cell_type": "code",
   "execution_count": 4,
   "metadata": {},
   "outputs": [
    {
     "name": "stdout",
     "output_type": "stream",
     "text": [
      "Successfully accessed the web page: http://quotes.toscrape.com/\n"
     ]
    }
   ],
   "source": [
    "# Specifying the URL of desired web page to be scrapped\n",
    "website_url = \"http://quotes.toscrape.com\"\n",
    "starting_url = website_url + \"/\"\n",
    "\n",
    "# Creating an html document from the URL\n",
    "uastring = \"Mozilla/5.0 (Windows NT 10.0; Win64; x64) AppleWebKit/537.36 (KHTML, like Gecko) Chrome/71.0.3578.80 Safari/537.36\"\n",
    "headers={'User-Agent': uastring}\n",
    "\n",
    "try:\n",
    "    s = requests.Session()\n",
    "    resp = s.get(website_url, headers=headers)\n",
    "#     print(resp.text)\n",
    "except HTTPError as e:\n",
    "    print('The server could not serve up the web page!')\n",
    "    sys.exit(\"Script Processing Aborted!!!\")\n",
    "except ConnectionError as e:\n",
    "    print('The server could not be reached!')\n",
    "    sys.exit(\"Script Processing Aborted!!!\")\n",
    "\n",
    "try:\n",
    "    webpage = BeautifulSoup(resp.text, 'lxml')\n",
    "except AttributeError as e:\n",
    "    print('Page title could not be found - Might indicate problems!')\n",
    "    sys.exit(\"Script Processing Aborted!!!\")\n",
    "else:\n",
    "    print('Successfully accessed the web page: ' + starting_url)"
   ]
  },
  {
   "cell_type": "markdown",
   "metadata": {},
   "source": [
    "## Performing the Scraping and Processing"
   ]
  },
  {
   "cell_type": "code",
   "execution_count": 5,
   "metadata": {},
   "outputs": [],
   "source": [
    "email_notify(\"The page loading and item extraction process has begun! \"+datetime.now().strftime('%a %B %d, %Y %I:%M:%S %p'))"
   ]
  },
  {
   "cell_type": "code",
   "execution_count": 6,
   "metadata": {},
   "outputs": [],
   "source": [
    "# Setting up a dataframe to capture the records\n",
    "df = pd.DataFrame(columns=['Author_Name','Author_Birthday','Author_Location','Author_Bio','Author_Link'])\n",
    "pageNum = 1\n",
    "i = 0"
   ]
  },
  {
   "cell_type": "code",
   "execution_count": 7,
   "metadata": {},
   "outputs": [
    {
     "name": "stdout",
     "output_type": "stream",
     "text": [
      "Waiting 5 seconds to process next page...\n",
      "Successfully accessed the web page: http://quotes.toscrape.com/author/Albert-Einstein\n",
      "Waiting 4 seconds to process next page...\n",
      "Successfully accessed the web page: http://quotes.toscrape.com/author/J-K-Rowling\n",
      "Waiting 2 seconds to process next page...\n",
      "Successfully accessed the web page: http://quotes.toscrape.com/author/Jane-Austen\n",
      "Waiting 4 seconds to process next page...\n",
      "Successfully accessed the web page: http://quotes.toscrape.com/author/Marilyn-Monroe\n",
      "Waiting 5 seconds to process next page...\n",
      "Successfully accessed the web page: http://quotes.toscrape.com/author/Andre-Gide\n",
      "Waiting 5 seconds to process next page...\n",
      "Successfully accessed the web page: http://quotes.toscrape.com/author/Thomas-A-Edison\n",
      "Waiting 5 seconds to process next page...\n",
      "Successfully accessed the web page: http://quotes.toscrape.com/author/Eleanor-Roosevelt\n",
      "Waiting 2 seconds to process next page...\n",
      "Successfully accessed the web page: http://quotes.toscrape.com/author/Steve-Martin\n",
      "Waiting 3 seconds to process next page...\n",
      "Successfully accessed the web page: http://quotes.toscrape.com/page/2/\n",
      "Waiting 4 seconds to process next page...\n",
      "Successfully accessed the web page: http://quotes.toscrape.com/author/Bob-Marley\n",
      "Waiting 4 seconds to process next page...\n",
      "Successfully accessed the web page: http://quotes.toscrape.com/author/Dr-Seuss\n",
      "Waiting 5 seconds to process next page...\n",
      "Successfully accessed the web page: http://quotes.toscrape.com/author/Douglas-Adams\n",
      "Waiting 4 seconds to process next page...\n",
      "Successfully accessed the web page: http://quotes.toscrape.com/author/Elie-Wiesel\n",
      "Waiting 3 seconds to process next page...\n",
      "Successfully accessed the web page: http://quotes.toscrape.com/author/Friedrich-Nietzsche\n",
      "Waiting 4 seconds to process next page...\n",
      "Successfully accessed the web page: http://quotes.toscrape.com/author/Mark-Twain\n",
      "Waiting 4 seconds to process next page...\n",
      "Successfully accessed the web page: http://quotes.toscrape.com/author/Allen-Saunders\n",
      "Waiting 5 seconds to process next page...\n",
      "Successfully accessed the web page: http://quotes.toscrape.com/page/3/\n",
      "Waiting 3 seconds to process next page...\n",
      "Successfully accessed the web page: http://quotes.toscrape.com/author/Pablo-Neruda\n",
      "Waiting 3 seconds to process next page...\n",
      "Successfully accessed the web page: http://quotes.toscrape.com/author/Ralph-Waldo-Emerson\n",
      "Waiting 3 seconds to process next page...\n",
      "Successfully accessed the web page: http://quotes.toscrape.com/author/Mother-Teresa\n",
      "Waiting 5 seconds to process next page...\n",
      "Successfully accessed the web page: http://quotes.toscrape.com/author/Garrison-Keillor\n",
      "Waiting 4 seconds to process next page...\n",
      "Successfully accessed the web page: http://quotes.toscrape.com/author/Jim-Henson\n",
      "Waiting 5 seconds to process next page...\n",
      "Successfully accessed the web page: http://quotes.toscrape.com/page/4/\n",
      "Waiting 3 seconds to process next page...\n",
      "Successfully accessed the web page: http://quotes.toscrape.com/author/Charles-M-Schulz\n",
      "Waiting 2 seconds to process next page...\n",
      "Successfully accessed the web page: http://quotes.toscrape.com/author/William-Nicholson\n",
      "Waiting 3 seconds to process next page...\n",
      "Successfully accessed the web page: http://quotes.toscrape.com/author/Jorge-Luis-Borges\n",
      "Waiting 2 seconds to process next page...\n",
      "Successfully accessed the web page: http://quotes.toscrape.com/author/George-Eliot\n",
      "Waiting 5 seconds to process next page...\n",
      "Successfully accessed the web page: http://quotes.toscrape.com/page/5/\n",
      "Waiting 2 seconds to process next page...\n",
      "Successfully accessed the web page: http://quotes.toscrape.com/author/George-R-R-Martin\n",
      "Waiting 4 seconds to process next page...\n",
      "Successfully accessed the web page: http://quotes.toscrape.com/author/C-S-Lewis\n",
      "Waiting 3 seconds to process next page...\n",
      "Successfully accessed the web page: http://quotes.toscrape.com/author/Martin-Luther-King-Jr\n",
      "Waiting 3 seconds to process next page...\n",
      "Successfully accessed the web page: http://quotes.toscrape.com/author/James-Baldwin\n",
      "Waiting 2 seconds to process next page...\n",
      "Successfully accessed the web page: http://quotes.toscrape.com/page/6/\n",
      "Waiting 5 seconds to process next page...\n",
      "Successfully accessed the web page: http://quotes.toscrape.com/author/Haruki-Murakami\n",
      "Waiting 2 seconds to process next page...\n",
      "Successfully accessed the web page: http://quotes.toscrape.com/author/Alexandre-Dumas-fils\n",
      "Waiting 5 seconds to process next page...\n",
      "Successfully accessed the web page: http://quotes.toscrape.com/author/Stephenie-Meyer\n",
      "Waiting 3 seconds to process next page...\n",
      "Successfully accessed the web page: http://quotes.toscrape.com/author/Ernest-Hemingway\n",
      "Waiting 3 seconds to process next page...\n",
      "Successfully accessed the web page: http://quotes.toscrape.com/author/Helen-Keller\n",
      "Waiting 2 seconds to process next page...\n",
      "Successfully accessed the web page: http://quotes.toscrape.com/author/George-Bernard-Shaw\n",
      "Waiting 5 seconds to process next page...\n",
      "Successfully accessed the web page: http://quotes.toscrape.com/page/7/\n",
      "Waiting 3 seconds to process next page...\n",
      "Successfully accessed the web page: http://quotes.toscrape.com/author/Charles-Bukowski\n",
      "Waiting 5 seconds to process next page...\n",
      "Successfully accessed the web page: http://quotes.toscrape.com/author/Suzanne-Collins\n",
      "Waiting 2 seconds to process next page...\n",
      "Successfully accessed the web page: http://quotes.toscrape.com/author/J-R-R-Tolkien\n",
      "Waiting 2 seconds to process next page...\n",
      "Successfully accessed the web page: http://quotes.toscrape.com/page/8/\n",
      "Waiting 5 seconds to process next page...\n",
      "Successfully accessed the web page: http://quotes.toscrape.com/author/Alfred-Tennyson\n",
      "Waiting 4 seconds to process next page...\n",
      "Successfully accessed the web page: http://quotes.toscrape.com/author/Terry-Pratchett\n",
      "Waiting 2 seconds to process next page...\n",
      "Successfully accessed the web page: http://quotes.toscrape.com/author/J-D-Salinger\n",
      "Waiting 4 seconds to process next page...\n",
      "Successfully accessed the web page: http://quotes.toscrape.com/author/George-Carlin\n",
      "Waiting 2 seconds to process next page...\n",
      "Successfully accessed the web page: http://quotes.toscrape.com/author/John-Lennon\n",
      "Waiting 5 seconds to process next page...\n",
      "Successfully accessed the web page: http://quotes.toscrape.com/author/W-C-Fields\n",
      "Waiting 5 seconds to process next page...\n",
      "Successfully accessed the web page: http://quotes.toscrape.com/author/Ayn-Rand\n",
      "Waiting 4 seconds to process next page...\n",
      "Successfully accessed the web page: http://quotes.toscrape.com/page/9/\n",
      "Waiting 2 seconds to process next page...\n",
      "Successfully accessed the web page: http://quotes.toscrape.com/page/10/\n",
      "Waiting 4 seconds to process next page...\n",
      "Successfully accessed the web page: http://quotes.toscrape.com/author/Jimi-Hendrix\n",
      "Waiting 5 seconds to process next page...\n",
      "Successfully accessed the web page: http://quotes.toscrape.com/author/J-M-Barrie\n",
      "Waiting 2 seconds to process next page...\n",
      "Successfully accessed the web page: http://quotes.toscrape.com/author/E-E-Cummings\n",
      "Waiting 5 seconds to process next page...\n",
      "Successfully accessed the web page: http://quotes.toscrape.com/author/Khaled-Hosseini\n",
      "Waiting 3 seconds to process next page...\n",
      "Successfully accessed the web page: http://quotes.toscrape.com/author/Harper-Lee\n",
      "Waiting 5 seconds to process next page...\n",
      "Successfully accessed the web page: http://quotes.toscrape.com/author/Madeleine-LEngle\n"
     ]
    }
   ],
   "source": [
    "done = False\n",
    "\n",
    "while not done :\n",
    "    quote_listing = webpage.find_all(\"div\", class_=\"quote\")\n",
    "#     print(quote_listing)\n",
    "\n",
    "    for quote_item in quote_listing :\n",
    "        author_name = \"[Not Found]\"\n",
    "        author_birthday = \"[Not Found]\"\n",
    "        author_location = \"[Not Found]\"\n",
    "        author_bio = \"[Not Found]\"\n",
    "        author_link = \"[Not Found]\"\n",
    "\n",
    "        author_name = quote_item.find(\"small\", class_=\"author\").string\n",
    "        author_link = website_url + quote_item.find('a').get('href')\n",
    "\n",
    "        if not df['Author_Name'].str.contains(author_name).any() :\n",
    "            # Adding random wait time so we do not hammer the website needlessly\n",
    "            waitTime = randint(2,5)\n",
    "            print(\"Waiting \" + str(waitTime) + \" seconds to process next page...\")\n",
    "            sleep(waitTime)\n",
    "            try:\n",
    "                resp = s.get(author_link, headers=headers)\n",
    "            except HTTPError as e:\n",
    "                print(\"Unable tp retrieve the author detail page!\")\n",
    "            else:\n",
    "                try:\n",
    "                    authorPage = BeautifulSoup(resp.text, 'lxml')\n",
    "                except AttributeError as e:\n",
    "                    print('Page title could not be found - Might indicate problems!')\n",
    "                    sys.exit(\"Script Processing Aborted!!!\")\n",
    "                else:\n",
    "                    print('Successfully accessed the web page: ' + author_link)\n",
    "\n",
    "            author_birthday = authorPage.find(\"span\", class_=\"author-born-date\").string\n",
    "            author_location = authorPage.find(\"span\", class_=\"author-born-location\").string\n",
    "            author_bio = authorPage.find(\"div\", class_=\"author-description\").string\n",
    "\n",
    "#             print(author_name, author_birthday, author_location, author_bio[0:25], author_link)\n",
    "            df.loc[i] = [author_name, author_birthday, author_location, author_bio, author_link]\n",
    "            i = i + 1\n",
    "\n",
    "    if ((pageNum % 5)==0) :\n",
    "        email_notify(\"Finished parsing page: \" + next_page_url + \" at \"+datetime.now().strftime('%a %B %d, %Y %I:%M:%S %p'))\n",
    "    pageNum = pageNum + 1\n",
    "\n",
    "    next_page = webpage.find(\"li\", class_=\"next\")\n",
    "    if next_page != None :\n",
    "        next_page_url = website_url + next_page.find('a').get('href')\n",
    "#         print(next_page_url)\n",
    "\n",
    "        # Adding random wait time so we do not hammer the website needlessly\n",
    "        waitTime = randint(2,5)\n",
    "        print(\"Waiting \" + str(waitTime) + \" seconds to process next page...\")\n",
    "        sleep(waitTime)\n",
    "        try:\n",
    "            resp = s.get(next_page_url, headers=headers)\n",
    "        except HTTPError as e:\n",
    "            print(\"No more page to retrieve. The processing has completed!\")\n",
    "            done = True\n",
    "        else:\n",
    "            try:\n",
    "                webpage = BeautifulSoup(resp.text, 'lxml')\n",
    "            except AttributeError as e:\n",
    "                print('Page title could not be found - Might indicate problems!')\n",
    "                sys.exit(\"Script Processing Aborted!!!\")\n",
    "            else:\n",
    "                print('Successfully accessed the web page: ' + next_page_url)\n",
    "    else :\n",
    "        done = True"
   ]
  },
  {
   "cell_type": "markdown",
   "metadata": {},
   "source": [
    "## Organizing Data and Producing Outputs"
   ]
  },
  {
   "cell_type": "code",
   "execution_count": 8,
   "metadata": {},
   "outputs": [
    {
     "name": "stdout",
     "output_type": "stream",
     "text": [
      "Total number of records written to file: 50\n",
      "Total time for the script: 0:04:14.221953\n"
     ]
    }
   ],
   "source": [
    "out_file = df.to_json(orient='records')\n",
    "with open('web-scraping-py-bsoup-detail-page.json', 'w') as f:\n",
    "    f.write(out_file)\n",
    "print('Total number of records written to file:', len(df))\n",
    "email_notify(\"The web scraping process has completed! \"+datetime.now().strftime('%a %B %d, %Y %I:%M:%S %p'))\n",
    "print ('Total time for the script:', (datetime.now() - startTimeScript))"
   ]
  }
 ],
 "metadata": {
  "kernelspec": {
   "display_name": "Python 3",
   "language": "python",
   "name": "python3"
  },
  "language_info": {
   "codemirror_mode": {
    "name": "ipython",
    "version": 3
   },
   "file_extension": ".py",
   "mimetype": "text/x-python",
   "name": "python",
   "nbconvert_exporter": "python",
   "pygments_lexer": "ipython3",
   "version": "3.7.3"
  }
 },
 "nbformat": 4,
 "nbformat_minor": 2
}
