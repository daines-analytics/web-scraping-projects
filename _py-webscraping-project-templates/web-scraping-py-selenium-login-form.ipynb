{
 "cells": [
  {
   "cell_type": "markdown",
   "metadata": {},
   "source": [
    "# Web Scraping of Quotes from Famous People Using Selenium\n",
    "## Version 1 - Login Form\n",
    "### David Lowe\n",
    "### November 22, 2019\n",
    "\n",
    "SUMMARY: The purpose of this project is to practice web scraping by gathering specific pieces of information from a website. The web scraping code was written in Python and leveraged the Selenium module.\n",
    "\n",
    "INTRODUCTION: A demo website, created by Scrapinghub, lists quotes from famous people. It has many endpoints showing the quotes in different ways, and each endpoint presents a different scraping challenge for practicing web scraping. For this iteration, the Python script attempts to execute the login form and scrape the Goodreads links off each quote. The Goodreads links appear only after a successful authentication.\n",
    "\n",
    "Starting URLs: http://quotes.toscrape.com/login"
   ]
  },
  {
   "cell_type": "markdown",
   "metadata": {},
   "source": [
    "## Section 0. Prepare Environment"
   ]
  },
  {
   "cell_type": "code",
   "execution_count": 1,
   "metadata": {},
   "outputs": [],
   "source": [
    "import numpy as np\n",
    "import pandas as pd\n",
    "import os\n",
    "import sys\n",
    "import shutil\n",
    "import smtplib\n",
    "import pymysql\n",
    "from email.message import EmailMessage\n",
    "from datetime import datetime\n",
    "from random import randint\n",
    "from time import sleep\n",
    "from selenium import webdriver"
   ]
  },
  {
   "cell_type": "code",
   "execution_count": 2,
   "metadata": {},
   "outputs": [],
   "source": [
    "# Begin the timer for the script processing\n",
    "startTimeScript = datetime.now()\n",
    "\n",
    "# Set up the verbose flag to print detailed messages for debugging (setting to True will activate)\n",
    "verbose = False\n",
    "\n",
    "# Set up the flag to stop sending progress emails (setting to True will send status emails!)\n",
    "notifyStatus = False\n",
    "\n",
    "# Set up the writeJSON flag to capture the output in JSON (setting True will write the JSON file!)\n",
    "writeJSON = False\n",
    "\n",
    "# Set up the executeDownload flag to download files (setting True will download!)\n",
    "executeDownload = False"
   ]
  },
  {
   "cell_type": "code",
   "execution_count": 3,
   "metadata": {},
   "outputs": [],
   "source": [
    "def email_notify(msg_text):\n",
    "    sender = os.environ.get('MAIL_SENDER')\n",
    "    receiver = os.environ.get('MAIL_RECEIVER')\n",
    "    gateway = os.environ.get('SMTP_GATEWAY')\n",
    "    smtpuser = os.environ.get('SMTP_USERNAME')\n",
    "    password = os.environ.get('SMTP_PASSWORD')\n",
    "    if sender==None or receiver==None or gateway==None or smtpuser==None or password==None:\n",
    "        sys.exit(\"Incomplete email setup info. Script Processing Aborted!!!\")\n",
    "    msg = EmailMessage()\n",
    "    msg.set_content(msg_text)\n",
    "    msg['Subject'] = 'Notification from Python/Selenium Web Scraping Script'\n",
    "    msg['From'] = sender\n",
    "    msg['To'] = receiver\n",
    "    server = smtplib.SMTP(gateway, 587)\n",
    "    server.starttls()\n",
    "    server.login(smtpuser, password)\n",
    "    server.send_message(msg)\n",
    "    server.quit()"
   ]
  },
  {
   "cell_type": "code",
   "execution_count": 4,
   "metadata": {},
   "outputs": [],
   "source": [
    "def download_file(doc_path):\n",
    "#    local_file = os.path.basename(doc_path)\n",
    "    local_file = doc_path.split('/')[-1]\n",
    "    gdrivePrefix = '/content/gdrive/My Drive/Colab_Downloads/'\n",
    "    dest_file = gdrivePrefix + local_file\n",
    "    with requests.get(doc_path, stream=True) as r:\n",
    "        with open(dest_file, 'wb') as f:\n",
    "            shutil.copyfileobj(r.raw, f)\n",
    "    print('Downladed file: ' + dest_file)"
   ]
  },
  {
   "cell_type": "code",
   "execution_count": 5,
   "metadata": {},
   "outputs": [],
   "source": [
    "if (notifyStatus): email_notify(\"The web scraping process has begun! \"+datetime.now().strftime('%a %B %d, %Y %I:%M:%S %p'))"
   ]
  },
  {
   "cell_type": "markdown",
   "metadata": {},
   "source": [
    "## Section 1. Perform the Scraping and Processing"
   ]
  },
  {
   "cell_type": "code",
   "execution_count": 6,
   "metadata": {},
   "outputs": [],
   "source": [
    "# Specifying the URL of desired web page to be scrapped\n",
    "websiteURL = \"http://quotes.toscrape.com\"\n",
    "startingURL = websiteURL + \"/login\"\n",
    "\n",
    "# Creating an html document from the URL\n",
    "uastring = \"Mozilla/5.0 (Windows NT 10.0; Win64; x64; rv:70.0) Gecko/20100101 Firefox/70.0\"\n",
    "headers={'User-Agent': uastring}"
   ]
  },
  {
   "cell_type": "code",
   "execution_count": 7,
   "metadata": {},
   "outputs": [],
   "source": [
    "if (notifyStatus): email_notify(\"The page loading and item extraction process has begun! \"+datetime.now().strftime('%a %B %d, %Y %I:%M:%S %p'))"
   ]
  },
  {
   "cell_type": "code",
   "execution_count": 8,
   "metadata": {},
   "outputs": [
    {
     "name": "stdout",
     "output_type": "stream",
     "text": [
      "Successfully accessed the web page: Quotes to Scrape\n"
     ]
    }
   ],
   "source": [
    "browser = webdriver.Firefox()\n",
    "try:\n",
    "    browser.get(startingURL)\n",
    "    print('Successfully accessed the web page: ' + browser.title)\n",
    "except:\n",
    "    print('The web page could not be reached for some reasons!')\n",
    "    sys.exit(\"Script processing cannot continue!!!\")"
   ]
  },
  {
   "cell_type": "code",
   "execution_count": 10,
   "metadata": {},
   "outputs": [],
   "source": [
    "# Login to the website using the supplied credentials\n",
    "userid_element = browser.find_element_by_id(\"username\")\n",
    "userid_element.clear()\n",
    "userid_element.send_keys(\"abc\")\n",
    "passwd_element = browser.find_element_by_id(\"password\")\n",
    "passwd_element.clear()\n",
    "passwd_element.send_keys(\"abc\")\n",
    "browser.find_element_by_class_name(\"btn-primary\").click()"
   ]
  },
  {
   "cell_type": "code",
   "execution_count": 11,
   "metadata": {},
   "outputs": [],
   "source": [
    "# Setting up a dataframe to capture the records\n",
    "df = pd.DataFrame(columns=['author_name','quote_text','quote_tags','author_link'])\n",
    "pageNum = 1\n",
    "i = 0"
   ]
  },
  {
   "cell_type": "code",
   "execution_count": 12,
   "metadata": {},
   "outputs": [
    {
     "name": "stdout",
     "output_type": "stream",
     "text": [
      "The URL for the next page is:  http://quotes.toscrape.com/page/2/\n",
      "Waiting 3 seconds to process next page...\n",
      "The URL for the next page is:  http://quotes.toscrape.com/page/3/\n",
      "Waiting 2 seconds to process next page...\n",
      "The URL for the next page is:  http://quotes.toscrape.com/page/4/\n",
      "Waiting 4 seconds to process next page...\n",
      "The URL for the next page is:  http://quotes.toscrape.com/page/5/\n",
      "Waiting 4 seconds to process next page...\n",
      "The URL for the next page is:  http://quotes.toscrape.com/page/6/\n",
      "Waiting 4 seconds to process next page...\n",
      "The URL for the next page is:  http://quotes.toscrape.com/page/7/\n",
      "Waiting 5 seconds to process next page...\n",
      "The URL for the next page is:  http://quotes.toscrape.com/page/8/\n",
      "Waiting 3 seconds to process next page...\n",
      "The URL for the next page is:  http://quotes.toscrape.com/page/9/\n",
      "Waiting 2 seconds to process next page...\n",
      "The URL for the next page is:  http://quotes.toscrape.com/page/10/\n",
      "Waiting 2 seconds to process next page...\n",
      "No more page to retrieve. The processing has completed!\n"
     ]
    }
   ],
   "source": [
    "done = False\n",
    "\n",
    "while not done :\n",
    "    quote_listing = browser.find_elements_by_class_name(\"quote\")\n",
    "    if (verbose): print(quote_listing)\n",
    "\n",
    "    for quote_item in quote_listing :\n",
    "        if (verbose): print(quote_item.text)\n",
    "        author_name = \"[Not Found]\"\n",
    "        quote_text = \"[Not Found]\"\n",
    "        quote_tags = \"\"\n",
    "        author_link = \"[Not Found]\"\n",
    "\n",
    "        author_name = quote_item.find_element_by_class_name(\"author\").text\n",
    "        quote_text = quote_item.find_element_by_class_name(\"text\").text\n",
    "        author_link = quote_item.find_element_by_tag_name('a').get_attribute(\"href\")\n",
    "        tag_listing = quote_item.find_elements_by_class_name(\"tag\")\n",
    "        if len(tag_listing) > 0 :\n",
    "            for each_tag in tag_listing :\n",
    "                quote_tags = quote_tags + \"#\" + each_tag.text\n",
    "\n",
    "        if (verbose): print(author_name, '|', quote_text, '|', quote_tags, '|', author_link)\n",
    "        df.loc[i] = [author_name, quote_text, quote_tags, author_link]\n",
    "        i = i + 1\n",
    "\n",
    "    if ((pageNum % 5)==0) :\n",
    "        if (notifyStatus): email_notify(\"Finished parsing page: \" + next_page_url + \" at \"+datetime.now().strftime('%a %B %d, %Y %I:%M:%S %p'))\n",
    "    pageNum = pageNum + 1\n",
    "\n",
    "    try:\n",
    "        next_page = browser.find_element_by_class_name('next')\n",
    "    except:\n",
    "        print(\"No more page to retrieve. The processing has completed!\")\n",
    "        done = True\n",
    "\n",
    "    if not done:\n",
    "        next_page_url = next_page.find_element_by_tag_name('a').get_attribute(\"href\")\n",
    "        print(\"The URL for the next page is: \", next_page_url)\n",
    "        # Adding random wait time so we do not hammer the website needlessly\n",
    "        waitTime = randint(2,5)\n",
    "        print(\"Waiting \" + str(waitTime) + \" seconds to process next page...\")\n",
    "        sleep(waitTime)\n",
    "        try:\n",
    "            browser.get(next_page_url)\n",
    "        except:\n",
    "            print(\"Received error whent trying to access an URL. The script will stop!\")\n",
    "            done = True"
   ]
  },
  {
   "cell_type": "code",
   "execution_count": 13,
   "metadata": {},
   "outputs": [],
   "source": [
    "# Close the browsing session\n",
    "browser.quit()"
   ]
  },
  {
   "cell_type": "code",
   "execution_count": 14,
   "metadata": {},
   "outputs": [],
   "source": [
    "if (notifyStatus): email_notify(\"The page loading and item extraction process completed! \"+datetime.now().strftime('%a %B %d, %Y %I:%M:%S %p'))"
   ]
  },
  {
   "cell_type": "markdown",
   "metadata": {},
   "source": [
    "## Section 2. Organizing Data and Producing Outputs"
   ]
  },
  {
   "cell_type": "code",
   "execution_count": 15,
   "metadata": {},
   "outputs": [
    {
     "name": "stdout",
     "output_type": "stream",
     "text": [
      "Some of the final set of records captured are:\n"
     ]
    },
    {
     "data": {
      "text/html": [
       "<div>\n",
       "<style scoped>\n",
       "    .dataframe tbody tr th:only-of-type {\n",
       "        vertical-align: middle;\n",
       "    }\n",
       "\n",
       "    .dataframe tbody tr th {\n",
       "        vertical-align: top;\n",
       "    }\n",
       "\n",
       "    .dataframe thead th {\n",
       "        text-align: right;\n",
       "    }\n",
       "</style>\n",
       "<table border=\"1\" class=\"dataframe\">\n",
       "  <thead>\n",
       "    <tr style=\"text-align: right;\">\n",
       "      <th></th>\n",
       "      <th>author_name</th>\n",
       "      <th>quote_text</th>\n",
       "      <th>quote_tags</th>\n",
       "      <th>author_link</th>\n",
       "    </tr>\n",
       "  </thead>\n",
       "  <tbody>\n",
       "    <tr>\n",
       "      <td>0</td>\n",
       "      <td>Albert Einstein</td>\n",
       "      <td>“The world as we have created it is a process ...</td>\n",
       "      <td>#change#deep-thoughts#thinking#world</td>\n",
       "      <td>http://quotes.toscrape.com/author/Albert-Einstein</td>\n",
       "    </tr>\n",
       "    <tr>\n",
       "      <td>1</td>\n",
       "      <td>J.K. Rowling</td>\n",
       "      <td>“It is our choices, Harry, that show what we t...</td>\n",
       "      <td>#abilities#choices</td>\n",
       "      <td>http://quotes.toscrape.com/author/J-K-Rowling</td>\n",
       "    </tr>\n",
       "    <tr>\n",
       "      <td>2</td>\n",
       "      <td>Albert Einstein</td>\n",
       "      <td>“There are only two ways to live your life. On...</td>\n",
       "      <td>#inspirational#life#live#miracle#miracles</td>\n",
       "      <td>http://quotes.toscrape.com/author/Albert-Einstein</td>\n",
       "    </tr>\n",
       "    <tr>\n",
       "      <td>3</td>\n",
       "      <td>Jane Austen</td>\n",
       "      <td>“The person, be it gentleman or lady, who has ...</td>\n",
       "      <td>#aliteracy#books#classic#humor</td>\n",
       "      <td>http://quotes.toscrape.com/author/Jane-Austen</td>\n",
       "    </tr>\n",
       "    <tr>\n",
       "      <td>4</td>\n",
       "      <td>Marilyn Monroe</td>\n",
       "      <td>“Imperfection is beauty, madness is genius and...</td>\n",
       "      <td>#be-yourself#inspirational</td>\n",
       "      <td>http://quotes.toscrape.com/author/Marilyn-Monroe</td>\n",
       "    </tr>\n",
       "    <tr>\n",
       "      <td>5</td>\n",
       "      <td>Albert Einstein</td>\n",
       "      <td>“Try not to become a man of success. Rather be...</td>\n",
       "      <td>#adulthood#success#value</td>\n",
       "      <td>http://quotes.toscrape.com/author/Albert-Einstein</td>\n",
       "    </tr>\n",
       "    <tr>\n",
       "      <td>6</td>\n",
       "      <td>André Gide</td>\n",
       "      <td>“It is better to be hated for what you are tha...</td>\n",
       "      <td>#life#love</td>\n",
       "      <td>http://quotes.toscrape.com/author/Andre-Gide</td>\n",
       "    </tr>\n",
       "    <tr>\n",
       "      <td>7</td>\n",
       "      <td>Thomas A. Edison</td>\n",
       "      <td>“I have not failed. I've just found 10,000 way...</td>\n",
       "      <td>#edison#failure#inspirational#paraphrased</td>\n",
       "      <td>http://quotes.toscrape.com/author/Thomas-A-Edison</td>\n",
       "    </tr>\n",
       "    <tr>\n",
       "      <td>8</td>\n",
       "      <td>Eleanor Roosevelt</td>\n",
       "      <td>“A woman is like a tea bag; you never know how...</td>\n",
       "      <td>#misattributed-eleanor-roosevelt</td>\n",
       "      <td>http://quotes.toscrape.com/author/Eleanor-Roos...</td>\n",
       "    </tr>\n",
       "    <tr>\n",
       "      <td>9</td>\n",
       "      <td>Steve Martin</td>\n",
       "      <td>“A day without sunshine is like, you know, nig...</td>\n",
       "      <td>#humor#obvious#simile</td>\n",
       "      <td>http://quotes.toscrape.com/author/Steve-Martin</td>\n",
       "    </tr>\n",
       "  </tbody>\n",
       "</table>\n",
       "</div>"
      ],
      "text/plain": [
       "         author_name                                         quote_text  \\\n",
       "0    Albert Einstein  “The world as we have created it is a process ...   \n",
       "1       J.K. Rowling  “It is our choices, Harry, that show what we t...   \n",
       "2    Albert Einstein  “There are only two ways to live your life. On...   \n",
       "3        Jane Austen  “The person, be it gentleman or lady, who has ...   \n",
       "4     Marilyn Monroe  “Imperfection is beauty, madness is genius and...   \n",
       "5    Albert Einstein  “Try not to become a man of success. Rather be...   \n",
       "6         André Gide  “It is better to be hated for what you are tha...   \n",
       "7   Thomas A. Edison  “I have not failed. I've just found 10,000 way...   \n",
       "8  Eleanor Roosevelt  “A woman is like a tea bag; you never know how...   \n",
       "9       Steve Martin  “A day without sunshine is like, you know, nig...   \n",
       "\n",
       "                                  quote_tags  \\\n",
       "0       #change#deep-thoughts#thinking#world   \n",
       "1                         #abilities#choices   \n",
       "2  #inspirational#life#live#miracle#miracles   \n",
       "3             #aliteracy#books#classic#humor   \n",
       "4                 #be-yourself#inspirational   \n",
       "5                   #adulthood#success#value   \n",
       "6                                 #life#love   \n",
       "7  #edison#failure#inspirational#paraphrased   \n",
       "8           #misattributed-eleanor-roosevelt   \n",
       "9                      #humor#obvious#simile   \n",
       "\n",
       "                                         author_link  \n",
       "0  http://quotes.toscrape.com/author/Albert-Einstein  \n",
       "1      http://quotes.toscrape.com/author/J-K-Rowling  \n",
       "2  http://quotes.toscrape.com/author/Albert-Einstein  \n",
       "3      http://quotes.toscrape.com/author/Jane-Austen  \n",
       "4   http://quotes.toscrape.com/author/Marilyn-Monroe  \n",
       "5  http://quotes.toscrape.com/author/Albert-Einstein  \n",
       "6       http://quotes.toscrape.com/author/Andre-Gide  \n",
       "7  http://quotes.toscrape.com/author/Thomas-A-Edison  \n",
       "8  http://quotes.toscrape.com/author/Eleanor-Roos...  \n",
       "9     http://quotes.toscrape.com/author/Steve-Martin  "
      ]
     },
     "execution_count": 15,
     "metadata": {},
     "output_type": "execute_result"
    }
   ],
   "source": [
    "print('Some of the final set of records captured are:')\n",
    "df.head(10)"
   ]
  },
  {
   "cell_type": "code",
   "execution_count": 16,
   "metadata": {},
   "outputs": [
    {
     "name": "stdout",
     "output_type": "stream",
     "text": [
      "Total number of records processed: 100\n"
     ]
    }
   ],
   "source": [
    "if (writeJSON):\n",
    "    out_file = df.to_json(orient='records')\n",
    "    with open('web-scraping-py-bsoup-simple-pagination.json', 'w') as f:\n",
    "        f.write(out_file)\n",
    "print('Total number of records processed:', len(df))"
   ]
  },
  {
   "cell_type": "code",
   "execution_count": 17,
   "metadata": {},
   "outputs": [],
   "source": [
    "if (notifyStatus): email_notify(\"The web scraping process has completed! \"+datetime.now().strftime('%a %B %d, %Y %I:%M:%S %p'))"
   ]
  },
  {
   "cell_type": "code",
   "execution_count": 18,
   "metadata": {},
   "outputs": [
    {
     "name": "stdout",
     "output_type": "stream",
     "text": [
      "Total time for the script: 0:12:41.095772\n"
     ]
    }
   ],
   "source": [
    "print ('Total time for the script:',(datetime.now() - startTimeScript))"
   ]
  }
 ],
 "metadata": {
  "kernelspec": {
   "display_name": "Python 3",
   "language": "python",
   "name": "python3"
  },
  "language_info": {
   "codemirror_mode": {
    "name": "ipython",
    "version": 3
   },
   "file_extension": ".py",
   "mimetype": "text/x-python",
   "name": "python",
   "nbconvert_exporter": "python",
   "pygments_lexer": "ipython3",
   "version": "3.7.4"
  }
 },
 "nbformat": 4,
 "nbformat_minor": 4
}
