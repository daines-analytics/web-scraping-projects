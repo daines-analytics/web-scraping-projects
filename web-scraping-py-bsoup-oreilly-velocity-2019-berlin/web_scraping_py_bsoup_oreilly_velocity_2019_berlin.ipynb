{
  "nbformat": 4,
  "nbformat_minor": 0,
  "metadata": {
    "colab": {
      "name": "web-scraping-py-bsoup-oreilly-velocity-2019-berlin.ipynb",
      "provenance": [],
      "collapsed_sections": [],
      "toc_visible": true
    },
    "language_info": {
      "codemirror_mode": {
        "name": "ipython",
        "version": 3
      },
      "file_extension": ".py",
      "mimetype": "text/x-python",
      "name": "python",
      "nbconvert_exporter": "python",
      "pygments_lexer": "ipython3",
      "version": "3.7.1"
    },
    "kernelspec": {
      "display_name": "Python 3",
      "language": "python",
      "name": "python3"
    }
  },
  "cells": [
    {
      "cell_type": "markdown",
      "metadata": {
        "id": "l4mr2mbWYoOa",
        "colab_type": "text"
      },
      "source": [
        "# Web Scraping of O'Reilly Velocity Conference 2019 Berlin\n",
        "### David Lowe\n",
        "### December 20, 2019\n",
        "\n",
        "SUMMARY: The purpose of this project is to practice web scraping by extracting specific pieces of information from a website. The web scraping Python code leverages the BeautifulSoup module.\n",
        "\n",
        "INTRODUCTION: TThe Velocity Conference covers the full range of skills, approaches, and technologies for building and managing large-scale, cloud-native systems. This web scraping script will automatically traverse through the entire web page and collect all links to the PDF and PPTX documents. The script will also download the documents as part of the scraping process. The Python script ran in the Google Colaboratory environment and can be adapted to run in any Python environment without the Colab-specific configuration.\n",
        "\n",
        "Starting URLs: https://conferences.oreilly.com/velocity/vl-eu/public/schedule/proceedings"
      ]
    },
    {
      "cell_type": "markdown",
      "metadata": {
        "id": "kyLL5BLJYoOc",
        "colab_type": "text"
      },
      "source": [
        "## Loading Libraries and Packages"
      ]
    },
    {
      "cell_type": "code",
      "metadata": {
        "id": "wELc-r0BaiDC",
        "colab_type": "code",
        "outputId": "8fbed88d-bca3-4db6-e26e-54cbd6ad60e8",
        "colab": {
          "base_uri": "https://localhost:8080/",
          "height": 1000
        }
      },
      "source": [
        "# Refresh package repositories and set up additional Linux and Python packages\n",
        "!apt-get update\n",
        "!apt install chromium-chromedriver\n",
        "!pip install -q pymysql selenium"
      ],
      "execution_count": 1,
      "outputs": [
        {
          "output_type": "stream",
          "text": [
            "\r0% [Working]\r            \rIgn:1 https://developer.download.nvidia.com/compute/cuda/repos/ubuntu1804/x86_64  InRelease\n",
            "\r0% [Waiting for headers] [Waiting for headers] [Connected to cloud.r-project.or\r                                                                               \rHit:2 http://archive.ubuntu.com/ubuntu bionic InRelease\n",
            "\r0% [Waiting for headers] [Waiting for headers] [Waiting for headers] [Waiting f\r                                                                               \rGet:3 https://cloud.r-project.org/bin/linux/ubuntu bionic-cran35/ InRelease [3,626 B]\n",
            "\r                                                                               \rGet:4 http://ppa.launchpad.net/graphics-drivers/ppa/ubuntu bionic InRelease [21.3 kB]\n",
            "\r0% [Waiting for headers] [Waiting for headers] [Waiting for headers] [4 InRelea\r                                                                               \rGet:5 http://security.ubuntu.com/ubuntu bionic-security InRelease [88.7 kB]\n",
            "\r0% [Waiting for headers] [5 InRelease 8,378 B/88.7 kB 9%] [Waiting for headers]\r0% [2 InRelease gpgv 242 kB] [Waiting for headers] [5 InRelease 14.2 kB/88.7 kB\r                                                                               \rIgn:6 https://developer.download.nvidia.com/compute/machine-learning/repos/ubuntu1804/x86_64  InRelease\n",
            "\r0% [2 InRelease gpgv 242 kB] [Waiting for headers] [5 InRelease 14.2 kB/88.7 kB\r                                                                               \rHit:7 https://developer.download.nvidia.com/compute/cuda/repos/ubuntu1804/x86_64  Release\n",
            "\r0% [2 InRelease gpgv 242 kB] [Waiting for headers] [5 InRelease 14.2 kB/88.7 kB\r                                                                               \rHit:8 https://developer.download.nvidia.com/compute/machine-learning/repos/ubuntu1804/x86_64  Release\n",
            "Get:9 http://archive.ubuntu.com/ubuntu bionic-updates InRelease [88.7 kB]\n",
            "Get:10 http://ppa.launchpad.net/marutter/c2d4u3.5/ubuntu bionic InRelease [15.4 kB]\n",
            "Get:11 http://archive.ubuntu.com/ubuntu bionic-backports InRelease [74.6 kB]\n",
            "Get:12 https://cloud.r-project.org/bin/linux/ubuntu bionic-cran35/ Packages [75.1 kB]\n",
            "Get:15 http://ppa.launchpad.net/graphics-drivers/ppa/ubuntu bionic/main amd64 Packages [34.2 kB]\n",
            "Get:16 http://security.ubuntu.com/ubuntu bionic-security/multiverse amd64 Packages [6,781 B]\n",
            "Get:17 http://security.ubuntu.com/ubuntu bionic-security/main amd64 Packages [761 kB]\n",
            "Get:18 http://ppa.launchpad.net/marutter/c2d4u3.5/ubuntu bionic/main Sources [1,742 kB]\n",
            "Get:19 http://archive.ubuntu.com/ubuntu bionic-updates/main amd64 Packages [1,057 kB]\n",
            "Get:20 http://security.ubuntu.com/ubuntu bionic-security/universe amd64 Packages [795 kB]\n",
            "Get:21 http://archive.ubuntu.com/ubuntu bionic-updates/restricted amd64 Packages [32.7 kB]\n",
            "Get:22 http://archive.ubuntu.com/ubuntu bionic-updates/multiverse amd64 Packages [10.5 kB]\n",
            "Get:23 http://archive.ubuntu.com/ubuntu bionic-updates/universe amd64 Packages [1,322 kB]\n",
            "Get:24 http://ppa.launchpad.net/marutter/c2d4u3.5/ubuntu bionic/main amd64 Packages [840 kB]\n",
            "Fetched 6,969 kB in 3s (2,277 kB/s)\n",
            "Reading package lists... Done\n",
            "Reading package lists... Done\n",
            "Building dependency tree       \n",
            "Reading state information... Done\n",
            "The following package was automatically installed and is no longer required:\n",
            "  libnvidia-common-430\n",
            "Use 'apt autoremove' to remove it.\n",
            "The following additional packages will be installed:\n",
            "  chromium-browser chromium-browser-l10n chromium-codecs-ffmpeg-extra\n",
            "Suggested packages:\n",
            "  webaccounts-chromium-extension unity-chromium-extension adobe-flashplugin\n",
            "The following NEW packages will be installed:\n",
            "  chromium-browser chromium-browser-l10n chromium-chromedriver\n",
            "  chromium-codecs-ffmpeg-extra\n",
            "0 upgraded, 4 newly installed, 0 to remove and 33 not upgraded.\n",
            "Need to get 71.9 MB of archives.\n",
            "After this operation, 257 MB of additional disk space will be used.\n",
            "Get:1 http://archive.ubuntu.com/ubuntu bionic-updates/universe amd64 chromium-codecs-ffmpeg-extra amd64 78.0.3904.108-0ubuntu0.18.04.1 [1,078 kB]\n",
            "Get:2 http://archive.ubuntu.com/ubuntu bionic-updates/universe amd64 chromium-browser amd64 78.0.3904.108-0ubuntu0.18.04.1 [63.3 MB]\n",
            "Get:3 http://archive.ubuntu.com/ubuntu bionic-updates/universe amd64 chromium-browser-l10n all 78.0.3904.108-0ubuntu0.18.04.1 [3,076 kB]\n",
            "Get:4 http://archive.ubuntu.com/ubuntu bionic-updates/universe amd64 chromium-chromedriver amd64 78.0.3904.108-0ubuntu0.18.04.1 [4,466 kB]\n",
            "Fetched 71.9 MB in 3s (23.9 MB/s)\n",
            "Selecting previously unselected package chromium-codecs-ffmpeg-extra.\n",
            "(Reading database ... 134983 files and directories currently installed.)\n",
            "Preparing to unpack .../chromium-codecs-ffmpeg-extra_78.0.3904.108-0ubuntu0.18.04.1_amd64.deb ...\n",
            "Unpacking chromium-codecs-ffmpeg-extra (78.0.3904.108-0ubuntu0.18.04.1) ...\n",
            "Selecting previously unselected package chromium-browser.\n",
            "Preparing to unpack .../chromium-browser_78.0.3904.108-0ubuntu0.18.04.1_amd64.deb ...\n",
            "Unpacking chromium-browser (78.0.3904.108-0ubuntu0.18.04.1) ...\n",
            "Selecting previously unselected package chromium-browser-l10n.\n",
            "Preparing to unpack .../chromium-browser-l10n_78.0.3904.108-0ubuntu0.18.04.1_all.deb ...\n",
            "Unpacking chromium-browser-l10n (78.0.3904.108-0ubuntu0.18.04.1) ...\n",
            "Selecting previously unselected package chromium-chromedriver.\n",
            "Preparing to unpack .../chromium-chromedriver_78.0.3904.108-0ubuntu0.18.04.1_amd64.deb ...\n",
            "Unpacking chromium-chromedriver (78.0.3904.108-0ubuntu0.18.04.1) ...\n",
            "Setting up chromium-codecs-ffmpeg-extra (78.0.3904.108-0ubuntu0.18.04.1) ...\n",
            "Setting up chromium-browser (78.0.3904.108-0ubuntu0.18.04.1) ...\n",
            "update-alternatives: using /usr/bin/chromium-browser to provide /usr/bin/x-www-browser (x-www-browser) in auto mode\n",
            "update-alternatives: using /usr/bin/chromium-browser to provide /usr/bin/gnome-www-browser (gnome-www-browser) in auto mode\n",
            "Setting up chromium-chromedriver (78.0.3904.108-0ubuntu0.18.04.1) ...\n",
            "Setting up chromium-browser-l10n (78.0.3904.108-0ubuntu0.18.04.1) ...\n",
            "Processing triggers for hicolor-icon-theme (0.17-2) ...\n",
            "Processing triggers for mime-support (3.60ubuntu1) ...\n",
            "Processing triggers for man-db (2.8.3-2ubuntu0.1) ...\n",
            "\u001b[K     |████████████████████████████████| 51kB 1.6MB/s \n",
            "\u001b[K     |████████████████████████████████| 911kB 8.1MB/s \n",
            "\u001b[?25h"
          ],
          "name": "stdout"
        }
      ]
    },
    {
      "cell_type": "code",
      "metadata": {
        "id": "9tGlgDPeYoOd",
        "colab_type": "code",
        "colab": {}
      },
      "source": [
        "import numpy as np\n",
        "import pandas as pd\n",
        "import os\n",
        "import shutil\n",
        "import smtplib\n",
        "import sys\n",
        "from email.message import EmailMessage\n",
        "from datetime import datetime\n",
        "import requests\n",
        "from requests.exceptions import HTTPError\n",
        "from requests.exceptions import ConnectionError\n",
        "from bs4 import BeautifulSoup\n",
        "from random import randint\n",
        "from time import sleep\n",
        "from selenium import webdriver\n",
        "import pymysql\n",
        "\n",
        "startTimeScript = datetime.now()"
      ],
      "execution_count": 0,
      "outputs": []
    },
    {
      "cell_type": "markdown",
      "metadata": {
        "id": "PxJqydfiYoOg",
        "colab_type": "text"
      },
      "source": [
        "## Setting up the basic functions"
      ]
    },
    {
      "cell_type": "code",
      "metadata": {
        "id": "Fnlwzz-PYoOh",
        "colab_type": "code",
        "colab": {}
      },
      "source": [
        "def email_notify(msg_text):\n",
        "    sender = os.environ.get('MAIL_SENDER')\n",
        "    receiver = os.environ.get('MAIL_RECEIVER')\n",
        "    gateway = os.environ.get('SMTP_GATEWAY')\n",
        "    smtpuser = os.environ.get('SMTP_USERNAME')\n",
        "    password = os.environ.get('SMTP_PASSWORD')\n",
        "    if sender==None or receiver==None or gateway==None or smtpuser==None or password==None:\n",
        "        sys.exit(\"Incomplete email setup info. Script Processing Aborted!!!\")\n",
        "    msg = EmailMessage()\n",
        "    msg.set_content(msg_text)\n",
        "    msg['Subject'] = 'Notification from Python Web Scraping Script'\n",
        "    msg['From'] = sender\n",
        "    msg['To'] = receiver\n",
        "    server = smtplib.SMTP(gateway, 587)\n",
        "    server.starttls()\n",
        "    server.login(smtpuser, password)\n",
        "    server.send_message(msg)\n",
        "    server.quit()"
      ],
      "execution_count": 0,
      "outputs": []
    },
    {
      "cell_type": "code",
      "metadata": {
        "id": "Kk6cDbhzqgsK",
        "colab_type": "code",
        "colab": {}
      },
      "source": [
        "def download_file(doc_path):\n",
        "#    local_file = os.path.basename(doc_path)\n",
        "    local_file = doc_path.split('/')[-1]\n",
        "    gdrivePrefix = '/content/gdrive/My Drive/Colab_Downloads/'\n",
        "    dest_file = gdrivePrefix + local_file\n",
        "    with requests.get(doc_path, stream=True) as r:\n",
        "        with open(dest_file, 'wb') as f:\n",
        "            shutil.copyfileobj(r.raw, f)\n",
        "    print('Downladed file: ' + dest_file)"
      ],
      "execution_count": 0,
      "outputs": []
    },
    {
      "cell_type": "markdown",
      "metadata": {
        "id": "zF4hTJ_jYoOn",
        "colab_type": "text"
      },
      "source": [
        "## Setting up the necessary parameters"
      ]
    },
    {
      "cell_type": "code",
      "metadata": {
        "id": "Xy-XtBEiZwdV",
        "colab_type": "code",
        "colab": {}
      },
      "source": [
        "# Set up the verbose flag to print detailed messages for debugging (setting True will activate!)\n",
        "verbose = False\n",
        "\n",
        "# Set up the sendNotification flag to send progress emails (setting True will send emails!)\n",
        "sendNotification = False\n",
        "\n",
        "# Set up the mountStorage flag to mount G Drive for storing files (setting True will mount the drive!)\n",
        "mountStorage = True\n",
        "\n",
        "# Set up the executeDownload flag to download files (setting True will download!)\n",
        "executeDownload = True"
      ],
      "execution_count": 0,
      "outputs": []
    },
    {
      "cell_type": "code",
      "metadata": {
        "id": "K2LZP6EpiqRL",
        "colab_type": "code",
        "outputId": "74df3803-f26b-4c17-ee6a-3978ec21a85d",
        "colab": {
          "base_uri": "https://localhost:8080/",
          "height": 129
        }
      },
      "source": [
        "# Mount Google Drive locally for storing files\n",
        "\n",
        "if (mountStorage):\n",
        "  from google.colab import drive\n",
        "  drive.mount('/content/gdrive')"
      ],
      "execution_count": 6,
      "outputs": [
        {
          "output_type": "stream",
          "text": [
            "Go to this URL in a browser: https://accounts.google.com/o/oauth2/auth?client_id=947318989803-6bn6qk8qdgf4n4g3pfee6491hc0brc4i.apps.googleusercontent.com&redirect_uri=urn%3aietf%3awg%3aoauth%3a2.0%3aoob&response_type=code&scope=email%20https%3a%2f%2fwww.googleapis.com%2fauth%2fdocs.test%20https%3a%2f%2fwww.googleapis.com%2fauth%2fdrive%20https%3a%2f%2fwww.googleapis.com%2fauth%2fdrive.photos.readonly%20https%3a%2f%2fwww.googleapis.com%2fauth%2fpeopleapi.readonly\n",
            "\n",
            "Enter your authorization code:\n",
            "··········\n",
            "Mounted at /content/gdrive\n"
          ],
          "name": "stdout"
        }
      ]
    },
    {
      "cell_type": "code",
      "metadata": {
        "id": "Ak_tp8PIabC8",
        "colab_type": "code",
        "colab": {}
      },
      "source": [
        "if (sendNotification): email_notify(\"The web scraping process has begun! \"+datetime.now().strftime('%a %B %d, %Y %I:%M:%S %p'))"
      ],
      "execution_count": 0,
      "outputs": []
    },
    {
      "cell_type": "code",
      "metadata": {
        "id": "ntjQrml7YoOo",
        "colab_type": "code",
        "colab": {}
      },
      "source": [
        "# Specifying the URL of desired web page to be scrapped\n",
        "startingURL = \"https://conferences.oreilly.com/velocity/vl-eu/public/schedule/proceedings\"\n",
        "websiteURL = \"\"\n",
        "\n",
        "# Creating an html document from the URL\n",
        "uastring = \"Mozilla/5.0 (Windows NT 10.0; Win64; x64; rv:71.0) Gecko/20100101 Firefox/71.0\"\n",
        "headers={'User-Agent': uastring}"
      ],
      "execution_count": 0,
      "outputs": []
    },
    {
      "cell_type": "markdown",
      "metadata": {
        "id": "LWf3Y7c3YoOs",
        "colab_type": "text"
      },
      "source": [
        "## Performing the Scraping and Processing"
      ]
    },
    {
      "cell_type": "code",
      "metadata": {
        "id": "l0TO1zBrYoOt",
        "colab_type": "code",
        "colab": {}
      },
      "source": [
        "if (sendNotification): email_notify(\"The web page loading and item extraction process has begun! \"+datetime.now().strftime('%a %B %d, %Y %I:%M:%S %p'))"
      ],
      "execution_count": 0,
      "outputs": []
    },
    {
      "cell_type": "code",
      "metadata": {
        "id": "xX6dpqjie69M",
        "colab_type": "code",
        "outputId": "114f4161-d9a3-4785-f2a8-14923d492511",
        "colab": {
          "base_uri": "https://localhost:8080/",
          "height": 35
        }
      },
      "source": [
        "try:\n",
        "    s = requests.Session()\n",
        "    resp = s.get(startingURL, headers=headers)\n",
        "    if (verbose): print(resp.text)\n",
        "except HTTPError as e:\n",
        "    print('The server could not serve up the web page!')\n",
        "    sys.exit(\"Script processing cannot continue!!!\")\n",
        "except ConnectionError as e:\n",
        "    print('The server could not be reached due to connection issues!')\n",
        "    sys.exit(\"Script processing cannot continue!!!\")\n",
        "\n",
        "if (resp.status_code==requests.codes.ok):\n",
        "    print('Successfully accessed the web page: ' + startingURL)\n",
        "    webPage = BeautifulSoup(resp.text, 'lxml')"
      ],
      "execution_count": 10,
      "outputs": [
        {
          "output_type": "stream",
          "text": [
            "Successfully accessed the web page: https://conferences.oreilly.com/velocity/vl-eu/public/schedule/proceedings\n"
          ],
          "name": "stdout"
        }
      ]
    },
    {
      "cell_type": "code",
      "metadata": {
        "id": "yk9gY0vwYoOv",
        "colab_type": "code",
        "outputId": "87dbbfb1-10d1-45ff-b801-9aa898556ff8",
        "colab": {
          "base_uri": "https://localhost:8080/",
          "height": 1000
        }
      },
      "source": [
        "# Gather all links to the document\n",
        "collection = webPage.find_all(\"a\")\n",
        "i = 0\n",
        "\n",
        "for item in collection:\n",
        "    if (verbose): print(item)\n",
        "    docPath = item['href']\n",
        "    if docPath.lower().endswith(\".pdf\") | docPath.lower().endswith(\".pptx\") | docPath.lower().endswith(\".zip\"):\n",
        "        i = i + 1\n",
        "        docPath = websiteURL + docPath\n",
        "        # Adding random wait time so we do not hammer the website needlessly\n",
        "        waitTime = randint(2,5)\n",
        "        print(\"Waiting \" + str(waitTime) + \" seconds to retrieve \" + docPath)\n",
        "        sleep(waitTime)\n",
        "        if (executeDownload): download_file(docPath)\n",
        "\n",
        "print('Finished finding all available documents on the web page!')"
      ],
      "execution_count": 11,
      "outputs": [
        {
          "output_type": "stream",
          "text": [
            "Waiting 2 seconds to retrieve https://cdn.oreillystatic.com/en/assets/1/event/302/5%20things%20Go%20taught%20me%20about%20open%20source_%20Presentation.pdf\n",
            "Downladed file: /content/gdrive/My Drive/Colab_Downloads/5%20things%20Go%20taught%20me%20about%20open%20source_%20Presentation.pdf\n",
            "Waiting 2 seconds to retrieve https://cdn.oreillystatic.com/en/assets/1/event/302/A%20fairy%20tale%20about%20habits_%20Or%20what%20we%20can%20learn%20from%20Cinderella%20and%20her%20peers%20in%20DevOps%20Presentation.pdf\n",
            "Downladed file: /content/gdrive/My Drive/Colab_Downloads/A%20fairy%20tale%20about%20habits_%20Or%20what%20we%20can%20learn%20from%20Cinderella%20and%20her%20peers%20in%20DevOps%20Presentation.pdf\n",
            "Waiting 2 seconds to retrieve https://cdn.oreillystatic.com/en/assets/1/event/302/A%20GDPR%20retrospective_%20Implementation%20by%20a%20large-scale%20data%20organization%20in%20reality%20Presentation.zip\n",
            "Downladed file: /content/gdrive/My Drive/Colab_Downloads/A%20GDPR%20retrospective_%20Implementation%20by%20a%20large-scale%20data%20organization%20in%20reality%20Presentation.zip\n",
            "Waiting 2 seconds to retrieve https://cdn.oreillystatic.com/en/assets/1/event/302/Accelerating%20engineering%20delivery%20tempo%20Presentation.pdf\n",
            "Downladed file: /content/gdrive/My Drive/Colab_Downloads/Accelerating%20engineering%20delivery%20tempo%20Presentation.pdf\n",
            "Waiting 2 seconds to retrieve https://cdn.oreillystatic.com/en/assets/1/event/302/Autoscaling%20in%20reality_%20Lessons%20learned%20from%20adaptively%20scaling%20Kubernetes%20Presentation.pptx\n",
            "Downladed file: /content/gdrive/My Drive/Colab_Downloads/Autoscaling%20in%20reality_%20Lessons%20learned%20from%20adaptively%20scaling%20Kubernetes%20Presentation.pptx\n",
            "Waiting 5 seconds to retrieve https://cdn.oreillystatic.com/en/assets/1/event/302/Building%20a%20data%20ecosystem%20at%20Sweden_s%20Television_%20Lessons%20and%20pitfalls%20Presentation.pdf\n",
            "Downladed file: /content/gdrive/My Drive/Colab_Downloads/Building%20a%20data%20ecosystem%20at%20Sweden_s%20Television_%20Lessons%20and%20pitfalls%20Presentation.pdf\n",
            "Waiting 4 seconds to retrieve https://cdn.oreillystatic.com/en/assets/1/event/302/Building%20high-performing%20engineering%20teams%2C%201%20pixel%20at%20a%20time%20Presentation.pdf\n",
            "Downladed file: /content/gdrive/My Drive/Colab_Downloads/Building%20high-performing%20engineering%20teams%2C%201%20pixel%20at%20a%20time%20Presentation.pdf\n",
            "Waiting 2 seconds to retrieve https://cdn.oreillystatic.com/en/assets/1/event/302/CD%20with%20Kubernetes_%20The%20prequel%20_sponsored%20by%20GitLab_%20Presentation.pdf\n",
            "Downladed file: /content/gdrive/My Drive/Colab_Downloads/CD%20with%20Kubernetes_%20The%20prequel%20_sponsored%20by%20GitLab_%20Presentation.pdf\n",
            "Waiting 4 seconds to retrieve https://cdn.oreillystatic.com/en/assets/1/event/302/Complex%20change%20through%20simple%20steps_%203%20principles%20to%20reduce%20deployment%20time%20by%2099%25%20Presentation.pdf\n",
            "Downladed file: /content/gdrive/My Drive/Colab_Downloads/Complex%20change%20through%20simple%20steps_%203%20principles%20to%20reduce%20deployment%20time%20by%2099%25%20Presentation.pdf\n",
            "Waiting 5 seconds to retrieve https://cdn.oreillystatic.com/en/assets/1/event/302/Controlled%20chaos_%20The%20inevitable%20marriage%20of%20DevOps%20and%20security%20Presentation.pdf\n",
            "Downladed file: /content/gdrive/My Drive/Colab_Downloads/Controlled%20chaos_%20The%20inevitable%20marriage%20of%20DevOps%20and%20security%20Presentation.pdf\n",
            "Waiting 4 seconds to retrieve https://cdn.oreillystatic.com/en/assets/1/event/302/Creating%20a%20scalable%20monitoring%20system%20that%20everyone%20will%20love%20Presentation.pdf\n",
            "Downladed file: /content/gdrive/My Drive/Colab_Downloads/Creating%20a%20scalable%20monitoring%20system%20that%20everyone%20will%20love%20Presentation.pdf\n",
            "Waiting 5 seconds to retrieve https://cdn.oreillystatic.com/en/assets/1/event/302/Everything%20is%20a%20little%20bit%20broken_%20or%2C%20The%20illusion%20of%20control%20Presentation.pdf\n",
            "Downladed file: /content/gdrive/My Drive/Colab_Downloads/Everything%20is%20a%20little%20bit%20broken_%20or%2C%20The%20illusion%20of%20control%20Presentation.pdf\n",
            "Waiting 4 seconds to retrieve https://cdn.oreillystatic.com/en/assets/1/event/302/Fixing%20HTTP_2%20and%20preparing%20for%20HTTP_3%20over%20QUIC%20Presentation.pdf\n",
            "Downladed file: /content/gdrive/My Drive/Colab_Downloads/Fixing%20HTTP_2%20and%20preparing%20for%20HTTP_3%20over%20QUIC%20Presentation.pdf\n",
            "Waiting 4 seconds to retrieve https://cdn.oreillystatic.com/en/assets/1/event/302/GitOps%20101%20Presentation.pdf\n",
            "Downladed file: /content/gdrive/My Drive/Colab_Downloads/GitOps%20101%20Presentation.pdf\n",
            "Waiting 2 seconds to retrieve https://cdn.oreillystatic.com/en/assets/1/event/302/Helping%20your%20dev%20teams%20succeed%20at%20ops%2C%20post-Kubernetes%20Presentation.pdf\n",
            "Downladed file: /content/gdrive/My Drive/Colab_Downloads/Helping%20your%20dev%20teams%20succeed%20at%20ops%2C%20post-Kubernetes%20Presentation.pdf\n",
            "Waiting 2 seconds to retrieve https://cdn.oreillystatic.com/en/assets/1/event/302/Highly%20available%20cross-region%20deployments%20with%20Kubernetes%20Presentation.pdf\n",
            "Downladed file: /content/gdrive/My Drive/Colab_Downloads/Highly%20available%20cross-region%20deployments%20with%20Kubernetes%20Presentation.pdf\n",
            "Waiting 4 seconds to retrieve https://cdn.oreillystatic.com/en/assets/1/event/302/How%20to%20deploy%20infrastructure%20in%20just%2013_8%20billion%20years%20Presentation.pdf\n",
            "Downladed file: /content/gdrive/My Drive/Colab_Downloads/How%20to%20deploy%20infrastructure%20in%20just%2013_8%20billion%20years%20Presentation.pdf\n",
            "Waiting 2 seconds to retrieve https://cdn.oreillystatic.com/en/assets/1/event/302/Knative_%20A%20Kubernetes%20framework%20to%20manage%20serverless%20workloads%20Presentation.pdf\n",
            "Downladed file: /content/gdrive/My Drive/Colab_Downloads/Knative_%20A%20Kubernetes%20framework%20to%20manage%20serverless%20workloads%20Presentation.pdf\n",
            "Waiting 3 seconds to retrieve https://cdn.oreillystatic.com/en/assets/1/event/302/Kubernetes%20at%20scale_%20The%20good%2C%20the%20bad%2C%20and%20the%20ugly%20_sponsored%20by%20Oracle%20Cloud%20Infrastructure_%20Presentation.pdf\n",
            "Downladed file: /content/gdrive/My Drive/Colab_Downloads/Kubernetes%20at%20scale_%20The%20good%2C%20the%20bad%2C%20and%20the%20ugly%20_sponsored%20by%20Oracle%20Cloud%20Infrastructure_%20Presentation.pdf\n",
            "Waiting 4 seconds to retrieve https://cdn.oreillystatic.com/en/assets/1/event/302/Kubernetes%20the%20very%20hard%20way%20Presentation.pdf\n",
            "Downladed file: /content/gdrive/My Drive/Colab_Downloads/Kubernetes%20the%20very%20hard%20way%20Presentation.pdf\n",
            "Waiting 4 seconds to retrieve https://cdn.oreillystatic.com/en/assets/1/event/302/M3%20and%20Prometheus_%20Monitoring%20at%20planet%20scale%20for%20everyone%20Presentation.pdf\n",
            "Downladed file: /content/gdrive/My Drive/Colab_Downloads/M3%20and%20Prometheus_%20Monitoring%20at%20planet%20scale%20for%20everyone%20Presentation.pdf\n",
            "Waiting 3 seconds to retrieve https://cdn.oreillystatic.com/en/assets/1/event/302/Making%20S3%20even%20more%20resilient%20using%20Lambda%40Edge%20Presentation.zip\n",
            "Downladed file: /content/gdrive/My Drive/Colab_Downloads/Making%20S3%20even%20more%20resilient%20using%20Lambda%40Edge%20Presentation.zip\n",
            "Waiting 5 seconds to retrieve https://cdn.oreillystatic.com/en/assets/1/event/302/Measuring%20chaos_%20Chaos%20engineering%20and%20team%20health%20Presentation.pdf\n",
            "Downladed file: /content/gdrive/My Drive/Colab_Downloads/Measuring%20chaos_%20Chaos%20engineering%20and%20team%20health%20Presentation.pdf\n",
            "Waiting 2 seconds to retrieve https://cdn.oreillystatic.com/en/assets/1/event/302/Observability_%20Understanding%20production%20through%20your%20customers_%20eyes%20Presentation.pdf\n",
            "Downladed file: /content/gdrive/My Drive/Colab_Downloads/Observability_%20Understanding%20production%20through%20your%20customers_%20eyes%20Presentation.pdf\n",
            "Waiting 4 seconds to retrieve https://cdn.oreillystatic.com/en/assets/1/event/302/Operating%20a%20global%20cloud%20native%20platform%20Presentation.pdf\n",
            "Downladed file: /content/gdrive/My Drive/Colab_Downloads/Operating%20a%20global%20cloud%20native%20platform%20Presentation.pdf\n",
            "Waiting 4 seconds to retrieve https://cdn.oreillystatic.com/en/assets/1/event/302/PostgreSQL%20at%20low%20level_%20Stay%20curious%20Presentation.pdf\n",
            "Downladed file: /content/gdrive/My Drive/Colab_Downloads/PostgreSQL%20at%20low%20level_%20Stay%20curious%20Presentation.pdf\n",
            "Waiting 4 seconds to retrieve https://cdn.oreillystatic.com/en/assets/1/event/302/Revolutionizing%20a%20bank_%20Introducing%20service%20mesh%20and%20a%20secure%20container%20platform%20Presentation.pdf\n",
            "Downladed file: /content/gdrive/My Drive/Colab_Downloads/Revolutionizing%20a%20bank_%20Introducing%20service%20mesh%20and%20a%20secure%20container%20platform%20Presentation.pdf\n",
            "Waiting 5 seconds to retrieve https://cdn.oreillystatic.com/en/assets/1/event/302/Secure%20reliable%20systems%20Presentation.pptx\n",
            "Downladed file: /content/gdrive/My Drive/Colab_Downloads/Secure%20reliable%20systems%20Presentation.pptx\n",
            "Waiting 4 seconds to retrieve https://cdn.oreillystatic.com/en/assets/1/event/302/Test-driven%20development%20_TDD_%20for%20infrastructure%20Presentation.pdf\n",
            "Downladed file: /content/gdrive/My Drive/Colab_Downloads/Test-driven%20development%20_TDD_%20for%20infrastructure%20Presentation.pdf\n",
            "Waiting 3 seconds to retrieve https://cdn.oreillystatic.com/en/assets/1/event/302/The%20definitive%20guide%20to%20making%20software%20fail%20on%20ARM64%20Presentation.pdf\n",
            "Downladed file: /content/gdrive/My Drive/Colab_Downloads/The%20definitive%20guide%20to%20making%20software%20fail%20on%20ARM64%20Presentation.pdf\n",
            "Waiting 2 seconds to retrieve https://cdn.oreillystatic.com/en/assets/1/event/302/The%20deputy%20shot%20the%20sheriff_%20Privilege%20escalation%20in%20build%20pipelines%20Presentation.pdf\n",
            "Downladed file: /content/gdrive/My Drive/Colab_Downloads/The%20deputy%20shot%20the%20sheriff_%20Privilege%20escalation%20in%20build%20pipelines%20Presentation.pdf\n",
            "Waiting 5 seconds to retrieve https://cdn.oreillystatic.com/en/assets/1/event/302/The%20elephant%20in%20the%20Kubernetes%20room_%20Team%20interactions%20Presentation.pdf\n",
            "Downladed file: /content/gdrive/My Drive/Colab_Downloads/The%20elephant%20in%20the%20Kubernetes%20room_%20Team%20interactions%20Presentation.pdf\n",
            "Waiting 4 seconds to retrieve https://cdn.oreillystatic.com/en/assets/1/event/302/The%20path%20to%20build%20happiness%20Presentation.pdf\n",
            "Downladed file: /content/gdrive/My Drive/Colab_Downloads/The%20path%20to%20build%20happiness%20Presentation.pdf\n",
            "Waiting 3 seconds to retrieve https://cdn.oreillystatic.com/en/assets/1/event/302/The%20power%20of%20good%20abstractions%20in%20systems%20design%20Presentation.pdf\n",
            "Downladed file: /content/gdrive/My Drive/Colab_Downloads/The%20power%20of%20good%20abstractions%20in%20systems%20design%20Presentation.pdf\n",
            "Waiting 4 seconds to retrieve https://cdn.oreillystatic.com/en/assets/1/event/302/The%20ultimate%20guide%20to%20complicated%20systems%20Presentation.pdf\n",
            "Downladed file: /content/gdrive/My Drive/Colab_Downloads/The%20ultimate%20guide%20to%20complicated%20systems%20Presentation.pdf\n",
            "Waiting 3 seconds to retrieve https://cdn.oreillystatic.com/en/assets/1/event/302/What%20remains%20of%20dashboards%20and%20metrics%20without%20the%20hype%20and%20anti-patterns%20Presentation.pdf\n",
            "Downladed file: /content/gdrive/My Drive/Colab_Downloads/What%20remains%20of%20dashboards%20and%20metrics%20without%20the%20hype%20and%20anti-patterns%20Presentation.pdf\n",
            "Finished finding all available documents on the web page!\n"
          ],
          "name": "stdout"
        }
      ]
    },
    {
      "cell_type": "code",
      "metadata": {
        "id": "9_t7A3eOYoOy",
        "colab_type": "code",
        "outputId": "8f2e5701-d5f7-477a-8644-e476aaf2d824",
        "colab": {
          "base_uri": "https://localhost:8080/",
          "height": 35
        }
      },
      "source": [
        "print('Number of documents processed:', i)"
      ],
      "execution_count": 12,
      "outputs": [
        {
          "output_type": "stream",
          "text": [
            "Number of documents processed: 36\n"
          ],
          "name": "stdout"
        }
      ]
    },
    {
      "cell_type": "code",
      "metadata": {
        "id": "aptSJkHZbc_h",
        "colab_type": "code",
        "colab": {}
      },
      "source": [
        "if (sendNotification): email_notify(\"The web scraping process has completed! \"+datetime.now().strftime('%a %B %d, %Y %I:%M:%S %p'))"
      ],
      "execution_count": 0,
      "outputs": []
    },
    {
      "cell_type": "code",
      "metadata": {
        "id": "nN6rWf7qYoO1",
        "colab_type": "code",
        "outputId": "fd0a22ae-b24b-424f-847a-b1302c92a120",
        "colab": {
          "base_uri": "https://localhost:8080/",
          "height": 35
        }
      },
      "source": [
        "print ('Total time for the script:',(datetime.now() - startTimeScript))"
      ],
      "execution_count": 14,
      "outputs": [
        {
          "output_type": "stream",
          "text": [
            "Total time for the script: 0:03:33.503325\n"
          ],
          "name": "stdout"
        }
      ]
    }
  ]
}