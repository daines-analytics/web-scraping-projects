{
  "nbformat": 4,
  "nbformat_minor": 0,
  "metadata": {
    "colab": {
      "name": "web-scraping-py-bsoup-oreilly-ai-newyork-2019.ipynb",
      "version": "0.3.2",
      "provenance": [],
      "collapsed_sections": []
    },
    "language_info": {
      "codemirror_mode": {
        "name": "ipython",
        "version": 3
      },
      "file_extension": ".py",
      "mimetype": "text/x-python",
      "name": "python",
      "nbconvert_exporter": "python",
      "pygments_lexer": "ipython3",
      "version": "3.7.1"
    },
    "kernelspec": {
      "display_name": "Python 3",
      "language": "python",
      "name": "python3"
    }
  },
  "cells": [
    {
      "cell_type": "markdown",
      "metadata": {
        "id": "l4mr2mbWYoOa",
        "colab_type": "text"
      },
      "source": [
        "# Web Scraping of O'Reilly Artificial Intelligence Conference New York 2019\n",
        "### David Lowe\n",
        "### July 7, 2019\n",
        "\n",
        "SUMMARY: The purpose of this project is to practice web scraping by extracting specific pieces of information from a website. The web scraping python code leverages the BeautifulSoup module.\n",
        "\n",
        "INTRODUCTION: On occasions we need to download a batch of documents from a single web page without clicking on the download link one at a time. This web scraping script will automatically traverse through the entire web page and collect all links to the PDF and PPTX documents. The script will also download the documents as part of the scraping process.\n",
        "\n",
        "Starting URLs: https://conferences.oreilly.com/artificial-intelligence/ai-ny-2019/public/schedule/proceedings"
      ]
    },
    {
      "cell_type": "markdown",
      "metadata": {
        "id": "kyLL5BLJYoOc",
        "colab_type": "text"
      },
      "source": [
        "## Loading Libraries and Packages"
      ]
    },
    {
      "cell_type": "code",
      "metadata": {
        "id": "wELc-r0BaiDC",
        "colab_type": "code",
        "outputId": "90717b54-ff77-4ed4-ccd0-5df41160c668",
        "colab": {
          "base_uri": "https://localhost:8080/",
          "height": 1000
        }
      },
      "source": [
        "# Refresh package repositories and set up additional Linux and Python packages\n",
        "!apt-get update\n",
        "!apt install chromium-chromedriver\n",
        "!pip install -q pymysql selenium"
      ],
      "execution_count": 1,
      "outputs": [
        {
          "output_type": "stream",
          "text": [
            "\r0% [Working]\r            \rHit:1 http://archive.ubuntu.com/ubuntu bionic InRelease\n",
            "Get:2 http://archive.ubuntu.com/ubuntu bionic-updates InRelease [88.7 kB]\n",
            "Ign:3 https://developer.download.nvidia.com/compute/cuda/repos/ubuntu1804/x86_64  InRelease\n",
            "Get:4 http://security.ubuntu.com/ubuntu bionic-security InRelease [88.7 kB]\n",
            "Hit:5 http://ppa.launchpad.net/graphics-drivers/ppa/ubuntu bionic InRelease\n",
            "Get:6 http://archive.ubuntu.com/ubuntu bionic-backports InRelease [74.6 kB]\n",
            "Ign:7 https://developer.download.nvidia.com/compute/machine-learning/repos/ubuntu1804/x86_64  InRelease\n",
            "Hit:8 https://developer.download.nvidia.com/compute/cuda/repos/ubuntu1804/x86_64  Release\n",
            "Get:9 https://developer.download.nvidia.com/compute/machine-learning/repos/ubuntu1804/x86_64  Release [564 B]\n",
            "Get:10 https://developer.download.nvidia.com/compute/machine-learning/repos/ubuntu1804/x86_64  Release.gpg [801 B]\n",
            "Get:11 https://cloud.r-project.org/bin/linux/ubuntu bionic-cran35/ InRelease [3,626 B]\n",
            "Get:12 http://ppa.launchpad.net/marutter/c2d4u3.5/ubuntu bionic InRelease [15.4 kB]\n",
            "Get:13 http://archive.ubuntu.com/ubuntu bionic-updates/universe amd64 Packages [1,232 kB]\n",
            "Get:14 http://archive.ubuntu.com/ubuntu bionic-updates/main amd64 Packages [879 kB]\n",
            "Get:15 http://archive.ubuntu.com/ubuntu bionic-backports/universe amd64 Packages [3,927 B]\n",
            "Get:17 https://developer.download.nvidia.com/compute/machine-learning/repos/ubuntu1804/x86_64  Packages [10.8 kB]\n",
            "Get:18 https://cloud.r-project.org/bin/linux/ubuntu bionic-cran35/ Packages [58.4 kB]\n",
            "Get:19 http://ppa.launchpad.net/marutter/c2d4u3.5/ubuntu bionic/main Sources [1,648 kB]\n",
            "Get:20 http://security.ubuntu.com/ubuntu bionic-security/universe amd64 Packages [720 kB]\n",
            "Get:21 http://security.ubuntu.com/ubuntu bionic-security/main amd64 Packages [561 kB]\n",
            "Get:22 http://ppa.launchpad.net/marutter/c2d4u3.5/ubuntu bionic/main amd64 Packages [791 kB]\n",
            "Fetched 6,176 kB in 4s (1,588 kB/s)\n",
            "Reading package lists... Done\n",
            "Reading package lists... Done\n",
            "Building dependency tree       \n",
            "Reading state information... Done\n",
            "The following package was automatically installed and is no longer required:\n",
            "  libnvidia-common-410\n",
            "Use 'apt autoremove' to remove it.\n",
            "The following additional packages will be installed:\n",
            "  chromium-browser chromium-browser-l10n chromium-codecs-ffmpeg-extra\n",
            "Suggested packages:\n",
            "  webaccounts-chromium-extension unity-chromium-extension adobe-flashplugin\n",
            "The following NEW packages will be installed:\n",
            "  chromium-browser chromium-browser-l10n chromium-chromedriver\n",
            "  chromium-codecs-ffmpeg-extra\n",
            "0 upgraded, 4 newly installed, 0 to remove and 41 not upgraded.\n",
            "Need to get 70.1 MB of archives.\n",
            "After this operation, 257 MB of additional disk space will be used.\n",
            "Get:1 http://archive.ubuntu.com/ubuntu bionic-updates/universe amd64 chromium-codecs-ffmpeg-extra amd64 75.0.3770.90-0ubuntu0.18.04.1 [1,112 kB]\n",
            "Get:2 http://archive.ubuntu.com/ubuntu bionic-updates/universe amd64 chromium-browser amd64 75.0.3770.90-0ubuntu0.18.04.1 [61.6 MB]\n",
            "Get:3 http://archive.ubuntu.com/ubuntu bionic-updates/universe amd64 chromium-browser-l10n all 75.0.3770.90-0ubuntu0.18.04.1 [2,953 kB]\n",
            "Get:4 http://archive.ubuntu.com/ubuntu bionic-updates/universe amd64 chromium-chromedriver amd64 75.0.3770.90-0ubuntu0.18.04.1 [4,482 kB]\n",
            "Fetched 70.1 MB in 1s (59.7 MB/s)\n",
            "Selecting previously unselected package chromium-codecs-ffmpeg-extra.\n",
            "(Reading database ... 130942 files and directories currently installed.)\n",
            "Preparing to unpack .../chromium-codecs-ffmpeg-extra_75.0.3770.90-0ubuntu0.18.04.1_amd64.deb ...\n",
            "Unpacking chromium-codecs-ffmpeg-extra (75.0.3770.90-0ubuntu0.18.04.1) ...\n",
            "Selecting previously unselected package chromium-browser.\n",
            "Preparing to unpack .../chromium-browser_75.0.3770.90-0ubuntu0.18.04.1_amd64.deb ...\n",
            "Unpacking chromium-browser (75.0.3770.90-0ubuntu0.18.04.1) ...\n",
            "Selecting previously unselected package chromium-browser-l10n.\n",
            "Preparing to unpack .../chromium-browser-l10n_75.0.3770.90-0ubuntu0.18.04.1_all.deb ...\n",
            "Unpacking chromium-browser-l10n (75.0.3770.90-0ubuntu0.18.04.1) ...\n",
            "Selecting previously unselected package chromium-chromedriver.\n",
            "Preparing to unpack .../chromium-chromedriver_75.0.3770.90-0ubuntu0.18.04.1_amd64.deb ...\n",
            "Unpacking chromium-chromedriver (75.0.3770.90-0ubuntu0.18.04.1) ...\n",
            "Processing triggers for mime-support (3.60ubuntu1) ...\n",
            "Setting up chromium-codecs-ffmpeg-extra (75.0.3770.90-0ubuntu0.18.04.1) ...\n",
            "Processing triggers for man-db (2.8.3-2ubuntu0.1) ...\n",
            "Processing triggers for hicolor-icon-theme (0.17-2) ...\n",
            "Setting up chromium-browser (75.0.3770.90-0ubuntu0.18.04.1) ...\n",
            "update-alternatives: using /usr/bin/chromium-browser to provide /usr/bin/x-www-browser (x-www-browser) in auto mode\n",
            "update-alternatives: using /usr/bin/chromium-browser to provide /usr/bin/gnome-www-browser (gnome-www-browser) in auto mode\n",
            "Setting up chromium-chromedriver (75.0.3770.90-0ubuntu0.18.04.1) ...\n",
            "Setting up chromium-browser-l10n (75.0.3770.90-0ubuntu0.18.04.1) ...\n",
            "\u001b[K     |████████████████████████████████| 51kB 1.9MB/s \n",
            "\u001b[K     |████████████████████████████████| 911kB 8.1MB/s \n",
            "\u001b[?25h"
          ],
          "name": "stdout"
        }
      ]
    },
    {
      "cell_type": "code",
      "metadata": {
        "id": "9tGlgDPeYoOd",
        "colab_type": "code",
        "colab": {}
      },
      "source": [
        "import numpy as np\n",
        "import pandas as pd\n",
        "import os\n",
        "import shutil\n",
        "import smtplib\n",
        "import sys\n",
        "from email.message import EmailMessage\n",
        "from datetime import datetime\n",
        "import requests\n",
        "from requests.exceptions import HTTPError\n",
        "from requests.exceptions import ConnectionError\n",
        "from bs4 import BeautifulSoup\n",
        "from random import randint\n",
        "from time import sleep\n",
        "from selenium import webdriver\n",
        "import pymysql\n",
        "\n",
        "startTimeScript = datetime.now()"
      ],
      "execution_count": 0,
      "outputs": []
    },
    {
      "cell_type": "markdown",
      "metadata": {
        "id": "PxJqydfiYoOg",
        "colab_type": "text"
      },
      "source": [
        "## Setting up the basic functions"
      ]
    },
    {
      "cell_type": "code",
      "metadata": {
        "id": "Fnlwzz-PYoOh",
        "colab_type": "code",
        "colab": {}
      },
      "source": [
        "def email_notify(msg_text):\n",
        "    sender = os.environ.get('MAIL_SENDER')\n",
        "    receiver = os.environ.get('MAIL_RECEIVER')\n",
        "    gateway = os.environ.get('SMTP_GATEWAY')\n",
        "    smtpuser = os.environ.get('SMTP_USERNAME')\n",
        "    password = os.environ.get('SMTP_PASSWORD')\n",
        "    if sender==None or receiver==None or gateway==None or smtpuser==None or password==None:\n",
        "        sys.exit(\"Incomplete email setup info. Script Processing Aborted!!!\")\n",
        "    msg = EmailMessage()\n",
        "    msg.set_content(msg_text)\n",
        "    msg['Subject'] = 'Notification from Python Web Scraping Script'\n",
        "    msg['From'] = sender\n",
        "    msg['To'] = receiver\n",
        "    server = smtplib.SMTP(gateway, 587)\n",
        "    server.starttls()\n",
        "    server.login(smtpuser, password)\n",
        "    server.send_message(msg)\n",
        "    server.quit()"
      ],
      "execution_count": 0,
      "outputs": []
    },
    {
      "cell_type": "code",
      "metadata": {
        "id": "Kk6cDbhzqgsK",
        "colab_type": "code",
        "colab": {}
      },
      "source": [
        "def download_file(doc_path):\n",
        "#    local_file = os.path.basename(doc_path)\n",
        "    local_file = doc_path.split('/')[-1]\n",
        "    gdrivePrefix = '/content/gdrive/My Drive/Colab_Downloads/'\n",
        "    dest_file = gdrivePrefix + local_file\n",
        "    with requests.get(doc_path, stream=True) as r:\n",
        "        with open(dest_file, 'wb') as f:\n",
        "            shutil.copyfileobj(r.raw, f)\n",
        "    print('Downladed file: ' + dest_file)"
      ],
      "execution_count": 0,
      "outputs": []
    },
    {
      "cell_type": "markdown",
      "metadata": {
        "id": "zF4hTJ_jYoOn",
        "colab_type": "text"
      },
      "source": [
        "## Setting up the necessary parameters"
      ]
    },
    {
      "cell_type": "code",
      "metadata": {
        "id": "K2LZP6EpiqRL",
        "colab_type": "code",
        "outputId": "2961537e-953c-409a-95a4-0e0a2a099914",
        "colab": {
          "base_uri": "https://localhost:8080/",
          "height": 129
        }
      },
      "source": [
        "# Mount Google Drive locally\n",
        "\n",
        "from google.colab import drive\n",
        "drive.mount('/content/gdrive')"
      ],
      "execution_count": 5,
      "outputs": [
        {
          "output_type": "stream",
          "text": [
            "Go to this URL in a browser: https://accounts.google.com/o/oauth2/auth?client_id=947318989803-6bn6qk8qdgf4n4g3pfee6491hc0brc4i.apps.googleusercontent.com&redirect_uri=urn%3Aietf%3Awg%3Aoauth%3A2.0%3Aoob&scope=email%20https%3A%2F%2Fwww.googleapis.com%2Fauth%2Fdocs.test%20https%3A%2F%2Fwww.googleapis.com%2Fauth%2Fdrive%20https%3A%2F%2Fwww.googleapis.com%2Fauth%2Fdrive.photos.readonly%20https%3A%2F%2Fwww.googleapis.com%2Fauth%2Fpeopleapi.readonly&response_type=code\n",
            "\n",
            "Enter your authorization code:\n",
            "··········\n",
            "Mounted at /content/gdrive\n"
          ],
          "name": "stdout"
        }
      ]
    },
    {
      "cell_type": "code",
      "metadata": {
        "id": "Xy-XtBEiZwdV",
        "colab_type": "code",
        "colab": {}
      },
      "source": [
        "# Set up the verbose flag to print detailed messages for debugging (setting True will activate!)\n",
        "verbose = False\n",
        "\n",
        "# Set up the sendNotification flag to send progress emails (setting True will send emails!)\n",
        "sendNotification = False\n",
        "\n",
        "# Set up the executeDownload flag to download files (setting True will download!)\n",
        "executeDownload = True"
      ],
      "execution_count": 0,
      "outputs": []
    },
    {
      "cell_type": "code",
      "metadata": {
        "id": "Ak_tp8PIabC8",
        "colab_type": "code",
        "colab": {}
      },
      "source": [
        "if (sendNotification): email_notify(\"The web scraping process has begun! \"+datetime.now().strftime('%a %B %d, %Y %I:%M:%S %p'))"
      ],
      "execution_count": 0,
      "outputs": []
    },
    {
      "cell_type": "code",
      "metadata": {
        "id": "ntjQrml7YoOo",
        "colab_type": "code",
        "colab": {}
      },
      "source": [
        "# Specifying the URL of desired web page to be scrapped\n",
        "startingURL = \"https://conferences.oreilly.com/artificial-intelligence/ai-ny-2019/public/schedule/proceedings\"\n",
        "\n",
        "# Creating an html document from the URL\n",
        "uastring = \"Mozilla/5.0 (Windows NT 10.0; Win64; x64; rv:67.0) Gecko/20100101 Firefox/67.0\"\n",
        "headers={'User-Agent': uastring}"
      ],
      "execution_count": 0,
      "outputs": []
    },
    {
      "cell_type": "markdown",
      "metadata": {
        "id": "LWf3Y7c3YoOs",
        "colab_type": "text"
      },
      "source": [
        "## Performing the Scraping and Processing"
      ]
    },
    {
      "cell_type": "code",
      "metadata": {
        "id": "l0TO1zBrYoOt",
        "colab_type": "code",
        "colab": {}
      },
      "source": [
        "if (sendNotification): email_notify(\"The web page loading and item extraction process has begun! \"+datetime.now().strftime('%a %B %d, %Y %I:%M:%S %p'))"
      ],
      "execution_count": 0,
      "outputs": []
    },
    {
      "cell_type": "code",
      "metadata": {
        "id": "xX6dpqjie69M",
        "colab_type": "code",
        "outputId": "0faf9130-c250-4e32-e3e2-016f5ab5d652",
        "colab": {
          "base_uri": "https://localhost:8080/",
          "height": 35
        }
      },
      "source": [
        "try:\n",
        "    s = requests.Session()\n",
        "    resp = s.get(startingURL, headers=headers)\n",
        "    if (verbose): print(resp.text)\n",
        "except HTTPError as e:\n",
        "    print('The server could not serve up the web page!')\n",
        "    sys.exit(\"Script processing cannot continue!!!\")\n",
        "except ConnectionError as e:\n",
        "    print('The server could not be reached due to connection issues!')\n",
        "    sys.exit(\"Script processing cannot continue!!!\")\n",
        "\n",
        "if (resp.status_code==requests.codes.ok):\n",
        "    print('Successfully accessed the web page: ' + startingURL)\n",
        "    webPage = BeautifulSoup(resp.text, 'lxml')"
      ],
      "execution_count": 10,
      "outputs": [
        {
          "output_type": "stream",
          "text": [
            "Successfully accessed the web page: https://conferences.oreilly.com/artificial-intelligence/ai-ny-2019/public/schedule/proceedings\n"
          ],
          "name": "stdout"
        }
      ]
    },
    {
      "cell_type": "code",
      "metadata": {
        "id": "yk9gY0vwYoOv",
        "colab_type": "code",
        "outputId": "efa7c9df-b830-45f3-fa63-13e9df5292bb",
        "colab": {
          "base_uri": "https://localhost:8080/",
          "height": 1000
        }
      },
      "source": [
        "# Gather all links to the document\n",
        "collection = webPage.find_all(\"a\", class_=\"attach\")\n",
        "i = 0\n",
        "\n",
        "for item in collection:\n",
        "    if (verbose): print(item)\n",
        "    docPath = item['href']\n",
        "    if docPath.lower().endswith(\".pdf\") | docPath.lower().endswith(\".pptx\") | docPath.lower().endswith(\".zip\"):\n",
        "        i = i + 1\n",
        "        # Adding random wait time so we do not hammer the website needlessly\n",
        "        waitTime = randint(2,5)\n",
        "        print(\"Waiting \" + str(waitTime) + \" seconds to retrieve \" + docPath)\n",
        "        sleep(waitTime)\n",
        "        if (executeDownload): download_file(docPath)\n",
        "\n",
        "print('Finished finding all available documents on the web page!')"
      ],
      "execution_count": 11,
      "outputs": [
        {
          "output_type": "stream",
          "text": [
            "Waiting 5 seconds to retrieve https://cdn.oreillystatic.com/en/assets/1/event/291/%20nGraph_%20Unlocking%20next-generation%20performance%20with%20deep%20learning%20compilers%20Presentation.zip\n",
            "Downladed file: /content/gdrive/My Drive/Colab_Downloads/%20nGraph_%20Unlocking%20next-generation%20performance%20with%20deep%20learning%20compilers%20Presentation.zip\n",
            "Waiting 3 seconds to retrieve https://cdn.oreillystatic.com/en/assets/1/event/291/A%20reinforcement%20learning%20approach%20to%20optimizing%20preference%20on%20a%20social%20network%20Presentation.pdf\n",
            "Downladed file: /content/gdrive/My Drive/Colab_Downloads/A%20reinforcement%20learning%20approach%20to%20optimizing%20preference%20on%20a%20social%20network%20Presentation.pdf\n",
            "Waiting 2 seconds to retrieve https://cdn.oreillystatic.com/en/assets/1/event/291/Accelerate%20innovation%20in%20the%20enterprise%20with%20distributed%20ML%20and%20DL%20_sponsored%20by%20BlueData_%20Presentation.pdf\n",
            "Downladed file: /content/gdrive/My Drive/Colab_Downloads/Accelerate%20innovation%20in%20the%20enterprise%20with%20distributed%20ML%20and%20DL%20_sponsored%20by%20BlueData_%20Presentation.pdf\n",
            "Waiting 4 seconds to retrieve https://cdn.oreillystatic.com/en/assets/1/event/291/An%20artificial%20intelligence%20framework%20to%20counter%20international%20human%20trafficking%20Presentation.pptx\n",
            "Downladed file: /content/gdrive/My Drive/Colab_Downloads/An%20artificial%20intelligence%20framework%20to%20counter%20international%20human%20trafficking%20Presentation.pptx\n",
            "Waiting 2 seconds to retrieve https://cdn.oreillystatic.com/en/assets/1/event/291/Artists%20and%20supercomputers_%20Creative%20collaborations%20in%20AI%20Presentation.pdf\n",
            "Downladed file: /content/gdrive/My Drive/Colab_Downloads/Artists%20and%20supercomputers_%20Creative%20collaborations%20in%20AI%20Presentation.pdf\n",
            "Waiting 4 seconds to retrieve https://cdn.oreillystatic.com/en/assets/1/event/291/BERT_%20Pretraining%20deep%20bidirectional%20transformers%20for%20language%20understanding%20Presentation.pdf\n",
            "Downladed file: /content/gdrive/My Drive/Colab_Downloads/BERT_%20Pretraining%20deep%20bidirectional%20transformers%20for%20language%20understanding%20Presentation.pdf\n",
            "Waiting 2 seconds to retrieve https://cdn.oreillystatic.com/en/assets/1/event/291/Best%20practices%20for%20scaling%20modeling%20platforms%20Presentation.pdf\n",
            "Downladed file: /content/gdrive/My Drive/Colab_Downloads/Best%20practices%20for%20scaling%20modeling%20platforms%20Presentation.pdf\n",
            "Waiting 3 seconds to retrieve https://cdn.oreillystatic.com/en/assets/1/event/291/Better%20Together%20Diversity%20Networking%20Lunch%20Presentation.pptx\n",
            "Downladed file: /content/gdrive/My Drive/Colab_Downloads/Better%20Together%20Diversity%20Networking%20Lunch%20Presentation.pptx\n",
            "Waiting 4 seconds to retrieve https://www.maryamjahanshahi.com/talk/files/ai-ny-2019.pdf\n",
            "Downladed file: /content/gdrive/My Drive/Colab_Downloads/ai-ny-2019.pdf\n",
            "Waiting 5 seconds to retrieve https://cdn.oreillystatic.com/en/assets/1/event/291/Bringing%20your%20machine%20learning%20to%20production%20with%20ML%20Ops%20_sponsored%20by%20Microsoft_%20Presentation.zip\n",
            "Downladed file: /content/gdrive/My Drive/Colab_Downloads/Bringing%20your%20machine%20learning%20to%20production%20with%20ML%20Ops%20_sponsored%20by%20Microsoft_%20Presentation.zip\n",
            "Waiting 4 seconds to retrieve https://cdn.oreillystatic.com/en/assets/1/event/291/Building%20a%20production-scale%20ML%20platform%20Presentation.zip\n",
            "Downladed file: /content/gdrive/My Drive/Colab_Downloads/Building%20a%20production-scale%20ML%20platform%20Presentation.zip\n",
            "Waiting 3 seconds to retrieve https://cdn.oreillystatic.com/en/assets/1/event/291/Chargrid_%20Understanding%202D%20documents%20Presentation.pdf\n",
            "Downladed file: /content/gdrive/My Drive/Colab_Downloads/Chargrid_%20Understanding%202D%20documents%20Presentation.pdf\n",
            "Waiting 5 seconds to retrieve https://cdn.oreillystatic.com/en/assets/1/event/291/Cognitive%20data%20science_%20The%20correct%20algorithm%20makes%20all%20the%20difference%20_sponsored%20by%20Deloitte%20Consulting_%20Presentation.pptx\n",
            "Downladed file: /content/gdrive/My Drive/Colab_Downloads/Cognitive%20data%20science_%20The%20correct%20algorithm%20makes%20all%20the%20difference%20_sponsored%20by%20Deloitte%20Consulting_%20Presentation.pptx\n",
            "Waiting 2 seconds to retrieve https://cdn.oreillystatic.com/en/assets/1/event/291/Deep%20learning%20methods%20for%20natural%20language%20processing%20Presentation.pdf\n",
            "Downladed file: /content/gdrive/My Drive/Colab_Downloads/Deep%20learning%20methods%20for%20natural%20language%20processing%20Presentation.pdf\n",
            "Waiting 4 seconds to retrieve https://cdn.oreillystatic.com/en/assets/1/event/291/Deploying%20deep%20learning%20models%20on%20GPU-enabled%20Kubernetes%20clusters%20Presentation.pptx\n",
            "Downladed file: /content/gdrive/My Drive/Colab_Downloads/Deploying%20deep%20learning%20models%20on%20GPU-enabled%20Kubernetes%20clusters%20Presentation.pptx\n",
            "Waiting 4 seconds to retrieve https://cdn.oreillystatic.com/en/assets/1/event/291/Executive%20Briefing_%20Fear%20and%20loathing%20in%20explainability%20and%20transparency%E2%80%94A%20savage%20journey%20to%20the%20heart%20of%20AI%20Presentation.pptx\n",
            "Downladed file: /content/gdrive/My Drive/Colab_Downloads/Executive%20Briefing_%20Fear%20and%20loathing%20in%20explainability%20and%20transparency%E2%80%94A%20savage%20journey%20to%20the%20heart%20of%20AI%20Presentation.pptx\n",
            "Waiting 4 seconds to retrieve https://cdn.oreillystatic.com/en/assets/1/event/291/Executive%20Briefing_%20From%20cutting-edge%20AI%20research%20to%20business%20impact%20Presentation.pdf\n",
            "Downladed file: /content/gdrive/My Drive/Colab_Downloads/Executive%20Briefing_%20From%20cutting-edge%20AI%20research%20to%20business%20impact%20Presentation.pdf\n",
            "Waiting 4 seconds to retrieve https://cdn.oreillystatic.com/en/assets/1/event/291/Executive%20Briefing_%20The%20hidden%20data%20in%20AI%20IP%20Presentation.pdf\n",
            "Downladed file: /content/gdrive/My Drive/Colab_Downloads/Executive%20Briefing_%20The%20hidden%20data%20in%20AI%20IP%20Presentation.pdf\n",
            "Waiting 2 seconds to retrieve https://cdn.oreillystatic.com/en/assets/1/event/291/Fraud%20detection%20without%20feature%20engineering%20Presentation.pdf\n",
            "Downladed file: /content/gdrive/My Drive/Colab_Downloads/Fraud%20detection%20without%20feature%20engineering%20Presentation.pdf\n",
            "Waiting 4 seconds to retrieve https://cdn.oreillystatic.com/en/assets/1/event/291/GAIA_%20The%20Global%20AI%20Allocator%20Presentation.pptx\n",
            "Downladed file: /content/gdrive/My Drive/Colab_Downloads/GAIA_%20The%20Global%20AI%20Allocator%20Presentation.pptx\n",
            "Waiting 3 seconds to retrieve https://cdn.oreillystatic.com/en/assets/1/event/291/Game%20engines%20and%20machine%20learning%20Presentation.pdf\n",
            "Downladed file: /content/gdrive/My Drive/Colab_Downloads/Game%20engines%20and%20machine%20learning%20Presentation.pdf\n",
            "Waiting 2 seconds to retrieve https://cdn.oreillystatic.com/en/assets/1/event/291/Getting%20to%20ROI_%C2%A0Case%20studies%20in%20operationalizing%20machine%20learning%20_sponsored%20by%20Dataiku_%20Presentation.pptx\n",
            "Downladed file: /content/gdrive/My Drive/Colab_Downloads/Getting%20to%20ROI_%C2%A0Case%20studies%20in%20operationalizing%20machine%20learning%20_sponsored%20by%20Dataiku_%20Presentation.pptx\n",
            "Waiting 2 seconds to retrieve https://cdn.oreillystatic.com/en/assets/1/event/291/How%20to%20build%20privacy%20and%20security%20into%20deep%20learning%20models%20Presentation.pdf\n",
            "Downladed file: /content/gdrive/My Drive/Colab_Downloads/How%20to%20build%20privacy%20and%20security%20into%20deep%20learning%20models%20Presentation.pdf\n",
            "Waiting 5 seconds to retrieve https://cdn.oreillystatic.com/en/assets/1/event/291/Leveraging%20AI%20for%20social%20good%20Presentation.pdf\n",
            "Downladed file: /content/gdrive/My Drive/Colab_Downloads/Leveraging%20AI%20for%20social%20good%20Presentation.pdf\n",
            "Waiting 2 seconds to retrieve https://cdn.oreillystatic.com/en/assets/1/event/291/Leveraging%20AI%20in%20a%20large%20organization%20Presentation.pdf\n",
            "Downladed file: /content/gdrive/My Drive/Colab_Downloads/Leveraging%20AI%20in%20a%20large%20organization%20Presentation.pdf\n",
            "Waiting 4 seconds to retrieve https://cdn.oreillystatic.com/en/assets/1/event/291/Leveraging%20data%20science%20in%20asset%20management%20Presentation.pdf\n",
            "Downladed file: /content/gdrive/My Drive/Colab_Downloads/Leveraging%20data%20science%20in%20asset%20management%20Presentation.pdf\n",
            "Waiting 4 seconds to retrieve https://cdn.oreillystatic.com/en/assets/1/event/291/Maintaining%20human%20control%20of%20artificial%20intelligence%20Presentation.zip\n",
            "Downladed file: /content/gdrive/My Drive/Colab_Downloads/Maintaining%20human%20control%20of%20artificial%20intelligence%20Presentation.zip\n",
            "Waiting 4 seconds to retrieve https://cdn.oreillystatic.com/en/assets/1/event/291/Maintaining%20human%20control%20of%20artificial%20intelligence%20Presentation%201.zip\n",
            "Downladed file: /content/gdrive/My Drive/Colab_Downloads/Maintaining%20human%20control%20of%20artificial%20intelligence%20Presentation%201.zip\n",
            "Waiting 5 seconds to retrieve https://cdn.oreillystatic.com/en/assets/1/event/291/Manipulating%20and%20measuring%20model%20interpretability%20Presentation.pdf\n",
            "Downladed file: /content/gdrive/My Drive/Colab_Downloads/Manipulating%20and%20measuring%20model%20interpretability%20Presentation.pdf\n",
            "Waiting 2 seconds to retrieve https://cdn.oreillystatic.com/en/assets/1/event/291/ML%20at%20Twitter_%20A%20deep%20dive%20into%20Twitter_s%20timeline%20Presentation.pdf\n",
            "Downladed file: /content/gdrive/My Drive/Colab_Downloads/ML%20at%20Twitter_%20A%20deep%20dive%20into%20Twitter_s%20timeline%20Presentation.pdf\n",
            "Waiting 4 seconds to retrieve https://cdn.oreillystatic.com/en/assets/1/event/291/One-click%20deployment%20for%20containerized%20ML%20and%20DL%20environments%20Presentation.pdf\n",
            "Downladed file: /content/gdrive/My Drive/Colab_Downloads/One-click%20deployment%20for%20containerized%20ML%20and%20DL%20environments%20Presentation.pdf\n",
            "Waiting 4 seconds to retrieve https://cdn.oreillystatic.com/en/assets/1/event/291/Open%20source%20tools%20for%20machine%20learning%20model%20and%20dataset%20versioning%20Presentation.pdf\n",
            "Downladed file: /content/gdrive/My Drive/Colab_Downloads/Open%20source%20tools%20for%20machine%20learning%20model%20and%20dataset%20versioning%20Presentation.pdf\n",
            "Waiting 3 seconds to retrieve https://cdn.oreillystatic.com/en/assets/1/event/291/Open%20source%20tools%20for%20machine%20learning%20model%20and%20dataset%20versioning%20Presentation%201.pdf\n",
            "Downladed file: /content/gdrive/My Drive/Colab_Downloads/Open%20source%20tools%20for%20machine%20learning%20model%20and%20dataset%20versioning%20Presentation%201.pdf\n",
            "Waiting 2 seconds to retrieve https://cdn.oreillystatic.com/en/assets/1/event/291/Operationalizing%20real-time%20ML%20and%20DL%20with%20GigaSpaces%2C%20Intel%20Analytics%20Zoo%2C%20and%20Optane%20DC%20Persistent%20Memory%20Presentation.pdf\n",
            "Downladed file: /content/gdrive/My Drive/Colab_Downloads/Operationalizing%20real-time%20ML%20and%20DL%20with%20GigaSpaces%2C%20Intel%20Analytics%20Zoo%2C%20and%20Optane%20DC%20Persistent%20Memory%20Presentation.pdf\n",
            "Waiting 2 seconds to retrieve https://cdn.oreillystatic.com/en/assets/1/event/291/Privacy-preserving%20machine%20learning%20in%20TensorFlow%20with%20TF%20Encrypted%20Presentation.pdf\n",
            "Downladed file: /content/gdrive/My Drive/Colab_Downloads/Privacy-preserving%20machine%20learning%20in%20TensorFlow%20with%20TF%20Encrypted%20Presentation.pdf\n",
            "Waiting 2 seconds to retrieve https://cdn.oreillystatic.com/en/assets/1/event/291/Recurrent%20neural%20networks%20for%20time%20series%20analysis%20Presentation%201.pdf\n",
            "Downladed file: /content/gdrive/My Drive/Colab_Downloads/Recurrent%20neural%20networks%20for%20time%20series%20analysis%20Presentation%201.pdf\n",
            "Waiting 5 seconds to retrieve https://cdn.oreillystatic.com/en/assets/1/event/291/Regularization%20of%20RNNs%20through%20Bayesian%20networks%20Presentation%202.pptx\n",
            "Downladed file: /content/gdrive/My Drive/Colab_Downloads/Regularization%20of%20RNNs%20through%20Bayesian%20networks%20Presentation%202.pptx\n",
            "Waiting 4 seconds to retrieve https://cdn.oreillystatic.com/en/assets/1/event/291/Regularization%20of%20RNNs%20through%20Bayesian%20networks%20Presentation.pptx\n",
            "Downladed file: /content/gdrive/My Drive/Colab_Downloads/Regularization%20of%20RNNs%20through%20Bayesian%20networks%20Presentation.pptx\n",
            "Waiting 5 seconds to retrieve https://cdn.oreillystatic.com/en/assets/1/event/291/Synergize%20your%20tech%20stack%20to%20realize%20AI%E2%80%99s%20full%20potential%20_sponsored%20by%20SAS_%20Presentation.pptx\n",
            "Downladed file: /content/gdrive/My Drive/Colab_Downloads/Synergize%20your%20tech%20stack%20to%20realize%20AI%E2%80%99s%20full%20potential%20_sponsored%20by%20SAS_%20Presentation.pptx\n",
            "Waiting 2 seconds to retrieve https://cdn.oreillystatic.com/en/assets/1/event/291/The%20intersection%20between%20human%20learning%20and%20machine%20learning_%20How%20AI%20will%20fundamentally%20change%20teaching%20and%20learning_%20_sponsored%20by%20Squirrel%20AI%20Learning_%20Presentation.zip\n",
            "Downladed file: /content/gdrive/My Drive/Colab_Downloads/The%20intersection%20between%20human%20learning%20and%20machine%20learning_%20How%20AI%20will%20fundamentally%20change%20teaching%20and%20learning_%20_sponsored%20by%20Squirrel%20AI%20Learning_%20Presentation.zip\n",
            "Waiting 4 seconds to retrieve https://cdn.oreillystatic.com/en/assets/1/event/291/Turn%20devices%20into%20data%20scientists%E2%80%94at%20the%20edge%20Presentation.pdf\n",
            "Downladed file: /content/gdrive/My Drive/Colab_Downloads/Turn%20devices%20into%20data%20scientists%E2%80%94at%20the%20edge%20Presentation.pdf\n",
            "Waiting 2 seconds to retrieve https://cdn.oreillystatic.com/en/assets/1/event/291/Understanding%20and%20integrating%20Intel%20Deep%20Learning%20Boost%20_Intel%20DL%20Boost_%20Presentation.pdf\n",
            "Downladed file: /content/gdrive/My Drive/Colab_Downloads/Understanding%20and%20integrating%20Intel%20Deep%20Learning%20Boost%20_Intel%20DL%20Boost_%20Presentation.pdf\n",
            "Waiting 4 seconds to retrieve https://cdn.oreillystatic.com/en/assets/1/event/291/Unifying%20Twitter%20around%20a%20single%20ML%20platform%20Presentation.pdf\n",
            "Downladed file: /content/gdrive/My Drive/Colab_Downloads/Unifying%20Twitter%20around%20a%20single%20ML%20platform%20Presentation.pdf\n",
            "Waiting 3 seconds to retrieve https://cdn.oreillystatic.com/en/assets/1/event/291/Using%20AI%20to%20transform%20high-volume%2C%20confidential%2C%20disparate%20data%20for%20the%20United%20States%20Patent%20Office%20Presentation.pptx\n",
            "Downladed file: /content/gdrive/My Drive/Colab_Downloads/Using%20AI%20to%20transform%20high-volume%2C%20confidential%2C%20disparate%20data%20for%20the%20United%20States%20Patent%20Office%20Presentation.pptx\n",
            "Waiting 2 seconds to retrieve https://cdn.oreillystatic.com/en/assets/1/event/291/Using%20machine%20learning%20to%20automate%20car%20damage%20assessment%20and%20document%20workflows%20Presentation.pdf\n",
            "Downladed file: /content/gdrive/My Drive/Colab_Downloads/Using%20machine%20learning%20to%20automate%20car%20damage%20assessment%20and%20document%20workflows%20Presentation.pdf\n",
            "Waiting 3 seconds to retrieve https://cdn.oreillystatic.com/en/assets/1/event/291/What%20you%20must%20know%20to%20build%20AI%20systems%20that%20understand%20natural%20language%20Presentation.pptx\n",
            "Downladed file: /content/gdrive/My Drive/Colab_Downloads/What%20you%20must%20know%20to%20build%20AI%20systems%20that%20understand%20natural%20language%20Presentation.pptx\n",
            "Finished finding all available documents on the web page!\n"
          ],
          "name": "stdout"
        }
      ]
    },
    {
      "cell_type": "code",
      "metadata": {
        "id": "9_t7A3eOYoOy",
        "colab_type": "code",
        "outputId": "f36fb9fd-c438-4dfb-cf1e-68d53cd6c84a",
        "colab": {
          "base_uri": "https://localhost:8080/",
          "height": 35
        }
      },
      "source": [
        "print('Number of documents processed:', i)"
      ],
      "execution_count": 12,
      "outputs": [
        {
          "output_type": "stream",
          "text": [
            "Number of documents processed: 46\n"
          ],
          "name": "stdout"
        }
      ]
    },
    {
      "cell_type": "code",
      "metadata": {
        "id": "aptSJkHZbc_h",
        "colab_type": "code",
        "colab": {}
      },
      "source": [
        "if (sendNotification): email_notify(\"The web scraping process has completed! \"+datetime.now().strftime('%a %B %d, %Y %I:%M:%S %p'))"
      ],
      "execution_count": 0,
      "outputs": []
    },
    {
      "cell_type": "code",
      "metadata": {
        "id": "nN6rWf7qYoO1",
        "colab_type": "code",
        "outputId": "0511ac84-4440-48e8-b56e-00946e1484ea",
        "colab": {
          "base_uri": "https://localhost:8080/",
          "height": 35
        }
      },
      "source": [
        "print ('Total time for the script:',(datetime.now() - startTimeScript))"
      ],
      "execution_count": 14,
      "outputs": [
        {
          "output_type": "stream",
          "text": [
            "Total time for the script: 0:04:20.898194\n"
          ],
          "name": "stdout"
        }
      ]
    }
  ]
}