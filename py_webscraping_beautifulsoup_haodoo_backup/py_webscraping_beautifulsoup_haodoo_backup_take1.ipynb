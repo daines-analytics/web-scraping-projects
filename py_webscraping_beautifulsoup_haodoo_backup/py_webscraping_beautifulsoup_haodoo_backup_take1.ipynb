{
 "cells": [
  {
   "cell_type": "markdown",
   "metadata": {
    "id": "rcTgQJDB0AZy",
    "pycharm": {
     "name": "#%% md\n"
    }
   },
   "source": [
    "# Web Scraping of Haodoo Backup Using BeautifulSoup Take 1\n",
    "### David Lowe\n",
    "### July 8, 2022\n",
    "\n",
    "SUMMARY: This project aims to practice web scraping by extracting specific pieces of information from a website. The web scraping Python code leverages the BeautifulSoup module.\n",
    "\n",
    "INTRODUCTION: Haodoo is a website that houses classic Chinese literature for its readers’ enjoyment. Haodoo in Chinese can be translated to “Good Reads” in English. It collects hard-to-find Chinese text/books and makes them available for online reading. The Haodoo collection includes over 3,500 titles of text and audiobooks.\n",
    "\n",
    "In this Take1 iteration, we will scrape the website and obtain all the book titles and their assigned categories.\n",
    "\n",
    "Starting URL: https://haodoo.org/"
   ]
  },
  {
   "cell_type": "markdown",
   "metadata": {
    "id": "9JAZ2V9J0AZ0",
    "pycharm": {
     "name": "#%% md\n"
    }
   },
   "source": [
    "## Task 1. Prepare Environment"
   ]
  },
  {
   "cell_type": "code",
   "execution_count": 1,
   "outputs": [],
   "source": [
    "# import os\n",
    "import sys\n",
    "import requests\n",
    "from bs4 import BeautifulSoup\n",
    "import pandas as pd\n",
    "from time import sleep"
   ],
   "metadata": {
    "collapsed": false,
    "pycharm": {
     "name": "#%%\n"
    }
   }
  },
  {
   "cell_type": "code",
   "execution_count": 2,
   "outputs": [],
   "source": [
    "# Specifying the URL of desired web page to be scrapped\n",
    "website_url = \"https://haodoo.org/\""
   ],
   "metadata": {
    "collapsed": false,
    "pycharm": {
     "name": "#%%\n"
    }
   }
  },
  {
   "cell_type": "markdown",
   "source": [
    "## Task 2. Get Categories"
   ],
   "metadata": {
    "collapsed": false,
    "pycharm": {
     "name": "#%% md\n"
    }
   }
  },
  {
   "cell_type": "code",
   "execution_count": 3,
   "outputs": [
    {
     "name": "stdout",
     "output_type": "stream",
     "text": [
      "Successfully accessed the web page: https://haodoo.org/\n",
      "  category_name                       category_link\n",
      "0          世紀百強      https://haodoo.org/?M=hd&P=100\n",
      "1          隨身智囊   https://haodoo.org/?M=hd&P=wisdom\n",
      "2          歷史煙雲  https://haodoo.org/?M=hd&P=history\n",
      "3          武俠小說  https://haodoo.org/?M=hd&P=martial\n",
      "4          懸疑小說  https://haodoo.org/?M=hd&P=mystery\n",
      "5          言情小說  https://haodoo.org/?M=hd&P=romance\n",
      "6          奇幻小說    https://haodoo.org/?M=hd&P=scifi\n",
      "7          小說園地  https://haodoo.org/?M=hd&P=fiction\n",
      "8          有聲書籍    https://haodoo.org/?M=hd&P=audio\n"
     ]
    }
   ],
   "source": [
    "df_catogory = pd.DataFrame(columns=['category_name', 'category_link'])\n",
    "\n",
    "try:\n",
    "    sess = requests.Session()\n",
    "    resp = sess.get(website_url)\n",
    "    # print(resp.text)\n",
    "except requests.HTTPError as e:\n",
    "    print('The server could not serve up the web page!')\n",
    "    sys.exit(\"Script processing cannot continue!!!\")\n",
    "except requests.ConnectionError as e:\n",
    "    print('The server could not be reached due to connection issues!')\n",
    "    sys.exit(\"Script processing cannot continue!!!\")\n",
    "\n",
    "if resp.status_code==requests.codes.ok :\n",
    "    print('Successfully accessed the web page: ' + website_url)\n",
    "    home_page = BeautifulSoup(resp.text, 'lxml')\n",
    "    category_tags = home_page.find(\"td\", class_=\"a03\").find_all(\"a\")\n",
    "    # print(category_tags)\n",
    "    for tag in category_tags :\n",
    "        category_name = tag.string\n",
    "        category_link = website_url + tag.get('href')\n",
    "        df_catogory.loc[len(df_catogory)] = [category_name, category_link]\n",
    "\n",
    "    df_catogory.drop(df_catogory.tail(1).index,inplace=True)\n",
    "    print(df_catogory)"
   ],
   "metadata": {
    "collapsed": false,
    "pycharm": {
     "name": "#%%\n"
    }
   }
  },
  {
   "cell_type": "markdown",
   "source": [
    "## Task 3. Get Book Titles for each Category"
   ],
   "metadata": {
    "collapsed": false,
    "pycharm": {
     "name": "#%% md\n"
    }
   }
  },
  {
   "cell_type": "markdown",
   "source": [
    "### Task 3.1 Get Titles and Description for the 100 Category"
   ],
   "metadata": {
    "collapsed": false,
    "pycharm": {
     "name": "#%% md\n"
    }
   }
  },
  {
   "cell_type": "code",
   "execution_count": 4,
   "outputs": [
    {
     "name": "stdout",
     "output_type": "stream",
     "text": [
      "Successfully accessed the web page: https://haodoo.org/?M=hd&P=100-1\n",
      "Successfully accessed the web page: https://haodoo.org/?M=hd&P=100-2\n",
      "Successfully accessed the web page: https://haodoo.org/?M=hd&P=100-3\n",
      "Successfully accessed the web page: https://haodoo.org/?M=hd&P=100-4\n",
      "Successfully accessed the web page: https://haodoo.org/?M=hd&P=100-5\n",
      "    category_name book_title      title_link\n",
      "0            世紀百強       【吶喊】   ?M=book&P=435\n",
      "1            世紀百強       【邊城】   ?M=book&P=394\n",
      "2            世紀百強     《駱駝祥子》   ?M=book&P=401\n",
      "3            世紀百強       【傳奇】   ?M=book&P=430\n",
      "4            世紀百強       【圍城】   ?M=book&P=399\n",
      "..            ...        ...             ...\n",
      "103          世紀百強       【活著】   ?M=book&P=471\n",
      "104          世紀百強   《岡底斯的誘惑》   ?M=book&P=555\n",
      "105          世紀百強     《十年十癔》  ?M=book&P=11M7\n",
      "106          世紀百強    【北極風情畫】   ?M=book&P=548\n",
      "107          世紀百強     【雍正皇帝】   ?M=book&P=240\n",
      "\n",
      "[108 rows x 3 columns]\n"
     ]
    }
   ],
   "source": [
    "df_title_100 = pd.DataFrame(columns=['category_name', 'book_title', 'title_link'])\n",
    "\n",
    "category_name = df_catogory.loc[0].category_name\n",
    "category_link = df_catogory.loc[0].category_link\n",
    "\n",
    "max_grouping = 5\n",
    "for j in range(max_grouping) :\n",
    "    grouping_link = category_link + '-' + str(j+1)\n",
    "    try:\n",
    "        sess = requests.Session()\n",
    "        resp = sess.get(grouping_link)\n",
    "        # print(resp.text)\n",
    "    except requests.HTTPError as e:\n",
    "        print('The server could not serve up the web page!')\n",
    "        sys.exit(\"Script processing cannot continue!!!\")\n",
    "    except requests.ConnectionError as e:\n",
    "        print('The server could not be reached due to connection issues!')\n",
    "        sys.exit(\"Script processing cannot continue!!!\")\n",
    "\n",
    "    if resp.status_code==requests.codes.ok :\n",
    "        print('Successfully accessed the web page: ' + grouping_link)\n",
    "        grouping_page = BeautifulSoup(resp.text, 'lxml')\n",
    "        book_tags = grouping_page.find(\"div\", class_=\"a03\").find_all(\"a\")\n",
    "        # print(book_tags)\n",
    "        for tag in book_tags :\n",
    "            if tag.string is not None:\n",
    "                book_title = tag.string\n",
    "                title_link = tag.get('href')\n",
    "                df_title_100.loc[len(df_title_100)] = [category_name, book_title, title_link]\n",
    "    sleep(2)\n",
    "\n",
    "print(df_title_100)"
   ],
   "metadata": {
    "collapsed": false,
    "pycharm": {
     "name": "#%%\n"
    }
   }
  },
  {
   "cell_type": "markdown",
   "source": [
    "### Task 3.2 Get Titles and Description for the Wisdom Category "
   ],
   "metadata": {
    "collapsed": false,
    "pycharm": {
     "name": "#%% md\n"
    }
   }
  },
  {
   "cell_type": "code",
   "execution_count": 5,
   "outputs": [
    {
     "name": "stdout",
     "output_type": "stream",
     "text": [
      "Successfully accessed the web page: https://haodoo.org/?M=hd&P=wisdom-1\n",
      "Successfully accessed the web page: https://haodoo.org/?M=hd&P=wisdom-2\n",
      "Successfully accessed the web page: https://haodoo.org/?M=hd&P=wisdom-3\n",
      "Successfully accessed the web page: https://haodoo.org/?M=hd&P=wisdom-4\n",
      "Successfully accessed the web page: https://haodoo.org/?M=hd&P=wisdom-5\n",
      "Successfully accessed the web page: https://haodoo.org/?M=hd&P=wisdom-6\n",
      "    category_name  book_title         title_link\n",
      "0            隨身智囊    【簡化你的生活】     ?M=book&P=17S4\n",
      "1            隨身智囊     《男女大不同》    ?M=Share&P=0836\n",
      "2            隨身智囊     《人性的弱點》      ?M=book&P=519\n",
      "3            隨身智囊       【沉思錄】    ?M=Share&P=09E5\n",
      "4            隨身智囊      【勵志文粹】    ?M=Share&P=09D9\n",
      "..            ...         ...                ...\n",
      "390          隨身智囊        金匱要略  ?M=m&P=J090620a:0\n",
      "391          隨身智囊        [下載]  PDB/J/090620a.pdb\n",
      "392          隨身智囊         傷寒論  ?M=m&P=J090620b:0\n",
      "393          隨身智囊        [下載]  PDB/J/090620b.pdb\n",
      "394          隨身智囊  【麻瑞亭治驗集總論】     ?M=book&P=10O2\n",
      "\n",
      "[395 rows x 3 columns]\n"
     ]
    }
   ],
   "source": [
    "df_title_wisdom = pd.DataFrame(columns=['category_name', 'book_title', 'title_link'])\n",
    "\n",
    "category_name = df_catogory.loc[1].category_name\n",
    "category_link = df_catogory.loc[1].category_link\n",
    "\n",
    "max_grouping = 6\n",
    "for j in range(max_grouping) :\n",
    "    grouping_link = category_link + '-' + str(j+1)\n",
    "    try:\n",
    "        sess = requests.Session()\n",
    "        resp = sess.get(grouping_link)\n",
    "        # print(resp.text)\n",
    "    except requests.HTTPError as e:\n",
    "        print('The server could not serve up the web page!')\n",
    "        sys.exit(\"Script processing cannot continue!!!\")\n",
    "    except requests.ConnectionError as e:\n",
    "        print('The server could not be reached due to connection issues!')\n",
    "        sys.exit(\"Script processing cannot continue!!!\")\n",
    "\n",
    "    if resp.status_code==requests.codes.ok :\n",
    "        print('Successfully accessed the web page: ' + grouping_link)\n",
    "        grouping_page = BeautifulSoup(resp.text, 'lxml')\n",
    "        book_tags = grouping_page.find(\"div\", class_=\"a03\").find_all(\"a\")\n",
    "        # print(book_tags)\n",
    "        for tag in book_tags :\n",
    "            if tag.string is not None:\n",
    "                book_title = tag.string\n",
    "                title_link = tag.get('href')\n",
    "                df_title_wisdom.loc[len(df_title_wisdom)] = [category_name, book_title, title_link]\n",
    "    sleep(2)\n",
    "\n",
    "print(df_title_wisdom)"
   ],
   "metadata": {
    "collapsed": false,
    "pycharm": {
     "name": "#%%\n"
    }
   }
  },
  {
   "cell_type": "markdown",
   "source": [
    "### Task 3.3 Get Titles and Description for the History Category"
   ],
   "metadata": {
    "collapsed": false,
    "pycharm": {
     "name": "#%% md\n"
    }
   }
  },
  {
   "cell_type": "code",
   "execution_count": 6,
   "outputs": [
    {
     "name": "stdout",
     "output_type": "stream",
     "text": [
      "Successfully accessed the web page: https://haodoo.org/?M=hd&P=history-1\n",
      "Successfully accessed the web page: https://haodoo.org/?M=hd&P=history-2\n",
      "Successfully accessed the web page: https://haodoo.org/?M=hd&P=history-3\n",
      "    category_name       book_title      title_link\n",
      "0            歷史煙雲           【考古中國】  ?M=book&P=17I7\n",
      "1            歷史煙雲             【炎黃】  ?M=book&P=17G0\n",
      "2            歷史煙雲             【孔子】  ?M=book&P=1745\n",
      "3            歷史煙雲           《大秦帝國》   ?M=book&P=356\n",
      "4            歷史煙雲   【秦始皇：從戰國到一統天下】  ?M=book&P=14S0\n",
      "..            ...              ...             ...\n",
      "271          歷史煙雲           【逃出西貢】  ?M=book&P=17O7\n",
      "272          歷史煙雲           【銀海千秋】  ?M=book&P=1280\n",
      "273          歷史煙雲           《文武北洋》  ?M=book&P=1398\n",
      "274          歷史煙雲         《美國種族簡史》  ?M=book&P=1364\n",
      "275          歷史煙雲  【公主柳－西藏文化的變遷模式】  ?M=book&P=1383\n",
      "\n",
      "[276 rows x 3 columns]\n"
     ]
    }
   ],
   "source": [
    "df_title_history = pd.DataFrame(columns=['category_name', 'book_title', 'title_link'])\n",
    "\n",
    "category_name = df_catogory.loc[2].category_name\n",
    "category_link = df_catogory.loc[2].category_link\n",
    "\n",
    "max_grouping = 3\n",
    "for j in range(max_grouping) :\n",
    "    grouping_link = category_link + '-' + str(j+1)\n",
    "    try:\n",
    "        sess = requests.Session()\n",
    "        resp = sess.get(grouping_link)\n",
    "        # print(resp.text)\n",
    "    except requests.HTTPError as e:\n",
    "        print('The server could not serve up the web page!')\n",
    "        sys.exit(\"Script processing cannot continue!!!\")\n",
    "    except requests.ConnectionError as e:\n",
    "        print('The server could not be reached due to connection issues!')\n",
    "        sys.exit(\"Script processing cannot continue!!!\")\n",
    "\n",
    "    if resp.status_code==requests.codes.ok :\n",
    "        print('Successfully accessed the web page: ' + grouping_link)\n",
    "        grouping_page = BeautifulSoup(resp.text, 'lxml')\n",
    "        book_tags = grouping_page.find(\"div\", class_=\"a03\").find_all(\"a\")\n",
    "        # print(book_tags)\n",
    "        for tag in book_tags :\n",
    "            if tag.string is not None:\n",
    "                book_title = tag.string\n",
    "                title_link = tag.get('href')\n",
    "                df_title_history.loc[len(df_title_history)] = [category_name, book_title, title_link]\n",
    "    sleep(2)\n",
    "\n",
    "print(df_title_history)"
   ],
   "metadata": {
    "collapsed": false,
    "pycharm": {
     "name": "#%%\n"
    }
   }
  },
  {
   "cell_type": "markdown",
   "source": [
    "### Task 3.4 Get Titles and Description for the Martial Category"
   ],
   "metadata": {
    "collapsed": false,
    "pycharm": {
     "name": "#%% md\n"
    }
   }
  },
  {
   "cell_type": "code",
   "execution_count": 7,
   "outputs": [
    {
     "name": "stdout",
     "output_type": "stream",
     "text": [
      "Successfully accessed the web page: https://haodoo.org/?M=hd&P=martial-1\n",
      "Successfully accessed the web page: https://haodoo.org/?M=hd&P=martial-2\n",
      "Successfully accessed the web page: https://haodoo.org/?M=hd&P=martial-3\n",
      "Successfully accessed the web page: https://haodoo.org/?M=hd&P=martial-4\n",
      "Successfully accessed the web page: https://haodoo.org/?M=hd&P=martial-5\n",
      "Successfully accessed the web page: https://haodoo.org/?M=hd&P=martial-6\n",
      "Successfully accessed the web page: https://haodoo.org/?M=hd&P=martial-7\n",
      "Successfully accessed the web page: https://haodoo.org/?M=hd&P=martial-8\n",
      "Successfully accessed the web page: https://haodoo.org/?M=hd&P=martial-9\n",
      "Successfully accessed the web page: https://haodoo.org/?M=hd&P=martial-10\n",
      "    category_name book_title       title_link\n",
      "0            武俠小說    【射鵰英雄傳】     ?M=book&P=55\n",
      "1            武俠小說     【神鵰俠侶】     ?M=book&P=56\n",
      "2            武俠小說    【倚天屠龍記】     ?M=book&P=57\n",
      "3            武俠小說    【書劍恩仇錄】     ?M=book&P=58\n",
      "4            武俠小說      【碧血劍】     ?M=book&P=59\n",
      "..            ...        ...              ...\n",
      "655          武俠小說     《菊花的刺》  ?M=Share&P=0996\n",
      "656          武俠小說  【飛刀，又見飛刀】   ?M=book&P=1267\n",
      "657          武俠小說     【殺氣嚴霜】   ?M=book&P=1274\n",
      "658          武俠小說   【那一劍的風情】   ?M=book&P=13D8\n",
      "659          武俠小說     【絕不低頭】   ?M=book&P=15V3\n",
      "\n",
      "[660 rows x 3 columns]\n"
     ]
    }
   ],
   "source": [
    "df_title_martial = pd.DataFrame(columns=['category_name', 'book_title', 'title_link'])\n",
    "\n",
    "category_name = df_catogory.loc[3].category_name\n",
    "category_link = df_catogory.loc[3].category_link\n",
    "\n",
    "max_grouping = 10\n",
    "for j in range(max_grouping) :\n",
    "    grouping_link = category_link + '-' + str(j+1)\n",
    "    try:\n",
    "        sess = requests.Session()\n",
    "        resp = sess.get(grouping_link)\n",
    "        # print(resp.text)\n",
    "    except requests.HTTPError as e:\n",
    "        print('The server could not serve up the web page!')\n",
    "        sys.exit(\"Script processing cannot continue!!!\")\n",
    "    except requests.ConnectionError as e:\n",
    "        print('The server could not be reached due to connection issues!')\n",
    "        sys.exit(\"Script processing cannot continue!!!\")\n",
    "\n",
    "    if resp.status_code==requests.codes.ok :\n",
    "        print('Successfully accessed the web page: ' + grouping_link)\n",
    "        grouping_page = BeautifulSoup(resp.text, 'lxml')\n",
    "        book_tags = grouping_page.find(\"div\", class_=\"a03\").find_all(\"a\")\n",
    "        # print(book_tags)\n",
    "        for tag in book_tags :\n",
    "            if tag.string is not None:\n",
    "                book_title = tag.string\n",
    "                title_link = tag.get('href')\n",
    "                df_title_martial.loc[len(df_title_martial)] = [category_name, book_title, title_link]\n",
    "    sleep(2)\n",
    "\n",
    "print(df_title_martial)"
   ],
   "metadata": {
    "collapsed": false,
    "pycharm": {
     "name": "#%%\n"
    }
   }
  },
  {
   "cell_type": "markdown",
   "source": [
    "### Task 3.5 Get Titles and Description for the Mystery Category"
   ],
   "metadata": {
    "collapsed": false,
    "pycharm": {
     "name": "#%% md\n"
    }
   }
  },
  {
   "cell_type": "code",
   "execution_count": 8,
   "outputs": [
    {
     "name": "stdout",
     "output_type": "stream",
     "text": [
      "Successfully accessed the web page: https://haodoo.org/?M=hd&P=mystery-1\n",
      "Successfully accessed the web page: https://haodoo.org/?M=hd&P=mystery-2\n",
      "Successfully accessed the web page: https://haodoo.org/?M=hd&P=mystery-3\n",
      "Successfully accessed the web page: https://haodoo.org/?M=hd&P=mystery-4\n",
      "Successfully accessed the web page: https://haodoo.org/?M=hd&P=mystery-5\n",
      "    category_name  book_title             title_link\n",
      "0            懸疑小說    柯賴二氏探案系列  ?M=hd&P=Mimic-Gardner\n",
      "1            懸疑小說   《初出茅廬破大案》          ?M=book&P=357\n",
      "2            懸疑小說      《險中取勝》          ?M=book&P=366\n",
      "3            懸疑小說     《黃金的秘密》          ?M=book&P=367\n",
      "4            懸疑小說  《拉斯維加斯錢來了》          ?M=book&P=368\n",
      "..            ...         ...                    ...\n",
      "596          懸疑小說      《一的悲劇》        ?M=Share&P=0939\n",
      "597          懸疑小說      《斜屋犯罪》        ?M=Share&P=0959\n",
      "598          懸疑小說     【１３級階梯】         ?M=book&P=14R5\n",
      "599          懸疑小說      【花園迷宮】         ?M=book&P=15E3\n",
      "600          懸疑小說      《大海獠牙》         ?M=book&P=15Y6\n",
      "\n",
      "[601 rows x 3 columns]\n"
     ]
    }
   ],
   "source": [
    "df_title_mystery = pd.DataFrame(columns=['category_name', 'book_title', 'title_link'])\n",
    "\n",
    "category_name = df_catogory.loc[4].category_name\n",
    "category_link = df_catogory.loc[4].category_link\n",
    "\n",
    "max_grouping = 5\n",
    "for j in range(max_grouping) :\n",
    "    grouping_link = category_link + '-' + str(j+1)\n",
    "    try:\n",
    "        sess = requests.Session()\n",
    "        resp = sess.get(grouping_link)\n",
    "        # print(resp.text)\n",
    "    except requests.HTTPError as e:\n",
    "        print('The server could not serve up the web page!')\n",
    "        sys.exit(\"Script processing cannot continue!!!\")\n",
    "    except requests.ConnectionError as e:\n",
    "        print('The server could not be reached due to connection issues!')\n",
    "        sys.exit(\"Script processing cannot continue!!!\")\n",
    "\n",
    "    if resp.status_code==requests.codes.ok :\n",
    "        print('Successfully accessed the web page: ' + grouping_link)\n",
    "        grouping_page = BeautifulSoup(resp.text, 'lxml')\n",
    "        book_tags = grouping_page.find(\"div\", class_=\"a03\").find_all(\"a\")\n",
    "        # print(book_tags)\n",
    "        for tag in book_tags :\n",
    "            if tag.string is not None:\n",
    "                book_title = tag.string\n",
    "                title_link = tag.get('href')\n",
    "                df_title_mystery.loc[len(df_title_mystery)] = [category_name, book_title, title_link]\n",
    "    sleep(2)\n",
    "\n",
    "print(df_title_mystery)"
   ],
   "metadata": {
    "collapsed": false,
    "pycharm": {
     "name": "#%%\n"
    }
   }
  },
  {
   "cell_type": "markdown",
   "source": [
    "### Task 3.6 Get Titles and Description for the Romance Category"
   ],
   "metadata": {
    "collapsed": false,
    "pycharm": {
     "name": "#%% md\n"
    }
   }
  },
  {
   "cell_type": "code",
   "execution_count": 9,
   "outputs": [
    {
     "name": "stdout",
     "output_type": "stream",
     "text": [
      "Successfully accessed the web page: https://haodoo.org/?M=hd&P=romance-1\n",
      "Successfully accessed the web page: https://haodoo.org/?M=hd&P=romance-2\n",
      "Successfully accessed the web page: https://haodoo.org/?M=hd&P=romance-3\n",
      "Successfully accessed the web page: https://haodoo.org/?M=hd&P=romance-4\n",
      "Successfully accessed the web page: https://haodoo.org/?M=hd&P=romance-5\n",
      "Successfully accessed the web page: https://haodoo.org/?M=hd&P=romance-6\n",
      "    category_name   book_title       title_link\n",
      "0            言情小說       《我的故事》   ?M=book&P=10S2\n",
      "1            言情小說       《還珠格格》    ?M=book&P=319\n",
      "2            言情小說      【還珠格格三】   ?M=book&P=15R1\n",
      "3            言情小說         《窗外》    ?M=book&P=320\n",
      "4            言情小說        《幸運草》    ?M=book&P=321\n",
      "..            ...          ...              ...\n",
      "350          言情小說       《冬季戀歌》    ?M=book&P=422\n",
      "351          言情小說  《未來，我是你的老婆》  ?M=Share&P=0912\n",
      "352          言情小說       【三世守護】   ?M=book&P=1173\n",
      "353          言情小說        【朝天闕】   ?M=book&P=11K6\n",
      "354          言情小說        【玉蟾記】   ?M=book&P=12M2\n",
      "\n",
      "[355 rows x 3 columns]\n"
     ]
    }
   ],
   "source": [
    "df_title_romance = pd.DataFrame(columns=['category_name', 'book_title', 'title_link'])\n",
    "\n",
    "category_name = df_catogory.loc[5].category_name\n",
    "category_link = df_catogory.loc[5].category_link\n",
    "\n",
    "max_grouping = 6\n",
    "for j in range(max_grouping) :\n",
    "    grouping_link = category_link + '-' + str(j+1)\n",
    "    try:\n",
    "        sess = requests.Session()\n",
    "        resp = sess.get(grouping_link)\n",
    "        # print(resp.text)\n",
    "    except requests.HTTPError as e:\n",
    "        print('The server could not serve up the web page!')\n",
    "        sys.exit(\"Script processing cannot continue!!!\")\n",
    "    except requests.ConnectionError as e:\n",
    "        print('The server could not be reached due to connection issues!')\n",
    "        sys.exit(\"Script processing cannot continue!!!\")\n",
    "\n",
    "    if resp.status_code==requests.codes.ok :\n",
    "        print('Successfully accessed the web page: ' + grouping_link)\n",
    "        grouping_page = BeautifulSoup(resp.text, 'lxml')\n",
    "        book_tags = grouping_page.find(\"div\", class_=\"a03\").find_all(\"a\")\n",
    "        # print(book_tags)\n",
    "        for tag in book_tags :\n",
    "            if tag.string is not None:\n",
    "                book_title = tag.string\n",
    "                title_link = tag.get('href')\n",
    "                df_title_romance.loc[len(df_title_romance)] = [category_name, book_title, title_link]\n",
    "    sleep(2)\n",
    "\n",
    "print(df_title_romance)"
   ],
   "metadata": {
    "collapsed": false,
    "pycharm": {
     "name": "#%%\n"
    }
   }
  },
  {
   "cell_type": "markdown",
   "source": [
    "### Task 3.7 Get Titles and Description for the SciFi Category"
   ],
   "metadata": {
    "collapsed": false,
    "pycharm": {
     "name": "#%% md\n"
    }
   }
  },
  {
   "cell_type": "code",
   "execution_count": 10,
   "outputs": [
    {
     "name": "stdout",
     "output_type": "stream",
     "text": [
      "Successfully accessed the web page: https://haodoo.org/?M=hd&P=scifi-1\n",
      "Successfully accessed the web page: https://haodoo.org/?M=hd&P=scifi-2\n",
      "Successfully accessed the web page: https://haodoo.org/?M=hd&P=scifi-3\n",
      "Successfully accessed the web page: https://haodoo.org/?M=hd&P=scifi-4\n",
      "Successfully accessed the web page: https://haodoo.org/?M=hd&P=scifi-5\n",
      "Successfully accessed the web page: https://haodoo.org/?M=hd&P=scifi-6\n",
      "Successfully accessed the web page: https://haodoo.org/?M=hd&P=scifi-7\n",
      "Successfully accessed the web page: https://haodoo.org/?M=hd&P=scifi-8\n",
      "Successfully accessed the web page: https://haodoo.org/?M=hd&P=scifi-9\n",
      "Successfully accessed the web page: https://haodoo.org/?M=hd&P=scifi-10\n",
      "    category_name  book_title       title_link\n",
      "0            奇幻小說       【玫瑰紅】   ?M=book&P=17E4\n",
      "1            奇幻小說      【倪匡傳奇】  ?M=Share&P=0389\n",
      "2            奇幻小說     【香港鬼故事】   ?M=book&P=12I2\n",
      "3            奇幻小說  【香港鬼故事第二集】   ?M=book&P=1672\n",
      "4            奇幻小說     【城市怪故事】   ?M=book&P=12F8\n",
      "..            ...         ...              ...\n",
      "395          奇幻小說      【秋之牢獄】   ?M=book&P=1497\n",
      "396          奇幻小說        【草祭】   ?M=book&P=14B2\n",
      "397          奇幻小說    【銀河英雄傳說】  ?M=Share&P=0423\n",
      "398          奇幻小說  【銀河英雄傳說外傳】  ?M=Share&P=0997\n",
      "399          奇幻小說     《進擊的巨人》   ?M=book&P=14U6\n",
      "\n",
      "[400 rows x 3 columns]\n"
     ]
    }
   ],
   "source": [
    "df_title_scifi = pd.DataFrame(columns=['category_name', 'book_title', 'title_link'])\n",
    "\n",
    "category_name = df_catogory.loc[6].category_name\n",
    "category_link = df_catogory.loc[6].category_link\n",
    "\n",
    "max_grouping = 10\n",
    "for j in range(max_grouping) :\n",
    "    grouping_link = category_link + '-' + str(j+1)\n",
    "    try:\n",
    "        sess = requests.Session()\n",
    "        resp = sess.get(grouping_link)\n",
    "        # print(resp.text)\n",
    "    except requests.HTTPError as e:\n",
    "        print('The server could not serve up the web page!')\n",
    "        sys.exit(\"Script processing cannot continue!!!\")\n",
    "    except requests.ConnectionError as e:\n",
    "        print('The server could not be reached due to connection issues!')\n",
    "        sys.exit(\"Script processing cannot continue!!!\")\n",
    "\n",
    "    if resp.status_code==requests.codes.ok :\n",
    "        print('Successfully accessed the web page: ' + grouping_link)\n",
    "        grouping_page = BeautifulSoup(resp.text, 'lxml')\n",
    "        book_tags = grouping_page.find(\"div\", class_=\"a03\").find_all(\"a\")\n",
    "        # print(book_tags)\n",
    "        for tag in book_tags :\n",
    "            if tag.string is not None:\n",
    "                book_title = tag.string\n",
    "                title_link = tag.get('href')\n",
    "                df_title_scifi.loc[len(df_title_scifi)] = [category_name, book_title, title_link]\n",
    "    sleep(2)\n",
    "\n",
    "print(df_title_scifi)"
   ],
   "metadata": {
    "collapsed": false,
    "pycharm": {
     "name": "#%%\n"
    }
   }
  },
  {
   "cell_type": "markdown",
   "source": [
    "### Task 3.8 Get Titles and Description for the Fiction Category"
   ],
   "metadata": {
    "collapsed": false,
    "pycharm": {
     "name": "#%% md\n"
    }
   }
  },
  {
   "cell_type": "code",
   "execution_count": 11,
   "outputs": [
    {
     "name": "stdout",
     "output_type": "stream",
     "text": [
      "Successfully accessed the web page: https://haodoo.org/?M=hd&P=fiction-1\n",
      "Successfully accessed the web page: https://haodoo.org/?M=hd&P=fiction-2\n",
      "Successfully accessed the web page: https://haodoo.org/?M=hd&P=fiction-3\n",
      "Successfully accessed the web page: https://haodoo.org/?M=hd&P=fiction-4\n",
      "Successfully accessed the web page: https://haodoo.org/?M=hd&P=fiction-5\n",
      "Successfully accessed the web page: https://haodoo.org/?M=hd&P=fiction-6\n",
      "Successfully accessed the web page: https://haodoo.org/?M=hd&P=fiction-7\n",
      "    category_name book_title       title_link\n",
      "0            小說園地       【傳奇】    ?M=book&P=430\n",
      "1            小說園地      【半生緣】    ?M=book&P=431\n",
      "2            小說園地      【色，戒】  ?M=Share&P=10B3\n",
      "3            小說園地       【流言】   ?M=book&P=15K1\n",
      "4            小說園地       【張看】   ?M=book&P=15M7\n",
      "..            ...        ...              ...\n",
      "711          小說園地     【歡喜冤家】   ?M=book&P=17H3\n",
      "712          小說園地    【歡喜冤家續】   ?M=book&P=17Q2\n",
      "713          小說園地      【巫夢緣】   ?M=book&P=17R5\n",
      "714          小說園地      【鬧花叢】     ?M=book&P=44\n",
      "715          小說園地      《碧玉樓》     ?M=book&P=43\n",
      "\n",
      "[716 rows x 3 columns]\n"
     ]
    }
   ],
   "source": [
    "df_title_fiction = pd.DataFrame(columns=['category_name', 'book_title', 'title_link'])\n",
    "\n",
    "category_name = df_catogory.loc[7].category_name\n",
    "category_link = df_catogory.loc[7].category_link\n",
    "\n",
    "max_grouping = 7\n",
    "for j in range(max_grouping) :\n",
    "    grouping_link = category_link + '-' + str(j+1)\n",
    "    try:\n",
    "        sess = requests.Session()\n",
    "        resp = sess.get(grouping_link)\n",
    "        # print(resp.text)\n",
    "    except requests.HTTPError as e:\n",
    "        print('The server could not serve up the web page!')\n",
    "        sys.exit(\"Script processing cannot continue!!!\")\n",
    "    except requests.ConnectionError as e:\n",
    "        print('The server could not be reached due to connection issues!')\n",
    "        sys.exit(\"Script processing cannot continue!!!\")\n",
    "\n",
    "    if resp.status_code==requests.codes.ok :\n",
    "        print('Successfully accessed the web page: ' + grouping_link)\n",
    "        grouping_page = BeautifulSoup(resp.text, 'lxml')\n",
    "        book_tags = grouping_page.find(\"div\", class_=\"a03\").find_all(\"a\")\n",
    "        # print(book_tags)\n",
    "        for tag in book_tags :\n",
    "            if tag.string is not None:\n",
    "                book_title = tag.string\n",
    "                title_link = tag.get('href')\n",
    "                df_title_fiction.loc[len(df_title_fiction)] = [category_name, book_title, title_link]\n",
    "    sleep(2)\n",
    "\n",
    "print(df_title_fiction)"
   ],
   "metadata": {
    "collapsed": false,
    "pycharm": {
     "name": "#%%\n"
    }
   }
  },
  {
   "cell_type": "markdown",
   "source": [
    "### Task 3.9 Get Titles and Description for the Audio Category"
   ],
   "metadata": {
    "collapsed": false,
    "pycharm": {
     "name": "#%% md\n"
    }
   }
  },
  {
   "cell_type": "code",
   "execution_count": 12,
   "outputs": [
    {
     "name": "stdout",
     "output_type": "stream",
     "text": [
      "Successfully accessed the web page: https://haodoo.org/?M=hd&P=audio\n",
      "   category_name        book_title             title_link\n",
      "0           有聲書籍            《雅舍小品》     ?M=book&P=audio229\n",
      "1           有聲書籍       《又見棕櫚．又見棕櫚》     ?M=book&P=audio573\n",
      "2           有聲書籍           《早起看人間》    ?M=book&P=audio12D0\n",
      "3           有聲書籍         《把話說到心窩裡》    ?M=book&P=audio0903\n",
      "4           有聲書籍           《放下的幸福》    ?M=book&P=audio1147\n",
      "5           有聲書籍         《方法總比問題多》    ?M=book&P=audio0969\n",
      "6           有聲書籍      《男女大不同 1-6章》    ?M=book&P=audio0836\n",
      "7           有聲書籍     《男女大不同 7-13章》  ?M=book&P=audio0836-1\n",
      "8           有聲書籍       《爸爸，我們去哪裡？》    ?M=book&P=audio1413\n",
      "9           有聲書籍              《深情》    ?M=book&P=audio14A5\n",
      "10          有聲書籍           《河上的月光》    ?M=book&P=audio14T3\n",
      "11          有聲書籍         《愛廬小品：生活》   ?M=book&P=audio12J9B\n",
      "12          有聲書籍            《旅美小簡》    ?M=book&P=audio1289\n",
      "13          有聲書籍       《過得好，因為我值得》    ?M=book&P=audio12E6\n",
      "14          有聲書籍   《震撼心靈的116個生命感悟》    ?M=book&P=audio09B4\n",
      "15          有聲書籍       《希區考克懸念故事集》    ?M=book&P=audio1382\n",
      "16          有聲書籍  《企業家父親寫給女兒的廿五封信》    ?M=book&P=audio09B1\n",
      "17          有聲書籍          《讓高牆倒下吧》     ?M=book&P=audio172\n",
      "18          有聲書籍           《幕永不落下》     ?M=book&P=audio253\n",
      "19          有聲書籍      《最後14堂星期二的課》     ?M=book&P=audio445\n",
      "20          有聲書籍            《活出美好》    ?M=book&P=audio1455\n",
      "21          有聲書籍             《陌生人》    ?M=book&P=audio14I3\n",
      "22          有聲書籍        《狄更斯鬼魅小說集》    ?M=book&P=audio15G1\n",
      "23          有聲書籍         《就是這樣的態度》    ?M=book&P=audio15Y8\n",
      "24          有聲書籍            《古詩今唱》    ?M=book&P=audio16O8\n",
      "25          有聲書籍             《生之歌》    ?M=book&P=audio1346\n",
      "26          有聲書籍         《脫了軌道的星球》    ?M=book&P=audio1384\n",
      "27          有聲書籍           《正信的佛教》    ?M=book&P=audio13B8\n",
      "28          有聲書籍          《林清玄散文集》    ?M=book&P=audio0998\n",
      "29          有聲書籍            《老殘遊記》      ?M=book&P=audio85\n",
      "30          有聲書籍           《青春第二課》    ?M=book&P=audio14P2\n",
      "31          有聲書籍             《靜心園》    ?M=book&P=audio14HJ\n",
      "32          有聲書籍            《橘子紅了》    ?M=book&P=audio1579\n",
      "33          有聲書籍             《兒童園》      ?M=book&P=audioKJ\n"
     ]
    }
   ],
   "source": [
    "df_title_audio = pd.DataFrame(columns=['category_name', 'book_title', 'title_link'])\n",
    "\n",
    "category_name = df_catogory.loc[8].category_name\n",
    "category_link = df_catogory.loc[8].category_link\n",
    "\n",
    "grouping_link = category_link\n",
    "try:\n",
    "    sess = requests.Session()\n",
    "    resp = sess.get(grouping_link)\n",
    "    # print(resp.text)\n",
    "except requests.HTTPError as e:\n",
    "    print('The server could not serve up the web page!')\n",
    "    sys.exit(\"Script processing cannot continue!!!\")\n",
    "except requests.ConnectionError as e:\n",
    "    print('The server could not be reached due to connection issues!')\n",
    "    sys.exit(\"Script processing cannot continue!!!\")\n",
    "\n",
    "if resp.status_code==requests.codes.ok :\n",
    "    print('Successfully accessed the web page: ' + grouping_link)\n",
    "    grouping_page = BeautifulSoup(resp.text, 'lxml')\n",
    "    book_tags = grouping_page.find(\"div\", class_=\"a03\").find_all(\"a\")\n",
    "    # print(book_tags)\n",
    "    for tag in book_tags :\n",
    "        if tag.string is not None:\n",
    "            book_title = tag.string\n",
    "            title_link = tag.get('href')\n",
    "            if book_title != 'Audacity' :\n",
    "                df_title_audio.loc[len(df_title_audio)] = [category_name, book_title, title_link]\n",
    "\n",
    "print(df_title_audio)"
   ],
   "metadata": {
    "collapsed": false,
    "pycharm": {
     "name": "#%%\n"
    }
   }
  },
  {
   "cell_type": "markdown",
   "source": [
    "### Task 3.10 Organizing Data and Producing Outputs"
   ],
   "metadata": {
    "collapsed": false,
    "pycharm": {
     "name": "#%% md\n"
    }
   }
  },
  {
   "cell_type": "code",
   "execution_count": 13,
   "outputs": [
    {
     "name": "stdout",
     "output_type": "stream",
     "text": [
      "Total number of title found from web scraping: 3545\n"
     ]
    }
   ],
   "source": [
    "df_title_all = pd.concat([df_title_100, df_title_wisdom, df_title_history,\n",
    "                          df_title_martial, df_title_mystery, df_title_romance,\n",
    "                          df_title_scifi, df_title_fiction, df_title_audio])\n",
    "out_file = df_title_all.to_csv(index=False, line_terminator = '\\r')\n",
    "with open('py_webscraping_beautifulsoup_haodoo_titles.csv', 'w', encoding=\"utf-8\") as f:\n",
    "    f.write(out_file)\n",
    "print('Total number of title found from web scraping:', len(df_title_all))"
   ],
   "metadata": {
    "collapsed": false,
    "pycharm": {
     "name": "#%%\n"
    }
   }
  }
 ],
 "metadata": {
  "colab": {
   "collapsed_sections": [],
   "name": "web_scraping_py_beautifulsoup_haodoo_backup.ipynb",
   "provenance": [],
   "background_execution": "on",
   "toc_visible": true
  },
  "kernelspec": {
   "display_name": "Python 3 (ipykernel)",
   "language": "python",
   "name": "python3"
  },
  "language_info": {
   "codemirror_mode": {
    "name": "ipython",
    "version": 3
   },
   "file_extension": ".py",
   "mimetype": "text/x-python",
   "name": "python",
   "nbconvert_exporter": "python",
   "pygments_lexer": "ipython3",
   "version": "3.9.9"
  }
 },
 "nbformat": 4,
 "nbformat_minor": 0
}