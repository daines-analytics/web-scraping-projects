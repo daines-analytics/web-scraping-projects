{
 "cells": [
  {
   "cell_type": "markdown",
   "metadata": {},
   "source": [
    "# Web Scraping of Machine Learning Mastery Blog Using Python and Selenium\n",
    "### David Lowe\n",
    "### January 24, 2020\n",
    "\n",
    "SUMMARY: The purpose of this project is to practice web scraping by extracting specific pieces of information from a website. The Python web scraping code leverages the Selenium module.\n",
    "\n",
    "INTRODUCTION: Dr. Jason Brownlee’s Machine Learning Mastery hosts its tutorial lessons at https://machinelearningmastery.com/blog. The purpose of this exercise is to practice web scraping by gathering the blog entries from Machine Learning Mastery’s web pages. This iteration of the script automatically traverses the web pages to capture all blog entries and store all captured information in a JSON output file.\n",
    "\n",
    "Starting URLs: https://machinelearningmastery.com/blog/"
   ]
  },
  {
   "cell_type": "markdown",
   "metadata": {},
   "source": [
    "## Section 1. Prepare Environment"
   ]
  },
  {
   "cell_type": "code",
   "execution_count": 1,
   "metadata": {},
   "outputs": [],
   "source": [
    "import os\n",
    "import shutil\n",
    "import smtplib\n",
    "import sys\n",
    "import pandas as pd\n",
    "from email.message import EmailMessage\n",
    "from datetime import datetime\n",
    "from random import randint\n",
    "from time import sleep\n",
    "# from bs4 import BeautifulSoup\n",
    "from selenium import webdriver\n",
    "from selenium.webdriver.firefox.options import Options"
   ]
  },
  {
   "cell_type": "code",
   "execution_count": 2,
   "metadata": {},
   "outputs": [],
   "source": [
    "# Begin the timer for the script processing\n",
    "startTimeScript = datetime.now()\n",
    "\n",
    "# Set up the verbose and debug flags to print detailed messages for debugging (setting True will activate!)\n",
    "verbose = False\n",
    "debug = False\n",
    "\n",
    "# Set up the flag to send status emails (setting to True will send the status emails!)\n",
    "notifyStatus = False\n",
    "\n",
    "# Set up the flag to write the output to a JSON document (setting to TRUE will create the document!)\n",
    "writeToJSON = True\n",
    "\n",
    "# Set up the mountStorage flag to mount G Drive for storing files (setting True will mount the drive!)\n",
    "mountStorage = False\n",
    "\n",
    "# Set up the executeDownload flag to download files (setting True will download!)\n",
    "executeDownload = False"
   ]
  },
  {
   "cell_type": "code",
   "execution_count": 3,
   "metadata": {},
   "outputs": [],
   "source": [
    "# Colab-Specific Setup - Mount Google Drive for storing downloaded files\n",
    "if (mountStorage):\n",
    "    from google.colab import drive\n",
    "    drive.mount('/content/gdrive')"
   ]
  },
  {
   "cell_type": "code",
   "execution_count": 4,
   "metadata": {},
   "outputs": [],
   "source": [
    "# Set up the email notification function\n",
    "def email_notify(msg_text):\n",
    "    sender = os.environ.get('MAIL_SENDER')\n",
    "    receiver = os.environ.get('MAIL_RECEIVER')\n",
    "    gateway = os.environ.get('SMTP_GATEWAY')\n",
    "    smtpuser = os.environ.get('SMTP_USERNAME')\n",
    "    password = os.environ.get('SMTP_PASSWORD')\n",
    "    if sender==None or receiver==None or gateway==None or smtpuser==None or password==None:\n",
    "        sys.exit(\"Incomplete email setup info. Script Processing Aborted!!!\")\n",
    "    msg = EmailMessage()\n",
    "    msg.set_content(msg_text)\n",
    "    msg['Subject'] = 'Notification from Python Web Scraping Script'\n",
    "    msg['From'] = sender\n",
    "    msg['To'] = receiver\n",
    "    server = smtplib.SMTP(gateway, 587)\n",
    "    server.starttls()\n",
    "    server.login(smtpuser, password)\n",
    "    server.send_message(msg)\n",
    "    server.quit()"
   ]
  },
  {
   "cell_type": "code",
   "execution_count": 5,
   "metadata": {},
   "outputs": [],
   "source": [
    "def download_to_local(doc_path):\n",
    "    # Adding random wait time so we do not hammer the website needlessly\n",
    "    waitTime = randint(2,5)\n",
    "    print(\"Waiting \" + str(waitTime) + \" seconds to retrieve \" + doc_path)\n",
    "    sleep(waitTime)\n",
    "    local_file = doc_path.split('/')[-1]\n",
    "    if (os.path.isfile(local_file) == False):\n",
    "        with requests.get(doc_path, stream=True) as r:\n",
    "            with open(local_file, 'wb') as f:\n",
    "                shutil.copyfileobj(r.raw, f)\n",
    "        print('Downladed file: ' + local_file)\n",
    "    else:\n",
    "        print('Skipped existing file: ' + local_file)"
   ]
  },
  {
   "cell_type": "code",
   "execution_count": 6,
   "metadata": {},
   "outputs": [],
   "source": [
    "def download_to_gdrive(doc_path):\n",
    "    # Adding random wait time so we do not hammer the website needlessly\n",
    "    waitTime = randint(2,5)\n",
    "    print(\"Waiting \" + str(waitTime) + \" seconds to retrieve \" + doc_path)\n",
    "    sleep(waitTime)\n",
    "    local_file = doc_path.split('/')[-1]\n",
    "    gdrivePrefix = '/content/gdrive/My Drive/Colab_Downloads/'\n",
    "    dest_file = gdrivePrefix + local_file\n",
    "    with requests.get(doc_path, stream=True) as r:\n",
    "        with open(dest_file, 'wb') as f:\n",
    "            shutil.copyfileobj(r.raw, f)\n",
    "    print('Downladed file: ' + dest_file)"
   ]
  },
  {
   "cell_type": "code",
   "execution_count": 7,
   "metadata": {},
   "outputs": [],
   "source": [
    "if (notifyStatus): email_notify(\"Phase 1 Prepare Environment completed! \"+datetime.now().strftime('%a %B %d, %Y %I:%M:%S %p'))"
   ]
  },
  {
   "cell_type": "markdown",
   "metadata": {},
   "source": [
    "## Section 1. Perform the Scraping and Processing"
   ]
  },
  {
   "cell_type": "code",
   "execution_count": 8,
   "metadata": {},
   "outputs": [],
   "source": [
    "if (notifyStatus): email_notify(\"Phase 2 Perform the Scraping and Processing has begun! \"+datetime.now().strftime('%a %B %d, %Y %I:%M:%S %p'))"
   ]
  },
  {
   "cell_type": "code",
   "execution_count": 9,
   "metadata": {},
   "outputs": [],
   "source": [
    "# Setting up a dataframe to capture the records\n",
    "df = pd.DataFrame(columns=['blog_title','blog_url','blog_date','blog_author','blog_summary'])"
   ]
  },
  {
   "cell_type": "code",
   "execution_count": 10,
   "metadata": {},
   "outputs": [],
   "source": [
    "# Specifying the URL of desired web page to be scrapped\n",
    "website_url = \"https://machinelearningmastery.com\"\n",
    "blog_page_url = website_url + \"/blog/\""
   ]
  },
  {
   "cell_type": "code",
   "execution_count": 11,
   "metadata": {},
   "outputs": [],
   "source": [
    "# Access and test the starting URL\n",
    "firefox_options = Options()\n",
    "firefox_options.headless = False\n",
    "home_page_browser = webdriver.Firefox(options=firefox_options)\n",
    "num_blogs = 0\n",
    "done = False"
   ]
  },
  {
   "cell_type": "code",
   "execution_count": 12,
   "metadata": {},
   "outputs": [
    {
     "name": "stdout",
     "output_type": "stream",
     "text": [
      "Attempting to access the web page: https://machinelearningmastery.com/blog/\n",
      "Waiting 5 seconds to retrieve the next URL.\n",
      "Attempting to access the web page: https://machinelearningmastery.com/blog/page/2/\n",
      "Waiting 3 seconds to retrieve the next URL.\n",
      "Attempting to access the web page: https://machinelearningmastery.com/blog/page/3/\n",
      "Waiting 5 seconds to retrieve the next URL.\n",
      "Attempting to access the web page: https://machinelearningmastery.com/blog/page/4/\n",
      "Waiting 3 seconds to retrieve the next URL.\n",
      "Attempting to access the web page: https://machinelearningmastery.com/blog/page/5/\n",
      "Waiting 5 seconds to retrieve the next URL.\n",
      "Attempting to access the web page: https://machinelearningmastery.com/blog/page/6/\n",
      "Waiting 4 seconds to retrieve the next URL.\n",
      "Attempting to access the web page: https://machinelearningmastery.com/blog/page/7/\n",
      "Waiting 3 seconds to retrieve the next URL.\n",
      "Attempting to access the web page: https://machinelearningmastery.com/blog/page/8/\n",
      "Waiting 3 seconds to retrieve the next URL.\n",
      "Attempting to access the web page: https://machinelearningmastery.com/blog/page/9/\n",
      "Waiting 4 seconds to retrieve the next URL.\n",
      "Attempting to access the web page: https://machinelearningmastery.com/blog/page/10/\n",
      "Waiting 5 seconds to retrieve the next URL.\n",
      "Attempting to access the web page: https://machinelearningmastery.com/blog/page/11/\n",
      "Waiting 5 seconds to retrieve the next URL.\n",
      "Attempting to access the web page: https://machinelearningmastery.com/blog/page/12/\n",
      "Waiting 5 seconds to retrieve the next URL.\n",
      "Attempting to access the web page: https://machinelearningmastery.com/blog/page/13/\n",
      "Waiting 5 seconds to retrieve the next URL.\n",
      "Attempting to access the web page: https://machinelearningmastery.com/blog/page/14/\n",
      "Waiting 4 seconds to retrieve the next URL.\n",
      "Attempting to access the web page: https://machinelearningmastery.com/blog/page/15/\n",
      "Waiting 4 seconds to retrieve the next URL.\n",
      "Attempting to access the web page: https://machinelearningmastery.com/blog/page/16/\n",
      "Waiting 4 seconds to retrieve the next URL.\n",
      "Attempting to access the web page: https://machinelearningmastery.com/blog/page/17/\n",
      "Waiting 5 seconds to retrieve the next URL.\n",
      "Attempting to access the web page: https://machinelearningmastery.com/blog/page/18/\n",
      "Waiting 5 seconds to retrieve the next URL.\n",
      "Attempting to access the web page: https://machinelearningmastery.com/blog/page/19/\n",
      "Waiting 5 seconds to retrieve the next URL.\n",
      "Attempting to access the web page: https://machinelearningmastery.com/blog/page/20/\n",
      "Waiting 4 seconds to retrieve the next URL.\n",
      "Attempting to access the web page: https://machinelearningmastery.com/blog/page/21/\n",
      "Waiting 3 seconds to retrieve the next URL.\n",
      "Attempting to access the web page: https://machinelearningmastery.com/blog/page/22/\n",
      "Waiting 3 seconds to retrieve the next URL.\n",
      "Attempting to access the web page: https://machinelearningmastery.com/blog/page/23/\n",
      "Waiting 4 seconds to retrieve the next URL.\n",
      "Attempting to access the web page: https://machinelearningmastery.com/blog/page/24/\n",
      "Waiting 4 seconds to retrieve the next URL.\n",
      "Attempting to access the web page: https://machinelearningmastery.com/blog/page/25/\n",
      "Waiting 4 seconds to retrieve the next URL.\n",
      "Attempting to access the web page: https://machinelearningmastery.com/blog/page/26/\n",
      "Waiting 5 seconds to retrieve the next URL.\n",
      "Attempting to access the web page: https://machinelearningmastery.com/blog/page/27/\n",
      "Waiting 5 seconds to retrieve the next URL.\n",
      "Attempting to access the web page: https://machinelearningmastery.com/blog/page/28/\n",
      "Waiting 3 seconds to retrieve the next URL.\n",
      "Attempting to access the web page: https://machinelearningmastery.com/blog/page/29/\n",
      "Waiting 4 seconds to retrieve the next URL.\n",
      "Attempting to access the web page: https://machinelearningmastery.com/blog/page/30/\n",
      "Waiting 4 seconds to retrieve the next URL.\n",
      "Attempting to access the web page: https://machinelearningmastery.com/blog/page/31/\n",
      "Waiting 4 seconds to retrieve the next URL.\n",
      "Attempting to access the web page: https://machinelearningmastery.com/blog/page/32/\n",
      "Waiting 5 seconds to retrieve the next URL.\n",
      "Attempting to access the web page: https://machinelearningmastery.com/blog/page/33/\n",
      "Waiting 4 seconds to retrieve the next URL.\n",
      "Attempting to access the web page: https://machinelearningmastery.com/blog/page/34/\n",
      "Waiting 3 seconds to retrieve the next URL.\n",
      "Attempting to access the web page: https://machinelearningmastery.com/blog/page/35/\n",
      "Waiting 5 seconds to retrieve the next URL.\n",
      "Attempting to access the web page: https://machinelearningmastery.com/blog/page/36/\n",
      "Waiting 3 seconds to retrieve the next URL.\n",
      "Attempting to access the web page: https://machinelearningmastery.com/blog/page/37/\n",
      "Waiting 3 seconds to retrieve the next URL.\n",
      "Attempting to access the web page: https://machinelearningmastery.com/blog/page/38/\n",
      "Waiting 5 seconds to retrieve the next URL.\n",
      "Attempting to access the web page: https://machinelearningmastery.com/blog/page/39/\n",
      "Waiting 3 seconds to retrieve the next URL.\n",
      "Attempting to access the web page: https://machinelearningmastery.com/blog/page/40/\n",
      "Waiting 5 seconds to retrieve the next URL.\n",
      "Attempting to access the web page: https://machinelearningmastery.com/blog/page/41/\n",
      "Waiting 5 seconds to retrieve the next URL.\n",
      "Attempting to access the web page: https://machinelearningmastery.com/blog/page/42/\n",
      "Waiting 3 seconds to retrieve the next URL.\n",
      "Attempting to access the web page: https://machinelearningmastery.com/blog/page/43/\n",
      "Waiting 5 seconds to retrieve the next URL.\n",
      "Attempting to access the web page: https://machinelearningmastery.com/blog/page/44/\n",
      "Waiting 5 seconds to retrieve the next URL.\n",
      "Attempting to access the web page: https://machinelearningmastery.com/blog/page/45/\n",
      "Waiting 3 seconds to retrieve the next URL.\n",
      "Attempting to access the web page: https://machinelearningmastery.com/blog/page/46/\n",
      "Waiting 3 seconds to retrieve the next URL.\n",
      "Attempting to access the web page: https://machinelearningmastery.com/blog/page/47/\n",
      "Waiting 5 seconds to retrieve the next URL.\n",
      "Attempting to access the web page: https://machinelearningmastery.com/blog/page/48/\n",
      "Waiting 5 seconds to retrieve the next URL.\n",
      "Attempting to access the web page: https://machinelearningmastery.com/blog/page/49/\n",
      "Waiting 3 seconds to retrieve the next URL.\n",
      "Attempting to access the web page: https://machinelearningmastery.com/blog/page/50/\n",
      "Waiting 5 seconds to retrieve the next URL.\n",
      "Attempting to access the web page: https://machinelearningmastery.com/blog/page/51/\n",
      "Waiting 5 seconds to retrieve the next URL.\n",
      "Attempting to access the web page: https://machinelearningmastery.com/blog/page/52/\n",
      "Waiting 4 seconds to retrieve the next URL.\n",
      "Attempting to access the web page: https://machinelearningmastery.com/blog/page/53/\n",
      "Waiting 3 seconds to retrieve the next URL.\n",
      "Attempting to access the web page: https://machinelearningmastery.com/blog/page/54/\n",
      "Waiting 5 seconds to retrieve the next URL.\n",
      "Attempting to access the web page: https://machinelearningmastery.com/blog/page/55/\n",
      "Waiting 4 seconds to retrieve the next URL.\n",
      "Attempting to access the web page: https://machinelearningmastery.com/blog/page/56/\n",
      "Waiting 3 seconds to retrieve the next URL.\n",
      "Attempting to access the web page: https://machinelearningmastery.com/blog/page/57/\n",
      "Waiting 4 seconds to retrieve the next URL.\n",
      "Attempting to access the web page: https://machinelearningmastery.com/blog/page/58/\n",
      "Waiting 4 seconds to retrieve the next URL.\n",
      "Attempting to access the web page: https://machinelearningmastery.com/blog/page/59/\n",
      "Waiting 3 seconds to retrieve the next URL.\n",
      "Attempting to access the web page: https://machinelearningmastery.com/blog/page/60/\n",
      "Waiting 5 seconds to retrieve the next URL.\n",
      "Attempting to access the web page: https://machinelearningmastery.com/blog/page/61/\n",
      "Waiting 5 seconds to retrieve the next URL.\n",
      "Attempting to access the web page: https://machinelearningmastery.com/blog/page/62/\n",
      "Waiting 4 seconds to retrieve the next URL.\n",
      "Attempting to access the web page: https://machinelearningmastery.com/blog/page/63/\n",
      "Waiting 3 seconds to retrieve the next URL.\n",
      "Attempting to access the web page: https://machinelearningmastery.com/blog/page/64/\n",
      "Waiting 5 seconds to retrieve the next URL.\n",
      "Attempting to access the web page: https://machinelearningmastery.com/blog/page/65/\n",
      "Waiting 4 seconds to retrieve the next URL.\n",
      "Attempting to access the web page: https://machinelearningmastery.com/blog/page/66/\n",
      "Waiting 5 seconds to retrieve the next URL.\n",
      "Attempting to access the web page: https://machinelearningmastery.com/blog/page/67/\n",
      "Waiting 3 seconds to retrieve the next URL.\n",
      "Attempting to access the web page: https://machinelearningmastery.com/blog/page/68/\n",
      "Waiting 4 seconds to retrieve the next URL.\n",
      "Attempting to access the web page: https://machinelearningmastery.com/blog/page/69/\n",
      "Waiting 5 seconds to retrieve the next URL.\n",
      "Attempting to access the web page: https://machinelearningmastery.com/blog/page/70/\n",
      "Waiting 3 seconds to retrieve the next URL.\n",
      "Attempting to access the web page: https://machinelearningmastery.com/blog/page/71/\n",
      "Waiting 4 seconds to retrieve the next URL.\n",
      "Attempting to access the web page: https://machinelearningmastery.com/blog/page/72/\n",
      "Waiting 3 seconds to retrieve the next URL.\n",
      "Attempting to access the web page: https://machinelearningmastery.com/blog/page/73/\n",
      "Waiting 5 seconds to retrieve the next URL.\n",
      "Attempting to access the web page: https://machinelearningmastery.com/blog/page/74/\n",
      "Waiting 5 seconds to retrieve the next URL.\n",
      "Attempting to access the web page: https://machinelearningmastery.com/blog/page/75/\n",
      "Waiting 4 seconds to retrieve the next URL.\n",
      "Attempting to access the web page: https://machinelearningmastery.com/blog/page/76/\n",
      "Waiting 5 seconds to retrieve the next URL.\n",
      "Attempting to access the web page: https://machinelearningmastery.com/blog/page/77/\n",
      "Waiting 3 seconds to retrieve the next URL.\n",
      "Attempting to access the web page: https://machinelearningmastery.com/blog/page/78/\n",
      "Waiting 5 seconds to retrieve the next URL.\n",
      "Attempting to access the web page: https://machinelearningmastery.com/blog/page/79/\n",
      "Waiting 5 seconds to retrieve the next URL.\n",
      "Attempting to access the web page: https://machinelearningmastery.com/blog/page/80/\n",
      "Waiting 4 seconds to retrieve the next URL.\n",
      "Attempting to access the web page: https://machinelearningmastery.com/blog/page/81/\n",
      "Waiting 4 seconds to retrieve the next URL.\n",
      "Attempting to access the web page: https://machinelearningmastery.com/blog/page/82/\n",
      "Waiting 5 seconds to retrieve the next URL.\n",
      "Attempting to access the web page: https://machinelearningmastery.com/blog/page/83/\n",
      "Waiting 3 seconds to retrieve the next URL.\n",
      "Attempting to access the web page: https://machinelearningmastery.com/blog/page/84/\n",
      "Waiting 3 seconds to retrieve the next URL.\n",
      "Attempting to access the web page: https://machinelearningmastery.com/blog/page/85/\n",
      "Waiting 4 seconds to retrieve the next URL.\n",
      "Attempting to access the web page: https://machinelearningmastery.com/blog/page/86/\n",
      "Waiting 3 seconds to retrieve the next URL.\n",
      "Attempting to access the web page: https://machinelearningmastery.com/blog/page/87/\n"
     ]
    }
   ],
   "source": [
    "while not done:\n",
    "    # Gather all blog links from the blog page\n",
    "    print('Attempting to access the web page: ' + blog_page_url)\n",
    "    home_page_browser.get(blog_page_url)\n",
    "    main_page_container = home_page_browser.find_element_by_class_name('col-left')\n",
    "    collection = main_page_container.find_elements_by_tag_name('article')\n",
    "\n",
    "    for item in collection:\n",
    "        blog_title = '[Not Found]'\n",
    "        blog_link = '[Not Found]'\n",
    "        blog_date = '[Not Found]'\n",
    "        blog_author = '[Not Found]'\n",
    "        blog_summary = '[Not Found]'\n",
    "        if (debug): print(item)\n",
    "        post_element = item.find_element_by_tag_name('a')\n",
    "        blog_title = post_element.get_attribute('title')\n",
    "        if (verbose): print(\"Found title:\", blog_title)\n",
    "        blog_link = post_element.get_attribute('href')\n",
    "        if (verbose): print(\"Found link:\", blog_link)\n",
    "        post_meta = item.find_element_by_class_name('post-meta')\n",
    "        blog_author = post_meta.find_element_by_tag_name('a').text\n",
    "        if (verbose): print(\"Found author:\", blog_author)\n",
    "        blog_date = post_meta.find_element_by_tag_name('abbr').get_attribute('title')\n",
    "        if (verbose): print(\"Found date:\", blog_date)\n",
    "        text_section = item.find_element_by_tag_name('section')\n",
    "        blog_summary = text_section.find_element_by_tag_name('p').text\n",
    "        if (verbose): print(\"Found summary:\", blog_summary)\n",
    "        df.loc[num_blogs] = [blog_title, blog_link, blog_date, blog_author, blog_summary]\n",
    "        num_blogs = num_blogs + 1\n",
    "\n",
    "    try:\n",
    "        next_page = home_page_browser.find_element_by_css_selector(\"a[class='next page-numbers']\")\n",
    "        blog_page_url = next_page.get_attribute('href')\n",
    "        # Adding random wait time so we do not hammer the website needlessly\n",
    "        waitTime = randint(3,5)\n",
    "        print(\"Waiting \" + str(waitTime) + \" seconds to retrieve the next URL.\")\n",
    "        sleep(waitTime)\n",
    "    except:\n",
    "        done = True"
   ]
  },
  {
   "cell_type": "code",
   "execution_count": 13,
   "metadata": {},
   "outputs": [
    {
     "name": "stdout",
     "output_type": "stream",
     "text": [
      "Finished finding all available blog pages!\n",
      "Total blogs processed: 868\n"
     ]
    }
   ],
   "source": [
    "home_page_browser.quit()\n",
    "print('Finished finding all available blog pages!')\n",
    "print('Total blogs processed:', num_blogs)"
   ]
  },
  {
   "cell_type": "code",
   "execution_count": 14,
   "metadata": {},
   "outputs": [],
   "source": [
    "if (writeToJSON):\n",
    "    out_file = df.to_json(orient='records')\n",
    "    with open('web-scraping-py-selenium-mlmastery-blog-take4.json', 'w') as f:\n",
    "        f.write(out_file)"
   ]
  },
  {
   "cell_type": "code",
   "execution_count": 15,
   "metadata": {},
   "outputs": [],
   "source": [
    "if (notifyStatus): email_notify(\"Phase 2 Perform the Scraping and Processing completed! \"+datetime.now().strftime('%a %B %d, %Y %I:%M:%S %p'))"
   ]
  },
  {
   "cell_type": "code",
   "execution_count": 16,
   "metadata": {},
   "outputs": [
    {
     "name": "stdout",
     "output_type": "stream",
     "text": [
      "Total time for the script: 0:07:15.801865\n"
     ]
    }
   ],
   "source": [
    "print ('Total time for the script:',(datetime.now() - startTimeScript))"
   ]
  }
 ],
 "metadata": {
  "kernelspec": {
   "display_name": "Python 3",
   "language": "python",
   "name": "python3"
  },
  "language_info": {
   "codemirror_mode": {
    "name": "ipython",
    "version": 3
   },
   "file_extension": ".py",
   "mimetype": "text/x-python",
   "name": "python",
   "nbconvert_exporter": "python",
   "pygments_lexer": "ipython3",
   "version": "3.7.4"
  }
 },
 "nbformat": 4,
 "nbformat_minor": 4
}
