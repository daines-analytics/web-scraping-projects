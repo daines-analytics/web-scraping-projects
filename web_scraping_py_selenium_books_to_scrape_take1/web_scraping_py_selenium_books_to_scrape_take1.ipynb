{
 "cells": [
  {
   "cell_type": "markdown",
   "metadata": {},
   "source": [
    "# Web Scraping of Books to Scrape Using Selenium Take 1\n",
    "### David Lowe\n",
    "### August 21, 2020\n",
    "\n",
    "SUMMARY: The purpose of this project is to practice web scraping by extracting specific pieces of information from a website. The Python web scraping code leverages the Selenium module.\n",
    "\n",
    "INTRODUCTION: Books to Scarpe is a fictional bookstore that desperately wants to be scraped according to the site owner. It is a safe place for beginners learning web scraping and for developers validating their scraping technologies as well. This iteration of the script automatically traverses the book listing web pages (about 50 pages and 1000 items) to capture all the basic data about the books and store them in a CSV output file.\n",
    "\n",
    "Starting URLs: http://books.toscrape.com/"
   ]
  },
  {
   "cell_type": "markdown",
   "metadata": {},
   "source": [
    "## Task 1. Prepare Environment"
   ]
  },
  {
   "cell_type": "code",
   "execution_count": 1,
   "metadata": {},
   "outputs": [],
   "source": [
    "import os\n",
    "import sys\n",
    "import pandas as pd\n",
    "import shutil\n",
    "import boto3\n",
    "from datetime import datetime, date\n",
    "from random import randint\n",
    "from time import sleep\n",
    "from dotenv import load_dotenv\n",
    "from selenium import webdriver\n",
    "from selenium.webdriver.common.by import By\n",
    "from selenium.webdriver.common.keys import Keys\n",
    "from selenium.webdriver.support.ui import WebDriverWait\n",
    "from selenium.webdriver.support.expected_conditions import presence_of_element_located\n",
    "from selenium.webdriver.support.select import Select\n",
    "from selenium.webdriver.firefox.options import Options"
   ]
  },
  {
   "cell_type": "code",
   "execution_count": 2,
   "metadata": {},
   "outputs": [],
   "source": [
    "# Begin the timer for the script processing\n",
    "startTimeScript = datetime.now()\n",
    "\n",
    "# Set up the verbose and debug flags to print detailed messages for debugging (setting True will activate!)\n",
    "verbose = False\n",
    "debug = False\n",
    "\n",
    "# Set up the flag to send status emails (setting to True will send the status emails!)\n",
    "notifyStatus = False\n",
    "\n",
    "# # Set up the parent directory location for loading the dotenv files\n",
    "# useColab = False\n",
    "# if useColab:\n",
    "#     # Mount Google Drive locally for storing files\n",
    "#     from google.colab import drive\n",
    "#     drive.mount('/content/gdrive')\n",
    "#     gdrivePrefix = '/content/gdrive/My Drive/Colab_Downloads/'\n",
    "#     env_path = '/content/gdrive/My Drive/Colab Notebooks/'\n",
    "#     dotenv_path = env_path + \"python_script.env\"\n",
    "#     load_dotenv(dotenv_path=dotenv_path)\n",
    "\n",
    "# # Set up the dotenv file for retrieving environment variables\n",
    "# useLocalPC = False\n",
    "# if useLocalPC:\n",
    "#     env_path = \"/Users/david/PycharmProjects/\"\n",
    "#     dotenv_path = env_path + \"python_script.env\"\n",
    "#     load_dotenv(dotenv_path=dotenv_path)\n",
    "\n",
    "# Set up the flag to write the output to a JSON document (setting to TRUE will create the document!)\n",
    "writeOutput = True\n",
    "\n",
    "# Set up the executeDownload flag to download files (setting True will download!)\n",
    "executeDownload = False"
   ]
  },
  {
   "cell_type": "code",
   "execution_count": 3,
   "metadata": {},
   "outputs": [],
   "source": [
    "# Set up the email notification function\n",
    "def status_notify(msg_text):\n",
    "    access_key = os.environ.get('SNS_ACCESS_KEY')\n",
    "    secret_key = os.environ.get('SNS_SECRET_KEY')\n",
    "    aws_region = os.environ.get('SNS_AWS_REGION')\n",
    "    topic_arn = os.environ.get('SNS_TOPIC_ARN')\n",
    "    if (access_key is None) or (secret_key is None) or (aws_region is None):\n",
    "        sys.exit(\"Incomplete notification setup info. Script Processing Aborted!!!\")\n",
    "    sns = boto3.client('sns', aws_access_key_id=access_key, aws_secret_access_key=secret_key, region_name=aws_region)\n",
    "    response = sns.publish(TopicArn=topic_arn, Message=msg_text)\n",
    "    if response['ResponseMetadata']['HTTPStatusCode'] != 200 :\n",
    "        print('Status notification not OK with HTTP status code:', response['ResponseMetadata']['HTTPStatusCode'])"
   ]
  },
  {
   "cell_type": "code",
   "execution_count": 4,
   "metadata": {},
   "outputs": [],
   "source": [
    "if (notifyStatus): status_notify(\"Task 1 Prepare Environment completed! \"+datetime.now().strftime('%a %B %d, %Y %I:%M:%S %p'))"
   ]
  },
  {
   "cell_type": "markdown",
   "metadata": {},
   "source": [
    "## Task 2. Perform the Scraping and Processing"
   ]
  },
  {
   "cell_type": "code",
   "execution_count": 5,
   "metadata": {},
   "outputs": [],
   "source": [
    "if (notifyStatus): status_notify(\"Task 2 Perform the Scraping and Processing has begun! \"+datetime.now().strftime('%a %B %d, %Y %I:%M:%S %p'))"
   ]
  },
  {
   "cell_type": "code",
   "execution_count": 6,
   "metadata": {},
   "outputs": [],
   "source": [
    "# Setting up a dataframe to capture the records\n",
    "df = pd.DataFrame(columns=['book_title', 'detail_url', 'image_url', 'book_price', 'inventory_status'])\n",
    "num_entries = 0"
   ]
  },
  {
   "cell_type": "code",
   "execution_count": 7,
   "metadata": {},
   "outputs": [],
   "source": [
    "# Specifying the URL of desired web page to be scrapped\n",
    "website_url = \"http://books.toscrape.com\"\n",
    "web_page_url = website_url + \"/index.html\""
   ]
  },
  {
   "cell_type": "code",
   "execution_count": 8,
   "metadata": {},
   "outputs": [],
   "source": [
    "# Initialize the web browser\n",
    "firefox_options = Options()\n",
    "firefox_options.headless = True\n",
    "home_page_browser = webdriver.Firefox(options=firefox_options)"
   ]
  },
  {
   "cell_type": "code",
   "execution_count": 9,
   "metadata": {},
   "outputs": [
    {
     "name": "stdout",
     "output_type": "stream",
     "text": [
      "Waiting 4 seconds to retrieve the items on page http://books.toscrape.com/index.html\n",
      "Attempting to access the web page: http://books.toscrape.com/index.html\n",
      "Successfully accessed the web page: http://books.toscrape.com/index.html\n",
      "Waiting 2 seconds to retrieve the items on page http://books.toscrape.com/catalogue/page-2.html\n",
      "Attempting to access the web page: http://books.toscrape.com/catalogue/page-2.html\n",
      "Successfully accessed the web page: http://books.toscrape.com/catalogue/page-2.html\n",
      "Waiting 2 seconds to retrieve the items on page http://books.toscrape.com/catalogue/page-3.html\n",
      "Attempting to access the web page: http://books.toscrape.com/catalogue/page-3.html\n",
      "Successfully accessed the web page: http://books.toscrape.com/catalogue/page-3.html\n",
      "Waiting 2 seconds to retrieve the items on page http://books.toscrape.com/catalogue/page-4.html\n",
      "Attempting to access the web page: http://books.toscrape.com/catalogue/page-4.html\n",
      "Successfully accessed the web page: http://books.toscrape.com/catalogue/page-4.html\n",
      "Waiting 4 seconds to retrieve the items on page http://books.toscrape.com/catalogue/page-5.html\n",
      "Attempting to access the web page: http://books.toscrape.com/catalogue/page-5.html\n",
      "Successfully accessed the web page: http://books.toscrape.com/catalogue/page-5.html\n",
      "Waiting 2 seconds to retrieve the items on page http://books.toscrape.com/catalogue/page-6.html\n",
      "Attempting to access the web page: http://books.toscrape.com/catalogue/page-6.html\n",
      "Successfully accessed the web page: http://books.toscrape.com/catalogue/page-6.html\n",
      "Waiting 2 seconds to retrieve the items on page http://books.toscrape.com/catalogue/page-7.html\n",
      "Attempting to access the web page: http://books.toscrape.com/catalogue/page-7.html\n",
      "Successfully accessed the web page: http://books.toscrape.com/catalogue/page-7.html\n",
      "Waiting 3 seconds to retrieve the items on page http://books.toscrape.com/catalogue/page-8.html\n",
      "Attempting to access the web page: http://books.toscrape.com/catalogue/page-8.html\n",
      "Successfully accessed the web page: http://books.toscrape.com/catalogue/page-8.html\n",
      "Waiting 4 seconds to retrieve the items on page http://books.toscrape.com/catalogue/page-9.html\n",
      "Attempting to access the web page: http://books.toscrape.com/catalogue/page-9.html\n",
      "Successfully accessed the web page: http://books.toscrape.com/catalogue/page-9.html\n",
      "Waiting 3 seconds to retrieve the items on page http://books.toscrape.com/catalogue/page-10.html\n",
      "Attempting to access the web page: http://books.toscrape.com/catalogue/page-10.html\n",
      "Successfully accessed the web page: http://books.toscrape.com/catalogue/page-10.html\n",
      "Waiting 3 seconds to retrieve the items on page http://books.toscrape.com/catalogue/page-11.html\n",
      "Attempting to access the web page: http://books.toscrape.com/catalogue/page-11.html\n",
      "Successfully accessed the web page: http://books.toscrape.com/catalogue/page-11.html\n",
      "Waiting 3 seconds to retrieve the items on page http://books.toscrape.com/catalogue/page-12.html\n",
      "Attempting to access the web page: http://books.toscrape.com/catalogue/page-12.html\n",
      "Successfully accessed the web page: http://books.toscrape.com/catalogue/page-12.html\n",
      "Waiting 3 seconds to retrieve the items on page http://books.toscrape.com/catalogue/page-13.html\n",
      "Attempting to access the web page: http://books.toscrape.com/catalogue/page-13.html\n",
      "Successfully accessed the web page: http://books.toscrape.com/catalogue/page-13.html\n",
      "Waiting 2 seconds to retrieve the items on page http://books.toscrape.com/catalogue/page-14.html\n",
      "Attempting to access the web page: http://books.toscrape.com/catalogue/page-14.html\n",
      "Successfully accessed the web page: http://books.toscrape.com/catalogue/page-14.html\n",
      "Waiting 4 seconds to retrieve the items on page http://books.toscrape.com/catalogue/page-15.html\n",
      "Attempting to access the web page: http://books.toscrape.com/catalogue/page-15.html\n",
      "Successfully accessed the web page: http://books.toscrape.com/catalogue/page-15.html\n",
      "Waiting 4 seconds to retrieve the items on page http://books.toscrape.com/catalogue/page-16.html\n",
      "Attempting to access the web page: http://books.toscrape.com/catalogue/page-16.html\n",
      "Successfully accessed the web page: http://books.toscrape.com/catalogue/page-16.html\n",
      "Waiting 4 seconds to retrieve the items on page http://books.toscrape.com/catalogue/page-17.html\n",
      "Attempting to access the web page: http://books.toscrape.com/catalogue/page-17.html\n",
      "Successfully accessed the web page: http://books.toscrape.com/catalogue/page-17.html\n",
      "Waiting 3 seconds to retrieve the items on page http://books.toscrape.com/catalogue/page-18.html\n",
      "Attempting to access the web page: http://books.toscrape.com/catalogue/page-18.html\n",
      "Successfully accessed the web page: http://books.toscrape.com/catalogue/page-18.html\n",
      "Waiting 3 seconds to retrieve the items on page http://books.toscrape.com/catalogue/page-19.html\n",
      "Attempting to access the web page: http://books.toscrape.com/catalogue/page-19.html\n",
      "Successfully accessed the web page: http://books.toscrape.com/catalogue/page-19.html\n",
      "Waiting 3 seconds to retrieve the items on page http://books.toscrape.com/catalogue/page-20.html\n",
      "Attempting to access the web page: http://books.toscrape.com/catalogue/page-20.html\n",
      "Successfully accessed the web page: http://books.toscrape.com/catalogue/page-20.html\n",
      "Waiting 2 seconds to retrieve the items on page http://books.toscrape.com/catalogue/page-21.html\n",
      "Attempting to access the web page: http://books.toscrape.com/catalogue/page-21.html\n",
      "Successfully accessed the web page: http://books.toscrape.com/catalogue/page-21.html\n",
      "Waiting 4 seconds to retrieve the items on page http://books.toscrape.com/catalogue/page-22.html\n",
      "Attempting to access the web page: http://books.toscrape.com/catalogue/page-22.html\n",
      "Successfully accessed the web page: http://books.toscrape.com/catalogue/page-22.html\n",
      "Waiting 2 seconds to retrieve the items on page http://books.toscrape.com/catalogue/page-23.html\n",
      "Attempting to access the web page: http://books.toscrape.com/catalogue/page-23.html\n",
      "Successfully accessed the web page: http://books.toscrape.com/catalogue/page-23.html\n",
      "Waiting 4 seconds to retrieve the items on page http://books.toscrape.com/catalogue/page-24.html\n",
      "Attempting to access the web page: http://books.toscrape.com/catalogue/page-24.html\n",
      "Successfully accessed the web page: http://books.toscrape.com/catalogue/page-24.html\n",
      "Waiting 3 seconds to retrieve the items on page http://books.toscrape.com/catalogue/page-25.html\n",
      "Attempting to access the web page: http://books.toscrape.com/catalogue/page-25.html\n",
      "Successfully accessed the web page: http://books.toscrape.com/catalogue/page-25.html\n",
      "Waiting 4 seconds to retrieve the items on page http://books.toscrape.com/catalogue/page-26.html\n",
      "Attempting to access the web page: http://books.toscrape.com/catalogue/page-26.html\n",
      "Successfully accessed the web page: http://books.toscrape.com/catalogue/page-26.html\n",
      "Waiting 3 seconds to retrieve the items on page http://books.toscrape.com/catalogue/page-27.html\n",
      "Attempting to access the web page: http://books.toscrape.com/catalogue/page-27.html\n",
      "Successfully accessed the web page: http://books.toscrape.com/catalogue/page-27.html\n",
      "Waiting 4 seconds to retrieve the items on page http://books.toscrape.com/catalogue/page-28.html\n",
      "Attempting to access the web page: http://books.toscrape.com/catalogue/page-28.html\n",
      "Successfully accessed the web page: http://books.toscrape.com/catalogue/page-28.html\n",
      "Waiting 3 seconds to retrieve the items on page http://books.toscrape.com/catalogue/page-29.html\n",
      "Attempting to access the web page: http://books.toscrape.com/catalogue/page-29.html\n",
      "Successfully accessed the web page: http://books.toscrape.com/catalogue/page-29.html\n",
      "Waiting 2 seconds to retrieve the items on page http://books.toscrape.com/catalogue/page-30.html\n",
      "Attempting to access the web page: http://books.toscrape.com/catalogue/page-30.html\n",
      "Successfully accessed the web page: http://books.toscrape.com/catalogue/page-30.html\n",
      "Waiting 3 seconds to retrieve the items on page http://books.toscrape.com/catalogue/page-31.html\n",
      "Attempting to access the web page: http://books.toscrape.com/catalogue/page-31.html\n",
      "Successfully accessed the web page: http://books.toscrape.com/catalogue/page-31.html\n",
      "Waiting 3 seconds to retrieve the items on page http://books.toscrape.com/catalogue/page-32.html\n",
      "Attempting to access the web page: http://books.toscrape.com/catalogue/page-32.html\n",
      "Successfully accessed the web page: http://books.toscrape.com/catalogue/page-32.html\n",
      "Waiting 2 seconds to retrieve the items on page http://books.toscrape.com/catalogue/page-33.html\n",
      "Attempting to access the web page: http://books.toscrape.com/catalogue/page-33.html\n",
      "Successfully accessed the web page: http://books.toscrape.com/catalogue/page-33.html\n",
      "Waiting 3 seconds to retrieve the items on page http://books.toscrape.com/catalogue/page-34.html\n",
      "Attempting to access the web page: http://books.toscrape.com/catalogue/page-34.html\n",
      "Successfully accessed the web page: http://books.toscrape.com/catalogue/page-34.html\n",
      "Waiting 4 seconds to retrieve the items on page http://books.toscrape.com/catalogue/page-35.html\n",
      "Attempting to access the web page: http://books.toscrape.com/catalogue/page-35.html\n",
      "Successfully accessed the web page: http://books.toscrape.com/catalogue/page-35.html\n",
      "Waiting 3 seconds to retrieve the items on page http://books.toscrape.com/catalogue/page-36.html\n",
      "Attempting to access the web page: http://books.toscrape.com/catalogue/page-36.html\n",
      "Successfully accessed the web page: http://books.toscrape.com/catalogue/page-36.html\n",
      "Waiting 2 seconds to retrieve the items on page http://books.toscrape.com/catalogue/page-37.html\n",
      "Attempting to access the web page: http://books.toscrape.com/catalogue/page-37.html\n",
      "Successfully accessed the web page: http://books.toscrape.com/catalogue/page-37.html\n",
      "Waiting 4 seconds to retrieve the items on page http://books.toscrape.com/catalogue/page-38.html\n",
      "Attempting to access the web page: http://books.toscrape.com/catalogue/page-38.html\n",
      "Successfully accessed the web page: http://books.toscrape.com/catalogue/page-38.html\n",
      "Waiting 4 seconds to retrieve the items on page http://books.toscrape.com/catalogue/page-39.html\n",
      "Attempting to access the web page: http://books.toscrape.com/catalogue/page-39.html\n",
      "Successfully accessed the web page: http://books.toscrape.com/catalogue/page-39.html\n",
      "Waiting 4 seconds to retrieve the items on page http://books.toscrape.com/catalogue/page-40.html\n",
      "Attempting to access the web page: http://books.toscrape.com/catalogue/page-40.html\n",
      "Successfully accessed the web page: http://books.toscrape.com/catalogue/page-40.html\n",
      "Waiting 3 seconds to retrieve the items on page http://books.toscrape.com/catalogue/page-41.html\n",
      "Attempting to access the web page: http://books.toscrape.com/catalogue/page-41.html\n",
      "Successfully accessed the web page: http://books.toscrape.com/catalogue/page-41.html\n",
      "Waiting 3 seconds to retrieve the items on page http://books.toscrape.com/catalogue/page-42.html\n",
      "Attempting to access the web page: http://books.toscrape.com/catalogue/page-42.html\n",
      "Successfully accessed the web page: http://books.toscrape.com/catalogue/page-42.html\n",
      "Waiting 4 seconds to retrieve the items on page http://books.toscrape.com/catalogue/page-43.html\n",
      "Attempting to access the web page: http://books.toscrape.com/catalogue/page-43.html\n",
      "Successfully accessed the web page: http://books.toscrape.com/catalogue/page-43.html\n",
      "Waiting 4 seconds to retrieve the items on page http://books.toscrape.com/catalogue/page-44.html\n",
      "Attempting to access the web page: http://books.toscrape.com/catalogue/page-44.html\n",
      "Successfully accessed the web page: http://books.toscrape.com/catalogue/page-44.html\n",
      "Waiting 2 seconds to retrieve the items on page http://books.toscrape.com/catalogue/page-45.html\n",
      "Attempting to access the web page: http://books.toscrape.com/catalogue/page-45.html\n",
      "Successfully accessed the web page: http://books.toscrape.com/catalogue/page-45.html\n",
      "Waiting 3 seconds to retrieve the items on page http://books.toscrape.com/catalogue/page-46.html\n",
      "Attempting to access the web page: http://books.toscrape.com/catalogue/page-46.html\n",
      "Successfully accessed the web page: http://books.toscrape.com/catalogue/page-46.html\n",
      "Waiting 2 seconds to retrieve the items on page http://books.toscrape.com/catalogue/page-47.html\n",
      "Attempting to access the web page: http://books.toscrape.com/catalogue/page-47.html\n",
      "Successfully accessed the web page: http://books.toscrape.com/catalogue/page-47.html\n",
      "Waiting 2 seconds to retrieve the items on page http://books.toscrape.com/catalogue/page-48.html\n",
      "Attempting to access the web page: http://books.toscrape.com/catalogue/page-48.html\n",
      "Successfully accessed the web page: http://books.toscrape.com/catalogue/page-48.html\n",
      "Waiting 2 seconds to retrieve the items on page http://books.toscrape.com/catalogue/page-49.html\n",
      "Attempting to access the web page: http://books.toscrape.com/catalogue/page-49.html\n",
      "Successfully accessed the web page: http://books.toscrape.com/catalogue/page-49.html\n",
      "Waiting 2 seconds to retrieve the items on page http://books.toscrape.com/catalogue/page-50.html\n",
      "Attempting to access the web page: http://books.toscrape.com/catalogue/page-50.html\n",
      "Successfully accessed the web page: http://books.toscrape.com/catalogue/page-50.html\n"
     ]
    }
   ],
   "source": [
    "current_page = 1\n",
    "max_pages = 999\n",
    "done = False\n",
    "\n",
    "while (current_page <= max_pages) and (not done):\n",
    "    # Adding random wait time so we do not hammer the website needlessly\n",
    "    waitTime = randint(2,4)\n",
    "    print(\"Waiting\", waitTime, \"seconds to retrieve the items on page\", web_page_url)\n",
    "    sleep(waitTime)\n",
    "    print('Attempting to access the web page:', web_page_url)\n",
    "    try:\n",
    "        home_page_browser.get(web_page_url)\n",
    "        print('Successfully accessed the web page:', web_page_url)\n",
    "    except:\n",
    "        print('The server could not serve up the web page!')\n",
    "        sys.exit('Script processing cannot continue!!!')\n",
    "\n",
    "    book_section = home_page_browser.find_element(By.TAG_NAME, \"ol\")\n",
    "    book_listing = book_section.find_elements(By.TAG_NAME, \"li\")\n",
    "    if verbose: print(book_listing)\n",
    "\n",
    "    for book_item in book_listing:\n",
    "        image_container = book_item.find_element(By.CLASS_NAME, \"image_container\")\n",
    "        detail_url = image_container.find_element(By.TAG_NAME, \"a\").get_attribute(\"href\")\n",
    "        image_url = image_container.find_element(By.TAG_NAME, \"img\").get_attribute(\"src\")\n",
    "        book_title = book_item.find_element(By.TAG_NAME, \"h3\").find_element(By.TAG_NAME, \"a\").get_attribute(\"title\")\n",
    "        book_price = book_item.find_element(By.CLASS_NAME, \"price_color\").text\n",
    "        inventory_status = book_item.find_element(By.CLASS_NAME, \"availability\").text\n",
    "        df.loc[num_entries] = [book_title, detail_url, image_url, book_price, inventory_status]\n",
    "        num_entries = num_entries + 1\n",
    "\n",
    "    try:\n",
    "        next_button_element = home_page_browser.find_element(By.CLASS_NAME, \"next\")\n",
    "        current_page = current_page + 1\n",
    "        web_page_url = next_button_element.find_element(By.TAG_NAME, \"a\").get_attribute(\"href\")\n",
    "    except:\n",
    "        done = True"
   ]
  },
  {
   "cell_type": "code",
   "execution_count": 10,
   "metadata": {},
   "outputs": [],
   "source": [
    "home_page_browser.quit()"
   ]
  },
  {
   "cell_type": "code",
   "execution_count": 11,
   "metadata": {
    "collapsed": false,
    "jupyter": {
     "outputs_hidden": false
    },
    "pycharm": {
     "name": "#%%\n"
    }
   },
   "outputs": [],
   "source": [
    "if (notifyStatus): status_notify(\"Task 2 Perform the Scraping and Processing completed! \"+datetime.now().strftime('%a %B %d, %Y %I:%M:%S %p'))"
   ]
  },
  {
   "cell_type": "markdown",
   "metadata": {},
   "source": [
    "## Task 3. Finalize the Output"
   ]
  },
  {
   "cell_type": "code",
   "execution_count": 12,
   "metadata": {
    "collapsed": false,
    "jupyter": {
     "outputs_hidden": false
    },
    "pycharm": {
     "name": "#%%\n"
    }
   },
   "outputs": [],
   "source": [
    "if (notifyStatus): status_notify(\"Task 3 Finalize the Output has begun! \"+datetime.now().strftime('%a %B %d, %Y %I:%M:%S %p'))"
   ]
  },
  {
   "cell_type": "code",
   "execution_count": 13,
   "metadata": {},
   "outputs": [
    {
     "data": {
      "text/html": [
       "<div>\n",
       "<style scoped>\n",
       "    .dataframe tbody tr th:only-of-type {\n",
       "        vertical-align: middle;\n",
       "    }\n",
       "\n",
       "    .dataframe tbody tr th {\n",
       "        vertical-align: top;\n",
       "    }\n",
       "\n",
       "    .dataframe thead th {\n",
       "        text-align: right;\n",
       "    }\n",
       "</style>\n",
       "<table border=\"1\" class=\"dataframe\">\n",
       "  <thead>\n",
       "    <tr style=\"text-align: right;\">\n",
       "      <th></th>\n",
       "      <th>book_title</th>\n",
       "      <th>detail_url</th>\n",
       "      <th>image_url</th>\n",
       "      <th>book_price</th>\n",
       "      <th>inventory_status</th>\n",
       "    </tr>\n",
       "  </thead>\n",
       "  <tbody>\n",
       "    <tr>\n",
       "      <th>0</th>\n",
       "      <td>A Light in the Attic</td>\n",
       "      <td>http://books.toscrape.com/catalogue/a-light-in...</td>\n",
       "      <td>http://books.toscrape.com/media/cache/2c/da/2c...</td>\n",
       "      <td>£51.77</td>\n",
       "      <td>In stock</td>\n",
       "    </tr>\n",
       "    <tr>\n",
       "      <th>1</th>\n",
       "      <td>Tipping the Velvet</td>\n",
       "      <td>http://books.toscrape.com/catalogue/tipping-th...</td>\n",
       "      <td>http://books.toscrape.com/media/cache/26/0c/26...</td>\n",
       "      <td>£53.74</td>\n",
       "      <td>In stock</td>\n",
       "    </tr>\n",
       "    <tr>\n",
       "      <th>2</th>\n",
       "      <td>Soumission</td>\n",
       "      <td>http://books.toscrape.com/catalogue/soumission...</td>\n",
       "      <td>http://books.toscrape.com/media/cache/3e/ef/3e...</td>\n",
       "      <td>£50.10</td>\n",
       "      <td>In stock</td>\n",
       "    </tr>\n",
       "    <tr>\n",
       "      <th>3</th>\n",
       "      <td>Sharp Objects</td>\n",
       "      <td>http://books.toscrape.com/catalogue/sharp-obje...</td>\n",
       "      <td>http://books.toscrape.com/media/cache/32/51/32...</td>\n",
       "      <td>£47.82</td>\n",
       "      <td>In stock</td>\n",
       "    </tr>\n",
       "    <tr>\n",
       "      <th>4</th>\n",
       "      <td>Sapiens: A Brief History of Humankind</td>\n",
       "      <td>http://books.toscrape.com/catalogue/sapiens-a-...</td>\n",
       "      <td>http://books.toscrape.com/media/cache/be/a5/be...</td>\n",
       "      <td>£54.23</td>\n",
       "      <td>In stock</td>\n",
       "    </tr>\n",
       "  </tbody>\n",
       "</table>\n",
       "</div>"
      ],
      "text/plain": [
       "                              book_title  \\\n",
       "0                   A Light in the Attic   \n",
       "1                     Tipping the Velvet   \n",
       "2                             Soumission   \n",
       "3                          Sharp Objects   \n",
       "4  Sapiens: A Brief History of Humankind   \n",
       "\n",
       "                                          detail_url  \\\n",
       "0  http://books.toscrape.com/catalogue/a-light-in...   \n",
       "1  http://books.toscrape.com/catalogue/tipping-th...   \n",
       "2  http://books.toscrape.com/catalogue/soumission...   \n",
       "3  http://books.toscrape.com/catalogue/sharp-obje...   \n",
       "4  http://books.toscrape.com/catalogue/sapiens-a-...   \n",
       "\n",
       "                                           image_url book_price  \\\n",
       "0  http://books.toscrape.com/media/cache/2c/da/2c...     £51.77   \n",
       "1  http://books.toscrape.com/media/cache/26/0c/26...     £53.74   \n",
       "2  http://books.toscrape.com/media/cache/3e/ef/3e...     £50.10   \n",
       "3  http://books.toscrape.com/media/cache/32/51/32...     £47.82   \n",
       "4  http://books.toscrape.com/media/cache/be/a5/be...     £54.23   \n",
       "\n",
       "  inventory_status  \n",
       "0         In stock  \n",
       "1         In stock  \n",
       "2         In stock  \n",
       "3         In stock  \n",
       "4         In stock  "
      ]
     },
     "execution_count": 13,
     "metadata": {},
     "output_type": "execute_result"
    }
   ],
   "source": [
    "# Spot-checking the dataframe before writing to file\n",
    "df.head()"
   ]
  },
  {
   "cell_type": "code",
   "execution_count": 14,
   "metadata": {},
   "outputs": [
    {
     "data": {
      "text/html": [
       "<div>\n",
       "<style scoped>\n",
       "    .dataframe tbody tr th:only-of-type {\n",
       "        vertical-align: middle;\n",
       "    }\n",
       "\n",
       "    .dataframe tbody tr th {\n",
       "        vertical-align: top;\n",
       "    }\n",
       "\n",
       "    .dataframe thead th {\n",
       "        text-align: right;\n",
       "    }\n",
       "</style>\n",
       "<table border=\"1\" class=\"dataframe\">\n",
       "  <thead>\n",
       "    <tr style=\"text-align: right;\">\n",
       "      <th></th>\n",
       "      <th>book_title</th>\n",
       "      <th>detail_url</th>\n",
       "      <th>image_url</th>\n",
       "      <th>book_price</th>\n",
       "      <th>inventory_status</th>\n",
       "    </tr>\n",
       "  </thead>\n",
       "  <tbody>\n",
       "    <tr>\n",
       "      <th>995</th>\n",
       "      <td>Alice in Wonderland (Alice's Adventures in Won...</td>\n",
       "      <td>http://books.toscrape.com/catalogue/alice-in-w...</td>\n",
       "      <td>http://books.toscrape.com/media/cache/96/ee/96...</td>\n",
       "      <td>£55.53</td>\n",
       "      <td>In stock</td>\n",
       "    </tr>\n",
       "    <tr>\n",
       "      <th>996</th>\n",
       "      <td>Ajin: Demi-Human, Volume 1 (Ajin: Demi-Human #1)</td>\n",
       "      <td>http://books.toscrape.com/catalogue/ajin-demi-...</td>\n",
       "      <td>http://books.toscrape.com/media/cache/09/7c/09...</td>\n",
       "      <td>£57.06</td>\n",
       "      <td>In stock</td>\n",
       "    </tr>\n",
       "    <tr>\n",
       "      <th>997</th>\n",
       "      <td>A Spy's Devotion (The Regency Spies of London #1)</td>\n",
       "      <td>http://books.toscrape.com/catalogue/a-spys-dev...</td>\n",
       "      <td>http://books.toscrape.com/media/cache/1b/5f/1b...</td>\n",
       "      <td>£16.97</td>\n",
       "      <td>In stock</td>\n",
       "    </tr>\n",
       "    <tr>\n",
       "      <th>998</th>\n",
       "      <td>1st to Die (Women's Murder Club #1)</td>\n",
       "      <td>http://books.toscrape.com/catalogue/1st-to-die...</td>\n",
       "      <td>http://books.toscrape.com/media/cache/2b/41/2b...</td>\n",
       "      <td>£53.98</td>\n",
       "      <td>In stock</td>\n",
       "    </tr>\n",
       "    <tr>\n",
       "      <th>999</th>\n",
       "      <td>1,000 Places to See Before You Die</td>\n",
       "      <td>http://books.toscrape.com/catalogue/1000-place...</td>\n",
       "      <td>http://books.toscrape.com/media/cache/d7/0f/d7...</td>\n",
       "      <td>£26.08</td>\n",
       "      <td>In stock</td>\n",
       "    </tr>\n",
       "  </tbody>\n",
       "</table>\n",
       "</div>"
      ],
      "text/plain": [
       "                                            book_title  \\\n",
       "995  Alice in Wonderland (Alice's Adventures in Won...   \n",
       "996   Ajin: Demi-Human, Volume 1 (Ajin: Demi-Human #1)   \n",
       "997  A Spy's Devotion (The Regency Spies of London #1)   \n",
       "998                1st to Die (Women's Murder Club #1)   \n",
       "999                 1,000 Places to See Before You Die   \n",
       "\n",
       "                                            detail_url  \\\n",
       "995  http://books.toscrape.com/catalogue/alice-in-w...   \n",
       "996  http://books.toscrape.com/catalogue/ajin-demi-...   \n",
       "997  http://books.toscrape.com/catalogue/a-spys-dev...   \n",
       "998  http://books.toscrape.com/catalogue/1st-to-die...   \n",
       "999  http://books.toscrape.com/catalogue/1000-place...   \n",
       "\n",
       "                                             image_url book_price  \\\n",
       "995  http://books.toscrape.com/media/cache/96/ee/96...     £55.53   \n",
       "996  http://books.toscrape.com/media/cache/09/7c/09...     £57.06   \n",
       "997  http://books.toscrape.com/media/cache/1b/5f/1b...     £16.97   \n",
       "998  http://books.toscrape.com/media/cache/2b/41/2b...     £53.98   \n",
       "999  http://books.toscrape.com/media/cache/d7/0f/d7...     £26.08   \n",
       "\n",
       "    inventory_status  \n",
       "995         In stock  \n",
       "996         In stock  \n",
       "997         In stock  \n",
       "998         In stock  \n",
       "999         In stock  "
      ]
     },
     "execution_count": 14,
     "metadata": {},
     "output_type": "execute_result"
    }
   ],
   "source": [
    "# Spot-checking the dataframe before writing to file\n",
    "df.tail()"
   ]
  },
  {
   "cell_type": "code",
   "execution_count": 15,
   "metadata": {},
   "outputs": [
    {
     "name": "stdout",
     "output_type": "stream",
     "text": [
      "Number of records written to file: 1000\n"
     ]
    }
   ],
   "source": [
    "if (writeOutput):\n",
    "    out_file = df.to_csv(index=False)\n",
    "    with open('web_scraping_py_selenium_books_to_scrape_take1.csv', 'w', newline = '\\n', encoding = \"utf-8\") as f:\n",
    "        f.write(out_file)\n",
    "    print(\"Number of records written to file:\", len(df))"
   ]
  },
  {
   "cell_type": "code",
   "execution_count": 16,
   "metadata": {},
   "outputs": [],
   "source": [
    "if (notifyStatus): status_notify(\"Task 3 Finalize the Output completed! \"+datetime.now().strftime('%a %B %d, %Y %I:%M:%S %p'))"
   ]
  },
  {
   "cell_type": "code",
   "execution_count": 17,
   "metadata": {},
   "outputs": [
    {
     "name": "stdout",
     "output_type": "stream",
     "text": [
      "Total time for the script: 0:06:40.215070\n"
     ]
    }
   ],
   "source": [
    "print ('Total time for the script:',(datetime.now() - startTimeScript))"
   ]
  }
 ],
 "metadata": {
  "kernelspec": {
   "display_name": "Python 3",
   "language": "python",
   "name": "python3"
  },
  "language_info": {
   "codemirror_mode": {
    "name": "ipython",
    "version": 3
   },
   "file_extension": ".py",
   "mimetype": "text/x-python",
   "name": "python",
   "nbconvert_exporter": "python",
   "pygments_lexer": "ipython3",
   "version": "3.6.9"
  }
 },
 "nbformat": 4,
 "nbformat_minor": 4
}
