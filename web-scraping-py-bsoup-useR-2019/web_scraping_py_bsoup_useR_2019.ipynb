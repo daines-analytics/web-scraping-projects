{
  "nbformat": 4,
  "nbformat_minor": 0,
  "metadata": {
    "colab": {
      "name": "web-scraping-py-bsoup-useR-2019.ipynb",
      "version": "0.3.2",
      "provenance": [],
      "collapsed_sections": []
    },
    "language_info": {
      "codemirror_mode": {
        "name": "ipython",
        "version": 3
      },
      "file_extension": ".py",
      "mimetype": "text/x-python",
      "name": "python",
      "nbconvert_exporter": "python",
      "pygments_lexer": "ipython3",
      "version": "3.7.1"
    },
    "kernelspec": {
      "display_name": "Python 3",
      "language": "python",
      "name": "python3"
    }
  },
  "cells": [
    {
      "cell_type": "markdown",
      "metadata": {
        "id": "l4mr2mbWYoOa",
        "colab_type": "text"
      },
      "source": [
        "# Web Scraping of useR! 2019 Conference\n",
        "### David Lowe\n",
        "### July 28, 2019\n",
        "\n",
        "SUMMARY: The purpose of this project is to practice web scraping by extracting specific pieces of information from a website. The web scraping Python code leverages the BeautifulSoup module.\n",
        "\n",
        "INTRODUCTION: On occasions we have a need to download a batch of documents off a single web page without clicking on the download link one at a time. This web scraping script will automatically traverse through the entire web page and collect all links to the PDF and PPTX documents. The script will also download the documents as part of the scraping process. The Python script ran in the Google Colaboratory environment and can be adapted to run in any Python environment without the Colab-specific configuration.\n",
        "\n",
        "Starting URLs: https://user2019.r-project.org/talk_schedule/"
      ]
    },
    {
      "cell_type": "markdown",
      "metadata": {
        "id": "kyLL5BLJYoOc",
        "colab_type": "text"
      },
      "source": [
        "## Loading Libraries and Packages"
      ]
    },
    {
      "cell_type": "code",
      "metadata": {
        "id": "wELc-r0BaiDC",
        "colab_type": "code",
        "outputId": "8b425b18-33ba-4a2a-ef72-82e625b579e9",
        "colab": {
          "base_uri": "https://localhost:8080/",
          "height": 374
        }
      },
      "source": [
        "# Refresh package repositories and set up additional Linux and Python packages\n",
        "!apt-get update\n",
        "!apt install chromium-chromedriver\n",
        "!pip install -q pymysql selenium"
      ],
      "execution_count": 1,
      "outputs": [
        {
          "output_type": "stream",
          "text": [
            "\r0% [Working]\r            \rHit:1 http://archive.ubuntu.com/ubuntu bionic InRelease\n",
            "\r0% [Waiting for headers] [Waiting for headers] [Waiting for headers] [Waiting f\r                                                                               \rGet:2 http://security.ubuntu.com/ubuntu bionic-security InRelease [88.7 kB]\n",
            "\r                                                                               \rHit:3 https://cloud.r-project.org/bin/linux/ubuntu bionic-cran35/ InRelease\n",
            "Hit:4 http://ppa.launchpad.net/graphics-drivers/ppa/ubuntu bionic InRelease\n",
            "Get:5 http://archive.ubuntu.com/ubuntu bionic-updates InRelease [88.7 kB]\n",
            "Hit:6 http://ppa.launchpad.net/marutter/c2d4u3.5/ubuntu bionic InRelease\n",
            "Ign:7 https://developer.download.nvidia.com/compute/cuda/repos/ubuntu1804/x86_64  InRelease\n",
            "Get:8 http://archive.ubuntu.com/ubuntu bionic-backports InRelease [74.6 kB]\n",
            "Ign:9 https://developer.download.nvidia.com/compute/machine-learning/repos/ubuntu1804/x86_64  InRelease\n",
            "Hit:10 https://developer.download.nvidia.com/compute/cuda/repos/ubuntu1804/x86_64  Release\n",
            "Hit:11 https://developer.download.nvidia.com/compute/machine-learning/repos/ubuntu1804/x86_64  Release\n",
            "Fetched 252 kB in 4s (71.2 kB/s)\n",
            "Reading package lists... Done\n",
            "Reading package lists... Done\n",
            "Building dependency tree       \n",
            "Reading state information... Done\n",
            "chromium-chromedriver is already the newest version (75.0.3770.90-0ubuntu0.18.04.1).\n",
            "The following package was automatically installed and is no longer required:\n",
            "  libnvidia-common-410\n",
            "Use 'apt autoremove' to remove it.\n",
            "0 upgraded, 0 newly installed, 0 to remove and 46 not upgraded.\n"
          ],
          "name": "stdout"
        }
      ]
    },
    {
      "cell_type": "code",
      "metadata": {
        "id": "9tGlgDPeYoOd",
        "colab_type": "code",
        "colab": {}
      },
      "source": [
        "import numpy as np\n",
        "import pandas as pd\n",
        "import os\n",
        "import shutil\n",
        "import smtplib\n",
        "import sys\n",
        "from email.message import EmailMessage\n",
        "from datetime import datetime\n",
        "import requests\n",
        "from requests.exceptions import HTTPError\n",
        "from requests.exceptions import ConnectionError\n",
        "from bs4 import BeautifulSoup\n",
        "from random import randint\n",
        "from time import sleep\n",
        "from selenium import webdriver\n",
        "import pymysql\n",
        "\n",
        "startTimeScript = datetime.now()"
      ],
      "execution_count": 0,
      "outputs": []
    },
    {
      "cell_type": "markdown",
      "metadata": {
        "id": "PxJqydfiYoOg",
        "colab_type": "text"
      },
      "source": [
        "## Setting up the basic functions"
      ]
    },
    {
      "cell_type": "code",
      "metadata": {
        "id": "Fnlwzz-PYoOh",
        "colab_type": "code",
        "colab": {}
      },
      "source": [
        "def email_notify(msg_text):\n",
        "    sender = os.environ.get('MAIL_SENDER')\n",
        "    receiver = os.environ.get('MAIL_RECEIVER')\n",
        "    gateway = os.environ.get('SMTP_GATEWAY')\n",
        "    smtpuser = os.environ.get('SMTP_USERNAME')\n",
        "    password = os.environ.get('SMTP_PASSWORD')\n",
        "    if sender==None or receiver==None or gateway==None or smtpuser==None or password==None:\n",
        "        sys.exit(\"Incomplete email setup info. Script Processing Aborted!!!\")\n",
        "    msg = EmailMessage()\n",
        "    msg.set_content(msg_text)\n",
        "    msg['Subject'] = 'Notification from Python Web Scraping Script'\n",
        "    msg['From'] = sender\n",
        "    msg['To'] = receiver\n",
        "    server = smtplib.SMTP(gateway, 587)\n",
        "    server.starttls()\n",
        "    server.login(smtpuser, password)\n",
        "    server.send_message(msg)\n",
        "    server.quit()"
      ],
      "execution_count": 0,
      "outputs": []
    },
    {
      "cell_type": "code",
      "metadata": {
        "id": "Kk6cDbhzqgsK",
        "colab_type": "code",
        "colab": {}
      },
      "source": [
        "def download_file(doc_path):\n",
        "#    local_file = os.path.basename(doc_path)\n",
        "    local_file = doc_path.split('/')[-1]\n",
        "    gdrivePrefix = '/content/gdrive/My Drive/Colab_Downloads/'\n",
        "    dest_file = gdrivePrefix + local_file\n",
        "    with requests.get(doc_path, stream=True) as r:\n",
        "        with open(dest_file, 'wb') as f:\n",
        "            shutil.copyfileobj(r.raw, f)\n",
        "    print('Downladed file: ' + dest_file)"
      ],
      "execution_count": 0,
      "outputs": []
    },
    {
      "cell_type": "markdown",
      "metadata": {
        "id": "zF4hTJ_jYoOn",
        "colab_type": "text"
      },
      "source": [
        "## Setting up the necessary parameters"
      ]
    },
    {
      "cell_type": "code",
      "metadata": {
        "id": "Xy-XtBEiZwdV",
        "colab_type": "code",
        "colab": {}
      },
      "source": [
        "# Set up the verbose flag to print detailed messages for debugging (setting True will activate!)\n",
        "verbose = False\n",
        "\n",
        "# Set up the sendNotification flag to send progress emails (setting True will send emails!)\n",
        "sendNotification = False\n",
        "\n",
        "# Set up the mountStorage flag to mount G Drive for storing files (setting True will mount the drive!)\n",
        "mountStorage = True\n",
        "\n",
        "# Set up the executeDownload flag to download files (setting True will download!)\n",
        "executeDownload = True"
      ],
      "execution_count": 0,
      "outputs": []
    },
    {
      "cell_type": "code",
      "metadata": {
        "id": "K2LZP6EpiqRL",
        "colab_type": "code",
        "outputId": "94b8ef06-9bf8-4f58-ac5e-2a4afeabac4b",
        "colab": {
          "base_uri": "https://localhost:8080/",
          "height": 122
        }
      },
      "source": [
        "# Mount Google Drive locally for storing files\n",
        "\n",
        "if (mountStorage):\n",
        "  from google.colab import drive\n",
        "  drive.mount('/content/gdrive')"
      ],
      "execution_count": 6,
      "outputs": [
        {
          "output_type": "stream",
          "text": [
            "Go to this URL in a browser: https://accounts.google.com/o/oauth2/auth?client_id=947318989803-6bn6qk8qdgf4n4g3pfee6491hc0brc4i.apps.googleusercontent.com&redirect_uri=urn%3Aietf%3Awg%3Aoauth%3A2.0%3Aoob&scope=email%20https%3A%2F%2Fwww.googleapis.com%2Fauth%2Fdocs.test%20https%3A%2F%2Fwww.googleapis.com%2Fauth%2Fdrive%20https%3A%2F%2Fwww.googleapis.com%2Fauth%2Fdrive.photos.readonly%20https%3A%2F%2Fwww.googleapis.com%2Fauth%2Fpeopleapi.readonly&response_type=code\n",
            "\n",
            "Enter your authorization code:\n",
            "··········\n",
            "Mounted at /content/gdrive\n"
          ],
          "name": "stdout"
        }
      ]
    },
    {
      "cell_type": "code",
      "metadata": {
        "id": "Ak_tp8PIabC8",
        "colab_type": "code",
        "colab": {}
      },
      "source": [
        "if (sendNotification): email_notify(\"The web scraping process has begun! \"+datetime.now().strftime('%a %B %d, %Y %I:%M:%S %p'))"
      ],
      "execution_count": 0,
      "outputs": []
    },
    {
      "cell_type": "code",
      "metadata": {
        "id": "ntjQrml7YoOo",
        "colab_type": "code",
        "colab": {}
      },
      "source": [
        "# Specifying the URL of desired web page to be scrapped\n",
        "startingURL = \"https://user2019.r-project.org/talk_schedule/\"\n",
        "websiteURL = \"https://user2019.r-project.org\"\n",
        "\n",
        "# Creating an html document from the URL\n",
        "uastring = \"Mozilla/5.0 (Windows NT 10.0; Win64; x64; rv:67.0) Gecko/20100101 Firefox/67.0\"\n",
        "headers={'User-Agent': uastring}"
      ],
      "execution_count": 0,
      "outputs": []
    },
    {
      "cell_type": "markdown",
      "metadata": {
        "id": "LWf3Y7c3YoOs",
        "colab_type": "text"
      },
      "source": [
        "## Performing the Scraping and Processing"
      ]
    },
    {
      "cell_type": "code",
      "metadata": {
        "id": "l0TO1zBrYoOt",
        "colab_type": "code",
        "colab": {}
      },
      "source": [
        "if (sendNotification): email_notify(\"The web page loading and item extraction process has begun! \"+datetime.now().strftime('%a %B %d, %Y %I:%M:%S %p'))"
      ],
      "execution_count": 0,
      "outputs": []
    },
    {
      "cell_type": "code",
      "metadata": {
        "id": "xX6dpqjie69M",
        "colab_type": "code",
        "outputId": "e378b95f-51cb-4938-b054-1d07dabf2680",
        "colab": {
          "base_uri": "https://localhost:8080/",
          "height": 34
        }
      },
      "source": [
        "try:\n",
        "    s = requests.Session()\n",
        "    resp = s.get(startingURL, headers=headers)\n",
        "    if (verbose): print(resp.text)\n",
        "except HTTPError as e:\n",
        "    print('The server could not serve up the web page!')\n",
        "    sys.exit(\"Script processing cannot continue!!!\")\n",
        "except ConnectionError as e:\n",
        "    print('The server could not be reached due to connection issues!')\n",
        "    sys.exit(\"Script processing cannot continue!!!\")\n",
        "\n",
        "if (resp.status_code==requests.codes.ok):\n",
        "    print('Successfully accessed the web page: ' + startingURL)\n",
        "    webPage = BeautifulSoup(resp.text, 'lxml')"
      ],
      "execution_count": 10,
      "outputs": [
        {
          "output_type": "stream",
          "text": [
            "Successfully accessed the web page: https://user2019.r-project.org/talk_schedule/\n"
          ],
          "name": "stdout"
        }
      ]
    },
    {
      "cell_type": "code",
      "metadata": {
        "id": "yk9gY0vwYoOv",
        "colab_type": "code",
        "outputId": "9665da4d-0076-47eb-819d-34c7eb16c1da",
        "colab": {
          "base_uri": "https://localhost:8080/",
          "height": 1000
        }
      },
      "source": [
        "# Gather all links to the document\n",
        "collection = webPage.select(\"td > a\")\n",
        "i = 0\n",
        "\n",
        "for item in collection:\n",
        "    if (verbose): print(item)\n",
        "    docPath = item['href']\n",
        "    if docPath.lower().endswith(\".pdf\") | docPath.lower().endswith(\".pptx\") | docPath.lower().endswith(\".zip\"):\n",
        "        i = i + 1\n",
        "        docPath = websiteURL + docPath\n",
        "        # Adding random wait time so we do not hammer the website needlessly\n",
        "        waitTime = randint(2,5)\n",
        "        print(\"Waiting \" + str(waitTime) + \" seconds to retrieve \" + docPath)\n",
        "        sleep(waitTime)\n",
        "        if (executeDownload): download_file(docPath)\n",
        "\n",
        "print('Finished finding all available documents on the web page!')"
      ],
      "execution_count": 11,
      "outputs": [
        {
          "output_type": "stream",
          "text": [
            "Waiting 2 seconds to retrieve https://user2019.r-project.org/static/pres/keynote_201907101000.pdf\n",
            "Downladed file: /content/gdrive/My Drive/Colab_Downloads/keynote_201907101000.pdf\n",
            "Waiting 5 seconds to retrieve https://user2019.r-project.org/static/pres/t256173.zip\n",
            "Downladed file: /content/gdrive/My Drive/Colab_Downloads/t256173.zip\n",
            "Waiting 3 seconds to retrieve https://user2019.r-project.org/static/pres/t257816.pdf\n",
            "Downladed file: /content/gdrive/My Drive/Colab_Downloads/t257816.pdf\n",
            "Waiting 5 seconds to retrieve https://user2019.r-project.org/static/pres/t258350.pdf\n",
            "Downladed file: /content/gdrive/My Drive/Colab_Downloads/t258350.pdf\n",
            "Waiting 3 seconds to retrieve https://user2019.r-project.org/static/pres/t257501.pdf\n",
            "Downladed file: /content/gdrive/My Drive/Colab_Downloads/t257501.pdf\n",
            "Waiting 5 seconds to retrieve https://user2019.r-project.org/static/pres/t244252.pptx\n",
            "Downladed file: /content/gdrive/My Drive/Colab_Downloads/t244252.pptx\n",
            "Waiting 4 seconds to retrieve https://user2019.r-project.org/static/pres/t257220.pdf\n",
            "Downladed file: /content/gdrive/My Drive/Colab_Downloads/t257220.pdf\n",
            "Waiting 2 seconds to retrieve https://user2019.r-project.org/static/pres/t254884.pdf\n",
            "Downladed file: /content/gdrive/My Drive/Colab_Downloads/t254884.pdf\n",
            "Waiting 5 seconds to retrieve https://user2019.r-project.org/static/pres/t256357.pdf\n",
            "Downladed file: /content/gdrive/My Drive/Colab_Downloads/t256357.pdf\n",
            "Waiting 2 seconds to retrieve https://user2019.r-project.org/static/pres/t257814.pdf\n",
            "Downladed file: /content/gdrive/My Drive/Colab_Downloads/t257814.pdf\n",
            "Waiting 2 seconds to retrieve https://user2019.r-project.org/static/pres/t255766.pdf\n",
            "Downladed file: /content/gdrive/My Drive/Colab_Downloads/t255766.pdf\n",
            "Waiting 4 seconds to retrieve https://user2019.r-project.org/static/pres/t257311.pdf\n",
            "Downladed file: /content/gdrive/My Drive/Colab_Downloads/t257311.pdf\n",
            "Waiting 2 seconds to retrieve https://user2019.r-project.org/static/pres/t258444.pdf\n",
            "Downladed file: /content/gdrive/My Drive/Colab_Downloads/t258444.pdf\n",
            "Waiting 2 seconds to retrieve https://user2019.r-project.org/static/pres/t258637.pptx\n",
            "Downladed file: /content/gdrive/My Drive/Colab_Downloads/t258637.pptx\n",
            "Waiting 2 seconds to retrieve https://user2019.r-project.org/static/pres/t257170.pdf\n",
            "Downladed file: /content/gdrive/My Drive/Colab_Downloads/t257170.pdf\n",
            "Waiting 4 seconds to retrieve https://user2019.r-project.org/static/pres/t256937.zip\n",
            "Downladed file: /content/gdrive/My Drive/Colab_Downloads/t256937.zip\n",
            "Waiting 5 seconds to retrieve https://user2019.r-project.org/static/pres/t258418.pdf\n",
            "Downladed file: /content/gdrive/My Drive/Colab_Downloads/t258418.pdf\n",
            "Waiting 4 seconds to retrieve https://user2019.r-project.org/static/pres/t258353.pdf\n",
            "Downladed file: /content/gdrive/My Drive/Colab_Downloads/t258353.pdf\n",
            "Waiting 3 seconds to retrieve https://user2019.r-project.org/static/pres/t278933.pdf\n",
            "Downladed file: /content/gdrive/My Drive/Colab_Downloads/t278933.pdf\n",
            "Waiting 3 seconds to retrieve https://user2019.r-project.org/static/pres/t257211.pdf\n",
            "Downladed file: /content/gdrive/My Drive/Colab_Downloads/t257211.pdf\n",
            "Waiting 2 seconds to retrieve https://user2019.r-project.org/static/pres/t251341.zip\n",
            "Downladed file: /content/gdrive/My Drive/Colab_Downloads/t251341.zip\n",
            "Waiting 3 seconds to retrieve https://user2019.r-project.org/static/pres/t258008.pdf\n",
            "Downladed file: /content/gdrive/My Drive/Colab_Downloads/t258008.pdf\n",
            "Waiting 3 seconds to retrieve https://user2019.r-project.org/static/pres/t257292.pdf\n",
            "Downladed file: /content/gdrive/My Drive/Colab_Downloads/t257292.pdf\n",
            "Waiting 2 seconds to retrieve https://user2019.r-project.org/static/pres/t257933.pdf\n",
            "Downladed file: /content/gdrive/My Drive/Colab_Downloads/t257933.pdf\n",
            "Waiting 3 seconds to retrieve https://user2019.r-project.org/static/pres/t256935.pdf\n",
            "Downladed file: /content/gdrive/My Drive/Colab_Downloads/t256935.pdf\n",
            "Waiting 4 seconds to retrieve https://user2019.r-project.org/static/pres/t255826.pdf\n",
            "Downladed file: /content/gdrive/My Drive/Colab_Downloads/t255826.pdf\n",
            "Waiting 5 seconds to retrieve https://user2019.r-project.org/static/pres/t251298.pdf\n",
            "Downladed file: /content/gdrive/My Drive/Colab_Downloads/t251298.pdf\n",
            "Waiting 2 seconds to retrieve https://user2019.r-project.org/static/pres/t258268.pdf\n",
            "Downladed file: /content/gdrive/My Drive/Colab_Downloads/t258268.pdf\n",
            "Waiting 2 seconds to retrieve https://user2019.r-project.org/static/pres/t257942.pdf\n",
            "Downladed file: /content/gdrive/My Drive/Colab_Downloads/t257942.pdf\n",
            "Waiting 4 seconds to retrieve https://user2019.r-project.org/static/pres/t247778.pptx\n",
            "Downladed file: /content/gdrive/My Drive/Colab_Downloads/t247778.pptx\n",
            "Waiting 2 seconds to retrieve https://user2019.r-project.org/static/pres/t247459.pptx\n",
            "Downladed file: /content/gdrive/My Drive/Colab_Downloads/t247459.pptx\n",
            "Waiting 2 seconds to retrieve https://user2019.r-project.org/static/pres/t255683.pdf\n",
            "Downladed file: /content/gdrive/My Drive/Colab_Downloads/t255683.pdf\n",
            "Waiting 4 seconds to retrieve https://user2019.r-project.org/static/pres/t255524.pdf\n",
            "Downladed file: /content/gdrive/My Drive/Colab_Downloads/t255524.pdf\n",
            "Waiting 4 seconds to retrieve https://user2019.r-project.org/static/pres/t256858.pptx\n",
            "Downladed file: /content/gdrive/My Drive/Colab_Downloads/t256858.pptx\n",
            "Waiting 4 seconds to retrieve https://user2019.r-project.org/static/pres/t246148.pdf\n",
            "Downladed file: /content/gdrive/My Drive/Colab_Downloads/t246148.pdf\n",
            "Waiting 3 seconds to retrieve https://user2019.r-project.org/static/pres/t256627.zip\n",
            "Downladed file: /content/gdrive/My Drive/Colab_Downloads/t256627.zip\n",
            "Waiting 3 seconds to retrieve https://user2019.r-project.org/static/pres/t258615.pdf\n",
            "Downladed file: /content/gdrive/My Drive/Colab_Downloads/t258615.pdf\n",
            "Waiting 4 seconds to retrieve https://user2019.r-project.org/static/pres/t251784.pdf\n",
            "Downladed file: /content/gdrive/My Drive/Colab_Downloads/t251784.pdf\n",
            "Waiting 4 seconds to retrieve https://user2019.r-project.org/static/pres/t256726.pdf\n",
            "Downladed file: /content/gdrive/My Drive/Colab_Downloads/t256726.pdf\n",
            "Waiting 4 seconds to retrieve https://user2019.r-project.org/static/pres/t256480.pdf\n",
            "Downladed file: /content/gdrive/My Drive/Colab_Downloads/t256480.pdf\n",
            "Waiting 2 seconds to retrieve https://user2019.r-project.org/static/pres/t257951.pptx\n",
            "Downladed file: /content/gdrive/My Drive/Colab_Downloads/t257951.pptx\n",
            "Waiting 4 seconds to retrieve https://user2019.r-project.org/static/pres/t257176.pdf\n",
            "Downladed file: /content/gdrive/My Drive/Colab_Downloads/t257176.pdf\n",
            "Waiting 2 seconds to retrieve https://user2019.r-project.org/static/pres/t258191.pdf\n",
            "Downladed file: /content/gdrive/My Drive/Colab_Downloads/t258191.pdf\n",
            "Waiting 4 seconds to retrieve https://user2019.r-project.org/static/pres/t258180.pdf\n",
            "Downladed file: /content/gdrive/My Drive/Colab_Downloads/t258180.pdf\n",
            "Waiting 4 seconds to retrieve https://user2019.r-project.org/static/pres/t257847.pdf\n",
            "Downladed file: /content/gdrive/My Drive/Colab_Downloads/t257847.pdf\n",
            "Waiting 4 seconds to retrieve https://user2019.r-project.org/static/pres/t256933.zip\n",
            "Downladed file: /content/gdrive/My Drive/Colab_Downloads/t256933.zip\n",
            "Waiting 5 seconds to retrieve https://user2019.r-project.org/static/pres/keynote_201907101600.pdf\n",
            "Downladed file: /content/gdrive/My Drive/Colab_Downloads/keynote_201907101600.pdf\n",
            "Waiting 2 seconds to retrieve https://user2019.r-project.org/static/pres/keynote_201907110915.zip\n",
            "Downladed file: /content/gdrive/My Drive/Colab_Downloads/keynote_201907110915.zip\n",
            "Waiting 4 seconds to retrieve https://user2019.r-project.org/static/pres/lt258553.pdf\n",
            "Downladed file: /content/gdrive/My Drive/Colab_Downloads/lt258553.pdf\n",
            "Waiting 2 seconds to retrieve https://user2019.r-project.org/static/pres/lt257989.pdf\n",
            "Downladed file: /content/gdrive/My Drive/Colab_Downloads/lt257989.pdf\n",
            "Waiting 2 seconds to retrieve https://user2019.r-project.org/static/pres/lt256082.pdf\n",
            "Downladed file: /content/gdrive/My Drive/Colab_Downloads/lt256082.pdf\n",
            "Waiting 5 seconds to retrieve https://user2019.r-project.org/static/pres/lt258357.pdf\n",
            "Downladed file: /content/gdrive/My Drive/Colab_Downloads/lt258357.pdf\n",
            "Waiting 2 seconds to retrieve https://user2019.r-project.org/static/pres/lt257773.pdf\n",
            "Downladed file: /content/gdrive/My Drive/Colab_Downloads/lt257773.pdf\n",
            "Waiting 2 seconds to retrieve https://user2019.r-project.org/static/pres/lt257138.pdf\n",
            "Downladed file: /content/gdrive/My Drive/Colab_Downloads/lt257138.pdf\n",
            "Waiting 2 seconds to retrieve https://user2019.r-project.org/static/pres/lt257430.pdf\n",
            "Downladed file: /content/gdrive/My Drive/Colab_Downloads/lt257430.pdf\n",
            "Waiting 2 seconds to retrieve https://user2019.r-project.org/static/pres/lt255084.pdf\n",
            "Downladed file: /content/gdrive/My Drive/Colab_Downloads/lt255084.pdf\n",
            "Waiting 2 seconds to retrieve https://user2019.r-project.org/static/pres/lt257876.pdf\n",
            "Downladed file: /content/gdrive/My Drive/Colab_Downloads/lt257876.pdf\n",
            "Waiting 5 seconds to retrieve https://user2019.r-project.org/static/pres/lt255851.pdf\n",
            "Downladed file: /content/gdrive/My Drive/Colab_Downloads/lt255851.pdf\n",
            "Waiting 3 seconds to retrieve https://user2019.r-project.org/static/pres/lt242481.pdf\n",
            "Downladed file: /content/gdrive/My Drive/Colab_Downloads/lt242481.pdf\n",
            "Waiting 5 seconds to retrieve https://user2019.r-project.org/static/pres/lt258109.pdf\n",
            "Downladed file: /content/gdrive/My Drive/Colab_Downloads/lt258109.pdf\n",
            "Waiting 5 seconds to retrieve https://user2019.r-project.org/static/pres/lt258032.pdf\n",
            "Downladed file: /content/gdrive/My Drive/Colab_Downloads/lt258032.pdf\n",
            "Waiting 3 seconds to retrieve https://user2019.r-project.org/static/pres/lt246027.pdf\n",
            "Downladed file: /content/gdrive/My Drive/Colab_Downloads/lt246027.pdf\n",
            "Waiting 5 seconds to retrieve https://user2019.r-project.org/static/pres/lt257895.pdf\n",
            "Downladed file: /content/gdrive/My Drive/Colab_Downloads/lt257895.pdf\n",
            "Waiting 3 seconds to retrieve https://user2019.r-project.org/static/pres/lt258195.pdf\n",
            "Downladed file: /content/gdrive/My Drive/Colab_Downloads/lt258195.pdf\n",
            "Waiting 2 seconds to retrieve https://user2019.r-project.org/static/pres/lt258004.pdf\n",
            "Downladed file: /content/gdrive/My Drive/Colab_Downloads/lt258004.pdf\n",
            "Waiting 3 seconds to retrieve https://user2019.r-project.org/static/pres/lt258653.pdf\n",
            "Downladed file: /content/gdrive/My Drive/Colab_Downloads/lt258653.pdf\n",
            "Waiting 3 seconds to retrieve https://user2019.r-project.org/static/pres/lt256270.pdf\n",
            "Downladed file: /content/gdrive/My Drive/Colab_Downloads/lt256270.pdf\n",
            "Waiting 3 seconds to retrieve https://user2019.r-project.org/static/pres/lt258178.pdf\n",
            "Downladed file: /content/gdrive/My Drive/Colab_Downloads/lt258178.pdf\n",
            "Waiting 5 seconds to retrieve https://user2019.r-project.org/static/pres/lt252151.pdf\n",
            "Downladed file: /content/gdrive/My Drive/Colab_Downloads/lt252151.pdf\n",
            "Waiting 3 seconds to retrieve https://user2019.r-project.org/static/pres/lt257919.pdf\n",
            "Downladed file: /content/gdrive/My Drive/Colab_Downloads/lt257919.pdf\n",
            "Waiting 4 seconds to retrieve https://user2019.r-project.org/static/pres/lt257581.pdf\n",
            "Downladed file: /content/gdrive/My Drive/Colab_Downloads/lt257581.pdf\n",
            "Waiting 4 seconds to retrieve https://user2019.r-project.org/static/pres/lt258405.pdf\n",
            "Downladed file: /content/gdrive/My Drive/Colab_Downloads/lt258405.pdf\n",
            "Waiting 3 seconds to retrieve https://user2019.r-project.org/static/pres/lt256856.pdf\n",
            "Downladed file: /content/gdrive/My Drive/Colab_Downloads/lt256856.pdf\n",
            "Waiting 3 seconds to retrieve https://user2019.r-project.org/static/pres/lt257977.pdf\n",
            "Downladed file: /content/gdrive/My Drive/Colab_Downloads/lt257977.pdf\n",
            "Waiting 5 seconds to retrieve https://user2019.r-project.org/static/pres/lt257065.pdf\n",
            "Downladed file: /content/gdrive/My Drive/Colab_Downloads/lt257065.pdf\n",
            "Waiting 5 seconds to retrieve https://user2019.r-project.org/static/pres/lt257358.pdf\n",
            "Downladed file: /content/gdrive/My Drive/Colab_Downloads/lt257358.pdf\n",
            "Waiting 3 seconds to retrieve https://user2019.r-project.org/static/pres/lt257171.pdf\n",
            "Downladed file: /content/gdrive/My Drive/Colab_Downloads/lt257171.pdf\n",
            "Waiting 4 seconds to retrieve https://user2019.r-project.org/static/pres/lt258234.pdf\n",
            "Downladed file: /content/gdrive/My Drive/Colab_Downloads/lt258234.pdf\n",
            "Waiting 3 seconds to retrieve https://user2019.r-project.org/static/pres/lt254429.pdf\n",
            "Downladed file: /content/gdrive/My Drive/Colab_Downloads/lt254429.pdf\n",
            "Waiting 2 seconds to retrieve https://user2019.r-project.org/static/pres/lt254997.pdf\n",
            "Downladed file: /content/gdrive/My Drive/Colab_Downloads/lt254997.pdf\n",
            "Waiting 3 seconds to retrieve https://user2019.r-project.org/static/pres/t258053.pdf\n",
            "Downladed file: /content/gdrive/My Drive/Colab_Downloads/t258053.pdf\n",
            "Waiting 2 seconds to retrieve https://user2019.r-project.org/static/pres/t258076.pdf\n",
            "Downladed file: /content/gdrive/My Drive/Colab_Downloads/t258076.pdf\n",
            "Waiting 5 seconds to retrieve https://user2019.r-project.org/static/pres/t258139.pdf\n",
            "Downladed file: /content/gdrive/My Drive/Colab_Downloads/t258139.pdf\n",
            "Waiting 5 seconds to retrieve https://user2019.r-project.org/static/pres/t255812.pdf\n",
            "Downladed file: /content/gdrive/My Drive/Colab_Downloads/t255812.pdf\n",
            "Waiting 4 seconds to retrieve https://user2019.r-project.org/static/pres/t257651.zip\n",
            "Downladed file: /content/gdrive/My Drive/Colab_Downloads/t257651.zip\n",
            "Waiting 2 seconds to retrieve https://user2019.r-project.org/static/pres/t257103.pdf\n",
            "Downladed file: /content/gdrive/My Drive/Colab_Downloads/t257103.pdf\n",
            "Waiting 4 seconds to retrieve https://user2019.r-project.org/static/pres/t256970.pdf\n",
            "Downladed file: /content/gdrive/My Drive/Colab_Downloads/t256970.pdf\n",
            "Waiting 2 seconds to retrieve https://user2019.r-project.org/static/pres/t257134.pdf\n",
            "Downladed file: /content/gdrive/My Drive/Colab_Downloads/t257134.pdf\n",
            "Waiting 2 seconds to retrieve https://user2019.r-project.org/static/pres/t256021.pdf\n",
            "Downladed file: /content/gdrive/My Drive/Colab_Downloads/t256021.pdf\n",
            "Waiting 3 seconds to retrieve https://user2019.r-project.org/static/pres/t255540.pdf\n",
            "Downladed file: /content/gdrive/My Drive/Colab_Downloads/t255540.pdf\n",
            "Waiting 5 seconds to retrieve https://user2019.r-project.org/static/pres/t257340.pdf\n",
            "Downladed file: /content/gdrive/My Drive/Colab_Downloads/t257340.pdf\n",
            "Waiting 4 seconds to retrieve https://user2019.r-project.org/static/pres/t257985.pdf\n",
            "Downladed file: /content/gdrive/My Drive/Colab_Downloads/t257985.pdf\n",
            "Waiting 3 seconds to retrieve https://user2019.r-project.org/static/pres/t257965.pdf\n",
            "Downladed file: /content/gdrive/My Drive/Colab_Downloads/t257965.pdf\n",
            "Waiting 3 seconds to retrieve https://user2019.r-project.org/static/pres/t257053.pdf\n",
            "Downladed file: /content/gdrive/My Drive/Colab_Downloads/t257053.pdf\n",
            "Waiting 3 seconds to retrieve https://user2019.r-project.org/static/pres/t257022.pdf\n",
            "Downladed file: /content/gdrive/My Drive/Colab_Downloads/t257022.pdf\n",
            "Waiting 5 seconds to retrieve https://user2019.r-project.org/static/pres/t248957.pdf\n",
            "Downladed file: /content/gdrive/My Drive/Colab_Downloads/t248957.pdf\n",
            "Waiting 3 seconds to retrieve https://user2019.r-project.org/static/pres/t252555.pdf\n",
            "Downladed file: /content/gdrive/My Drive/Colab_Downloads/t252555.pdf\n",
            "Waiting 3 seconds to retrieve https://user2019.r-project.org/static/pres/t257235.pdf\n",
            "Downladed file: /content/gdrive/My Drive/Colab_Downloads/t257235.pdf\n",
            "Waiting 3 seconds to retrieve https://user2019.r-project.org/static/pres/t252740.zip\n",
            "Downladed file: /content/gdrive/My Drive/Colab_Downloads/t252740.zip\n",
            "Waiting 3 seconds to retrieve https://user2019.r-project.org/static/pres/t252740.zip\n",
            "Downladed file: /content/gdrive/My Drive/Colab_Downloads/t252740.zip\n",
            "Waiting 5 seconds to retrieve https://user2019.r-project.org/static/pres/t255364.pdf\n",
            "Downladed file: /content/gdrive/My Drive/Colab_Downloads/t255364.pdf\n",
            "Waiting 4 seconds to retrieve https://user2019.r-project.org/static/pres/t257294.pdf\n",
            "Downladed file: /content/gdrive/My Drive/Colab_Downloads/t257294.pdf\n",
            "Waiting 2 seconds to retrieve https://user2019.r-project.org/static/pres/t258227.pdf\n",
            "Downladed file: /content/gdrive/My Drive/Colab_Downloads/t258227.pdf\n",
            "Waiting 2 seconds to retrieve https://user2019.r-project.org/static/pres/t258135.pdf\n",
            "Downladed file: /content/gdrive/My Drive/Colab_Downloads/t258135.pdf\n",
            "Waiting 5 seconds to retrieve https://user2019.r-project.org/static/pres/t258194.pdf\n",
            "Downladed file: /content/gdrive/My Drive/Colab_Downloads/t258194.pdf\n",
            "Waiting 4 seconds to retrieve https://user2019.r-project.org/static/pres/t258462.zip\n",
            "Downladed file: /content/gdrive/My Drive/Colab_Downloads/t258462.zip\n",
            "Waiting 4 seconds to retrieve https://user2019.r-project.org/static/pres/t250411.pdf\n",
            "Downladed file: /content/gdrive/My Drive/Colab_Downloads/t250411.pdf\n",
            "Waiting 2 seconds to retrieve https://user2019.r-project.org/static/pres/t257437.zip\n",
            "Downladed file: /content/gdrive/My Drive/Colab_Downloads/t257437.zip\n",
            "Waiting 5 seconds to retrieve https://user2019.r-project.org/static/pres/t256727.pdf\n",
            "Downladed file: /content/gdrive/My Drive/Colab_Downloads/t256727.pdf\n",
            "Waiting 2 seconds to retrieve https://user2019.r-project.org/static/pres/t256924.pdf\n",
            "Downladed file: /content/gdrive/My Drive/Colab_Downloads/t256924.pdf\n",
            "Waiting 4 seconds to retrieve https://user2019.r-project.org/static/pres/t257974.pdf\n",
            "Downladed file: /content/gdrive/My Drive/Colab_Downloads/t257974.pdf\n",
            "Waiting 5 seconds to retrieve https://user2019.r-project.org/static/pres/t257850.pdf\n",
            "Downladed file: /content/gdrive/My Drive/Colab_Downloads/t257850.pdf\n",
            "Waiting 3 seconds to retrieve https://user2019.r-project.org/static/pres/t255775.pdf\n",
            "Downladed file: /content/gdrive/My Drive/Colab_Downloads/t255775.pdf\n",
            "Waiting 3 seconds to retrieve https://user2019.r-project.org/static/pres/t256894.pptx\n",
            "Downladed file: /content/gdrive/My Drive/Colab_Downloads/t256894.pptx\n",
            "Waiting 5 seconds to retrieve https://user2019.r-project.org/static/pres/t258034.pdf\n",
            "Downladed file: /content/gdrive/My Drive/Colab_Downloads/t258034.pdf\n",
            "Waiting 4 seconds to retrieve https://user2019.r-project.org/static/pres/t257722.pdf\n",
            "Downladed file: /content/gdrive/My Drive/Colab_Downloads/t257722.pdf\n",
            "Waiting 5 seconds to retrieve https://user2019.r-project.org/static/pres/t257776.pdf\n",
            "Downladed file: /content/gdrive/My Drive/Colab_Downloads/t257776.pdf\n",
            "Waiting 2 seconds to retrieve https://user2019.r-project.org/static/pres/t256476.pdf\n",
            "Downladed file: /content/gdrive/My Drive/Colab_Downloads/t256476.pdf\n",
            "Waiting 2 seconds to retrieve https://user2019.r-project.org/static/pres/t256014.pdf\n",
            "Downladed file: /content/gdrive/My Drive/Colab_Downloads/t256014.pdf\n",
            "Waiting 4 seconds to retrieve https://user2019.r-project.org/static/pres/t253801.pdf\n",
            "Downladed file: /content/gdrive/My Drive/Colab_Downloads/t253801.pdf\n",
            "Waiting 4 seconds to retrieve https://user2019.r-project.org/static/pres/t257197.pdf\n",
            "Downladed file: /content/gdrive/My Drive/Colab_Downloads/t257197.pdf\n",
            "Waiting 3 seconds to retrieve https://user2019.r-project.org/static/pres/t246174.pdf\n",
            "Downladed file: /content/gdrive/My Drive/Colab_Downloads/t246174.pdf\n",
            "Waiting 5 seconds to retrieve https://user2019.r-project.org/static/pres/t249571.pdf\n",
            "Downladed file: /content/gdrive/My Drive/Colab_Downloads/t249571.pdf\n",
            "Waiting 5 seconds to retrieve https://user2019.r-project.org/static/pres/t258169.pdf\n",
            "Downladed file: /content/gdrive/My Drive/Colab_Downloads/t258169.pdf\n",
            "Waiting 2 seconds to retrieve https://user2019.r-project.org/static/pres/keynote_201907111600.zip\n",
            "Downladed file: /content/gdrive/My Drive/Colab_Downloads/keynote_201907111600.zip\n",
            "Waiting 4 seconds to retrieve https://user2019.r-project.org/static/pres/keynote_201907120915.pdf\n",
            "Downladed file: /content/gdrive/My Drive/Colab_Downloads/keynote_201907120915.pdf\n",
            "Waiting 5 seconds to retrieve https://user2019.r-project.org/static/pres/lt257794.pdf\n",
            "Downladed file: /content/gdrive/My Drive/Colab_Downloads/lt257794.pdf\n",
            "Waiting 2 seconds to retrieve https://user2019.r-project.org/static/pres/lt257594.pdf\n",
            "Downladed file: /content/gdrive/My Drive/Colab_Downloads/lt257594.pdf\n",
            "Waiting 4 seconds to retrieve https://user2019.r-project.org/static/pres/lt256287.pdf\n",
            "Downladed file: /content/gdrive/My Drive/Colab_Downloads/lt256287.pdf\n",
            "Waiting 3 seconds to retrieve https://user2019.r-project.org/static/pres/lt258374.pdf\n",
            "Downladed file: /content/gdrive/My Drive/Colab_Downloads/lt258374.pdf\n",
            "Waiting 4 seconds to retrieve https://user2019.r-project.org/static/pres/lt257916.pdf\n",
            "Downladed file: /content/gdrive/My Drive/Colab_Downloads/lt257916.pdf\n",
            "Waiting 5 seconds to retrieve https://user2019.r-project.org/static/pres/lt257272.pdf\n",
            "Downladed file: /content/gdrive/My Drive/Colab_Downloads/lt257272.pdf\n",
            "Waiting 3 seconds to retrieve https://user2019.r-project.org/static/pres/lt257839.pdf\n",
            "Downladed file: /content/gdrive/My Drive/Colab_Downloads/lt257839.pdf\n",
            "Waiting 4 seconds to retrieve https://user2019.r-project.org/static/pres/lt257361.pdf\n",
            "Downladed file: /content/gdrive/My Drive/Colab_Downloads/lt257361.pdf\n",
            "Waiting 2 seconds to retrieve https://user2019.r-project.org/static/pres/lt252971.pdf\n",
            "Downladed file: /content/gdrive/My Drive/Colab_Downloads/lt252971.pdf\n",
            "Waiting 3 seconds to retrieve https://user2019.r-project.org/static/pres/lt258451.pdf\n",
            "Downladed file: /content/gdrive/My Drive/Colab_Downloads/lt258451.pdf\n",
            "Waiting 3 seconds to retrieve https://user2019.r-project.org/static/pres/lt256946.pdf\n",
            "Downladed file: /content/gdrive/My Drive/Colab_Downloads/lt256946.pdf\n",
            "Waiting 2 seconds to retrieve https://user2019.r-project.org/static/pres/lt257730.pdf\n",
            "Downladed file: /content/gdrive/My Drive/Colab_Downloads/lt257730.pdf\n",
            "Waiting 3 seconds to retrieve https://user2019.r-project.org/static/pres/lt258382.pdf\n",
            "Downladed file: /content/gdrive/My Drive/Colab_Downloads/lt258382.pdf\n",
            "Waiting 2 seconds to retrieve https://user2019.r-project.org/static/pres/lt256822.pdf\n",
            "Downladed file: /content/gdrive/My Drive/Colab_Downloads/lt256822.pdf\n",
            "Waiting 5 seconds to retrieve https://user2019.r-project.org/static/pres/lt257981.pdf\n",
            "Downladed file: /content/gdrive/My Drive/Colab_Downloads/lt257981.pdf\n",
            "Waiting 4 seconds to retrieve https://user2019.r-project.org/static/pres/lt241532.pdf\n",
            "Downladed file: /content/gdrive/My Drive/Colab_Downloads/lt241532.pdf\n",
            "Waiting 5 seconds to retrieve https://user2019.r-project.org/static/pres/lt258103.pdf\n",
            "Downladed file: /content/gdrive/My Drive/Colab_Downloads/lt258103.pdf\n",
            "Waiting 5 seconds to retrieve https://user2019.r-project.org/static/pres/lt242626.pdf\n",
            "Downladed file: /content/gdrive/My Drive/Colab_Downloads/lt242626.pdf\n",
            "Waiting 2 seconds to retrieve https://user2019.r-project.org/static/pres/lt256760.pdf\n",
            "Downladed file: /content/gdrive/My Drive/Colab_Downloads/lt256760.pdf\n",
            "Waiting 4 seconds to retrieve https://user2019.r-project.org/static/pres/lt252425.pdf\n",
            "Downladed file: /content/gdrive/My Drive/Colab_Downloads/lt252425.pdf\n",
            "Waiting 5 seconds to retrieve https://user2019.r-project.org/static/pres/lt257200.pdf\n",
            "Downladed file: /content/gdrive/My Drive/Colab_Downloads/lt257200.pdf\n",
            "Waiting 5 seconds to retrieve https://user2019.r-project.org/static/pres/lt243914.pdf\n",
            "Downladed file: /content/gdrive/My Drive/Colab_Downloads/lt243914.pdf\n",
            "Waiting 4 seconds to retrieve https://user2019.r-project.org/static/pres/lt257585.pdf\n",
            "Downladed file: /content/gdrive/My Drive/Colab_Downloads/lt257585.pdf\n",
            "Waiting 5 seconds to retrieve https://user2019.r-project.org/static/pres/lt252371.pdf\n",
            "Downladed file: /content/gdrive/My Drive/Colab_Downloads/lt252371.pdf\n",
            "Waiting 3 seconds to retrieve https://user2019.r-project.org/static/pres/lt257734.pdf\n",
            "Downladed file: /content/gdrive/My Drive/Colab_Downloads/lt257734.pdf\n",
            "Waiting 3 seconds to retrieve https://user2019.r-project.org/static/pres/lt258203.pdf\n",
            "Downladed file: /content/gdrive/My Drive/Colab_Downloads/lt258203.pdf\n",
            "Waiting 3 seconds to retrieve https://user2019.r-project.org/static/pres/lt256744.pdf\n",
            "Downladed file: /content/gdrive/My Drive/Colab_Downloads/lt256744.pdf\n",
            "Waiting 3 seconds to retrieve https://user2019.r-project.org/static/pres/lt258303.pdf\n",
            "Downladed file: /content/gdrive/My Drive/Colab_Downloads/lt258303.pdf\n",
            "Waiting 5 seconds to retrieve https://user2019.r-project.org/static/pres/lt258423.pdf\n",
            "Downladed file: /content/gdrive/My Drive/Colab_Downloads/lt258423.pdf\n",
            "Waiting 5 seconds to retrieve https://user2019.r-project.org/static/pres/lt257907.pdf\n",
            "Downladed file: /content/gdrive/My Drive/Colab_Downloads/lt257907.pdf\n",
            "Waiting 4 seconds to retrieve https://user2019.r-project.org/static/pres/lt257459.pdf\n",
            "Downladed file: /content/gdrive/My Drive/Colab_Downloads/lt257459.pdf\n",
            "Waiting 3 seconds to retrieve https://user2019.r-project.org/static/pres/t257890.pdf\n",
            "Downladed file: /content/gdrive/My Drive/Colab_Downloads/t257890.pdf\n",
            "Waiting 3 seconds to retrieve https://user2019.r-project.org/static/pres/t251022.pptx\n",
            "Downladed file: /content/gdrive/My Drive/Colab_Downloads/t251022.pptx\n",
            "Waiting 3 seconds to retrieve https://user2019.r-project.org/static/pres/t254636.pdf\n",
            "Downladed file: /content/gdrive/My Drive/Colab_Downloads/t254636.pdf\n",
            "Waiting 4 seconds to retrieve https://user2019.r-project.org/static/pres/t257802.pptx\n",
            "Downladed file: /content/gdrive/My Drive/Colab_Downloads/t257802.pptx\n",
            "Waiting 4 seconds to retrieve https://user2019.r-project.org/static/pres/t258381.zip\n",
            "Downladed file: /content/gdrive/My Drive/Colab_Downloads/t258381.zip\n",
            "Waiting 5 seconds to retrieve https://user2019.r-project.org/static/pres/t257603.zip\n",
            "Downladed file: /content/gdrive/My Drive/Colab_Downloads/t257603.zip\n",
            "Waiting 2 seconds to retrieve https://user2019.r-project.org/static/pres/t258038.pdf\n",
            "Downladed file: /content/gdrive/My Drive/Colab_Downloads/t258038.pdf\n",
            "Waiting 4 seconds to retrieve https://user2019.r-project.org/static/pres/t257803.pdf\n",
            "Downladed file: /content/gdrive/My Drive/Colab_Downloads/t257803.pdf\n",
            "Waiting 2 seconds to retrieve https://user2019.r-project.org/static/pres/t257855.zip\n",
            "Downladed file: /content/gdrive/My Drive/Colab_Downloads/t257855.zip\n",
            "Waiting 3 seconds to retrieve https://user2019.r-project.org/static/pres/t258521.pdf\n",
            "Downladed file: /content/gdrive/My Drive/Colab_Downloads/t258521.pdf\n",
            "Waiting 4 seconds to retrieve https://user2019.r-project.org/static/pres/t253542.pdf\n",
            "Downladed file: /content/gdrive/My Drive/Colab_Downloads/t253542.pdf\n",
            "Waiting 2 seconds to retrieve https://user2019.r-project.org/static/pres/t257840.pdf\n",
            "Downladed file: /content/gdrive/My Drive/Colab_Downloads/t257840.pdf\n",
            "Waiting 2 seconds to retrieve https://user2019.r-project.org/static/pres/t255938.pdf\n",
            "Downladed file: /content/gdrive/My Drive/Colab_Downloads/t255938.pdf\n",
            "Waiting 4 seconds to retrieve https://user2019.r-project.org/static/pres/t257984.pdf\n",
            "Downladed file: /content/gdrive/My Drive/Colab_Downloads/t257984.pdf\n",
            "Waiting 3 seconds to retrieve https://user2019.r-project.org/static/pres/t256274.pdf\n",
            "Downladed file: /content/gdrive/My Drive/Colab_Downloads/t256274.pdf\n",
            "Waiting 5 seconds to retrieve https://user2019.r-project.org/static/pres/t257921.pdf\n",
            "Downladed file: /content/gdrive/My Drive/Colab_Downloads/t257921.pdf\n",
            "Waiting 4 seconds to retrieve https://user2019.r-project.org/static/pres/t257059.pdf\n",
            "Downladed file: /content/gdrive/My Drive/Colab_Downloads/t257059.pdf\n",
            "Waiting 2 seconds to retrieve https://user2019.r-project.org/static/pres/t257832.pdf\n",
            "Downladed file: /content/gdrive/My Drive/Colab_Downloads/t257832.pdf\n",
            "Waiting 5 seconds to retrieve https://user2019.r-project.org/static/pres/t255825.pptx\n",
            "Downladed file: /content/gdrive/My Drive/Colab_Downloads/t255825.pptx\n",
            "Waiting 5 seconds to retrieve https://user2019.r-project.org/static/pres/t256449.zip\n",
            "Downladed file: /content/gdrive/My Drive/Colab_Downloads/t256449.zip\n",
            "Waiting 4 seconds to retrieve https://user2019.r-project.org/static/pres/t256580.pdf\n",
            "Downladed file: /content/gdrive/My Drive/Colab_Downloads/t256580.pdf\n",
            "Waiting 3 seconds to retrieve https://user2019.r-project.org/static/pres/t256796.pdf\n",
            "Downladed file: /content/gdrive/My Drive/Colab_Downloads/t256796.pdf\n",
            "Waiting 3 seconds to retrieve https://user2019.r-project.org/static/pres/t257986.pdf\n",
            "Downladed file: /content/gdrive/My Drive/Colab_Downloads/t257986.pdf\n",
            "Waiting 3 seconds to retrieve https://user2019.r-project.org/static/pres/t258409.pdf\n",
            "Downladed file: /content/gdrive/My Drive/Colab_Downloads/t258409.pdf\n",
            "Waiting 4 seconds to retrieve https://user2019.r-project.org/static/pres/keynote_201907121415.pdf\n",
            "Downladed file: /content/gdrive/My Drive/Colab_Downloads/keynote_201907121415.pdf\n",
            "Finished finding all available documents on the web page!\n"
          ],
          "name": "stdout"
        }
      ]
    },
    {
      "cell_type": "code",
      "metadata": {
        "id": "9_t7A3eOYoOy",
        "colab_type": "code",
        "outputId": "6529da48-65cf-49d6-a531-8abedceeae68",
        "colab": {
          "base_uri": "https://localhost:8080/",
          "height": 34
        }
      },
      "source": [
        "print('Number of documents processed:', i)"
      ],
      "execution_count": 12,
      "outputs": [
        {
          "output_type": "stream",
          "text": [
            "Number of documents processed: 182\n"
          ],
          "name": "stdout"
        }
      ]
    },
    {
      "cell_type": "code",
      "metadata": {
        "id": "aptSJkHZbc_h",
        "colab_type": "code",
        "colab": {}
      },
      "source": [
        "if (sendNotification): email_notify(\"The web scraping process has completed! \"+datetime.now().strftime('%a %B %d, %Y %I:%M:%S %p'))"
      ],
      "execution_count": 0,
      "outputs": []
    },
    {
      "cell_type": "code",
      "metadata": {
        "id": "nN6rWf7qYoO1",
        "colab_type": "code",
        "outputId": "6f61a88f-6f75-403f-baa3-e8df302b3760",
        "colab": {
          "base_uri": "https://localhost:8080/",
          "height": 34
        }
      },
      "source": [
        "print ('Total time for the script:',(datetime.now() - startTimeScript))"
      ],
      "execution_count": 14,
      "outputs": [
        {
          "output_type": "stream",
          "text": [
            "Total time for the script: 0:17:01.515543\n"
          ],
          "name": "stdout"
        }
      ]
    }
  ]
}